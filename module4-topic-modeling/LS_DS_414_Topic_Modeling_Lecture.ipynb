{
 "cells": [
  {
   "cell_type": "markdown",
   "metadata": {},
   "source": [
    "Lambda School Data Science\n",
    "\n",
    "*Unit 4, Sprint 1, Module 4*\n",
    "\n",
    "---"
   ]
  },
  {
   "cell_type": "markdown",
   "metadata": {},
   "source": [
    "# Topic Modeling (Prepare)"
   ]
  },
  {
   "cell_type": "markdown",
   "metadata": {},
   "source": [
    "# Latent Dirchilet Allocation (LDA) Models (Prepare)\n",
    "<a id=\"#p1\"></a>"
   ]
  },
  {
   "cell_type": "markdown",
   "metadata": {},
   "source": [
    "## Overview\n",
    "LDA is a \"generative probabilistic model\". \n",
    "\n",
    "Let's play with a modoel available [here](https://lettier.com/projects/lda-topic-modeling/)"
   ]
  },
  {
   "cell_type": "markdown",
   "metadata": {},
   "source": [
    "## Follow Along"
   ]
  },
  {
   "cell_type": "markdown",
   "metadata": {},
   "source": [
    "## Challenge "
   ]
  },
  {
   "cell_type": "markdown",
   "metadata": {},
   "source": [
    "# Estimating LDA Models with Gensim (Learn)\n",
    "<a id=\"#p1\"></a>"
   ]
  },
  {
   "cell_type": "markdown",
   "metadata": {
    "toc-hr-collapsed": true
   },
   "source": [
    "## Overview\n",
    "### A Litterary Introduction: *Jane Austen V. Charlotte Bronte*\n",
    "Despite being born nearly forty years apart, modern fans often pit Jane Austen & Charlotte Bronte against one another in a battle for litterary  supremacy. The battle centers around the topics of education for women, courting, and marriage. The authors' similiar backgrounds naturally draw comparisons, but the modern fascination is probably due to novelility of British women publishing novels during the early 19th century. \n",
    "\n",
    "Can we help close a litterary battle for supremacy and simply acknowledge that the authors addressed different topics and deserve to be acknowledged as excellent authors each in their own right?\n",
    "\n",
    "We're going to apply Latent Dirichlet Allocation a machine learning alogrithm for topic modeling to each of the author's novels to compare the distribution of topics in their novels."
   ]
  },
  {
   "cell_type": "code",
   "execution_count": 1,
   "metadata": {},
   "outputs": [],
   "source": [
    "import numpy as np\n",
    "import gensim\n",
    "import os\n",
    "import re\n",
    "\n",
    "from gensim.utils import simple_preprocess\n",
    "from gensim.parsing.preprocessing import STOPWORDS\n",
    "from gensim import corpora\n",
    "\n",
    "from gensim.models.ldamulticore import LdaMulticore\n",
    "\n",
    "import pandas as pd"
   ]
  },
  {
   "cell_type": "markdown",
   "metadata": {},
   "source": [
    "### Novel Data\n",
    "I grabbed the novel data pre-split into a bunch of smaller chuncks"
   ]
  },
  {
   "cell_type": "code",
   "execution_count": 2,
   "metadata": {},
   "outputs": [],
   "source": [
    "path = './data/austen-brontë-split'"
   ]
  },
  {
   "cell_type": "code",
   "execution_count": 3,
   "metadata": {},
   "outputs": [],
   "source": [
    "import os\n",
    "\n",
    "def gather_data(path_to_data): \n",
    "    data = []\n",
    "    \n",
    "    for f in os.listdir(path):\n",
    "        with open(os.path.join(path,f)) as t:\n",
    "            text = t.read().strip('\\n')\n",
    "            data.append(tokenize(str(text)))\n",
    "            \n",
    "    return data"
   ]
  },
  {
   "cell_type": "code",
   "execution_count": 12,
   "metadata": {},
   "outputs": [],
   "source": [
    "df['tokens'] = gather_data(path)"
   ]
  },
  {
   "cell_type": "code",
   "execution_count": 13,
   "metadata": {},
   "outputs": [
    {
     "data": {
      "text/plain": [
       "'this is a sample string with a  newline character'"
      ]
     },
     "execution_count": 13,
     "metadata": {},
     "output_type": "execute_result"
    }
   ],
   "source": [
    "\"this is a sample string with a \\n newline character\".replace('\\n', '')"
   ]
  },
  {
   "cell_type": "code",
   "execution_count": 14,
   "metadata": {},
   "outputs": [
    {
     "data": {
      "text/plain": [
       "Austen_Emma0000    [emma, jane, austen, volume, chapter, emma, wo...\n",
       "Austen_Emma0001    [taylor, wish, pity, weston, thought, agree, p...\n",
       "Austen_Emma0002    [behaved, charmingly, body, punctual, body, be...\n",
       "Austen_Emma0003    [native, highbury, born, respectable, family, ...\n",
       "Austen_Emma0004    [mention, handsome, letter, weston, received, ...\n",
       "Name: tokens, dtype: object"
      ]
     },
     "execution_count": 14,
     "metadata": {},
     "output_type": "execute_result"
    }
   ],
   "source": [
    "df['tokens'].head()"
   ]
  },
  {
   "cell_type": "markdown",
   "metadata": {
    "toc-hr-collapsed": true
   },
   "source": [
    "## Follow Along"
   ]
  },
  {
   "cell_type": "markdown",
   "metadata": {},
   "source": [
    "### Text Preprocessing\n",
    "**Challenge**: update the function `tokenize` with any technique you have learned so far this week. "
   ]
  },
  {
   "cell_type": "code",
   "execution_count": 8,
   "metadata": {},
   "outputs": [],
   "source": [
    "titles = [t[:-4] for t in os.listdir(path)]"
   ]
  },
  {
   "cell_type": "code",
   "execution_count": 9,
   "metadata": {},
   "outputs": [
    {
     "data": {
      "text/plain": [
       "['Austen_Emma0000',\n",
       " 'Austen_Emma0001',\n",
       " 'Austen_Emma0002',\n",
       " 'Austen_Emma0003',\n",
       " 'Austen_Emma0004']"
      ]
     },
     "execution_count": 9,
     "metadata": {},
     "output_type": "execute_result"
    }
   ],
   "source": [
    "titles[:5]"
   ]
  },
  {
   "cell_type": "code",
   "execution_count": 4,
   "metadata": {},
   "outputs": [],
   "source": [
    "STOPWORDS = set(STOPWORDS).union(set(['said', 'mr', 'mrs']))\n",
    "\n",
    "def tokenize(text):\n",
    "    return [token for token in simple_preprocess(text) if token not in STOPWORDS]"
   ]
  },
  {
   "cell_type": "code",
   "execution_count": 5,
   "metadata": {},
   "outputs": [
    {
     "data": {
      "text/plain": [
       "['hello', 'world', 'test', 'tokenization', 'method']"
      ]
     },
     "execution_count": 5,
     "metadata": {},
     "output_type": "execute_result"
    }
   ],
   "source": [
    "tokenize(\"Hello World! This a test of the tokenization method\")"
   ]
  },
  {
   "cell_type": "markdown",
   "metadata": {},
   "source": [
    "### Author DataFrame\n"
   ]
  },
  {
   "cell_type": "code",
   "execution_count": 10,
   "metadata": {},
   "outputs": [],
   "source": [
    "df = pd.DataFrame(index=titles)"
   ]
  },
  {
   "cell_type": "code",
   "execution_count": 11,
   "metadata": {},
   "outputs": [
    {
     "data": {
      "text/html": [
       "<div>\n",
       "<style scoped>\n",
       "    .dataframe tbody tr th:only-of-type {\n",
       "        vertical-align: middle;\n",
       "    }\n",
       "\n",
       "    .dataframe tbody tr th {\n",
       "        vertical-align: top;\n",
       "    }\n",
       "\n",
       "    .dataframe thead th {\n",
       "        text-align: right;\n",
       "    }\n",
       "</style>\n",
       "<table border=\"1\" class=\"dataframe\">\n",
       "  <thead>\n",
       "    <tr style=\"text-align: right;\">\n",
       "      <th></th>\n",
       "    </tr>\n",
       "  </thead>\n",
       "  <tbody>\n",
       "    <tr>\n",
       "      <td>Austen_Emma0000</td>\n",
       "    </tr>\n",
       "    <tr>\n",
       "      <td>Austen_Emma0001</td>\n",
       "    </tr>\n",
       "    <tr>\n",
       "      <td>Austen_Emma0002</td>\n",
       "    </tr>\n",
       "    <tr>\n",
       "      <td>Austen_Emma0003</td>\n",
       "    </tr>\n",
       "    <tr>\n",
       "      <td>Austen_Emma0004</td>\n",
       "    </tr>\n",
       "  </tbody>\n",
       "</table>\n",
       "</div>"
      ],
      "text/plain": [
       "Empty DataFrame\n",
       "Columns: []\n",
       "Index: [Austen_Emma0000, Austen_Emma0001, Austen_Emma0002, Austen_Emma0003, Austen_Emma0004]"
      ]
     },
     "execution_count": 11,
     "metadata": {},
     "output_type": "execute_result"
    }
   ],
   "source": [
    "df.head()"
   ]
  },
  {
   "cell_type": "code",
   "execution_count": 14,
   "metadata": {
    "collapsed": true,
    "jupyter": {
     "outputs_hidden": true
    }
   },
   "outputs": [
    {
     "ename": "ValueError",
     "evalue": "invalid literal for int() with base 10: 'ckpo'",
     "output_type": "error",
     "traceback": [
      "\u001b[0;31m---------------------------------------------------------------------------\u001b[0m",
      "\u001b[0;31mValueError\u001b[0m                                Traceback (most recent call last)",
      "\u001b[0;32m<ipython-input-14-479ec7d14a6d>\u001b[0m in \u001b[0;36m<module>\u001b[0;34m\u001b[0m\n\u001b[0;32m----> 1\u001b[0;31m \u001b[0mdf\u001b[0m\u001b[0;34m[\u001b[0m\u001b[0;34m'section'\u001b[0m\u001b[0;34m]\u001b[0m\u001b[0;34m.\u001b[0m\u001b[0mastype\u001b[0m\u001b[0;34m(\u001b[0m\u001b[0;34m'int'\u001b[0m\u001b[0;34m)\u001b[0m\u001b[0;34m\u001b[0m\u001b[0;34m\u001b[0m\u001b[0m\n\u001b[0m",
      "\u001b[0;32m~/anaconda3/envs/U4-S1-NLP/lib/python3.7/site-packages/pandas/core/generic.py\u001b[0m in \u001b[0;36mastype\u001b[0;34m(self, dtype, copy, errors, **kwargs)\u001b[0m\n\u001b[1;32m   5689\u001b[0m             \u001b[0;31m# else, only a single dtype is given\u001b[0m\u001b[0;34m\u001b[0m\u001b[0;34m\u001b[0m\u001b[0;34m\u001b[0m\u001b[0m\n\u001b[1;32m   5690\u001b[0m             new_data = self._data.astype(dtype=dtype, copy=copy, errors=errors,\n\u001b[0;32m-> 5691\u001b[0;31m                                          **kwargs)\n\u001b[0m\u001b[1;32m   5692\u001b[0m             \u001b[0;32mreturn\u001b[0m \u001b[0mself\u001b[0m\u001b[0;34m.\u001b[0m\u001b[0m_constructor\u001b[0m\u001b[0;34m(\u001b[0m\u001b[0mnew_data\u001b[0m\u001b[0;34m)\u001b[0m\u001b[0;34m.\u001b[0m\u001b[0m__finalize__\u001b[0m\u001b[0;34m(\u001b[0m\u001b[0mself\u001b[0m\u001b[0;34m)\u001b[0m\u001b[0;34m\u001b[0m\u001b[0;34m\u001b[0m\u001b[0m\n\u001b[1;32m   5693\u001b[0m \u001b[0;34m\u001b[0m\u001b[0m\n",
      "\u001b[0;32m~/anaconda3/envs/U4-S1-NLP/lib/python3.7/site-packages/pandas/core/internals/managers.py\u001b[0m in \u001b[0;36mastype\u001b[0;34m(self, dtype, **kwargs)\u001b[0m\n\u001b[1;32m    529\u001b[0m \u001b[0;34m\u001b[0m\u001b[0m\n\u001b[1;32m    530\u001b[0m     \u001b[0;32mdef\u001b[0m \u001b[0mastype\u001b[0m\u001b[0;34m(\u001b[0m\u001b[0mself\u001b[0m\u001b[0;34m,\u001b[0m \u001b[0mdtype\u001b[0m\u001b[0;34m,\u001b[0m \u001b[0;34m**\u001b[0m\u001b[0mkwargs\u001b[0m\u001b[0;34m)\u001b[0m\u001b[0;34m:\u001b[0m\u001b[0;34m\u001b[0m\u001b[0;34m\u001b[0m\u001b[0m\n\u001b[0;32m--> 531\u001b[0;31m         \u001b[0;32mreturn\u001b[0m \u001b[0mself\u001b[0m\u001b[0;34m.\u001b[0m\u001b[0mapply\u001b[0m\u001b[0;34m(\u001b[0m\u001b[0;34m'astype'\u001b[0m\u001b[0;34m,\u001b[0m \u001b[0mdtype\u001b[0m\u001b[0;34m=\u001b[0m\u001b[0mdtype\u001b[0m\u001b[0;34m,\u001b[0m \u001b[0;34m**\u001b[0m\u001b[0mkwargs\u001b[0m\u001b[0;34m)\u001b[0m\u001b[0;34m\u001b[0m\u001b[0;34m\u001b[0m\u001b[0m\n\u001b[0m\u001b[1;32m    532\u001b[0m \u001b[0;34m\u001b[0m\u001b[0m\n\u001b[1;32m    533\u001b[0m     \u001b[0;32mdef\u001b[0m \u001b[0mconvert\u001b[0m\u001b[0;34m(\u001b[0m\u001b[0mself\u001b[0m\u001b[0;34m,\u001b[0m \u001b[0;34m**\u001b[0m\u001b[0mkwargs\u001b[0m\u001b[0;34m)\u001b[0m\u001b[0;34m:\u001b[0m\u001b[0;34m\u001b[0m\u001b[0;34m\u001b[0m\u001b[0m\n",
      "\u001b[0;32m~/anaconda3/envs/U4-S1-NLP/lib/python3.7/site-packages/pandas/core/internals/managers.py\u001b[0m in \u001b[0;36mapply\u001b[0;34m(self, f, axes, filter, do_integrity_check, consolidate, **kwargs)\u001b[0m\n\u001b[1;32m    393\u001b[0m                                             copy=align_copy)\n\u001b[1;32m    394\u001b[0m \u001b[0;34m\u001b[0m\u001b[0m\n\u001b[0;32m--> 395\u001b[0;31m             \u001b[0mapplied\u001b[0m \u001b[0;34m=\u001b[0m \u001b[0mgetattr\u001b[0m\u001b[0;34m(\u001b[0m\u001b[0mb\u001b[0m\u001b[0;34m,\u001b[0m \u001b[0mf\u001b[0m\u001b[0;34m)\u001b[0m\u001b[0;34m(\u001b[0m\u001b[0;34m**\u001b[0m\u001b[0mkwargs\u001b[0m\u001b[0;34m)\u001b[0m\u001b[0;34m\u001b[0m\u001b[0;34m\u001b[0m\u001b[0m\n\u001b[0m\u001b[1;32m    396\u001b[0m             \u001b[0mresult_blocks\u001b[0m \u001b[0;34m=\u001b[0m \u001b[0m_extend_blocks\u001b[0m\u001b[0;34m(\u001b[0m\u001b[0mapplied\u001b[0m\u001b[0;34m,\u001b[0m \u001b[0mresult_blocks\u001b[0m\u001b[0;34m)\u001b[0m\u001b[0;34m\u001b[0m\u001b[0;34m\u001b[0m\u001b[0m\n\u001b[1;32m    397\u001b[0m \u001b[0;34m\u001b[0m\u001b[0m\n",
      "\u001b[0;32m~/anaconda3/envs/U4-S1-NLP/lib/python3.7/site-packages/pandas/core/internals/blocks.py\u001b[0m in \u001b[0;36mastype\u001b[0;34m(self, dtype, copy, errors, values, **kwargs)\u001b[0m\n\u001b[1;32m    532\u001b[0m     \u001b[0;32mdef\u001b[0m \u001b[0mastype\u001b[0m\u001b[0;34m(\u001b[0m\u001b[0mself\u001b[0m\u001b[0;34m,\u001b[0m \u001b[0mdtype\u001b[0m\u001b[0;34m,\u001b[0m \u001b[0mcopy\u001b[0m\u001b[0;34m=\u001b[0m\u001b[0;32mFalse\u001b[0m\u001b[0;34m,\u001b[0m \u001b[0merrors\u001b[0m\u001b[0;34m=\u001b[0m\u001b[0;34m'raise'\u001b[0m\u001b[0;34m,\u001b[0m \u001b[0mvalues\u001b[0m\u001b[0;34m=\u001b[0m\u001b[0;32mNone\u001b[0m\u001b[0;34m,\u001b[0m \u001b[0;34m**\u001b[0m\u001b[0mkwargs\u001b[0m\u001b[0;34m)\u001b[0m\u001b[0;34m:\u001b[0m\u001b[0;34m\u001b[0m\u001b[0;34m\u001b[0m\u001b[0m\n\u001b[1;32m    533\u001b[0m         return self._astype(dtype, copy=copy, errors=errors, values=values,\n\u001b[0;32m--> 534\u001b[0;31m                             **kwargs)\n\u001b[0m\u001b[1;32m    535\u001b[0m \u001b[0;34m\u001b[0m\u001b[0m\n\u001b[1;32m    536\u001b[0m     def _astype(self, dtype, copy=False, errors='raise', values=None,\n",
      "\u001b[0;32m~/anaconda3/envs/U4-S1-NLP/lib/python3.7/site-packages/pandas/core/internals/blocks.py\u001b[0m in \u001b[0;36m_astype\u001b[0;34m(self, dtype, copy, errors, values, **kwargs)\u001b[0m\n\u001b[1;32m    631\u001b[0m \u001b[0;34m\u001b[0m\u001b[0m\n\u001b[1;32m    632\u001b[0m                     \u001b[0;31m# _astype_nansafe works fine with 1-d only\u001b[0m\u001b[0;34m\u001b[0m\u001b[0;34m\u001b[0m\u001b[0;34m\u001b[0m\u001b[0m\n\u001b[0;32m--> 633\u001b[0;31m                     \u001b[0mvalues\u001b[0m \u001b[0;34m=\u001b[0m \u001b[0mastype_nansafe\u001b[0m\u001b[0;34m(\u001b[0m\u001b[0mvalues\u001b[0m\u001b[0;34m.\u001b[0m\u001b[0mravel\u001b[0m\u001b[0;34m(\u001b[0m\u001b[0;34m)\u001b[0m\u001b[0;34m,\u001b[0m \u001b[0mdtype\u001b[0m\u001b[0;34m,\u001b[0m \u001b[0mcopy\u001b[0m\u001b[0;34m=\u001b[0m\u001b[0;32mTrue\u001b[0m\u001b[0;34m)\u001b[0m\u001b[0;34m\u001b[0m\u001b[0;34m\u001b[0m\u001b[0m\n\u001b[0m\u001b[1;32m    634\u001b[0m \u001b[0;34m\u001b[0m\u001b[0m\n\u001b[1;32m    635\u001b[0m                 \u001b[0;31m# TODO(extension)\u001b[0m\u001b[0;34m\u001b[0m\u001b[0;34m\u001b[0m\u001b[0;34m\u001b[0m\u001b[0m\n",
      "\u001b[0;32m~/anaconda3/envs/U4-S1-NLP/lib/python3.7/site-packages/pandas/core/dtypes/cast.py\u001b[0m in \u001b[0;36mastype_nansafe\u001b[0;34m(arr, dtype, copy, skipna)\u001b[0m\n\u001b[1;32m    681\u001b[0m         \u001b[0;31m# work around NumPy brokenness, #1987\u001b[0m\u001b[0;34m\u001b[0m\u001b[0;34m\u001b[0m\u001b[0;34m\u001b[0m\u001b[0m\n\u001b[1;32m    682\u001b[0m         \u001b[0;32mif\u001b[0m \u001b[0mnp\u001b[0m\u001b[0;34m.\u001b[0m\u001b[0missubdtype\u001b[0m\u001b[0;34m(\u001b[0m\u001b[0mdtype\u001b[0m\u001b[0;34m.\u001b[0m\u001b[0mtype\u001b[0m\u001b[0;34m,\u001b[0m \u001b[0mnp\u001b[0m\u001b[0;34m.\u001b[0m\u001b[0minteger\u001b[0m\u001b[0;34m)\u001b[0m\u001b[0;34m:\u001b[0m\u001b[0;34m\u001b[0m\u001b[0;34m\u001b[0m\u001b[0m\n\u001b[0;32m--> 683\u001b[0;31m             \u001b[0;32mreturn\u001b[0m \u001b[0mlib\u001b[0m\u001b[0;34m.\u001b[0m\u001b[0mastype_intsafe\u001b[0m\u001b[0;34m(\u001b[0m\u001b[0marr\u001b[0m\u001b[0;34m.\u001b[0m\u001b[0mravel\u001b[0m\u001b[0;34m(\u001b[0m\u001b[0;34m)\u001b[0m\u001b[0;34m,\u001b[0m \u001b[0mdtype\u001b[0m\u001b[0;34m)\u001b[0m\u001b[0;34m.\u001b[0m\u001b[0mreshape\u001b[0m\u001b[0;34m(\u001b[0m\u001b[0marr\u001b[0m\u001b[0;34m.\u001b[0m\u001b[0mshape\u001b[0m\u001b[0;34m)\u001b[0m\u001b[0;34m\u001b[0m\u001b[0;34m\u001b[0m\u001b[0m\n\u001b[0m\u001b[1;32m    684\u001b[0m \u001b[0;34m\u001b[0m\u001b[0m\n\u001b[1;32m    685\u001b[0m         \u001b[0;31m# if we have a datetime/timedelta array of objects\u001b[0m\u001b[0;34m\u001b[0m\u001b[0;34m\u001b[0m\u001b[0;34m\u001b[0m\u001b[0m\n",
      "\u001b[0;32mpandas/_libs/lib.pyx\u001b[0m in \u001b[0;36mpandas._libs.lib.astype_intsafe\u001b[0;34m()\u001b[0m\n",
      "\u001b[0;31mValueError\u001b[0m: invalid literal for int() with base 10: 'ckpo'"
     ]
    }
   ],
   "source": [
    "#"
   ]
  },
  {
   "cell_type": "code",
   "execution_count": 15,
   "metadata": {},
   "outputs": [],
   "source": [
    "df['author'] = df.reset_index()['index'].apply(lambda x: x.split('_')[0]).tolist()\n",
    "df['book'] = df.reset_index()['index'].apply(lambda x: x.split('_')[1][:-4]).tolist()\n",
    "df['section'] = df.reset_index()['index'].apply(lambda x: x[-4:]).tolist()\n",
    "df['section'] = df['section'].astype('int')"
   ]
  },
  {
   "cell_type": "code",
   "execution_count": 16,
   "metadata": {},
   "outputs": [],
   "source": [
    "df['author'] = df['author'].map({'Austen':1, 'CBronte':0})"
   ]
  },
  {
   "cell_type": "code",
   "execution_count": 17,
   "metadata": {},
   "outputs": [
    {
     "data": {
      "text/plain": [
       "0    441\n",
       "1    372\n",
       "Name: author, dtype: int64"
      ]
     },
     "execution_count": 17,
     "metadata": {},
     "output_type": "execute_result"
    }
   ],
   "source": [
    "df.author.value_counts()"
   ]
  },
  {
   "cell_type": "markdown",
   "metadata": {},
   "source": [
    "### Streaming Documents\n",
    "Here we use a new pythonic thingy: the `yield` statement in our fucntion. This allows us to iterate over a bunch of documents without actually reading them into memory. You can see how we use this fucntion later on. "
   ]
  },
  {
   "cell_type": "code",
   "execution_count": 18,
   "metadata": {},
   "outputs": [],
   "source": [
    "def doc_stream(path):\n",
    "    for f in os.listdir(path):\n",
    "        with open(os.path.join(path,f)) as t:\n",
    "            text = t.read().strip('\\n')\n",
    "            tokens = tokenize(str(text))\n",
    "            yield tokens"
   ]
  },
  {
   "cell_type": "code",
   "execution_count": 19,
   "metadata": {},
   "outputs": [],
   "source": [
    "streaming_data = doc_stream(path)"
   ]
  },
  {
   "cell_type": "code",
   "execution_count": 20,
   "metadata": {},
   "outputs": [
    {
     "name": "stdout",
     "output_type": "stream",
     "text": [
      "<generator object doc_stream at 0x0000020E2AE70D48>\n"
     ]
    }
   ],
   "source": [
    "print(streaming_data)"
   ]
  },
  {
   "cell_type": "code",
   "execution_count": null,
   "metadata": {},
   "outputs": [],
   "source": []
  },
  {
   "cell_type": "markdown",
   "metadata": {},
   "source": [
    "### Gensim LDA Topic Modeling"
   ]
  },
  {
   "cell_type": "code",
   "execution_count": 21,
   "metadata": {},
   "outputs": [],
   "source": [
    "# A Dictionary Representation of all the words in our corpus\n",
    "id2word = corpora.Dictionary(doc_stream(path))"
   ]
  },
  {
   "cell_type": "code",
   "execution_count": 22,
   "metadata": {},
   "outputs": [
    {
     "data": {
      "text/plain": [
       "387"
      ]
     },
     "execution_count": 22,
     "metadata": {},
     "output_type": "execute_result"
    }
   ],
   "source": [
    "id2word.token2id['girl']"
   ]
  },
  {
   "cell_type": "code",
   "execution_count": null,
   "metadata": {},
   "outputs": [],
   "source": []
  },
  {
   "cell_type": "code",
   "execution_count": 23,
   "metadata": {},
   "outputs": [
    {
     "data": {
      "text/plain": [
       "[(2753, 1), (3986, 3), (6601, 1), (6818, 1)]"
      ]
     },
     "execution_count": 23,
     "metadata": {},
     "output_type": "execute_result"
    }
   ],
   "source": [
    "id2word.doc2bow(tokenize(\"This is a sample message Darcy England England England\"))"
   ]
  },
  {
   "cell_type": "code",
   "execution_count": 24,
   "metadata": {},
   "outputs": [
    {
     "data": {
      "text/plain": [
       "56"
      ]
     },
     "execution_count": 24,
     "metadata": {},
     "output_type": "execute_result"
    }
   ],
   "source": [
    "import sys\n",
    "sys.getsizeof(id2word)"
   ]
  },
  {
   "cell_type": "code",
   "execution_count": 25,
   "metadata": {},
   "outputs": [
    {
     "data": {
      "text/plain": [
       "22095"
      ]
     },
     "execution_count": 25,
     "metadata": {},
     "output_type": "execute_result"
    }
   ],
   "source": [
    "len(id2word.keys())"
   ]
  },
  {
   "cell_type": "code",
   "execution_count": 26,
   "metadata": {},
   "outputs": [],
   "source": [
    "# Let's remove extreme values from the dataset\n",
    "id2word.filter_extremes(no_below=5, no_above=0.95)"
   ]
  },
  {
   "cell_type": "code",
   "execution_count": 27,
   "metadata": {},
   "outputs": [
    {
     "data": {
      "text/plain": [
       "8102"
      ]
     },
     "execution_count": 27,
     "metadata": {},
     "output_type": "execute_result"
    }
   ],
   "source": [
    "len(id2word.keys())"
   ]
  },
  {
   "cell_type": "code",
   "execution_count": 28,
   "metadata": {},
   "outputs": [],
   "source": [
    "# a bag of words(bow) representation of our corpus\n",
    "# Note: we haven't actually read any text into memory here\n",
    "corpus = [id2word.doc2bow(text) for text in doc_stream(path)]"
   ]
  },
  {
   "cell_type": "code",
   "execution_count": null,
   "metadata": {},
   "outputs": [],
   "source": []
  },
  {
   "cell_type": "code",
   "execution_count": 29,
   "metadata": {},
   "outputs": [],
   "source": [
    "lda = LdaMulticore(corpus=corpus,\n",
    "                   id2word=id2word,\n",
    "                   random_state=723812,\n",
    "                   num_topics = 15,\n",
    "                   passes=10,\n",
    "                   workers=4\n",
    "                  )"
   ]
  },
  {
   "cell_type": "code",
   "execution_count": 30,
   "metadata": {},
   "outputs": [
    {
     "data": {
      "text/plain": [
       "[(0,\n",
       "  '0.016*\"harriet\" + 0.015*\"emma\" + 0.009*\"weston\" + 0.008*\"elton\" + 0.008*\"good\" + 0.008*\"think\" + 0.008*\"man\" + 0.007*\"miss\" + 0.007*\"knightley\" + 0.006*\"know\"'),\n",
       " (1,\n",
       "  '0.006*\"like\" + 0.006*\"sir\" + 0.006*\"jane\" + 0.006*\"thought\" + 0.005*\"little\" + 0.005*\"good\" + 0.005*\"love\" + 0.004*\"old\" + 0.004*\"poor\" + 0.004*\"man\"'),\n",
       " (2,\n",
       "  '0.011*\"elinor\" + 0.009*\"marianne\" + 0.008*\"elizabeth\" + 0.007*\"sister\" + 0.007*\"miss\" + 0.005*\"time\" + 0.005*\"darcy\" + 0.005*\"mother\" + 0.005*\"soon\" + 0.005*\"lady\"'),\n",
       " (3,\n",
       "  '0.005*\"hand\" + 0.005*\"eyes\" + 0.005*\"john\" + 0.004*\"like\" + 0.004*\"saw\" + 0.004*\"asked\" + 0.004*\"little\" + 0.003*\"time\" + 0.003*\"know\" + 0.003*\"sir\"'),\n",
       " (4,\n",
       "  '0.014*\"miss\" + 0.011*\"jane\" + 0.008*\"emma\" + 0.008*\"know\" + 0.007*\"thing\" + 0.007*\"think\" + 0.006*\"good\" + 0.006*\"little\" + 0.006*\"shall\" + 0.006*\"dear\"'),\n",
       " (5,\n",
       "  '0.007*\"jane\" + 0.006*\"elizabeth\" + 0.006*\"darcy\" + 0.006*\"know\" + 0.005*\"wickham\" + 0.005*\"think\" + 0.004*\"miss\" + 0.004*\"good\" + 0.004*\"love\" + 0.004*\"letter\"'),\n",
       " (6,\n",
       "  '0.007*\"hunsden\" + 0.005*\"miss\" + 0.005*\"helen\" + 0.005*\"temple\" + 0.004*\"bread\" + 0.004*\"tea\" + 0.004*\"come\" + 0.004*\"tyrant\" + 0.004*\"having\" + 0.004*\"little\"'),\n",
       " (7,\n",
       "  '0.010*\"little\" + 0.005*\"madame\" + 0.005*\"like\" + 0.005*\"monsieur\" + 0.004*\"vous\" + 0.004*\"paul\" + 0.004*\"est\" + 0.004*\"bessie\" + 0.003*\"room\" + 0.003*\"think\"'),\n",
       " (8,\n",
       "  '0.005*\"burns\" + 0.005*\"thought\" + 0.005*\"like\" + 0.005*\"scatcherd\" + 0.004*\"miss\" + 0.004*\"day\" + 0.004*\"face\" + 0.004*\"girl\" + 0.003*\"little\" + 0.003*\"dr\"'),\n",
       " (9,\n",
       "  '0.009*\"man\" + 0.007*\"bennet\" + 0.007*\"young\" + 0.007*\"elizabeth\" + 0.006*\"collins\" + 0.006*\"time\" + 0.006*\"father\" + 0.005*\"darcy\" + 0.004*\"thought\" + 0.004*\"longbourn\"'),\n",
       " (10,\n",
       "  '0.006*\"like\" + 0.005*\"little\" + 0.004*\"thought\" + 0.004*\"long\" + 0.004*\"good\" + 0.004*\"know\" + 0.004*\"time\" + 0.004*\"day\" + 0.003*\"night\" + 0.003*\"hand\"'),\n",
       " (11,\n",
       "  '0.021*\"emma\" + 0.010*\"miss\" + 0.009*\"knightley\" + 0.009*\"harriet\" + 0.007*\"thing\" + 0.007*\"little\" + 0.007*\"fairfax\" + 0.006*\"woodhouse\" + 0.006*\"think\" + 0.006*\"elton\"'),\n",
       " (12,\n",
       "  '0.008*\"bretton\" + 0.007*\"know\" + 0.007*\"dr\" + 0.006*\"little\" + 0.005*\"lucy\" + 0.005*\"thought\" + 0.005*\"miss\" + 0.005*\"ginevra\" + 0.005*\"good\" + 0.005*\"graham\"'),\n",
       " (13,\n",
       "  '0.007*\"thousand\" + 0.006*\"mason\" + 0.005*\"like\" + 0.005*\"know\" + 0.004*\"sisters\" + 0.004*\"diana\" + 0.004*\"justice\" + 0.004*\"shall\" + 0.004*\"thought\" + 0.004*\"pounds\"'),\n",
       " (14,\n",
       "  '0.016*\"lydia\" + 0.010*\"mother\" + 0.010*\"wickham\" + 0.010*\"father\" + 0.007*\"uncle\" + 0.007*\"pounds\" + 0.006*\"dashwood\" + 0.006*\"thousand\" + 0.005*\"sure\" + 0.005*\"elizabeth\"')]"
      ]
     },
     "execution_count": 30,
     "metadata": {},
     "output_type": "execute_result"
    }
   ],
   "source": [
    "lda.print_topics()"
   ]
  },
  {
   "cell_type": "code",
   "execution_count": null,
   "metadata": {},
   "outputs": [],
   "source": []
  },
  {
   "cell_type": "code",
   "execution_count": 31,
   "metadata": {},
   "outputs": [],
   "source": [
    "words = [re.findall(r'\"([^\"]*)\"',t[1]) for t in lda.print_topics()]"
   ]
  },
  {
   "cell_type": "code",
   "execution_count": 32,
   "metadata": {},
   "outputs": [],
   "source": [
    "topics = [' '.join(t[0:5]) for t in words]"
   ]
  },
  {
   "cell_type": "code",
   "execution_count": 33,
   "metadata": {},
   "outputs": [
    {
     "name": "stdout",
     "output_type": "stream",
     "text": [
      "harriet emma weston elton good\n",
      "\n",
      "\n",
      "like sir jane thought little\n",
      "\n",
      "\n",
      "elinor marianne elizabeth sister miss\n",
      "\n",
      "\n",
      "hand eyes john like saw\n",
      "\n",
      "\n",
      "miss jane emma know thing\n",
      "\n",
      "\n",
      "jane elizabeth darcy know wickham\n",
      "\n",
      "\n",
      "hunsden miss helen temple bread\n",
      "\n",
      "\n",
      "little madame like monsieur vous\n",
      "\n",
      "\n",
      "burns thought like scatcherd miss\n",
      "\n",
      "\n",
      "man bennet young elizabeth collins\n",
      "\n",
      "\n",
      "like little thought long good\n",
      "\n",
      "\n",
      "emma miss knightley harriet thing\n",
      "\n",
      "\n",
      "bretton know dr little lucy\n",
      "\n",
      "\n",
      "thousand mason like know sisters\n",
      "\n",
      "\n",
      "lydia mother wickham father uncle\n",
      "\n",
      "\n"
     ]
    }
   ],
   "source": [
    "for t in topics: \n",
    "    print(t)\n",
    "    print(\"\\n\")"
   ]
  },
  {
   "cell_type": "markdown",
   "metadata": {},
   "source": [
    "## Challenge \n",
    "\n",
    "You will apply an LDA model to a customer review dataset to practice the fitting and estimation of LDA. "
   ]
  },
  {
   "cell_type": "markdown",
   "metadata": {},
   "source": [
    "# Interpret LDA Results (Learn)\n",
    "<a id=\"#p3\"></a>"
   ]
  },
  {
   "cell_type": "markdown",
   "metadata": {},
   "source": [
    "## Overview"
   ]
  },
  {
   "cell_type": "markdown",
   "metadata": {
    "toc-hr-collapsed": true
   },
   "source": [
    "## Follow Along"
   ]
  },
  {
   "cell_type": "markdown",
   "metadata": {},
   "source": [
    "### Topic Distance Visualization"
   ]
  },
  {
   "cell_type": "code",
   "execution_count": 34,
   "metadata": {},
   "outputs": [],
   "source": [
    "import pyLDAvis.gensim\n",
    "\n",
    "pyLDAvis.enable_notebook()"
   ]
  },
  {
   "cell_type": "code",
   "execution_count": 35,
   "metadata": {},
   "outputs": [
    {
     "name": "stderr",
     "output_type": "stream",
     "text": [
      "C:\\ProgramData\\Anaconda3\\lib\\site-packages\\pyLDAvis\\_prepare.py:257: FutureWarning: Sorting because non-concatenation axis is not aligned. A future version\n",
      "of pandas will change to not sort by default.\n",
      "\n",
      "To accept the future behavior, pass 'sort=False'.\n",
      "\n",
      "To retain the current behavior and silence the warning, pass 'sort=True'.\n",
      "\n",
      "  return pd.concat([default_term_info] + list(topic_dfs))\n"
     ]
    },
    {
     "data": {
      "text/html": [
       "\n",
       "<link rel=\"stylesheet\" type=\"text/css\" href=\"https://cdn.rawgit.com/bmabey/pyLDAvis/files/ldavis.v1.0.0.css\">\n",
       "\n",
       "\n",
       "<div id=\"ldavis_el1613222599476270805877368878\"></div>\n",
       "<script type=\"text/javascript\">\n",
       "\n",
       "var ldavis_el1613222599476270805877368878_data = {\"mdsDat\": {\"x\": [-0.08610940844425169, 0.09610648933444908, 0.06937867257971075, -0.123732301420767, 0.11320816405140101, 0.1030970425201197, 0.11438475185249529, 0.10391771854735071, -0.011587772035797524, -0.09703934642970095, -0.14288627935567835, 0.07317934204860246, -0.028001497598560715, -0.10265789484220847, -0.0812576808071642], \"y\": [-0.006008042387365047, 0.014837576056114554, -0.06426660556819992, -0.05742022283640965, -0.08478311349282018, -0.09114274075673372, 0.01841039380816891, 0.10625092811913119, 0.029208085612761104, -0.02138757078836827, 0.006039840816034616, 0.10452356832549849, -0.05661091555961751, 0.02492373177806775, 0.07742508687373738], \"topics\": [1, 2, 3, 4, 5, 6, 7, 8, 9, 10, 11, 12, 13, 14, 15], \"cluster\": [1, 1, 1, 1, 1, 1, 1, 1, 1, 1, 1, 1, 1, 1, 1], \"Freq\": [41.97673416137695, 19.3964786529541, 11.418603897094727, 8.034661293029785, 4.911815166473389, 4.027949333190918, 3.9942238330841064, 1.4895762205123901, 1.0135177373886108, 0.9994416236877441, 0.7705584764480591, 0.7670844793319702, 0.6460239291191101, 0.29736295342445374, 0.2559767961502075]}, \"tinfo\": {\"Category\": [\"Default\", \"Default\", \"Default\", \"Default\", \"Default\", \"Default\", \"Default\", \"Default\", \"Default\", \"Default\", \"Default\", \"Default\", \"Default\", \"Default\", \"Default\", \"Default\", \"Default\", \"Default\", \"Default\", \"Default\", \"Default\", \"Default\", \"Default\", \"Default\", \"Default\", \"Default\", \"Default\", \"Default\", \"Default\", \"Default\", \"Topic1\", \"Topic1\", \"Topic1\", \"Topic1\", \"Topic1\", \"Topic1\", \"Topic1\", \"Topic1\", \"Topic1\", \"Topic1\", \"Topic1\", \"Topic1\", \"Topic1\", \"Topic1\", \"Topic1\", \"Topic1\", \"Topic1\", \"Topic1\", \"Topic1\", \"Topic1\", \"Topic1\", \"Topic1\", \"Topic1\", \"Topic1\", \"Topic1\", \"Topic1\", \"Topic1\", \"Topic1\", \"Topic1\", \"Topic1\", \"Topic1\", \"Topic1\", \"Topic1\", \"Topic1\", \"Topic1\", \"Topic1\", \"Topic1\", \"Topic1\", \"Topic1\", \"Topic1\", \"Topic1\", \"Topic1\", \"Topic1\", \"Topic1\", \"Topic1\", \"Topic1\", \"Topic1\", \"Topic1\", \"Topic1\", \"Topic1\", \"Topic1\", \"Topic1\", \"Topic1\", \"Topic1\", \"Topic1\", \"Topic1\", \"Topic1\", \"Topic1\", \"Topic1\", \"Topic1\", \"Topic1\", \"Topic1\", \"Topic1\", \"Topic1\", \"Topic1\", \"Topic1\", \"Topic1\", \"Topic1\", \"Topic1\", \"Topic1\", \"Topic1\", \"Topic1\", \"Topic1\", \"Topic1\", \"Topic1\", \"Topic1\", \"Topic1\", \"Topic1\", \"Topic1\", \"Topic1\", \"Topic1\", \"Topic1\", \"Topic1\", \"Topic1\", \"Topic1\", \"Topic1\", \"Topic1\", \"Topic1\", \"Topic1\", \"Topic1\", \"Topic1\", \"Topic1\", \"Topic1\", \"Topic1\", \"Topic1\", \"Topic1\", \"Topic1\", \"Topic1\", \"Topic1\", \"Topic2\", \"Topic2\", \"Topic2\", \"Topic2\", \"Topic2\", \"Topic2\", \"Topic2\", \"Topic2\", \"Topic2\", \"Topic2\", \"Topic2\", \"Topic2\", \"Topic2\", \"Topic2\", \"Topic2\", \"Topic2\", \"Topic2\", \"Topic2\", \"Topic2\", \"Topic2\", \"Topic2\", \"Topic2\", \"Topic2\", \"Topic2\", \"Topic2\", \"Topic2\", \"Topic2\", \"Topic2\", \"Topic2\", \"Topic2\", \"Topic2\", \"Topic2\", \"Topic2\", \"Topic2\", \"Topic2\", \"Topic2\", \"Topic2\", \"Topic2\", \"Topic2\", \"Topic2\", \"Topic2\", \"Topic2\", \"Topic2\", \"Topic2\", \"Topic2\", \"Topic2\", \"Topic2\", \"Topic2\", \"Topic2\", \"Topic2\", \"Topic2\", \"Topic2\", \"Topic2\", \"Topic2\", \"Topic2\", \"Topic2\", \"Topic2\", \"Topic2\", \"Topic2\", \"Topic2\", \"Topic2\", \"Topic2\", \"Topic2\", \"Topic2\", \"Topic2\", \"Topic3\", \"Topic3\", \"Topic3\", \"Topic3\", \"Topic3\", \"Topic3\", \"Topic3\", \"Topic3\", \"Topic3\", \"Topic3\", \"Topic3\", \"Topic3\", \"Topic3\", \"Topic3\", \"Topic3\", \"Topic3\", \"Topic3\", \"Topic3\", \"Topic3\", \"Topic3\", \"Topic3\", \"Topic3\", \"Topic3\", \"Topic3\", \"Topic3\", \"Topic3\", \"Topic3\", \"Topic3\", \"Topic3\", \"Topic3\", \"Topic3\", \"Topic3\", \"Topic3\", \"Topic3\", \"Topic3\", \"Topic3\", \"Topic3\", \"Topic3\", \"Topic3\", \"Topic3\", \"Topic3\", \"Topic3\", \"Topic3\", \"Topic3\", \"Topic3\", \"Topic3\", \"Topic3\", \"Topic3\", \"Topic3\", \"Topic3\", \"Topic3\", \"Topic3\", \"Topic3\", \"Topic3\", \"Topic3\", \"Topic3\", \"Topic3\", \"Topic3\", \"Topic3\", \"Topic3\", \"Topic3\", \"Topic3\", \"Topic3\", \"Topic3\", \"Topic3\", \"Topic3\", \"Topic3\", \"Topic3\", \"Topic3\", \"Topic3\", \"Topic3\", \"Topic3\", \"Topic3\", \"Topic3\", \"Topic3\", \"Topic3\", \"Topic4\", \"Topic4\", \"Topic4\", \"Topic4\", \"Topic4\", \"Topic4\", \"Topic4\", \"Topic4\", \"Topic4\", \"Topic4\", \"Topic4\", \"Topic4\", \"Topic4\", \"Topic4\", \"Topic4\", \"Topic4\", \"Topic4\", \"Topic4\", \"Topic4\", \"Topic4\", \"Topic4\", \"Topic4\", \"Topic4\", \"Topic4\", \"Topic4\", \"Topic4\", \"Topic4\", \"Topic4\", \"Topic4\", \"Topic4\", \"Topic4\", \"Topic4\", \"Topic4\", \"Topic4\", \"Topic4\", \"Topic4\", \"Topic4\", \"Topic4\", \"Topic4\", \"Topic4\", \"Topic4\", \"Topic4\", \"Topic4\", \"Topic4\", \"Topic4\", \"Topic4\", \"Topic4\", \"Topic4\", \"Topic4\", \"Topic4\", \"Topic4\", \"Topic4\", \"Topic4\", \"Topic4\", \"Topic4\", \"Topic4\", \"Topic4\", \"Topic4\", \"Topic4\", \"Topic4\", \"Topic4\", \"Topic4\", \"Topic4\", \"Topic4\", \"Topic4\", \"Topic4\", \"Topic4\", \"Topic4\", \"Topic4\", \"Topic4\", \"Topic4\", \"Topic4\", \"Topic4\", \"Topic4\", \"Topic4\", \"Topic4\", \"Topic4\", \"Topic4\", \"Topic5\", \"Topic5\", \"Topic5\", \"Topic5\", \"Topic5\", \"Topic5\", \"Topic5\", \"Topic5\", \"Topic5\", \"Topic5\", \"Topic5\", \"Topic5\", \"Topic5\", \"Topic5\", \"Topic5\", \"Topic5\", \"Topic5\", \"Topic5\", \"Topic5\", \"Topic5\", \"Topic5\", \"Topic5\", \"Topic5\", \"Topic5\", \"Topic5\", \"Topic5\", \"Topic5\", \"Topic5\", \"Topic5\", \"Topic5\", \"Topic5\", \"Topic5\", \"Topic5\", \"Topic5\", \"Topic5\", \"Topic5\", \"Topic5\", \"Topic5\", \"Topic5\", \"Topic5\", \"Topic5\", \"Topic5\", \"Topic5\", \"Topic5\", \"Topic5\", \"Topic5\", \"Topic5\", \"Topic5\", \"Topic5\", \"Topic5\", \"Topic5\", \"Topic5\", \"Topic5\", \"Topic5\", \"Topic5\", \"Topic5\", \"Topic5\", \"Topic5\", \"Topic5\", \"Topic5\", \"Topic5\", \"Topic5\", \"Topic5\", \"Topic5\", \"Topic5\", \"Topic5\", \"Topic5\", \"Topic6\", \"Topic6\", \"Topic6\", \"Topic6\", \"Topic6\", \"Topic6\", \"Topic6\", \"Topic6\", \"Topic6\", \"Topic6\", \"Topic6\", \"Topic6\", \"Topic6\", \"Topic6\", \"Topic6\", \"Topic6\", \"Topic6\", \"Topic6\", \"Topic6\", \"Topic6\", \"Topic6\", \"Topic6\", \"Topic6\", \"Topic6\", \"Topic6\", \"Topic6\", \"Topic6\", \"Topic6\", \"Topic6\", \"Topic6\", \"Topic6\", \"Topic6\", \"Topic6\", \"Topic6\", \"Topic6\", \"Topic6\", \"Topic6\", \"Topic6\", \"Topic6\", \"Topic6\", \"Topic6\", \"Topic6\", \"Topic6\", \"Topic6\", \"Topic6\", \"Topic6\", \"Topic6\", \"Topic6\", \"Topic6\", \"Topic6\", \"Topic6\", \"Topic6\", \"Topic6\", \"Topic6\", \"Topic6\", \"Topic6\", \"Topic6\", \"Topic6\", \"Topic6\", \"Topic6\", \"Topic6\", \"Topic6\", \"Topic6\", \"Topic6\", \"Topic6\", \"Topic6\", \"Topic6\", \"Topic6\", \"Topic6\", \"Topic7\", \"Topic7\", \"Topic7\", \"Topic7\", \"Topic7\", \"Topic7\", \"Topic7\", \"Topic7\", \"Topic7\", \"Topic7\", \"Topic7\", \"Topic7\", \"Topic7\", \"Topic7\", \"Topic7\", \"Topic7\", \"Topic7\", \"Topic7\", \"Topic7\", \"Topic7\", \"Topic7\", \"Topic7\", \"Topic7\", \"Topic7\", \"Topic7\", \"Topic7\", \"Topic7\", \"Topic7\", \"Topic7\", \"Topic7\", \"Topic7\", \"Topic7\", \"Topic7\", \"Topic7\", \"Topic7\", \"Topic7\", \"Topic7\", \"Topic7\", \"Topic7\", \"Topic7\", \"Topic7\", \"Topic7\", \"Topic7\", \"Topic7\", \"Topic7\", \"Topic7\", \"Topic7\", \"Topic7\", \"Topic7\", \"Topic7\", \"Topic7\", \"Topic7\", \"Topic7\", \"Topic7\", \"Topic7\", \"Topic7\", \"Topic7\", \"Topic7\", \"Topic7\", \"Topic7\", \"Topic7\", \"Topic7\", \"Topic7\", \"Topic7\", \"Topic7\", \"Topic7\", \"Topic7\", \"Topic7\", \"Topic7\", \"Topic7\", \"Topic7\", \"Topic7\", \"Topic7\", \"Topic7\", \"Topic7\", \"Topic7\", \"Topic7\", \"Topic7\", \"Topic7\", \"Topic8\", \"Topic8\", \"Topic8\", \"Topic8\", \"Topic8\", \"Topic8\", \"Topic8\", \"Topic8\", \"Topic8\", \"Topic8\", \"Topic8\", \"Topic8\", \"Topic8\", \"Topic8\", \"Topic8\", \"Topic8\", \"Topic8\", \"Topic8\", \"Topic8\", \"Topic8\", \"Topic8\", \"Topic8\", \"Topic8\", \"Topic8\", \"Topic8\", \"Topic8\", \"Topic8\", \"Topic8\", \"Topic8\", \"Topic8\", \"Topic8\", \"Topic8\", \"Topic8\", \"Topic8\", \"Topic8\", \"Topic8\", \"Topic8\", \"Topic8\", \"Topic8\", \"Topic8\", \"Topic8\", \"Topic8\", \"Topic8\", \"Topic8\", \"Topic8\", \"Topic8\", \"Topic8\", \"Topic8\", \"Topic8\", \"Topic8\", \"Topic8\", \"Topic8\", \"Topic8\", \"Topic8\", \"Topic8\", \"Topic8\", \"Topic8\", \"Topic8\", \"Topic8\", \"Topic8\", \"Topic8\", \"Topic8\", \"Topic8\", \"Topic8\", \"Topic8\", \"Topic8\", \"Topic8\", \"Topic9\", \"Topic9\", \"Topic9\", \"Topic9\", \"Topic9\", \"Topic9\", \"Topic9\", \"Topic9\", \"Topic9\", \"Topic9\", \"Topic9\", \"Topic9\", \"Topic9\", \"Topic9\", \"Topic9\", \"Topic9\", \"Topic9\", \"Topic9\", \"Topic9\", \"Topic9\", \"Topic9\", \"Topic9\", \"Topic9\", \"Topic9\", \"Topic9\", \"Topic9\", \"Topic9\", \"Topic9\", \"Topic9\", \"Topic9\", \"Topic9\", \"Topic9\", \"Topic9\", \"Topic9\", \"Topic9\", \"Topic9\", \"Topic9\", \"Topic9\", \"Topic9\", \"Topic9\", \"Topic9\", \"Topic9\", \"Topic9\", \"Topic9\", \"Topic9\", \"Topic9\", \"Topic9\", \"Topic9\", \"Topic9\", \"Topic9\", \"Topic9\", \"Topic9\", \"Topic9\", \"Topic9\", \"Topic9\", \"Topic9\", \"Topic9\", \"Topic9\", \"Topic9\", \"Topic9\", \"Topic9\", \"Topic9\", \"Topic9\", \"Topic9\", \"Topic9\", \"Topic9\", \"Topic9\", \"Topic9\", \"Topic9\", \"Topic9\", \"Topic9\", \"Topic9\", \"Topic9\", \"Topic9\", \"Topic9\", \"Topic9\", \"Topic10\", \"Topic10\", \"Topic10\", \"Topic10\", \"Topic10\", \"Topic10\", \"Topic10\", \"Topic10\", \"Topic10\", \"Topic10\", \"Topic10\", \"Topic10\", \"Topic10\", \"Topic10\", \"Topic10\", \"Topic10\", \"Topic10\", \"Topic10\", \"Topic10\", \"Topic10\", \"Topic10\", \"Topic10\", \"Topic10\", \"Topic10\", \"Topic10\", \"Topic10\", \"Topic10\", \"Topic10\", \"Topic10\", \"Topic10\", \"Topic10\", \"Topic10\", \"Topic10\", \"Topic10\", \"Topic10\", \"Topic10\", \"Topic10\", \"Topic10\", \"Topic10\", \"Topic10\", \"Topic10\", \"Topic10\", \"Topic10\", \"Topic10\", \"Topic10\", \"Topic10\", \"Topic10\", \"Topic10\", \"Topic10\", \"Topic10\", \"Topic10\", \"Topic10\", \"Topic10\", \"Topic10\", \"Topic10\", \"Topic10\", \"Topic10\", \"Topic10\", \"Topic10\", \"Topic10\", \"Topic10\", \"Topic10\", \"Topic10\", \"Topic10\", \"Topic10\", \"Topic10\", \"Topic10\", \"Topic11\", \"Topic11\", \"Topic11\", \"Topic11\", \"Topic11\", \"Topic11\", \"Topic11\", \"Topic11\", \"Topic11\", \"Topic11\", \"Topic11\", \"Topic11\", \"Topic11\", \"Topic11\", \"Topic11\", \"Topic11\", \"Topic11\", \"Topic11\", \"Topic11\", \"Topic11\", \"Topic11\", \"Topic11\", \"Topic11\", \"Topic11\", \"Topic11\", \"Topic11\", \"Topic11\", \"Topic11\", \"Topic11\", \"Topic11\", \"Topic11\", \"Topic11\", \"Topic11\", \"Topic11\", \"Topic11\", \"Topic11\", \"Topic11\", \"Topic11\", \"Topic11\", \"Topic11\", \"Topic11\", \"Topic11\", \"Topic11\", \"Topic11\", \"Topic11\", \"Topic11\", \"Topic11\", \"Topic11\", \"Topic11\", \"Topic11\", \"Topic11\", \"Topic11\", \"Topic11\", \"Topic11\", \"Topic11\", \"Topic11\", \"Topic11\", \"Topic11\", \"Topic11\", \"Topic11\", \"Topic11\", \"Topic11\", \"Topic11\", \"Topic11\", \"Topic11\", \"Topic11\", \"Topic11\", \"Topic11\", \"Topic11\", \"Topic12\", \"Topic12\", \"Topic12\", \"Topic12\", \"Topic12\", \"Topic12\", \"Topic12\", \"Topic12\", \"Topic12\", \"Topic12\", \"Topic12\", \"Topic12\", \"Topic12\", \"Topic12\", \"Topic12\", \"Topic12\", \"Topic12\", \"Topic12\", \"Topic12\", \"Topic12\", \"Topic12\", \"Topic12\", \"Topic12\", \"Topic12\", \"Topic12\", \"Topic12\", \"Topic12\", \"Topic12\", \"Topic12\", \"Topic12\", \"Topic12\", \"Topic12\", \"Topic12\", \"Topic12\", \"Topic12\", \"Topic12\", \"Topic12\", \"Topic12\", \"Topic12\", \"Topic12\", \"Topic12\", \"Topic12\", \"Topic12\", \"Topic12\", \"Topic12\", \"Topic12\", \"Topic12\", \"Topic12\", \"Topic12\", \"Topic12\", \"Topic12\", \"Topic12\", \"Topic12\", \"Topic12\", \"Topic12\", \"Topic12\", \"Topic12\", \"Topic12\", \"Topic12\", \"Topic12\", \"Topic12\", \"Topic12\", \"Topic12\", \"Topic12\", \"Topic12\", \"Topic12\", \"Topic12\", \"Topic12\", \"Topic12\", \"Topic12\", \"Topic12\", \"Topic12\", \"Topic12\", \"Topic12\", \"Topic12\", \"Topic12\", \"Topic12\", \"Topic13\", \"Topic13\", \"Topic13\", \"Topic13\", \"Topic13\", \"Topic13\", \"Topic13\", \"Topic13\", \"Topic13\", \"Topic13\", \"Topic13\", \"Topic13\", \"Topic13\", \"Topic13\", \"Topic13\", \"Topic13\", \"Topic13\", \"Topic13\", \"Topic13\", \"Topic13\", \"Topic13\", \"Topic13\", \"Topic13\", \"Topic13\", \"Topic13\", \"Topic13\", \"Topic13\", \"Topic13\", \"Topic13\", \"Topic13\", \"Topic13\", \"Topic13\", \"Topic13\", \"Topic13\", \"Topic13\", \"Topic13\", \"Topic13\", \"Topic13\", \"Topic13\", \"Topic13\", \"Topic13\", \"Topic13\", \"Topic13\", \"Topic13\", \"Topic13\", \"Topic13\", \"Topic13\", \"Topic13\", \"Topic13\", \"Topic13\", \"Topic13\", \"Topic13\", \"Topic13\", \"Topic13\", \"Topic13\", \"Topic13\", \"Topic13\", \"Topic13\", \"Topic13\", \"Topic13\", \"Topic13\", \"Topic13\", \"Topic13\", \"Topic13\", \"Topic13\", \"Topic13\", \"Topic13\", \"Topic13\", \"Topic13\", \"Topic14\", \"Topic14\", \"Topic14\", \"Topic14\", \"Topic14\", \"Topic14\", \"Topic14\", \"Topic14\", \"Topic14\", \"Topic14\", \"Topic14\", \"Topic14\", \"Topic14\", \"Topic14\", \"Topic14\", \"Topic14\", \"Topic14\", \"Topic14\", \"Topic14\", \"Topic14\", \"Topic14\", \"Topic14\", \"Topic14\", \"Topic14\", \"Topic14\", \"Topic14\", \"Topic14\", \"Topic14\", \"Topic14\", \"Topic14\", \"Topic14\", \"Topic14\", \"Topic14\", \"Topic14\", \"Topic14\", \"Topic14\", \"Topic14\", \"Topic14\", \"Topic14\", \"Topic14\", \"Topic14\", \"Topic14\", \"Topic14\", \"Topic14\", \"Topic14\", \"Topic14\", \"Topic14\", \"Topic14\", \"Topic14\", \"Topic14\", \"Topic14\", \"Topic14\", \"Topic14\", \"Topic14\", \"Topic14\", \"Topic14\", \"Topic14\", \"Topic14\", \"Topic14\", \"Topic14\", \"Topic14\", \"Topic14\", \"Topic14\", \"Topic14\", \"Topic14\", \"Topic14\", \"Topic14\", \"Topic14\", \"Topic14\", \"Topic14\", \"Topic14\", \"Topic15\", \"Topic15\", \"Topic15\", \"Topic15\", \"Topic15\", \"Topic15\", \"Topic15\", \"Topic15\", \"Topic15\", \"Topic15\", \"Topic15\", \"Topic15\", \"Topic15\", \"Topic15\", \"Topic15\", \"Topic15\", \"Topic15\", \"Topic15\", \"Topic15\", \"Topic15\", \"Topic15\", \"Topic15\", \"Topic15\", \"Topic15\", \"Topic15\", \"Topic15\", \"Topic15\", \"Topic15\", \"Topic15\", \"Topic15\", \"Topic15\", \"Topic15\", \"Topic15\", \"Topic15\", \"Topic15\", \"Topic15\", \"Topic15\", \"Topic15\", \"Topic15\", \"Topic15\", \"Topic15\", \"Topic15\", \"Topic15\", \"Topic15\", \"Topic15\", \"Topic15\", \"Topic15\", \"Topic15\", \"Topic15\", \"Topic15\", \"Topic15\", \"Topic15\", \"Topic15\", \"Topic15\", \"Topic15\", \"Topic15\", \"Topic15\", \"Topic15\", \"Topic15\", \"Topic15\", \"Topic15\", \"Topic15\", \"Topic15\", \"Topic15\", \"Topic15\", \"Topic15\", \"Topic15\", \"Topic15\", \"Topic15\", \"Topic15\"], \"Freq\": [1327.0, 1716.0, 1508.0, 1421.0, 819.0, 1130.0, 1344.0, 648.0, 1311.0, 907.0, 1298.0, 896.0, 700.0, 918.0, 668.0, 499.0, 640.0, 622.0, 922.0, 618.0, 829.0, 1062.0, 779.0, 591.0, 655.0, 758.0, 415.0, 495.0, 654.0, 321.0, 54.53600311279297, 29.84258460998535, 36.509647369384766, 21.046552658081055, 20.973772048950195, 22.896617889404297, 29.237407684326172, 20.94729995727539, 16.149492263793945, 18.022907257080078, 21.8388729095459, 26.593358993530273, 25.620603561401367, 37.872215270996094, 15.102394104003906, 16.94516372680664, 111.97394561767578, 15.051003456115723, 20.644140243530273, 15.043295860290527, 14.0877046585083, 14.084291458129883, 14.08864974975586, 15.953434944152832, 14.073846817016602, 15.009284973144531, 13.120207786560059, 14.054718017578125, 15.949759483337402, 25.039196014404297, 28.896867752075195, 21.585744857788086, 17.786367416381836, 40.31827163696289, 22.252490997314453, 87.81654357910156, 69.84839630126953, 66.15189361572266, 125.2835693359375, 297.1667175292969, 86.29021453857422, 37.934329986572266, 33.665557861328125, 189.8905487060547, 65.54522705078125, 77.76668548583984, 45.7470703125, 135.1251220703125, 52.00224304199219, 55.8556022644043, 112.5873031616211, 157.97967529296875, 124.1928482055664, 183.99575805664062, 451.56402587890625, 181.5953369140625, 139.7901153564453, 146.2327117919922, 95.31793975830078, 93.10026550292969, 182.59909057617188, 349.50726318359375, 177.11485290527344, 224.1394805908203, 109.62928009033203, 187.88124084472656, 768.475830078125, 397.126953125, 273.8096618652344, 138.89259338378906, 353.5331726074219, 218.69393920898438, 371.2163391113281, 396.58447265625, 321.6059875488281, 485.41766357421875, 545.5169067382812, 251.9836883544922, 705.6248779296875, 392.1112060546875, 275.64617919921875, 340.2176818847656, 467.6487121582031, 358.1513977050781, 316.69842529296875, 369.2621765136719, 470.8907470703125, 475.4360046386719, 473.4079895019531, 361.0970153808594, 267.12225341796875, 264.5806579589844, 298.8504333496094, 268.9558410644531, 322.9661865234375, 289.8626708984375, 336.0150451660156, 307.64605712890625, 282.3100280761719, 228.85411071777344, 559.98486328125, 211.98635864257812, 35.738155364990234, 662.9005737304688, 37.59834671020508, 17.219724655151367, 26.86735725402832, 98.9807357788086, 139.20814514160156, 108.96581268310547, 35.12141418457031, 35.26935958862305, 18.94802474975586, 16.012798309326172, 29.23691749572754, 10.282451629638672, 11.036665916442871, 65.692138671875, 82.91062927246094, 23.603866577148438, 117.84326171875, 45.489479064941406, 276.2685546875, 7.116520881652832, 7.084898471832275, 6.183096408843994, 10.680729866027832, 7.054123878479004, 6.142850875854492, 49.33259963989258, 154.60733032226562, 65.02484893798828, 27.257604598999023, 111.7864761352539, 34.62199020385742, 211.49732971191406, 259.12811279296875, 503.5907287597656, 255.0484619140625, 449.2196960449219, 313.31170654296875, 64.93724060058594, 198.0751495361328, 300.24017333984375, 311.06109619140625, 94.26111602783203, 177.44212341308594, 176.64390563964844, 127.61417388916016, 303.6678161621094, 411.933837890625, 331.5269470214844, 151.7279052734375, 281.22857666015625, 286.9258117675781, 214.3159637451172, 205.4922332763672, 248.78640747070312, 220.99603271484375, 241.9530029296875, 197.18023681640625, 172.2903289794922, 180.55035400390625, 172.4642333984375, 14.732680320739746, 11.199945449829102, 11.965866088867188, 7.516312599182129, 6.5418524742126465, 6.485591411590576, 4.679775238037109, 5.459133148193359, 4.371617794036865, 6.538002014160156, 6.577120780944824, 5.592822074890137, 5.591809272766113, 16.75506591796875, 43.159793853759766, 9.516223907470703, 4.704385757446289, 4.681519985198975, 5.385449409484863, 3.771754264831543, 5.952572345733643, 3.762547492980957, 4.520397663116455, 3.8245997428894043, 4.455557823181152, 7.468221664428711, 3.7992465496063232, 4.9582061767578125, 95.84467315673828, 4.711511135101318, 27.832422256469727, 16.64927101135254, 20.84315299987793, 25.021032333374023, 60.73200988769531, 29.05521583557129, 176.85250854492188, 380.44488525390625, 15.127967834472656, 175.67567443847656, 156.56431579589844, 103.44437408447266, 300.6661376953125, 495.1187744140625, 51.157684326171875, 268.2792053222656, 38.892539978027344, 194.5517120361328, 200.10281372070312, 88.89594268798828, 110.23267364501953, 130.2645263671875, 182.58726501464844, 176.49285888671875, 34.353919982910156, 217.25299072265625, 114.11016845703125, 268.1011047363281, 283.47821044921875, 178.8614959716797, 127.65389251708984, 111.13905334472656, 182.26351928710938, 171.86012268066406, 85.22074127197266, 179.88401794433594, 222.65492248535156, 136.36375427246094, 217.2993927001953, 132.37136840820312, 178.627197265625, 140.63621520996094, 121.857666015625, 130.99624633789062, 128.7812042236328, 119.06143188476562, 11.600311279296875, 22.94985580444336, 10.636544227600098, 13.111713409423828, 11.381380081176758, 8.710770606994629, 10.369863510131836, 8.529935836791992, 20.51283836364746, 5.849181175231934, 5.8600921630859375, 33.27214050292969, 6.685330867767334, 5.835614204406738, 62.05574035644531, 6.6663947105407715, 7.340446949005127, 6.582067489624023, 5.7361063957214355, 4.873752117156982, 99.80803680419922, 22.063838958740234, 4.871982574462891, 5.666834831237793, 16.798686981201172, 4.835778713226318, 20.358253479003906, 8.142021179199219, 42.97426986694336, 52.99186706542969, 92.07913970947266, 16.21233558654785, 14.716739654541016, 48.719261169433594, 25.258073806762695, 11.30639362335205, 24.748022079467773, 91.55139923095703, 29.957496643066406, 27.445669174194336, 59.29258728027344, 70.24674224853516, 18.16938018798828, 26.83837127685547, 62.761287689208984, 32.2159423828125, 92.5123062133789, 127.0497055053711, 62.08989334106445, 138.39511108398438, 45.23087692260742, 57.02744674682617, 51.30621337890625, 83.85237121582031, 240.4942169189453, 51.4335823059082, 137.23719787597656, 57.869422912597656, 57.08589172363281, 75.92788696289062, 35.78278732299805, 87.68447875976562, 53.82535171508789, 74.2197036743164, 61.63124465942383, 72.2747573852539, 84.7301025390625, 85.49818420410156, 83.58794403076172, 68.36156463623047, 75.07549285888672, 76.79278564453125, 74.99951171875, 70.83480072021484, 62.505916595458984, 62.19461441040039, 60.059303283691406, 59.504215240478516, 9.019197463989258, 6.349308967590332, 4.557520389556885, 6.847873210906982, 65.89714050292969, 6.802107334136963, 10.117021560668945, 6.501321792602539, 6.541016101837158, 19.620220184326172, 8.593920707702637, 14.826340675354004, 18.995132446289062, 3.8349709510803223, 3.428333282470703, 7.745095252990723, 6.073785781860352, 10.174049377441406, 4.929042339324951, 29.177814483642578, 3.8400497436523438, 3.3527753353118896, 4.208948612213135, 17.587406158447266, 248.9476318359375, 3.792107582092285, 4.075667381286621, 18.949466705322266, 9.606335639953613, 6.379415988922119, 8.162242889404297, 22.31668472290039, 129.6280059814453, 138.0419921875, 7.125419616699219, 97.3045883178711, 223.86630249023438, 103.25366973876953, 78.27682495117188, 48.1563720703125, 32.742279052734375, 49.49434280395508, 72.46533203125, 115.75945281982422, 47.172542572021484, 93.69635772705078, 40.78782272338867, 127.56572723388672, 82.28462219238281, 121.25569915771484, 34.5513801574707, 52.0045280456543, 61.20592498779297, 104.45259857177734, 99.20428466796875, 44.189697265625, 97.99697875976562, 69.36615753173828, 56.12693405151367, 56.48867416381836, 54.36902618408203, 54.45326232910156, 67.12777709960938, 66.48442077636719, 61.115966796875, 52.09477615356445, 48.347747802734375, 41.71695327758789, 2.824859857559204, 11.072393417358398, 9.599933624267578, 2.719261646270752, 2.8859124183654785, 2.8222150802612305, 6.501414775848389, 6.45888090133667, 2.946784496307373, 4.76052713394165, 3.778308629989624, 3.619886636734009, 2.8283209800720215, 20.484966278076172, 2.782754421234131, 3.131197452545166, 2.8190250396728516, 3.5893287658691406, 4.3065924644470215, 2.6243741512298584, 3.8243424892425537, 4.163484573364258, 5.1293840408325195, 18.853281021118164, 58.4970703125, 2.8887479305267334, 2.5528130531311035, 2.8674635887145996, 2.091378688812256, 263.48468017578125, 118.04651641845703, 10.31688117980957, 81.46399688720703, 33.62084197998047, 85.93980407714844, 13.47197151184082, 108.17884826660156, 24.041854858398438, 76.4514389038086, 20.936677932739258, 11.1093168258667, 74.09661102294922, 29.265880584716797, 56.58828353881836, 43.61773681640625, 9.222909927368164, 36.248050689697266, 88.40560913085938, 59.438480377197266, 123.5714340209961, 30.37975311279297, 52.68342971801758, 48.481483459472656, 43.36548614501953, 63.89137649536133, 76.67803955078125, 87.43668365478516, 71.68140411376953, 47.27907180786133, 55.09505081176758, 62.553409576416016, 54.41458511352539, 57.986854553222656, 50.55018997192383, 47.75362014770508, 45.57772445678711, 43.4703254699707, 43.07078552246094, 6.493555545806885, 6.473334312438965, 7.677806854248047, 3.8547651767730713, 3.676185131072998, 4.668117523193359, 3.446868419647217, 4.374279975891113, 3.8197853565216064, 5.953640460968018, 4.75609827041626, 5.854450225830078, 3.638369560241699, 5.027504920959473, 3.4710280895233154, 4.249482154846191, 2.9191982746124268, 5.170962333679199, 2.69966197013855, 6.043301582336426, 2.7517249584198, 6.154033184051514, 2.6572012901306152, 2.62622332572937, 5.884544849395752, 3.6573188304901123, 4.443233966827393, 2.7732553482055664, 2.3206353187561035, 2.860464096069336, 7.925901412963867, 6.5068745613098145, 68.85359954833984, 34.589359283447266, 14.253334045410156, 9.077676773071289, 10.32083797454834, 32.867549896240234, 13.7529878616333, 9.827291488647461, 75.24339294433594, 15.848676681518555, 19.781476974487305, 80.56983184814453, 24.588197708129883, 33.576629638671875, 25.65161895751953, 36.999977111816406, 54.05744934082031, 83.00077819824219, 28.861801147460938, 23.30531120300293, 38.87517547607422, 15.470122337341309, 54.63137435913086, 34.74153518676758, 49.904388427734375, 28.023788452148438, 34.78120422363281, 27.442895889282227, 73.73702239990234, 68.38724517822266, 37.35623550415039, 41.232666015625, 28.325468063354492, 34.6063232421875, 48.84843826293945, 35.06468200683594, 54.76046371459961, 55.339622497558594, 50.0755615234375, 36.632423400878906, 41.81605911254883, 47.5534553527832, 42.850223541259766, 33.98603820800781, 34.76103973388672, 35.96281814575195, 33.8007698059082, 19.338287353515625, 21.875898361206055, 2.675825595855713, 6.3384199142456055, 73.64616394042969, 11.070687294006348, 11.497922897338867, 3.4960696697235107, 19.05850601196289, 7.061788082122803, 1.7863582372665405, 1.7896673679351807, 2.1935935020446777, 30.779598236083984, 1.8177025318145752, 1.721145749092102, 2.2681803703308105, 1.7307630777359009, 2.717026710510254, 2.5894229412078857, 1.817293643951416, 3.3016107082366943, 2.099496841430664, 3.1256048679351807, 1.6394269466400146, 2.4237568378448486, 1.5844794511795044, 3.028536081314087, 1.5806710720062256, 1.6923282146453857, 46.58457565307617, 17.93014144897461, 33.28640365600586, 27.25013542175293, 18.62058448791504, 10.098523139953613, 14.897114753723145, 29.940584182739258, 13.264511108398438, 44.71843338012695, 16.61892318725586, 8.981989860534668, 48.908477783203125, 7.200003623962402, 8.37564754486084, 22.780799865722656, 12.615560531616211, 7.846719741821289, 7.493463039398193, 15.523117065429688, 22.229101181030273, 25.5618953704834, 17.198171615600586, 25.367429733276367, 18.029603958129883, 21.302757263183594, 23.472747802734375, 21.566343307495117, 19.456310272216797, 17.32431411743164, 23.474336624145508, 21.35159683227539, 18.834379196166992, 16.952293395996094, 18.3106689453125, 18.089853286743164, 18.055818557739258, 3.424309015274048, 2.0741217136383057, 2.5710744857788086, 1.8357547521591187, 1.9755686521530151, 3.478693723678589, 1.4147948026657104, 2.1171486377716064, 1.824097990989685, 1.5263774394989014, 1.4241639375686646, 2.0781147480010986, 2.0097885131835938, 2.0580506324768066, 1.5518227815628052, 1.970566987991333, 1.2973734140396118, 1.4082849025726318, 1.404042363166809, 1.9438624382019043, 1.4191813468933105, 4.414975166320801, 2.732398509979248, 1.1567920446395874, 1.23068106174469, 1.2124494314193726, 1.3203301429748535, 1.345741868019104, 2.114288091659546, 2.7408480644226074, 2.074800729751587, 2.3433196544647217, 3.5894296169281006, 2.1481504440307617, 1.6412198543548584, 4.151108741760254, 3.459620237350464, 7.936429023742676, 10.78569507598877, 3.185908317565918, 5.486697673797607, 19.22990608215332, 13.74299430847168, 14.124894142150879, 18.880887985229492, 14.416561126708984, 18.231781005859375, 19.270402908325195, 4.663131237030029, 3.4769718647003174, 16.826356887817383, 17.15511131286621, 12.86601448059082, 4.2429375648498535, 10.19760513305664, 7.545132637023926, 5.117176055908203, 5.565721035003662, 8.696072578430176, 8.429049491882324, 6.810375690460205, 6.190130233764648, 8.37989616394043, 9.974014282226562, 6.921655178070068, 9.688279151916504, 7.522469997406006, 6.689382076263428, 6.9427618980407715, 7.637417793273926, 7.600338935852051, 8.560894012451172, 7.518520355224609, 7.779407501220703, 7.527353763580322, 6.842798233032227, 14.151872634887695, 14.740236282348633, 3.090492010116577, 3.0674612522125244, 2.0145108699798584, 1.6382949352264404, 1.485914945602417, 2.719968557357788, 2.1274938583374023, 2.383662462234497, 1.5268909931182861, 1.5241444110870361, 1.4652506113052368, 1.4774742126464844, 1.4551365375518799, 1.4324305057525635, 1.8745083808898926, 1.5229541063308716, 4.375732421875, 1.3445228338241577, 1.5568839311599731, 1.5618447065353394, 1.5213571786880493, 1.5243839025497437, 1.5371874570846558, 1.193310260772705, 2.092893123626709, 2.1588361263275146, 2.1571879386901855, 2.2480862140655518, 2.266496181488037, 7.842066764831543, 7.125548839569092, 7.3912787437438965, 6.226076126098633, 10.602640151977539, 3.1215691566467285, 2.4867024421691895, 4.621739387512207, 11.11734390258789, 4.9341607093811035, 4.095005989074707, 10.48628044128418, 11.347887992858887, 7.187567234039307, 14.45441722869873, 7.314012050628662, 13.247723579406738, 14.152609825134277, 13.987520217895508, 5.633731842041016, 9.117348670959473, 3.9222631454467773, 9.936507225036621, 8.160292625427246, 9.889781951904297, 5.347234725952148, 9.984100341796875, 10.735827445983887, 7.922454357147217, 7.823619365692139, 9.326286315917969, 8.70886516571045, 7.1195454597473145, 6.944062232971191, 6.891369342803955, 6.505763053894043, 7.810534954071045, 1.6029001474380493, 3.5760555267333984, 4.061633586883545, 1.6545017957687378, 2.454026699066162, 2.451608896255493, 1.6508572101593018, 1.6531978845596313, 1.650246500968933, 1.6540195941925049, 1.6472336053848267, 1.6469693183898926, 1.651394248008728, 3.248396396636963, 7.2484540939331055, 1.649519920349121, 1.647265076637268, 1.6560758352279663, 1.6503870487213135, 1.6530165672302246, 0.8518819212913513, 1.6519984006881714, 0.8562741279602051, 0.854161262512207, 0.8536490201950073, 1.656378149986267, 0.8456577062606812, 0.852260947227478, 0.852607786655426, 1.6426068544387817, 2.4551961421966553, 3.252845048904419, 1.6529735326766968, 5.666460990905762, 5.008960247039795, 1.6522611379623413, 4.944031715393066, 7.187671661376953, 13.215632438659668, 12.498143196105957, 11.488222122192383, 8.986164093017578, 6.536553859710693, 5.726917743682861, 5.91340446472168, 9.375672340393066, 8.150520324707031, 10.220708847045898, 4.3423638343811035, 4.182356357574463, 7.375037670135498, 6.693471431732178, 3.3884785175323486, 5.841532230377197, 8.422167778015137, 6.744551658630371, 8.414496421813965, 8.721389770507812, 5.832054615020752, 5.8270583152771, 7.602677822113037, 5.818066596984863, 5.779519557952881, 4.992377281188965, 4.928633689880371, 5.263070583343506, 5.055995464324951, 5.032886505126953, 2.351823568344116, 1.5784369707107544, 1.576913595199585, 1.5727673768997192, 1.3601375818252563, 3.7637431621551514, 1.7801426649093628, 1.5643407106399536, 1.5214972496032715, 1.341245412826538, 3.354116678237915, 1.5654537677764893, 1.3712294101715088, 1.360461950302124, 2.2868106365203857, 2.988720178604126, 1.5742000341415405, 1.579296588897705, 2.136429786682129, 2.0821304321289062, 1.2910734415054321, 1.543588638305664, 2.3362910747528076, 0.8122140169143677, 0.8160492777824402, 0.8230249881744385, 0.8172783851623535, 0.7835901975631714, 0.8147063851356506, 0.8012818694114685, 2.166278839111328, 1.5870264768600464, 1.4043383598327637, 2.0007753372192383, 1.5757540464401245, 1.5841180086135864, 3.037705659866333, 1.7675871849060059, 8.520915031433105, 15.350425720214844, 8.204638481140137, 7.186762809753418, 16.914024353027344, 3.534764289855957, 6.55285120010376, 5.175214767456055, 7.961431980133057, 7.615813255310059, 5.333962917327881, 20.725221633911133, 16.447031021118164, 14.158465385437012, 16.154380798339844, 11.791967391967773, 6.185439109802246, 7.144985675811768, 5.3261590003967285, 5.606131076812744, 7.043981552124023, 14.938165664672852, 3.7719171047210693, 8.267934799194336, 5.1174798011779785, 7.647330284118652, 8.03994369506836, 5.980321884155273, 10.431733131408691, 7.366727352142334, 7.480887413024902, 7.879474639892578, 6.480865955352783, 7.705410003662109, 7.561981678009033, 7.034781455993652, 6.5326666831970215, 6.8419108390808105, 6.597837448120117, 1.4892935752868652, 1.3808526992797852, 1.4844435453414917, 1.305835247039795, 2.3900251388549805, 1.2110340595245361, 1.1904973983764648, 1.4362324476242065, 1.4851247072219849, 1.280074119567871, 2.8744864463806152, 1.3621660470962524, 1.4827969074249268, 1.488441824913025, 1.4743303060531616, 0.7456687688827515, 1.6132560968399048, 1.4881517887115479, 1.1592860221862793, 4.081039905548096, 0.7643212676048279, 1.4776989221572876, 0.7707651853561401, 1.5298593044281006, 0.7663989067077637, 0.769117534160614, 1.3229986429214478, 2.214759111404419, 0.770107626914978, 1.4811323881149292, 2.3766093254089355, 1.6100714206695557, 1.260311484336853, 10.47176742553711, 2.2109785079956055, 6.058656215667725, 15.50287914276123, 14.791421890258789, 5.765227794647217, 5.553156852722168, 9.282964706420898, 10.939593315124512, 2.1122076511383057, 15.045539855957031, 8.897181510925293, 2.6218326091766357, 8.85490608215332, 13.137776374816895, 10.885282516479492, 4.582949161529541, 7.299935340881348, 8.658385276794434, 5.752531051635742, 10.864526748657227, 5.469768047332764, 10.203781127929688, 5.843836784362793, 6.391112327575684, 7.248669624328613, 5.660116195678711, 3.3284969329833984, 7.801044940948486, 6.292880058288574, 5.763223171234131, 5.633960723876953, 6.018951892852783, 5.730959892272949, 5.685577392578125, 5.734334945678711, 2.456958532333374, 1.7638417482376099, 1.822251558303833, 1.2479168176651, 3.66617488861084, 1.2480125427246094, 1.8561818599700928, 1.2487008571624756, 0.643151581287384, 0.6458926796913147, 0.6445164084434509, 0.6434164643287659, 1.2503236532211304, 0.6451540589332581, 0.643627941608429, 0.6342796087265015, 0.6455338597297668, 0.645114541053772, 0.6430671811103821, 0.6417688131332397, 0.630784809589386, 0.60615473985672, 0.6025879383087158, 0.6440373063087463, 0.6458412408828735, 0.644426167011261, 0.6375718712806702, 0.6429757475852966, 0.6473403573036194, 0.6457688212394714, 1.949988842010498, 1.2481008768081665, 4.449436664581299, 1.85462486743927, 1.3380036354064941, 1.2495152950286865, 4.335317134857178, 1.856515645980835, 3.77348256111145, 6.203238487243652, 3.7592315673828125, 3.1344680786132812, 1.1934062242507935, 1.223410725593567, 3.0943496227264404, 1.2499181032180786, 1.7172292470932007, 1.7400751113891602, 1.2513535022735596, 2.472184419631958, 1.3143163919448853, 3.112344264984131, 2.332568407058716, 2.968702793121338, 3.6016530990600586, 4.852935314178467, 2.8893508911132812, 3.754544734954834, 2.5376758575439453, 3.3082687854766846, 2.2709808349609375, 2.416208267211914, 2.570953845977783, 2.5573198795318604, 2.595825433731079, 2.5056755542755127, 2.472738742828369, 2.2232751846313477, 2.2206499576568604, 2.0425496101379395, 2.0224363803863525, 2.2846434116363525, 2.3414101600646973, 1.0880252122879028, 1.1821155548095703, 1.000186800956726, 0.6088300347328186, 1.1832469701766968, 0.6094144582748413, 0.6107808351516724, 0.60980623960495, 0.6081443428993225, 0.6111765503883362, 0.6038862466812134, 0.6100736260414124, 0.6059107184410095, 0.5907557606697083, 0.610622763633728, 0.6097654104232788, 0.6137128472328186, 0.6102243661880493, 0.609808623790741, 0.6092506647109985, 0.6094727516174316, 0.6086669564247131, 0.6062824130058289, 0.6082186698913574, 0.6080007553100586, 0.6090285778045654, 0.6106535792350769, 0.6074267029762268, 4.609414577484131, 0.82601398229599, 2.9129576683044434, 5.8971171379089355, 1.7574725151062012, 3.4837872982025146, 3.479659080505371, 3.0256259441375732, 2.978543996810913, 1.7651811838150024, 3.510828971862793, 2.9461236000061035, 1.497745156288147, 2.3476085662841797, 1.7657771110534668, 1.2618613243103027, 1.77156400680542, 1.7725746631622314, 1.18915855884552, 2.3512513637542725, 1.1911901235580444, 4.289860248565674, 1.1819363832473755, 2.9799373149871826, 2.554732084274292, 2.693110466003418, 1.7829701900482178, 3.864952325820923, 3.1469790935516357, 3.1000568866729736, 2.5538785457611084, 2.5191380977630615, 2.3851962089538574, 2.0706493854522705, 2.031212329864502, 1.9641971588134766, 1.8993809223175049, 1.8749793767929077, 1.8637011051177979, 1.8219748735427856], \"Term\": [\"like\", \"little\", \"miss\", \"know\", \"emma\", \"thought\", \"good\", \"elizabeth\", \"time\", \"jane\", \"think\", \"man\", \"elinor\", \"shall\", \"mother\", \"harriet\", \"eyes\", \"john\", \"soon\", \"hand\", \"come\", \"day\", \"saw\", \"sir\", \"young\", \"house\", \"darcy\", \"father\", \"heart\", \"bennet\", \"henri\", \"glorious\", \"brussels\", \"india\", \"vandenhuten\", \"francs\", \"oliver\", \"serene\", \"scholars\", \"hell\", \"europe\", \"sophie\", \"stool\", \"veil\", \"vocation\", \"seacombe\", \"frances\", \"briggs\", \"slip\", \"belgium\", \"swiss\", \"natures\", \"stile\", \"kneeling\", \"sunset\", \"wicket\", \"vale\", \"marchmont\", \"wardrobe\", \"practical\", \"godmother\", \"sustained\", \"stooped\", \"burning\", \"seal\", \"thornfield\", \"moon\", \"diana\", \"hunsden\", \"rochester\", \"crimsworth\", \"hannah\", \"lonely\", \"god\", \"rue\", \"blood\", \"flesh\", \"french\", \"rivers\", \"candle\", \"adele\", \"st\", \"ll\", \"english\", \"night\", \"dark\", \"hall\", \"black\", \"mdlle\", \"bright\", \"white\", \"face\", \"rose\", \"light\", \"ere\", \"strange\", \"like\", \"hand\", \"eye\", \"deep\", \"life\", \"stood\", \"eyes\", \"looked\", \"door\", \"long\", \"thought\", \"madame\", \"little\", \"saw\", \"old\", \"heart\", \"day\", \"house\", \"look\", \"come\", \"time\", \"good\", \"know\", \"room\", \"went\", \"took\", \"came\", \"left\", \"man\", \"way\", \"think\", \"shall\", \"felt\", \"jennings\", \"marianne\", \"willoughby\", \"margaret\", \"elinor\", \"steele\", \"berkeley\", \"cleveland\", \"middleton\", \"brandon\", \"charlotte\", \"dashwoods\", \"hurst\", \"middletons\", \"harley\", \"steeles\", \"palmers\", \"beaux\", \"lucas\", \"barton\", \"hunsford\", \"catherine\", \"rosings\", \"bingley\", \"thoughtfulness\", \"rapturous\", \"unwillingly\", \"magna\", \"salutation\", \"invariable\", \"ladyship\", \"collins\", \"netherfield\", \"delaford\", \"ferrars\", \"bourgh\", \"dashwood\", \"bennet\", \"elizabeth\", \"edward\", \"sister\", \"darcy\", \"palmer\", \"colonel\", \"lady\", \"mother\", \"behaviour\", \"family\", \"lucy\", \"town\", \"soon\", \"miss\", \"time\", \"replied\", \"think\", \"know\", \"great\", \"house\", \"good\", \"day\", \"little\", \"room\", \"away\", \"shall\", \"man\", \"ford\", \"patty\", \"grandmama\", \"cox\", \"friday\", \"pitcher\", \"vouchsafe\", \"harp\", \"undone\", \"longstaple\", \"rivet\", \"naivete\", \"butler\", \"charade\", \"cole\", \"larkins\", \"butcher\", \"significantly\", \"detaining\", \"banker\", \"pleasanter\", \"overtaken\", \"airing\", \"triumphantly\", \"shoot\", \"richard\", \"inequality\", \"pretending\", \"bates\", \"precise\", \"dixon\", \"campbells\", \"pianoforte\", \"crown\", \"smith\", \"campbell\", \"fairfax\", \"jane\", \"apples\", \"weston\", \"elton\", \"frank\", \"emma\", \"miss\", \"news\", \"thing\", \"perry\", \"oh\", \"dear\", \"churchill\", \"woodhouse\", \"knightley\", \"sir\", \"sure\", \"dancing\", \"shall\", \"going\", \"think\", \"know\", \"come\", \"harriet\", \"hear\", \"room\", \"great\", \"body\", \"soon\", \"good\", \"yes\", \"little\", \"heard\", \"time\", \"like\", \"came\", \"thought\", \"day\", \"away\", \"peu\", \"abbot\", \"avez\", \"grec\", \"votre\", \"athenee\", \"dans\", \"violets\", \"cholmondeley\", \"opaque\", \"assez\", \"une\", \"professors\", \"etre\", \"je\", \"tableau\", \"pens\", \"impromptu\", \"allez\", \"mal\", \"vous\", \"elle\", \"dire\", \"reflex\", \"paletot\", \"garcon\", \"isidore\", \"bourgeois\", \"ce\", \"que\", \"est\", \"cela\", \"zelie\", \"pas\", \"pierre\", \"bouquet\", \"qu\", \"bessie\", \"les\", \"ne\", \"et\", \"la\", \"comme\", \"estrade\", \"ginevra\", \"bien\", \"paul\", \"monsieur\", \"reed\", \"madame\", \"fanshawe\", \"mademoiselle\", \"emanuel\", \"dr\", \"little\", \"beck\", \"like\", \"school\", \"work\", \"door\", \"polly\", \"room\", \"bretton\", \"hand\", \"lucy\", \"eyes\", \"thought\", \"think\", \"good\", \"half\", \"day\", \"miss\", \"time\", \"know\", \"took\", \"john\", \"knew\", \"came\", \"selina\", \"knightleys\", \"approving\", \"gentility\", \"martin\", \"blindness\", \"nash\", \"surry\", \"bristol\", \"abbey\", \"farmer\", \"bath\", \"maple\", \"disgraced\", \"elegantly\", \"suckling\", \"westons\", \"resources\", \"intimately\", \"goddard\", \"jokes\", \"gross\", \"matches\", \"enscombe\", \"harriet\", \"inferred\", \"negligent\", \"grove\", \"connexion\", \"protest\", \"vicarage\", \"taylor\", \"elton\", \"weston\", \"churchills\", \"woodhouse\", \"emma\", \"knightley\", \"body\", \"hartfield\", \"highbury\", \"churchill\", \"friend\", \"man\", \"frank\", \"thing\", \"marry\", \"good\", \"young\", \"think\", \"assure\", \"people\", \"woman\", \"miss\", \"know\", \"ought\", \"little\", \"great\", \"father\", \"sure\", \"dear\", \"better\", \"like\", \"time\", \"thought\", \"mind\", \"shall\", \"isabella\", \"philosophic\", \"eltons\", \"hawkins\", \"regards\", \"saucy\", \"ostensible\", \"richmond\", \"grandmother\", \"supplying\", \"benefactress\", \"promoted\", \"bathing\", \"feelingly\", \"taylor\", \"secresy\", \"unexceptionable\", \"comprehending\", \"deceit\", \"beer\", \"windsor\", \"cooler\", \"amiss\", \"martins\", \"campbell\", \"hartfield\", \"competent\", \"dulness\", \"charmingly\", \"unfair\", \"emma\", \"knightley\", \"henry\", \"woodhouse\", \"highbury\", \"fairfax\", \"dixon\", \"harriet\", \"randalls\", \"elton\", \"perry\", \"shew\", \"weston\", \"bates\", \"poor\", \"body\", \"chuse\", \"churchill\", \"thing\", \"father\", \"miss\", \"children\", \"having\", \"home\", \"friend\", \"jane\", \"think\", \"little\", \"time\", \"dear\", \"soon\", \"good\", \"thought\", \"know\", \"shall\", \"man\", \"day\", \"great\", \"like\", \"yorkshire\", \"infamous\", \"lambton\", \"assertions\", \"create\", \"occurrences\", \"bewitching\", \"stating\", \"wilfully\", \"misconduct\", \"militia\", \"elopement\", \"inexpressibly\", \"reconciliation\", \"alluding\", \"blameless\", \"foresaw\", \"disadvantage\", \"creditable\", \"misunderstood\", \"indolence\", \"scotland\", \"unfair\", \"forwarded\", \"acquit\", \"inconveniences\", \"respectability\", \"liberally\", \"exercising\", \"deplorable\", \"involved\", \"churchills\", \"wickham\", \"gardiner\", \"fitzwilliam\", \"imprudent\", \"secrecy\", \"conduct\", \"supposing\", \"injured\", \"darcy\", \"pemberley\", \"robert\", \"elizabeth\", \"wishes\", \"aunt\", \"attachment\", \"churchill\", \"letter\", \"jane\", \"lydia\", \"engagement\", \"known\", \"particulars\", \"love\", \"affection\", \"hope\", \"marriage\", \"happiness\", \"marry\", \"know\", \"think\", \"family\", \"having\", \"frank\", \"feelings\", \"man\", \"present\", \"good\", \"miss\", \"time\", \"father\", \"soon\", \"little\", \"thought\", \"believe\", \"sister\", \"day\", \"felt\", \"brighton\", \"forster\", \"prevailing\", \"expenses\", \"lydia\", \"regiment\", \"sum\", \"gracechurch\", \"norland\", \"debts\", \"favourites\", \"despaired\", \"housekeeping\", \"pounds\", \"pledged\", \"settlement\", \"lamentations\", \"supplication\", \"disposal\", \"legal\", \"sixpence\", \"denny\", \"distresses\", \"pratt\", \"answerable\", \"accommodate\", \"cheap\", \"extravagant\", \"expressively\", \"prohibited\", \"wickham\", \"kitty\", \"uncle\", \"thousand\", \"gardiner\", \"income\", \"law\", \"dashwood\", \"longbourn\", \"father\", \"money\", \"estate\", \"mother\", \"addition\", \"ignorant\", \"married\", \"daughters\", \"assistance\", \"niece\", \"fortune\", \"bennet\", \"sure\", \"daughter\", \"elizabeth\", \"years\", \"sister\", \"soon\", \"house\", \"dear\", \"family\", \"know\", \"think\", \"great\", \"letter\", \"good\", \"time\", \"little\", \"stick\", \"eyelid\", \"rob\", \"irritating\", \"philanthropist\", \"lloyd\", \"reproaching\", \"mystic\", \"memories\", \"partners\", \"infirm\", \"henceforth\", \"establish\", \"staff\", \"vanishing\", \"lowered\", \"mud\", \"saucy\", \"acquitted\", \"grieving\", \"anecdote\", \"orphan\", \"stair\", \"flakes\", \"affianced\", \"enounced\", \"sacrificing\", \"restoration\", \"external\", \"abhorred\", \"prejudices\", \"severely\", \"merits\", \"aged\", \"tap\", \"flatter\", \"ruin\", \"pelet\", \"sisters\", \"walravens\", \"died\", \"sir\", \"poor\", \"old\", \"jane\", \"love\", \"thought\", \"like\", \"grief\", \"marie\", \"good\", \"little\", \"man\", \"false\", \"half\", \"sense\", \"lizzy\", \"bessie\", \"father\", \"oh\", \"character\", \"children\", \"mother\", \"time\", \"people\", \"think\", \"place\", \"child\", \"leave\", \"eyes\", \"young\", \"know\", \"heart\", \"shall\", \"house\", \"saw\", \"scatcherd\", \"burns\", \"doctrine\", \"tract\", \"knoll\", \"walnut\", \"reproaching\", \"print\", \"stem\", \"impunity\", \"mischievous\", \"contrasts\", \"amounted\", \"bunch\", \"bundle\", \"blossoms\", \"matched\", \"projected\", \"desiree\", \"spots\", \"pious\", \"bigben\", \"glove\", \"packing\", \"quickening\", \"scenery\", \"aimed\", \"borders\", \"brush\", \"slice\", \"infection\", \"lowood\", \"patient\", \"helen\", \"coffee\", \"dr\", \"firmness\", \"bible\", \"parents\", \"girl\", \"fully\", \"bearing\", \"madame\", \"face\", \"liked\", \"thought\", \"kept\", \"day\", \"like\", \"miss\", \"clock\", \"half\", \"chose\", \"man\", \"place\", \"long\", \"hunsden\", \"think\", \"little\", \"hand\", \"heart\", \"know\", \"time\", \"life\", \"john\", \"eyes\", \"morning\", \"victor\", \"scrutinised\", \"yorke\", \"georgette\", \"rests\", \"tints\", \"grisette\", \"portfolio\", \"sans\", \"clouded\", \"trop\", \"inquisitive\", \"nest\", \"infallibly\", \"apron\", \"rosine\", \"rien\", \"tasks\", \"puts\", \"quel\", \"fidelity\", \"scrupled\", \"bracelet\", \"walnut\", \"expanse\", \"combine\", \"elements\", \"wheeled\", \"roved\", \"obviously\", \"burdened\", \"indicated\", \"appetite\", \"midsummer\", \"doctor\", \"pictures\", \"incapacity\", \"pas\", \"hunsden\", \"hand\", \"eyes\", \"john\", \"asked\", \"dr\", \"st\", \"table\", \"saw\", \"sir\", \"like\", \"frances\", \"closed\", \"came\", \"till\", \"forehead\", \"near\", \"time\", \"heart\", \"know\", \"little\", \"kind\", \"head\", \"good\", \"face\", \"night\", \"days\", \"answer\", \"thought\", \"tell\", \"better\", \"reject\", \"prepossession\", \"pompous\", \"sanctioned\", \"supplanted\", \"refusal\", \"apologise\", \"privately\", \"affording\", \"estates\", \"proposals\", \"corps\", \"atonement\", \"assiduous\", \"forgiveness\", \"humility\", \"fare\", \"gracechurch\", \"denny\", \"cruelly\", \"uniformly\", \"disregarded\", \"olive\", \"rascal\", \"despaired\", \"philosophic\", \"clapped\", \"injurious\", \"inattentive\", \"treasured\", \"extravagance\", \"likelihood\", \"unguarded\", \"lucases\", \"conscientious\", \"falls\", \"procured\", \"nieces\", \"longbourn\", \"collins\", \"lizzy\", \"cousin\", \"bennet\", \"profession\", \"gardiner\", \"relations\", \"catherine\", \"thousand\", \"robert\", \"man\", \"young\", \"father\", \"elizabeth\", \"darcy\", \"pride\", \"living\", \"pounds\", \"daughters\", \"marriage\", \"time\", \"motive\", \"certain\", \"amiable\", \"cried\", \"friend\", \"wickham\", \"thought\", \"family\", \"letter\", \"lady\", \"given\", \"shall\", \"good\", \"house\", \"having\", \"soon\", \"jane\", \"cooled\", \"crack\", \"raving\", \"restlessly\", \"unfit\", \"softest\", \"displeasing\", \"harmless\", \"practising\", \"recur\", \"spending\", \"quadrille\", \"chicken\", \"wanderings\", \"iii\", \"encumbrance\", \"jenkinson\", \"disown\", \"gifted\", \"cake\", \"unequivocal\", \"bracelet\", \"survive\", \"wouldn\", \"beef\", \"combine\", \"fight\", \"graces\", \"verbal\", \"delirious\", \"dumb\", \"causes\", \"averted\", \"ginevra\", \"wholesome\", \"snowe\", \"bretton\", \"dr\", \"mamma\", \"fanshawe\", \"graham\", \"lucy\", \"liking\", \"know\", \"evening\", \"preferred\", \"john\", \"little\", \"thought\", \"tea\", \"old\", \"saw\", \"ladies\", \"miss\", \"acquaintance\", \"good\", \"friends\", \"seen\", \"mother\", \"certainly\", \"boy\", \"think\", \"lady\", \"knew\", \"tell\", \"thing\", \"way\", \"young\", \"like\", \"toast\", \"famished\", \"portfolio\", \"generation\", \"tyrant\", \"scent\", \"needful\", \"villain\", \"deviation\", \"rascal\", \"beef\", \"wheeled\", \"lloyd\", \"weekly\", \"unlocked\", \"petit\", \"fervid\", \"feasted\", \"hostess\", \"spurned\", \"harass\", \"sprain\", \"frigid\", \"supplication\", \"liberally\", \"fragrant\", \"strikingly\", \"statement\", \"brutal\", \"pencilled\", \"meat\", \"discerned\", \"helen\", \"tray\", \"butter\", \"cups\", \"temple\", \"irritated\", \"bread\", \"hunsden\", \"tea\", \"crimsworth\", \"depth\", \"owing\", \"adele\", \"dirty\", \"property\", \"rang\", \"salary\", \"servant\", \"burns\", \"live\", \"bell\", \"table\", \"having\", \"miss\", \"nature\", \"come\", \"suppose\", \"little\", \"taken\", \"family\", \"heart\", \"eyes\", \"shall\", \"soon\", \"good\", \"looking\", \"till\", \"felt\", \"think\", \"impediment\", \"whitcross\", \"earthquake\", \"misunderstand\", \"insuperable\", \"scenery\", \"moors\", \"solve\", \"winning\", \"brightening\", \"aghast\", \"abandon\", \"surmises\", \"misty\", \"beckoned\", \"ornamented\", \"hazardous\", \"superfluous\", \"wondrous\", \"traverse\", \"visitation\", \"accorded\", \"monitor\", \"craving\", \"musings\", \"bands\", \"aspirations\", \"argue\", \"contemplate\", \"strangeness\", \"mason\", \"lawyer\", \"coach\", \"thousand\", \"moor\", \"diana\", \"justice\", \"pounds\", \"thornfield\", \"inn\", \"sisters\", \"marry\", \"explained\", \"mary\", \"journey\", \"repeat\", \"shook\", \"free\", \"labour\", \"st\", \"sign\", \"like\", \"recalled\", \"home\", \"want\", \"asked\", \"mere\", \"know\", \"shall\", \"thought\", \"yes\", \"john\", \"tell\", \"brother\", \"rochester\", \"jane\", \"heard\", \"soon\", \"house\", \"doubt\"], \"Total\": [1327.0, 1716.0, 1508.0, 1421.0, 819.0, 1130.0, 1344.0, 648.0, 1311.0, 907.0, 1298.0, 896.0, 700.0, 918.0, 668.0, 499.0, 640.0, 622.0, 922.0, 618.0, 829.0, 1062.0, 779.0, 591.0, 655.0, 758.0, 415.0, 495.0, 654.0, 321.0, 56.22085952758789, 31.115463256835938, 38.159950256347656, 22.02354621887207, 21.986913681030273, 24.022628784179688, 30.70768165588379, 22.0306396484375, 16.994699478149414, 19.00177764892578, 23.03215980529785, 28.049287796020508, 27.043243408203125, 40.002098083496094, 15.978689193725586, 17.945457458496094, 118.6988525390625, 15.961453437805176, 21.89501953125, 15.955028533935547, 14.953012466430664, 14.961333274841309, 14.967344284057617, 16.96070671081543, 14.967545509338379, 15.963263511657715, 13.96092414855957, 14.959527015686035, 16.98257827758789, 26.671613693237305, 30.87986946105957, 23.02131462097168, 18.98274803161621, 43.931358337402344, 23.94308090209961, 98.66458892822266, 78.12390899658203, 74.16188049316406, 145.5856170654297, 362.9299011230469, 98.78339385986328, 41.8733024597168, 36.96647644042969, 230.2469024658203, 74.69515228271484, 89.99327087402344, 51.20798110961914, 163.14686584472656, 58.90402603149414, 63.629581451416016, 135.3750762939453, 196.42222595214844, 151.22537231445312, 233.0754852294922, 626.9487915039062, 230.7372589111328, 174.22125244140625, 185.4749298095703, 115.3077392578125, 112.52727508544922, 237.90869140625, 502.4188232421875, 235.68942260742188, 309.6045837402344, 137.51344299316406, 256.2809753417969, 1327.8978271484375, 618.946044921875, 402.96453857421875, 184.42613220214844, 585.0203247070312, 327.2780456542969, 640.6218872070312, 706.02783203125, 540.8345947265625, 943.93896484375, 1130.953857421875, 410.1954345703125, 1716.6549072265625, 779.0613403320312, 478.0031433105469, 654.9921875, 1062.103515625, 758.746337890625, 643.16064453125, 829.058837890625, 1311.2825927734375, 1344.4163818359375, 1421.5594482421875, 890.5032958984375, 498.08294677734375, 498.4913635253906, 687.4267578125, 541.0234375, 896.0873413085938, 690.5781860351562, 1298.8740234375, 918.640625, 670.293701171875, 236.7879180908203, 579.8826904296875, 221.30589294433594, 37.599605560302734, 700.3701782226562, 39.79835891723633, 18.30204200744629, 28.56105613708496, 105.23603057861328, 148.0207061767578, 116.49942779541016, 37.60822296142578, 37.777469635009766, 20.33449363708496, 17.26112174987793, 31.599529266357422, 11.126201629638672, 12.131327629089355, 72.32282257080078, 91.34024810791016, 26.087289810180664, 131.47964477539062, 50.891754150390625, 311.1424560546875, 8.020280838012695, 8.01171588897705, 7.003516674041748, 12.111533164978027, 8.01717758178711, 7.000189781188965, 56.40845489501953, 179.00314331054688, 74.77880859375, 31.090682983398438, 131.22850036621094, 39.78147888183594, 253.12974548339844, 321.7683410644531, 648.1506958007812, 322.2577209472656, 598.0224609375, 415.8788757324219, 78.9096908569336, 308.3372802734375, 628.1259765625, 668.04736328125, 145.387939453125, 379.61029052734375, 379.80499267578125, 240.1829376220703, 922.4476928710938, 1508.101806640625, 1311.2825927734375, 347.3627624511719, 1298.8740234375, 1421.5594482421875, 820.7721557617188, 758.746337890625, 1344.4163818359375, 1062.103515625, 1716.6549072265625, 890.5032958984375, 679.4650268554688, 918.640625, 896.0873413085938, 15.828317642211914, 12.077415466308594, 13.018450736999512, 8.331768989562988, 7.386730670928955, 7.34841251373291, 5.494279861450195, 6.448163032531738, 5.5153350830078125, 8.249715805053711, 8.353228569030762, 7.287136554718018, 7.387538909912109, 22.45647621154785, 58.19932556152344, 13.044520378112793, 6.488231658935547, 6.477092266082764, 7.451404571533203, 5.257207870483398, 8.376255989074707, 5.316323757171631, 6.394196510314941, 5.496547698974609, 6.435953140258789, 10.8438720703125, 5.561964988708496, 7.376842498779297, 142.91107177734375, 7.087867736816406, 42.244598388671875, 25.311534881591797, 32.451988220214844, 40.88808059692383, 108.41593933105469, 48.892208099365234, 360.08355712890625, 907.8056640625, 24.507387161254883, 417.4307861328125, 366.5570373535156, 227.96871948242188, 819.6845092773438, 1508.101806640625, 104.28550720214844, 769.9446411132812, 76.35822296142578, 549.5061645507812, 579.9483032226562, 213.00657653808594, 296.6342468261719, 369.0299377441406, 591.0791625976562, 609.2368774414062, 69.01808166503906, 918.640625, 378.6990051269531, 1298.8740234375, 1421.5594482421875, 829.058837890625, 499.2794494628906, 405.5439147949219, 890.5032958984375, 820.7721557617188, 268.78857421875, 922.4476928710938, 1344.4163818359375, 592.448974609375, 1716.6549072265625, 621.6403198242188, 1311.2825927734375, 1327.8978271484375, 687.4267578125, 1130.953857421875, 1062.103515625, 679.4650268554688, 12.597075462341309, 25.060131072998047, 11.620362281799316, 14.497553825378418, 12.611539840698242, 9.658659934997559, 11.574254035949707, 9.66307544708252, 23.439292907714844, 6.702529430389404, 6.719428539276123, 38.17857360839844, 7.69041633605957, 6.7150092124938965, 71.51695251464844, 7.695187091827393, 8.536434173583984, 7.693504810333252, 6.7162981033325195, 5.7237935066223145, 117.33209228515625, 25.975196838378906, 5.737246513366699, 6.72142219543457, 19.936851501464844, 5.7392988204956055, 24.17997169494629, 9.679299354553223, 51.0937614440918, 63.08735275268555, 109.745849609375, 19.321300506591797, 17.551877975463867, 59.44401168823242, 31.378440856933594, 13.618942260742188, 31.186067581176758, 127.15180206298828, 39.290740966796875, 36.15660858154297, 85.04654693603516, 105.82585144042969, 23.50629997253418, 38.18714141845703, 107.93836975097656, 48.11979675292969, 184.15576171875, 283.76141357421875, 128.02442932128906, 410.1954345703125, 85.12501525878906, 120.79132843017578, 107.99839782714844, 227.35171508789062, 1716.6549072265625, 166.20648193359375, 1327.8978271484375, 247.43836975097656, 257.2971496582031, 540.8345947265625, 80.4114990234375, 890.5032958984375, 239.3364715576172, 618.946044921875, 379.80499267578125, 640.6218872070312, 1130.953857421875, 1298.8740234375, 1344.4163818359375, 585.3160400390625, 1062.103515625, 1508.101806640625, 1311.2825927734375, 1421.5594482421875, 498.4913635253906, 622.1375122070312, 547.0238037109375, 687.4267578125, 10.409854888916016, 7.5342206954956055, 5.629930019378662, 8.498682022094727, 81.95204162597656, 8.490262031555176, 13.243802070617676, 9.441828727722168, 9.526482582092285, 30.357315063476562, 13.485822677612305, 23.666086196899414, 30.3530216217041, 6.241571426391602, 5.6723151206970215, 14.136503219604492, 11.260783195495605, 19.354394912719727, 9.442453384399414, 55.95608901977539, 7.517092704772949, 6.564708709716797, 8.38284969329834, 35.08576965332031, 499.2794494628906, 7.627157688140869, 8.242691040039062, 39.13088607788086, 19.91680908203125, 13.24178695678711, 17.018095016479492, 48.49156188964844, 366.5570373535156, 417.4307861328125, 15.1647310256958, 296.6342468261719, 819.6845092773438, 369.0299377441406, 268.78857421875, 152.2996826171875, 118.60578918457031, 213.00657653808594, 430.9317626953125, 896.0873413085938, 227.96871948242188, 769.9446411132812, 199.98544311523438, 1344.4163818359375, 655.4854125976562, 1298.8740234375, 151.89781188964844, 336.38818359375, 470.6174621582031, 1508.101806640625, 1421.5594482421875, 268.84893798828125, 1716.6549072265625, 820.7721557617188, 495.85235595703125, 609.2368774414062, 579.9483032226562, 608.6253051757812, 1327.8978271484375, 1311.2825927734375, 1130.953857421875, 575.19140625, 918.640625, 66.54866790771484, 5.399454593658447, 21.685626983642578, 18.860065460205078, 5.395495891571045, 5.806008815765381, 5.68162727355957, 13.128758430480957, 13.155749320983887, 6.079170227050781, 10.568506240844727, 8.608292579650879, 8.368550300598145, 6.5463128089904785, 48.49156188964844, 6.596853256225586, 7.432550430297852, 6.709614276885986, 8.584177017211914, 10.656798362731934, 6.520548343658447, 9.622575759887695, 10.529875755310059, 13.208620071411133, 48.892208099365234, 152.2996826171875, 7.574332237243652, 6.699284553527832, 7.534695625305176, 5.593513488769531, 819.6845092773438, 369.0299377441406, 30.019014358520508, 296.6342468261719, 118.60578918457031, 360.08355712890625, 42.244598388671875, 499.2794494628906, 85.60088348388672, 366.5570373535156, 76.35822296142578, 36.020057678222656, 417.4307861328125, 142.91107177734375, 380.79144287109375, 268.78857421875, 30.179733276367188, 213.00657653808594, 769.9446411132812, 495.85235595703125, 1508.101806640625, 207.60641479492188, 533.9417724609375, 489.46807861328125, 430.9317626953125, 907.8056640625, 1298.8740234375, 1716.6549072265625, 1311.2825927734375, 579.9483032226562, 922.4476928710938, 1344.4163818359375, 1130.953857421875, 1421.5594482421875, 918.640625, 896.0873413085938, 1062.103515625, 820.7721557617188, 1327.8978271484375, 8.447911262512207, 8.451087951660156, 10.518909454345703, 5.593402862548828, 5.5628662109375, 7.491081714630127, 5.563004016876221, 7.327036380767822, 6.628942012786865, 10.39135456085205, 8.448813438415527, 10.569232940673828, 6.661200046539307, 9.58027458190918, 6.6431050300598145, 8.2977876663208, 5.754848480224609, 10.383042335510254, 5.526832103729248, 12.4912748336792, 5.706022262573242, 12.926270484924316, 5.593513488769531, 5.535548686981201, 12.452598571777344, 7.741297245025635, 9.61506175994873, 6.027853965759277, 5.225742816925049, 6.4474382400512695, 18.288297653198242, 15.1647310256958, 184.51824951171875, 90.8117904663086, 36.75078582763672, 22.829023361206055, 27.870803833007812, 117.42015838623047, 39.94667434692383, 27.54499626159668, 415.8788757324219, 53.5593376159668, 75.47621154785156, 648.1506958007812, 110.70230865478516, 177.86016845703125, 120.12327575683594, 213.00657653808594, 425.16845703125, 907.8056640625, 160.9236602783203, 115.33529663085938, 273.35089111328125, 59.62614822387695, 567.3375244140625, 261.47772216796875, 503.17724609375, 182.1205291748047, 277.13916015625, 199.98544311523438, 1421.5594482421875, 1298.8740234375, 379.61029052734375, 533.9417724609375, 227.96871948242188, 379.3541564941406, 896.0873413085938, 410.98895263671875, 1344.4163818359375, 1508.101806640625, 1311.2825927734375, 495.85235595703125, 922.4476928710938, 1716.6549072265625, 1130.953857421875, 455.9935302734375, 598.0224609375, 1062.103515625, 670.293701171875, 22.331356048583984, 36.5042724609375, 5.2786359786987305, 12.866385459899902, 160.9236602783203, 24.942224502563477, 28.238849639892578, 8.759125709533691, 51.82022476196289, 19.815242767333984, 5.303009986877441, 5.3393473625183105, 6.579885959625244, 93.6190414428711, 5.566317558288574, 5.63165283203125, 7.559009552001953, 5.9922261238098145, 9.626670837402344, 9.248383522033691, 6.498417854309082, 11.863377571105957, 7.544093608856201, 11.254997253417969, 6.032118320465088, 8.94737434387207, 5.938444137573242, 11.372576713562012, 5.954556941986084, 6.565361022949219, 184.51824951171875, 71.11033630371094, 149.8907012939453, 129.65972900390625, 90.8117904663086, 49.632755279541016, 88.3187484741211, 253.12974548339844, 85.50397491455078, 495.85235595703125, 131.62281799316406, 54.80319595336914, 668.04736328125, 41.04410934448242, 52.768165588378906, 243.6969451904297, 106.0504150390625, 50.74674987792969, 47.40558624267578, 168.9987030029297, 321.7683410644531, 609.2368774414062, 272.2884826660156, 648.1506958007812, 314.25042724609375, 598.0224609375, 922.4476928710938, 758.746337890625, 579.9483032226562, 379.61029052734375, 1421.5594482421875, 1298.8740234375, 820.7721557617188, 425.16845703125, 1344.4163818359375, 1311.2825927734375, 1716.6549072265625, 4.245892524719238, 4.869723320007324, 6.625194549560547, 5.021390914916992, 5.755512714385986, 10.400947570800781, 4.615603446960449, 6.92719030380249, 6.042764186859131, 5.101766109466553, 5.207880973815918, 7.872529029846191, 7.6592206954956055, 7.933812618255615, 6.104990482330322, 7.827917098999023, 5.18175745010376, 5.806008815765381, 5.838829040527344, 8.089174270629883, 5.9262919425964355, 18.57754135131836, 11.655364036560059, 4.969522476196289, 5.322944641113281, 5.303811073303223, 5.919742584228516, 6.049386501312256, 9.50564193725586, 12.339275360107422, 9.883841514587402, 11.585021018981934, 21.055227279663086, 10.939620971679688, 7.837925910949707, 28.95315933227539, 25.9523868560791, 106.97382354736328, 183.25230407714844, 23.533815383911133, 61.94147872924805, 591.0791625976562, 380.79144287109375, 478.0031433105469, 907.8056640625, 567.3375244140625, 1130.953857421875, 1327.8978271484375, 58.8204460144043, 29.433879852294922, 1344.4163818359375, 1716.6549072265625, 896.0873413085938, 53.283260345458984, 585.3160400390625, 276.0195617675781, 92.61309051513672, 127.15180206298828, 495.85235595703125, 549.5061645507812, 289.2513122558594, 207.60641479492188, 668.04736328125, 1311.2825927734375, 336.38818359375, 1298.8740234375, 504.4637756347656, 297.76031494140625, 383.2619934082031, 640.6218872070312, 655.4854125976562, 1421.5594482421875, 654.9921875, 918.640625, 758.746337890625, 779.0613403320312, 18.94192123413086, 26.938308715820312, 8.803974151611328, 8.756887435913086, 6.124781131744385, 5.064171314239502, 4.615603446960449, 8.95717716217041, 7.099931240081787, 7.985906600952148, 5.267690181732178, 5.3423051834106445, 5.233815670013428, 5.310469627380371, 5.348549842834473, 5.328612327575684, 7.16725492477417, 5.929582118988037, 17.44647979736328, 5.386651992797852, 6.285393238067627, 6.316903591156006, 6.2319536209106445, 6.258338451385498, 6.341611862182617, 4.974608898162842, 8.74276065826416, 9.110087394714355, 9.1467924118042, 9.736221313476562, 9.957441329956055, 53.23243713378906, 53.58119201660156, 58.38972091674805, 48.52729034423828, 227.35171508789062, 22.901649475097656, 14.967490196228027, 51.69266891479492, 304.95697021484375, 62.69015884399414, 44.87487030029297, 410.1954345703125, 502.4188232421875, 193.50607299804688, 1130.953857421875, 209.72683715820312, 1062.103515625, 1327.8978271484375, 1508.101806640625, 133.14295959472656, 585.3160400390625, 51.832977294921875, 896.0873413085938, 504.4637756347656, 943.93896484375, 145.5856170654297, 1298.8740234375, 1716.6549072265625, 618.946044921875, 654.9921875, 1421.5594482421875, 1311.2825927734375, 585.0203247070312, 622.1375122070312, 640.6218872070312, 511.1729736328125, 21.5213680267334, 5.100593090057373, 12.731884956359863, 15.168302536010742, 6.473488807678223, 9.869046211242676, 10.23100471496582, 7.13352632522583, 7.145661354064941, 7.16115140914917, 7.351263046264648, 7.416752338409424, 7.4345197677612305, 7.471792697906494, 15.15355396270752, 35.15403366088867, 8.324492454528809, 9.239105224609375, 9.3090181350708, 9.341221809387207, 9.461336135864258, 4.916006088256836, 9.673582077026367, 5.064171314239502, 5.087327003479004, 5.193502426147461, 10.227648735046387, 5.23402214050293, 5.278256893157959, 5.326349258422852, 10.51020622253418, 16.307113647460938, 24.02010154724121, 11.213665962219238, 48.451725006103516, 43.46186447143555, 11.357290267944336, 59.44401168823242, 145.5856170654297, 618.946044921875, 640.6218872070312, 622.1375122070312, 397.8524475097656, 227.35171508789062, 196.42222595214844, 236.3557891845703, 779.0613403320312, 591.0791625976562, 1327.8978271484375, 118.6988525390625, 115.41856384277344, 687.4267578125, 516.4188842773438, 63.78572463989258, 362.5655822753906, 1311.2825927734375, 654.9921875, 1421.5594482421875, 1716.6549072265625, 407.017822265625, 411.2630310058594, 1344.4163818359375, 502.4188232421875, 626.9487915039062, 288.9595642089844, 349.78851318359375, 1130.953857421875, 540.1329345703125, 608.6253051757812, 7.1013994216918945, 5.238368511199951, 5.336999416351318, 5.397218704223633, 5.256356716156006, 14.615752220153809, 7.970475673675537, 7.236702919006348, 7.198147773742676, 6.352776527404785, 16.116870880126953, 8.0916109085083, 7.20027494430542, 7.286900520324707, 12.338347434997559, 16.442583084106445, 8.728808403015137, 8.759125709533691, 11.863377571105957, 12.085250854492188, 7.5143938064575195, 9.19674015045166, 13.953679084777832, 5.062581539154053, 5.3393473625183105, 5.399454593658447, 5.3675408363342285, 5.152284145355225, 5.397067070007324, 5.334379196166992, 14.893617630004883, 10.825401306152344, 9.531909942626953, 14.570110321044922, 11.143331527709961, 11.263258934020996, 23.775493621826172, 12.834019660949707, 85.50397491455078, 179.00314331054688, 92.61309051513672, 90.988525390625, 321.7683410644531, 34.65153503417969, 90.8117904663086, 64.5836410522461, 131.47964477539062, 129.65972900390625, 75.47621154785156, 896.0873413085938, 655.4854125976562, 495.85235595703125, 648.1506958007812, 415.8788757324219, 124.79930114746094, 171.68336486816406, 93.6190414428711, 106.0504150390625, 182.1205291748047, 1311.2825927734375, 45.173946380615234, 340.28289794921875, 102.67189025878906, 367.1297607421875, 430.9317626953125, 184.51824951171875, 1130.953857421875, 379.61029052734375, 425.16845703125, 628.1259765625, 329.4693298339844, 918.640625, 1344.4163818359375, 758.746337890625, 533.9417724609375, 922.4476928710938, 907.8056640625, 5.245938301086426, 5.3219075202941895, 5.95667028427124, 5.365143299102783, 9.995149612426758, 5.330909252166748, 5.329708576202393, 6.828141212463379, 7.140892505645752, 6.2573137283325195, 14.835474967956543, 7.377807140350342, 8.071062088012695, 8.131149291992188, 8.124531745910645, 4.14381217956543, 9.4442720413208, 9.343171119689941, 7.397740840911865, 26.160400390625, 4.958073616027832, 9.673582077026367, 5.079713344573975, 10.20274543762207, 5.113984107971191, 5.193502426147461, 9.112268447875977, 15.351295471191406, 5.377077102661133, 10.35518741607666, 16.652029037475586, 11.744208335876465, 8.971915245056152, 107.93836975097656, 17.352598190307617, 58.22013854980469, 239.3364715576172, 227.35171508789062, 66.5367202758789, 85.12501525878906, 222.82196044921875, 379.80499267578125, 19.613689422607422, 1421.5594482421875, 487.59442138671875, 32.983184814453125, 622.1375122070312, 1716.6549072265625, 1130.953857421875, 134.2611083984375, 478.0031433105469, 779.0613403320312, 266.7713928222656, 1508.101806640625, 242.45904541015625, 1344.4163818359375, 309.3065490722656, 446.63671875, 668.04736328125, 331.6773681640625, 66.84110260009766, 1298.8740234375, 628.1259765625, 547.0238037109375, 540.1329345703125, 769.9446411132812, 690.5781860351562, 655.4854125976562, 1327.8978271484375, 7.262437343597412, 6.366900444030762, 7.13352632522583, 5.643273830413818, 17.408401489257812, 6.775894641876221, 11.533502578735352, 7.982430458068848, 5.022480010986328, 5.062581539154053, 5.113984107971191, 5.23402214050293, 10.400947570800781, 5.411642074584961, 5.405587673187256, 5.355618000030518, 5.4696574211120605, 5.472438812255859, 5.481984615325928, 5.4843010902404785, 5.390500545501709, 5.462625026702881, 5.465060710906982, 5.9922261238098145, 6.027853965759277, 6.1849822998046875, 6.14874267578125, 6.302147388458252, 6.390886306762695, 6.399017333984375, 19.47740364074707, 12.670706748962402, 58.38972091674805, 21.68870735168457, 14.822531700134277, 13.968866348266602, 72.29339599609375, 24.832487106323242, 71.47959899902344, 145.5856170654297, 134.2611083984375, 98.78339385986328, 18.180089950561523, 19.85712242126465, 135.3750762939453, 22.145458221435547, 44.80959701538086, 51.029720306396484, 23.837297439575195, 120.94010162353516, 26.938308715820312, 212.2682647705078, 108.19698333740234, 236.3557891845703, 533.9417724609375, 1508.101806640625, 310.1358642578125, 829.058837890625, 341.96533203125, 1716.6549072265625, 251.48165893554688, 379.61029052734375, 654.9921875, 640.6218872070312, 918.640625, 922.4476928710938, 1344.4163818359375, 375.17779541015625, 516.4188842773438, 670.293701171875, 1298.8740234375, 6.996979713439941, 9.12115478515625, 5.0672221183776855, 6.905544281005859, 6.05501651763916, 4.974608898162842, 10.052071571350098, 5.199023723602295, 5.322154998779297, 5.3507399559021, 5.384553909301758, 5.425997734069824, 5.366927146911621, 5.433419704437256, 5.444825649261475, 5.391183853149414, 6.180393695831299, 6.228762149810791, 6.3534979820251465, 6.424167633056641, 6.424143314361572, 6.445633411407471, 6.4526777267456055, 6.445971488952637, 6.42075252532959, 6.45009183883667, 6.449971675872803, 7.1719465255737305, 7.317904472351074, 7.3313751220703125, 56.88492965698242, 10.123547554016113, 40.55570602416992, 129.65972900390625, 27.763099670410156, 74.16188049316406, 86.37464141845703, 93.6190414428711, 98.66458892822266, 43.18364334106445, 183.25230407714844, 199.98544311523438, 45.04185104370117, 149.4157257080078, 78.7696762084961, 34.43850326538086, 85.91012573242188, 87.57073211669922, 31.219850540161133, 196.42222595214844, 33.39339065551758, 1327.8978271484375, 33.58161926269531, 489.46807861328125, 321.7312927246094, 397.8524475097656, 116.13318634033203, 1421.5594482421875, 918.640625, 1130.953857421875, 592.448974609375, 622.1375122070312, 540.1329345703125, 284.6666259765625, 362.9299011230469, 907.8056640625, 621.6403198242188, 922.4476928710938, 758.746337890625, 313.73272705078125], \"loglift\": [30.0, 29.0, 28.0, 27.0, 26.0, 25.0, 24.0, 23.0, 22.0, 21.0, 20.0, 19.0, 18.0, 17.0, 16.0, 15.0, 14.0, 13.0, 12.0, 11.0, 10.0, 9.0, 8.0, 7.0, 6.0, 5.0, 4.0, 3.0, 2.0, 1.0, 0.8375999927520752, 0.8263000249862671, 0.8238000273704529, 0.822700023651123, 0.820900022983551, 0.8199999928474426, 0.8190000057220459, 0.8176000118255615, 0.8169999718666077, 0.8151999711990356, 0.8148999810218811, 0.8148000240325928, 0.8140000104904175, 0.8133000135421753, 0.8116999864578247, 0.810699999332428, 0.8097000122070312, 0.8093000054359436, 0.8091999888420105, 0.8091999888420105, 0.8083999752998352, 0.8076000213623047, 0.8076000213623047, 0.8068000078201294, 0.8065000176429749, 0.8064000010490417, 0.805899977684021, 0.8057000041007996, 0.8052999973297119, 0.8048999905586243, 0.8016999959945679, 0.8036999702453613, 0.8029999732971191, 0.7821999788284302, 0.7947999835014343, 0.7516000270843506, 0.7560999989509583, 0.7537999749183655, 0.7178999781608582, 0.6680999994277954, 0.7328000068664551, 0.7692999839782715, 0.7745000123977661, 0.6754000186920166, 0.7373999953269958, 0.722000002861023, 0.755299985408783, 0.6796000003814697, 0.743399977684021, 0.7376999855041504, 0.6837000250816345, 0.6503000259399414, 0.6711000204086304, 0.631600022315979, 0.539900004863739, 0.628600001335144, 0.6478999853134155, 0.630299985408783, 0.6776999831199646, 0.6784999966621399, 0.6035000085830688, 0.5051000118255615, 0.5823000073432922, 0.5450000166893005, 0.6413999795913696, 0.5576000213623047, 0.32109999656677246, 0.4242999851703644, 0.48159998655319214, 0.5845000147819519, 0.3643999993801117, 0.4648999869823456, 0.3224000036716461, 0.2912999987602234, 0.3483000099658966, 0.2029999941587448, 0.13899999856948853, 0.3808000087738037, -0.020999999716877937, 0.18150000274181366, 0.3176000118255615, 0.21299999952316284, 0.04780000075697899, 0.11729999631643295, 0.15960000455379486, 0.059300001710653305, -0.15610000491142273, -0.17139999568462372, -0.23149999976158142, -0.03460000082850456, 0.24500000476837158, 0.2345999926328659, 0.03500000014901161, 0.16910000145435333, -0.15240000188350677, -9.999999747378752e-05, -0.48399999737739563, -0.22589999437332153, 0.0032999999821186066, 1.6059999465942383, 1.6052000522613525, 1.597100019454956, 1.5893000364303589, 1.5851000547409058, 1.5831999778747559, 1.5791000127792358, 1.5788999795913696, 1.5787999629974365, 1.5786999464035034, 1.573199987411499, 1.5716999769210815, 1.5714000463485718, 1.5694999694824219, 1.565000057220459, 1.562399983406067, 1.5612000226974487, 1.5455000400543213, 1.5439000129699707, 1.5433000326156616, 1.5399999618530273, 1.5305999517440796, 1.527899980545044, 1.5211999416351318, 1.5204999446868896, 1.5170999765396118, 1.5154999494552612, 1.5144000053405762, 1.5120999813079834, 1.5094000101089478, 1.50600004196167, 1.4936000108718872, 1.5003000497817993, 1.5084999799728394, 1.479699969291687, 1.5011999607086182, 1.4603999853134155, 1.4235999584197998, 1.3876999616622925, 1.4062000513076782, 1.3539999723434448, 1.3568999767303467, 1.445199966430664, 1.1974999904632568, 0.9018999934196472, 0.8756999969482422, 1.2066999673843384, 0.8795999884605408, 0.8745999932289124, 1.007699966430664, 0.5289999842643738, 0.3422999978065491, 0.26499998569488525, 0.8118000030517578, 0.10999999940395355, 0.039799999445676804, 0.2973000109195709, 0.33379998803138733, -0.04699999839067459, 0.07020000368356705, -0.31929999589920044, 0.1324000060558319, 0.2680000066757202, 0.013199999928474426, -0.007799999788403511, 2.0982000827789307, 2.0945000648498535, 2.085599899291992, 2.0669000148773193, 2.0485000610351562, 2.0450000762939453, 2.009500026702881, 2.0034000873565674, 1.9375, 1.937399983406067, 1.930899977684021, 1.9053000211715698, 1.8913999795913696, 1.8769999742507935, 1.871000051498413, 1.854599952697754, 1.8483999967575073, 1.8452999591827393, 1.8451999425888062, 1.8379000425338745, 1.8282999992370605, 1.8242000341415405, 1.823099970817566, 1.8072999715805054, 1.8021999597549438, 1.7970000505447388, 1.7888000011444092, 1.7726000547409058, 1.770400047302246, 1.7616000175476074, 1.7526999711990356, 1.7510000467300415, 1.7272000312805176, 1.6787999868392944, 1.590399980545044, 1.6495000123977661, 1.458899974822998, 1.3001999855041504, 1.6875, 1.3043999671936035, 1.319200038909912, 1.3797999620437622, 1.1670000553131104, 1.0561000108718872, 1.4577000141143799, 1.1155999898910522, 1.495300054550171, 1.131600022315979, 1.1058000326156616, 1.2961000204086304, 1.1799999475479126, 1.128600001335144, 0.995199978351593, 0.9309999942779541, 1.4723000526428223, 0.7281000018119812, 0.970300018787384, 0.5920000076293945, 0.5576000213623047, 0.6362000107765198, 0.8061000108718872, 0.8755000233650208, 0.5835999846458435, 0.6064000129699707, 1.0211999416351318, 0.5351999998092651, 0.3718000054359436, 0.7009999752044678, 0.1031000018119812, 0.623199999332428, 0.17649999260902405, -0.07519999891519547, 0.4397999942302704, 0.014299999922513962, 0.05999999865889549, 0.42829999327659607, 2.438999891281128, 2.4333999156951904, 2.4328999519348145, 2.4209001064300537, 2.418800115585327, 2.418100118637085, 2.4114999771118164, 2.396699905395508, 2.388000011444092, 2.385200023651123, 2.3845999240875244, 2.3838999271392822, 2.3812999725341797, 2.38100004196167, 2.379499912261963, 2.3778998851776123, 2.370500087738037, 2.3654000759124756, 2.363600015640259, 2.360599994659424, 2.359600067138672, 2.3582000732421875, 2.3578999042510986, 2.3506999015808105, 2.350100040435791, 2.350100040435791, 2.349400043487549, 2.3485000133514404, 2.348299980163574, 2.3469998836517334, 2.345900058746338, 2.3459999561309814, 2.3452000617980957, 2.3224000930786133, 2.3043999671936035, 2.3352999687194824, 2.2901999950408936, 2.1928999423980713, 2.250200033187866, 2.245800018310547, 2.1607000827789307, 2.111599922180176, 2.2639000415802, 2.1686999797821045, 1.979200005531311, 2.1201999187469482, 1.8329999446868896, 1.7178000211715698, 1.7977999448776245, 1.4349000453948975, 1.8890999555587769, 1.770900011062622, 1.7770999670028687, 1.5240000486373901, 0.5559999942779541, 1.3485000133514404, 0.251800000667572, 1.0684000253677368, 1.0156999826431274, 0.5580999851226807, 1.7116999626159668, 0.20340000092983246, 1.0292999744415283, 0.4004000127315521, 0.7028999924659729, 0.3393999934196472, -0.06989999860525131, -0.19939999282360077, -0.2563999891281128, 0.374099999666214, -0.12809999287128448, -0.4560999870300293, -0.3398999869823456, -0.47780001163482666, 0.44510000944137573, 0.21850000321865082, 0.31220000982284546, 0.07450000196695328, 2.8701000213623047, 2.842400074005127, 2.8022000789642334, 2.797600030899048, 2.7955000400543213, 2.791800022125244, 2.7441999912261963, 2.640399932861328, 2.637500047683716, 2.5769999027252197, 2.5629000663757324, 2.5459001064300537, 2.544800043106079, 2.5264999866485596, 2.509999990463257, 2.411799907684326, 2.396199941635132, 2.3703999519348145, 2.3635001182556152, 2.3624000549316406, 2.3417999744415283, 2.341599941253662, 2.3245999813079834, 2.3229000568389893, 2.3176000118255615, 2.31469988822937, 2.3092000484466553, 2.2883999347686768, 2.28439998626709, 2.2832000255584717, 2.2788000106811523, 2.237499952316284, 1.9739999771118164, 1.906999945640564, 2.25819993019104, 1.898900032043457, 1.7157000303268433, 1.739799976348877, 1.7798999547958374, 1.8621000051498413, 1.7264000177383423, 1.5541000366210938, 1.2307000160217285, 0.9670000076293945, 1.438099980354309, 0.9072999954223633, 1.423699975013733, 0.6583999991416931, 0.9383000135421753, 0.6421999931335449, 1.5327999591827393, 1.1466000080108643, 0.9736999869346619, 0.34369999170303345, 0.35120001435279846, 1.207900047302246, 0.15029999613761902, 0.5426999926567078, 0.8349000215530396, 0.6353999972343445, 0.646399974822998, 0.5996999740600586, 0.02879999950528145, 0.031700000166893005, 0.09549999982118607, 0.6118999719619751, 0.06909999996423721, 2.7448999881744385, 2.5641000270843506, 2.5397000312805176, 2.536600112915039, 2.526700019836426, 2.5129001140594482, 2.512200117111206, 2.5090999603271484, 2.500499963760376, 2.487799882888794, 2.414400100708008, 2.3884999752044678, 2.3738999366760254, 2.3726999759674072, 2.3501999378204346, 2.34879994392395, 2.3475000858306885, 2.3447999954223633, 2.3399999141693115, 2.3059000968933105, 2.301800012588501, 2.2892000675201416, 2.2839999198913574, 2.2660000324249268, 2.259000062942505, 2.255000114440918, 2.247999906539917, 2.2471001148223877, 2.245800018310547, 2.228100061416626, 2.0769999027252197, 2.0720999240875244, 2.143899917602539, 1.919600009918213, 1.951300024986267, 1.7791999578475952, 2.069000005722046, 1.6825000047683716, 1.9420000314712524, 1.6444000005722046, 1.9179999828338623, 2.035599946975708, 1.483199954032898, 1.626099944114685, 1.3055000305175781, 1.3934999704360962, 2.026400089263916, 1.440999984741211, 1.0475000143051147, 1.0906000137329102, 0.710099995136261, 1.2899999618530273, 0.8959000110626221, 0.8998000025749207, 0.9156000018119812, 0.5580999851226807, 0.3822999894618988, 0.23469999432563782, 0.305400013923645, 0.7049999833106995, 0.3939000070095062, 0.14419999718666077, 0.1776999980211258, 0.012600000016391277, 0.31200000643730164, 0.2799000144004822, 0.0632999986410141, 0.2736999988555908, -0.21660000085830688, 2.957200050354004, 2.953700065612793, 2.9054999351501465, 2.8480000495910645, 2.8060998916625977, 2.7474000453948975, 2.7416000366210938, 2.7044999599456787, 2.669100046157837, 2.663300037384033, 2.645699977874756, 2.6296000480651855, 2.615600109100342, 2.575500011444092, 2.571199893951416, 2.551100015640259, 2.541599988937378, 2.523200035095215, 2.5037999153137207, 2.4941999912261963, 2.490999937057495, 2.4781999588012695, 2.4760000705718994, 2.4746999740600586, 2.4707000255584717, 2.4704999923706055, 2.4484000205993652, 2.444000005722046, 2.408600091934204, 2.407599925994873, 2.384200096130371, 2.3742001056671143, 2.234600067138672, 2.2551000118255615, 2.273200035095215, 2.298099994659424, 2.226900100708008, 1.9470000267028809, 2.1540000438690186, 2.18969988822937, 1.510699987411499, 2.0025999546051025, 1.8811999559402466, 1.1353000402450562, 1.7157000303268433, 1.5532000064849854, 1.6763999462127686, 1.4699000120162964, 1.1578999757766724, 0.8281000256538391, 1.5018999576568604, 1.6211999654769897, 1.2698999643325806, 1.8710999488830566, 0.8799999952316284, 1.2019000053405762, 0.909500002861023, 1.3487000465393066, 1.1448999643325806, 1.2342000007629395, 0.2612999975681305, 0.27630001306533813, 0.9017000198364258, 0.6593000292778015, 1.1348999738693237, 0.8259000182151794, 0.3109999895095825, 0.758899986743927, 0.019600000232458115, -0.08479999750852585, -0.04490000009536743, 0.6150000095367432, 0.1265999972820282, -0.3659999966621399, -0.052799999713897705, 0.6237999796867371, 0.3752000033855438, -0.16519999504089355, 0.23309999704360962, 4.06279993057251, 3.6946001052856445, 3.5272998809814453, 3.498699903488159, 3.424999952316284, 3.394399881362915, 3.3080999851226807, 3.2881999015808105, 3.206399917602539, 3.1749000549316406, 3.1185998916625977, 3.113600015640259, 3.1082000732421875, 3.0943000316619873, 3.0875000953674316, 3.0213000774383545, 3.0028998851776123, 2.9647998809814453, 2.941699981689453, 2.9337000846862793, 2.932499885559082, 2.9275999069213867, 2.9275999069213867, 2.92549991607666, 2.903899908065796, 2.900599956512451, 2.885499954223633, 2.8835999965667725, 2.8803999423980713, 2.8510000705718994, 2.830199956893921, 2.828900098800659, 2.701900005340576, 2.6468000411987305, 2.6222000122070312, 2.6143999099731445, 2.4268999099731445, 2.072000026702881, 2.3431999683380127, 1.8007999658584595, 2.1373000144958496, 2.398200035095215, 1.5923000574111938, 2.466099977493286, 2.3661000728607178, 1.8366999626159668, 2.077699899673462, 2.339900016784668, 2.361999988555908, 1.819100022315979, 1.5341999530792236, 1.035599946975708, 1.444599986076355, 0.9660000205039978, 1.3485000133514404, 0.8719000220298767, 0.5354999899864197, 0.6460999846458435, 0.8119000196456909, 1.1196000576019287, 0.1031000018119812, 0.09860000014305115, 0.43209999799728394, 0.9846000075340271, -0.08959999680519104, -0.07670000195503235, -0.3479999899864197, 4.376699924468994, 3.7381999492645264, 3.64520001411438, 3.5855000019073486, 3.52239990234375, 3.496500015258789, 3.4093000888824463, 3.406399965286255, 3.3940000534057617, 3.3850998878479004, 3.2952001094818115, 3.2597999572753906, 3.2539000511169434, 3.2423999309539795, 3.222100019454956, 3.212399959564209, 3.206899881362915, 3.1751999855041504, 3.166599988937378, 3.1658999919891357, 3.162400007247925, 3.1547999382019043, 3.141200065612793, 3.1340999603271484, 3.1273000240325928, 3.115999937057495, 3.0913000106811523, 3.08870005607605, 3.088599920272827, 3.0871999263763428, 3.0306999683380127, 2.9935998916625977, 2.8225998878479004, 2.9639999866485596, 3.0281999111175537, 2.649399995803833, 2.5766000747680664, 1.9905999898910522, 1.7590999603271484, 2.5920000076293945, 2.1679000854492188, 1.1663000583648682, 1.2699999809265137, 1.070099949836731, 0.7189000248908997, 0.9192000031471252, 0.4641000032424927, 0.35899999737739563, 2.0569000244140625, 2.4558000564575195, 0.210999995470047, -0.014100000262260437, 0.3483000099658966, 2.0613999366760254, 0.541700005531311, 0.9922000169754028, 1.6958999633789062, 1.4630000591278076, 0.54830002784729, 0.41440001130104065, 0.8428999781608582, 1.0791000127792358, 0.21320000290870667, -0.28700000047683716, 0.7081000208854675, -0.30660000443458557, 0.38609999418258667, 0.7960000038146973, 0.5806999802589417, 0.1624000072479248, 0.13459999859333038, -0.5206000208854675, 0.12449999898672104, -0.17970000207424164, -0.021400000900030136, -0.14309999346733093, 4.314199924468994, 4.002799987792969, 3.5589001178741455, 3.5566999912261963, 3.493799924850464, 3.4772000312805176, 3.4723000526428223, 3.4138998985290527, 3.400599956512451, 3.396699905395508, 3.3673999309539795, 3.3515000343322754, 3.3326001167297363, 3.3264000415802, 3.303999900817871, 3.2920000553131104, 3.2646000385284424, 3.2464001178741455, 3.2227001190185547, 3.2177999019622803, 3.210200071334839, 3.208400011062622, 3.1956000328063965, 3.1933999061584473, 3.1886000633239746, 3.178100109100342, 3.176100015640259, 3.1658999919891357, 3.161099910736084, 3.140000104904175, 3.1256000995635986, 2.6905999183654785, 2.588200092315674, 2.5388998985290527, 2.552299976348877, 1.5403000116348267, 2.6129000186920166, 2.810800075531006, 2.191200017929077, 1.294100046157837, 2.063699960708618, 2.2116000652313232, 0.9391999840736389, 0.8152999877929688, 1.3128000497817993, 0.2459000051021576, 1.2496999502182007, 0.2214999943971634, 0.06430000066757202, -0.0746999979019165, 1.4430999755859375, 0.4438000023365021, 2.024399995803833, 0.1039000004529953, 0.4814999997615814, 0.047200001776218414, 1.3014999628067017, -0.26249998807907104, -0.46880000829696655, 0.24740000069141388, 0.17829999327659607, -0.42089998722076416, -0.40869998931884766, 0.19689999520778656, 0.11050000041723251, 0.07360000163316727, 0.24169999361038208, 3.8522000312805176, 3.7083001136779785, 3.5959999561309814, 3.5481998920440674, 3.5016000270843506, 3.474100112915039, 3.4370999336242676, 3.4022998809814453, 3.4019999504089355, 3.398099899291992, 3.3740999698638916, 3.3612000942230225, 3.358599901199341, 3.356300115585327, 3.325700044631958, 3.286900043487549, 3.2471001148223877, 3.1414999961853027, 3.1393001079559326, 3.1324000358581543, 3.1212000846862793, 3.11299991607666, 3.098400115966797, 3.0885000228881836, 3.081399917602539, 3.0601999759674072, 3.045300006866455, 3.0429999828338623, 3.0423998832702637, 3.0336999893188477, 3.009700059890747, 2.972399950027466, 2.8664000034332275, 2.9512999057769775, 2.7197999954223633, 2.705199956893921, 2.9381000995635986, 2.378999948501587, 1.8573999404907227, 1.0191999673843384, 0.9290000200271606, 0.8740000128746033, 1.0753999948501587, 1.3166999816894531, 1.3307000398635864, 1.1777000427246094, 0.4458000063896179, 0.5819000005722046, -0.0010999999940395355, 1.5576000213623047, 1.5480999946594238, 0.3310000002384186, 0.5199999809265137, 1.9306999444961548, 0.7376000285148621, -0.18209999799728394, 0.289900004863739, -0.263700008392334, -0.4165000021457672, 0.6202999949455261, 0.6090999841690063, -0.3093999922275543, 0.4072999954223633, 0.179299995303154, 0.8073999881744385, 0.6035000085830688, -0.5042999982833862, 0.19460000097751617, 0.0706000030040741, 3.765199899673462, 3.670799970626831, 3.651099920272827, 3.6373000144958496, 3.5185000896453857, 3.5136001110076904, 3.371299982070923, 3.338599920272827, 3.316200017929077, 3.315000057220459, 3.3006999492645264, 3.2276999950408936, 3.211899995803833, 3.1921000480651855, 3.184799909591675, 3.165299892425537, 3.157399892807007, 3.1572000980377197, 3.1559998989105225, 3.1117000579833984, 3.1089999675750732, 3.085599899291992, 3.083199977874756, 3.0404999256134033, 2.9918999671936035, 2.989300012588501, 2.9881999492645264, 2.986999988555908, 2.9795000553131104, 2.974600076675415, 2.9423999786376953, 2.9502999782562256, 2.955199956893921, 2.8849000930786133, 2.9142000675201416, 2.908799886703491, 2.8127999305725098, 2.8877999782562256, 2.564300060272217, 2.414099931716919, 2.4465999603271484, 2.3317999839782715, 1.9246000051498413, 2.587599992752075, 2.2414000034332275, 2.3461999893188477, 2.0660998821258545, 2.035599946975708, 2.220599889755249, 1.103600025177002, 1.1850999593734741, 1.3143999576568604, 1.1784000396728516, 1.3073999881744385, 1.8658000230789185, 1.691100001335144, 2.003700017929077, 1.930299997329712, 1.617799997329712, 0.3955000042915344, 2.387399911880493, 1.152899980545044, 1.871500015258789, 0.9990000128746033, 0.8888000249862671, 1.441100001335144, 0.18440000712871552, 0.9282000064849854, 0.8302000164985657, 0.4918000102043152, 0.9416999816894531, 0.08940000087022781, -0.31029999256134033, 0.18950000405311584, 0.4668999910354614, -0.03359999880194664, -0.05400000140070915, 3.782900094985962, 3.693000078201294, 3.652600049972534, 3.628999948501587, 3.611299991607666, 3.559999942779541, 3.5432000160217285, 3.483099937438965, 3.4718000888824463, 3.4553000926971436, 3.400899887084961, 3.3526999950408936, 3.3477001190185547, 3.344099998474121, 3.335400104522705, 3.3269999027252197, 3.274899959564209, 3.2049999237060547, 3.188699960708618, 3.1842000484466553, 3.172300100326538, 3.1631999015808105, 3.1565001010894775, 3.1445999145507812, 3.1440999507904053, 3.132200002670288, 3.1124000549316406, 3.1059999465942383, 3.0987000465393066, 3.097399950027466, 3.0952000617980957, 3.055000066757202, 3.0792999267578125, 2.709199905395508, 2.981800079345703, 2.7792999744415283, 2.3052000999450684, 2.3096001148223877, 2.5961999893188477, 2.312299966812134, 1.8638999462127686, 1.4947999715805054, 2.8136000633239746, 0.4936999976634979, 1.0383000373840332, 2.509999990463257, 0.789900004863739, 0.16940000653266907, 0.3986999988555908, 1.6646000146865845, 0.8603000044822693, 0.5425000190734863, 1.205299973487854, 0.10899999737739563, 1.250499963760376, 0.16110000014305115, 1.073099970817566, 0.7953000068664551, 0.5184999704360962, 0.9714000225067139, 2.04229998588562, -0.07289999723434448, 0.43880000710487366, 0.48910000920295715, 0.47909998893737793, 0.1906999945640564, 0.25040000677108765, 0.2946000099182129, -0.4027999937534332, 4.7342000007629395, 4.53439998626709, 4.453199863433838, 4.309000015258789, 4.260200023651123, 4.126200199127197, 3.9911999702453613, 3.9628000259399414, 3.762700080871582, 3.759000062942505, 3.7467000484466553, 3.7218000888824463, 3.69950008392334, 3.691200017929077, 3.6898999214172363, 3.6846001148223877, 3.6810998916625977, 3.6798999309539795, 3.674999952316284, 3.672600030899048, 3.672499895095825, 3.6194000244140625, 3.613100051879883, 3.5875000953674316, 3.584399938583374, 3.55649995803833, 3.5515999794006348, 3.535399913787842, 3.5281999111175537, 3.5244998931884766, 3.5164999961853027, 3.5002999305725098, 3.2435998916625977, 3.3589000701904297, 3.4130001068115234, 3.403899908065796, 3.003999948501587, 3.2244999408721924, 2.8766000270843506, 2.6623001098632812, 2.2423999309539795, 2.367500066757202, 3.0945000648498535, 3.031100034713745, 2.0394999980926514, 2.9433999061584473, 2.556299924850464, 2.439500093460083, 2.8708999156951904, 1.9278000593185425, 2.7976999282836914, 1.5954999923706055, 1.9809999465942383, 1.4407999515533447, 0.819100022315979, 0.07890000194311142, 1.1419999599456787, 0.4205999970436096, 0.9144999980926514, -0.43369999527931213, 1.11080002784729, 0.7609999775886536, 0.2775999903678894, 0.2944999933242798, -0.050999999046325684, -0.09049999713897705, -0.4803999960422516, 0.6895999908447266, 0.36890000104904175, 0.02449999935925007, -0.6470000147819519, 4.848599910736084, 4.607999801635742, 4.4293999671936035, 4.2027997970581055, 4.167099952697754, 3.867300033569336, 3.8282999992370605, 3.8241000175476074, 3.8029000759124756, 3.7960000038146973, 3.7869999408721924, 3.7843000888824463, 3.7832000255584717, 3.781100034713745, 3.772200107574463, 3.756700038909912, 3.6531999111175537, 3.6440000534057617, 3.6305999755859375, 3.613800048828125, 3.6131999492645264, 3.6089000701904297, 3.6082000732421875, 3.6078999042510986, 3.6078999042510986, 3.6064999103546143, 3.6061999797821045, 3.501800060272217, 3.484299898147583, 3.4772000312805176, 3.454900026321411, 3.4618000984191895, 3.3343000411987305, 2.8773999214172363, 3.2079999446868896, 2.9096999168395996, 2.7560999393463135, 2.5357000827789307, 2.4674999713897705, 2.7706000804901123, 2.0127999782562256, 1.750100016593933, 2.564199924468994, 1.8144999742507935, 2.1698999404907227, 2.66129994392395, 2.086400032043457, 2.0678000450134277, 2.700000047683716, 1.5425000190734863, 2.634399890899658, 0.23270000517368317, 2.621000051498413, 0.8664000034332275, 1.132099986076355, 0.9725000262260437, 1.7913999557495117, 0.06030000001192093, 0.2913999855518341, 0.06840000301599503, 0.5212000012397766, 0.4586000144481659, 0.5453000068664551, 1.0443999767303467, 0.7822999954223633, -0.1680999994277954, 0.1770000010728836, -0.2305999994277954, -0.04129999876022339, 0.8191999793052673], \"logprob\": [30.0, 29.0, 28.0, 27.0, 26.0, 25.0, 24.0, 23.0, 22.0, 21.0, 20.0, 19.0, 18.0, 17.0, 16.0, 15.0, 14.0, 13.0, 12.0, 11.0, 10.0, 9.0, 8.0, 7.0, 6.0, 5.0, 4.0, 3.0, 2.0, 1.0, -7.788400173187256, -8.391400337219238, -8.18970012664795, -8.740599632263184, -8.744000434875488, -8.656299591064453, -8.411800384521484, -8.74530029296875, -9.005399703979492, -8.895700454711914, -8.70359992980957, -8.506600379943848, -8.543899536132812, -8.15310001373291, -9.072400093078613, -8.957300186157227, -7.068999767303467, -9.075900077819824, -8.759900093078613, -9.076399803161621, -9.142000198364258, -9.142200469970703, -9.141900062561035, -9.017600059509277, -9.142999649047852, -9.07859992980957, -9.21310043334961, -9.14430046081543, -9.017900466918945, -8.566900253295898, -8.423600196838379, -8.715299606323242, -8.908900260925293, -8.090499877929688, -8.684800148010254, -7.311999797821045, -7.540999889373779, -7.595300197601318, -6.956699848175049, -6.0929999351501465, -7.329599857330322, -8.151399612426758, -8.27079963684082, -6.540800094604492, -7.604599952697754, -7.433599948883057, -7.964200019836426, -6.881100177764893, -7.835999965667725, -7.764500141143799, -7.063600063323975, -6.724800109863281, -6.9654998779296875, -6.572400093078613, -5.674600124359131, -6.5854997634887695, -6.8471999168396, -6.80210018157959, -7.230100154876709, -7.253600120544434, -6.579999923706055, -5.930799961090088, -6.610499858856201, -6.375, -7.090199947357178, -6.551499843597412, -5.142899990081787, -5.802999973297119, -6.174900054931641, -6.853600025177002, -5.919300079345703, -6.399600028991699, -5.870500087738037, -5.8043999671936035, -6.013999938964844, -5.60230016708374, -5.485599994659424, -6.257900238037109, -5.2281999588012695, -5.815800189971924, -6.1682000160217285, -5.957699775695801, -5.639599800109863, -5.906300067901611, -6.029300212860107, -5.875800132751465, -5.632699966430664, -5.6230998039245605, -5.627299785614014, -5.898200035095215, -6.1996002197265625, -6.209199905395508, -6.087399959564209, -6.192800045013428, -6.009799957275391, -6.1178998947143555, -5.970099925994873, -6.058300018310547, -6.1442999839782715, -5.582200050354004, -4.687399864196777, -5.65880012512207, -7.4390997886657715, -4.518599987030029, -7.388299942016602, -8.16919994354248, -7.724400043487549, -6.420300006866455, -6.0792999267578125, -6.32420015335083, -7.456500053405762, -7.452300071716309, -8.073599815368652, -8.241900444030762, -7.639800071716309, -8.684800148010254, -8.614100456237793, -6.8302998542785645, -6.597499847412109, -7.853899955749512, -6.2459001541137695, -7.197800159454346, -5.393899917602539, -9.052900314331055, -9.057299613952637, -9.193499565124512, -8.64680004119873, -9.061699867248535, -9.199999809265137, -7.116700172424316, -5.974400043487549, -6.8404998779296875, -7.70989990234375, -6.298699855804443, -7.470799922943115, -5.661099910736084, -5.458000183105469, -4.793499946594238, -5.473800182342529, -4.907800197601318, -5.268099784851074, -6.841899871826172, -5.726600170135498, -5.310699939727783, -5.275300025939941, -6.469200134277344, -5.836599826812744, -5.841100215911865, -6.166299819946289, -5.299300193786621, -4.9944000244140625, -5.211599826812744, -5.993199825286865, -5.376100063323975, -5.356100082397461, -5.647799968719482, -5.689899921417236, -5.498700141906738, -5.617099761962891, -5.526500225067139, -5.731200218200684, -5.866099834442139, -5.819300174713135, -5.865099906921387, -7.795400142669678, -8.069499969482422, -8.003399848937988, -8.468400001525879, -8.607199668884277, -8.615799903869629, -8.94219970703125, -8.788100242614746, -9.010299682617188, -8.607799530029297, -8.601799964904785, -8.763899803161621, -8.764100074768066, -7.6666998863220215, -6.7204999923706055, -8.232399940490723, -8.93690013885498, -8.941800117492676, -8.8016996383667, -9.157899856567383, -8.701600074768066, -9.160300254821777, -8.976799964904785, -9.144000053405762, -8.991299629211426, -8.474800109863281, -9.15060043334961, -8.884400367736816, -5.922699928283691, -8.935400009155273, -7.159200191497803, -7.673099994659424, -7.448400020599365, -7.265699863433838, -6.379000186920166, -7.116199970245361, -5.310100078582764, -4.544099807739258, -7.768899917602539, -5.316800117492676, -5.432000160217285, -5.846399784088135, -4.779399871826172, -4.280600070953369, -6.55049991607666, -4.893400192260742, -6.8246002197265625, -5.214700222015381, -5.186600208282471, -5.998000144958496, -5.782800197601318, -5.615900039672852, -5.278200149536133, -5.312099933624268, -6.948699951171875, -5.104400157928467, -5.748300075531006, -4.894100189208984, -4.8383002281188965, -5.298799991607666, -5.636099815368652, -5.774600028991699, -5.28000020980835, -5.338699817657471, -6.040200233459473, -5.293099880218506, -5.079800128936768, -5.570099830627441, -5.1041998863220215, -5.599800109863281, -5.300099849700928, -5.5391998291015625, -5.682600021362305, -5.610300064086914, -5.627299785614014, -5.7058000564575195, -7.6828999519348145, -7.0005998611450195, -7.769700050354004, -7.560400009155273, -7.702000141143799, -7.969399929046631, -7.795000076293945, -7.9903998374938965, -7.1128997802734375, -8.367600440979004, -8.365799903869629, -6.629199981689453, -8.234000205993652, -8.369999885559082, -6.005899906158447, -8.236900329589844, -8.14050006866455, -8.249600410461426, -8.387200355529785, -8.550100326538086, -5.530700206756592, -7.039999961853027, -8.550399780273438, -8.399299621582031, -7.312600135803223, -8.557900428771973, -7.120500087738037, -8.03689956665039, -6.373300075531006, -6.16379976272583, -5.611299991607666, -7.348199844360352, -7.445000171661377, -6.247900009155273, -6.904799938201904, -7.708600044250488, -6.92519998550415, -5.617000102996826, -6.7342000007629395, -6.821700096130371, -6.051499843597412, -5.881899833679199, -7.2342000007629395, -6.844099998474121, -5.99459981918335, -6.661499977111816, -5.606599807739258, -5.289400100708008, -6.00540018081665, -5.203800201416016, -6.322199821472168, -6.090400218963623, -6.196100234985352, -5.704899787902832, -4.651299953460693, -6.193699836730957, -5.212200164794922, -6.075799942016602, -6.089399814605713, -5.804200172424316, -6.55649995803833, -5.660200119018555, -6.148200035095215, -5.826900005340576, -6.012800216674805, -5.853499889373779, -5.694499969482422, -5.685500144958496, -5.708000183105469, -5.90910005569458, -5.815499782562256, -5.792799949645996, -5.816500186920166, -5.873600006103516, -5.998700141906738, -6.003699779510498, -6.038599967956543, -6.047900199890137, -7.442500114440918, -7.793499946594238, -8.125, -7.717899799346924, -5.453700065612793, -7.724599838256836, -7.327600002288818, -7.769800186157227, -7.763700008392334, -6.665299892425537, -7.490799903869629, -6.945400238037109, -6.6975998878479, -8.297699928283691, -8.409799575805664, -7.594799995422363, -7.837800025939941, -7.322000026702881, -8.046699523925781, -6.268400192260742, -8.296299934387207, -8.432000160217285, -8.20460033416748, -6.774600028991699, -4.124599933624268, -8.308899879455566, -8.236800193786621, -6.699999809265137, -7.37939977645874, -7.78879976272583, -7.542300224304199, -6.536499977111816, -4.777200222015381, -4.714300155639648, -7.678199768066406, -5.064000129699707, -4.230800151824951, -5.0046000480651855, -5.281599998474121, -5.767399787902832, -6.153200149536133, -5.739999771118164, -5.358699798583984, -4.8902997970581055, -5.788000106811523, -5.101799964904785, -5.9334001541137695, -4.7932000160217285, -5.231599807739258, -4.843900203704834, -6.099400043487549, -5.690499782562256, -5.527599811553955, -4.993100166320801, -5.044600009918213, -5.853300094604492, -5.0569000244140625, -5.402400016784668, -5.614200115203857, -5.607800006866455, -5.645999908447266, -5.644499778747559, -5.435200214385986, -5.444900035858154, -5.529099941253662, -5.688799858093262, -5.763400077819824, -5.712500095367432, -8.404999732971191, -7.039000034332275, -7.181700229644775, -8.443099975585938, -8.383600234985352, -8.405900001525879, -7.571400165557861, -7.578000068664551, -8.362700462341309, -7.8831000328063965, -8.1141996383667, -8.156999588012695, -8.403800010681152, -6.423699855804443, -8.420000076293945, -8.302000045776367, -8.406999588012695, -8.165499687194824, -7.98330020904541, -8.478599548339844, -8.102100372314453, -8.01710033416748, -7.808499813079834, -6.506800174713135, -5.374499797821045, -8.382599830627441, -8.506199836730957, -8.390000343322754, -8.705599784851074, -3.8694000244140625, -4.672399997711182, -7.1097002029418945, -5.043300151824951, -5.928299903869629, -4.989799976348877, -6.842800140380859, -4.759699821472168, -6.263599872589111, -5.106800079345703, -6.401899814605713, -7.035699844360352, -5.1381001472473145, -6.066999912261963, -5.407599925994873, -5.668000221252441, -7.221700191497803, -5.853099822998047, -4.96150016784668, -5.358500003814697, -4.6265997886657715, -6.029699802398682, -5.479100227355957, -5.562300205230713, -5.673799991607666, -5.286300182342529, -5.103799819946289, -4.972499847412109, -5.171199798583984, -5.587399959564209, -5.4344000816345215, -5.307400226593018, -5.446800231933594, -5.383200168609619, -5.520500183105469, -5.577400207519531, -5.624000072479248, -5.67140007019043, -5.680600166320801, -7.564199924468994, -7.567299842834473, -7.396699905395508, -8.085700035095215, -8.133199691772461, -7.8942999839782715, -8.197600364685059, -7.9593000411987305, -8.094799995422363, -7.651000022888184, -7.8755998611450195, -7.667799949645996, -8.143500328063965, -7.820099830627441, -8.190600395202637, -7.9882001876831055, -8.363699913024902, -7.791999816894531, -8.441900253295898, -7.636099815368652, -8.422800064086914, -7.6178998947143555, -8.457799911499023, -8.469499588012695, -7.662700176239014, -8.138299942016602, -7.943600177764893, -8.414999961853027, -8.593199729919434, -8.383999824523926, -7.3649001121521, -7.56220006942749, -5.203000068664551, -5.891499996185303, -6.7779998779296875, -7.2291998863220215, -7.100900173187256, -5.942500114440918, -6.813799858093262, -7.149899959564209, -5.114299774169922, -6.671899795532227, -6.450300216674805, -5.045899868011475, -6.232800006866455, -5.921199798583984, -6.190400123596191, -5.824100017547607, -5.445000171661377, -5.016200065612793, -6.072500228881836, -6.286399841308594, -5.774700164794922, -6.696100234985352, -5.4344000816345215, -5.8871002197265625, -5.524899959564209, -6.1020002365112305, -5.886000156402588, -6.122900009155273, -5.134500026702881, -5.209799766540527, -5.814499855041504, -5.715799808502197, -6.091300010681152, -5.890999794006348, -5.546299934387207, -5.877799987792969, -5.43209981918335, -5.421500205993652, -5.521500110626221, -5.834099769592285, -5.7017998695373535, -5.573200225830078, -5.677299976348877, -5.90910005569458, -5.886499881744385, -5.852499961853027, -5.9145002365112305, -5.486599922180176, -5.36329984664917, -7.464399814605713, -6.6020002365112305, -4.149400234222412, -6.044400215148926, -6.006499767303467, -7.197000026702881, -5.501200199127197, -6.49399995803833, -7.868500232696533, -7.866600036621094, -7.663099765777588, -5.0218000411987305, -7.851099967956543, -7.905700206756592, -7.629700183868408, -7.900100231170654, -7.449100017547607, -7.497200012207031, -7.85129976272583, -7.254300117492676, -7.706999778747559, -7.309000015258789, -7.9542999267578125, -7.563399791717529, -7.988399982452393, -7.34060001373291, -7.990799903869629, -7.922599792480469, -4.607399940490723, -5.56220006942749, -4.94350004196167, -5.143599987030029, -5.524400234222412, -6.136300086975098, -5.747499942779541, -5.049499988555908, -5.86359977722168, -4.6483001708984375, -5.6381001472473145, -6.253499984741211, -4.558700084686279, -6.474599838256836, -6.323299884796143, -5.322800159454346, -5.913700103759766, -6.388599872589111, -6.434599876403809, -5.706299781799316, -5.347300052642822, -5.207600116729736, -5.603899955749512, -5.215199947357178, -5.556700229644775, -5.389800071716309, -5.292799949645996, -5.377500057220459, -5.480500221252441, -5.59660005569458, -5.292799949645996, -5.387499809265137, -5.513000011444092, -5.618299961090088, -5.541200160980225, -5.553299903869629, -5.555200099945068, -6.832699775695801, -7.334099769592285, -7.11929988861084, -7.456200122833252, -7.382800102233887, -6.816999912261963, -7.716599941253662, -7.313499927520752, -7.462500095367432, -7.640699863433838, -7.710000038146973, -7.332099914550781, -7.365600109100342, -7.341899871826172, -7.624199867248535, -7.385300159454346, -7.803299903869629, -7.721199989318848, -7.724299907684326, -7.398900032043457, -7.713500022888184, -6.57859992980957, -7.0584001541137695, -7.918000221252441, -7.855999946594238, -7.870999813079834, -7.785699844360352, -7.76669979095459, -7.314899921417236, -7.055300235748291, -7.333700180053711, -7.211999893188477, -6.785600185394287, -7.298999786376953, -7.56820011138916, -6.640200138092041, -6.822500228881836, -5.992099761962891, -5.685400009155273, -6.904900074005127, -6.361299991607666, -5.107100009918213, -5.4430999755859375, -5.4156999588012695, -5.125500202178955, -5.395199775695801, -5.160399913787842, -5.105000019073486, -6.523900032043457, -6.817399978637695, -5.240699768066406, -5.22130012512207, -5.508999824523926, -6.6184000968933105, -5.741499900817871, -6.042699813842773, -6.431000232696533, -6.3470001220703125, -5.900700092315674, -5.9319000244140625, -6.145199775695801, -6.240699768066406, -5.93779993057251, -5.763599872589111, -6.129000186920166, -5.792699813842773, -6.0457000732421875, -6.163099765777588, -6.125899791717529, -6.030600070953369, -6.035399913787842, -5.916399955749512, -6.046199798583984, -6.0121002197265625, -6.045100212097168, -6.140399932861328, -5.399799823760986, -5.359000205993652, -6.921299934387207, -6.928800106048584, -7.3491997718811035, -7.556000232696533, -7.653600215911865, -7.048999786376953, -7.2947001457214355, -7.181000232696533, -7.626399993896484, -7.628200054168701, -7.667600154876709, -7.659299850463867, -7.674499988555908, -7.690299987792969, -7.421299934387207, -7.629000186920166, -6.573599815368652, -7.753600120544434, -7.606900215148926, -7.603799819946289, -7.630000114440918, -7.627999782562256, -7.619699954986572, -7.872900009155273, -7.311100006103516, -7.280099868774414, -7.280799865722656, -7.239500045776367, -7.231400012969971, -5.990099906921387, -6.085899829864502, -6.049300193786621, -6.220900058746338, -5.688499927520752, -6.911300182342529, -7.138700008392334, -6.518899917602539, -5.64109992980957, -6.453400135040283, -6.639900207519531, -5.6996002197265625, -5.62060022354126, -6.077300071716309, -5.378600120544434, -6.059800148010254, -5.465799808502197, -5.399700164794922, -5.411499977111816, -6.320899963378906, -5.839399814605713, -6.683000087738037, -5.753399848937988, -5.950300216674805, -5.7581000328063965, -6.373000144958496, -5.748600006103516, -5.676000118255615, -5.979899883270264, -5.992499828338623, -5.816800117492676, -5.885300159454346, -6.0868000984191895, -6.111700057983398, -6.1194000244140625, -6.1768999099731445, -5.734099864959717, -7.317699909210205, -6.5152997970581055, -6.388000011444092, -7.285999774932861, -6.8917999267578125, -6.8927998542785645, -7.2881999015808105, -7.286799907684326, -7.288599967956543, -7.286300182342529, -7.29040002822876, -7.290599822998047, -7.287899971008301, -6.611400127410889, -5.808800220489502, -7.289100170135498, -7.29040002822876, -7.285099983215332, -7.28849983215332, -7.286900043487549, -7.94980001449585, -7.287600040435791, -7.944699764251709, -7.947199821472168, -7.947800159454346, -7.284900188446045, -7.957200050354004, -7.949399948120117, -7.948999881744385, -7.293300151824951, -6.891300201416016, -6.610000133514404, -7.2870001792907715, -6.054999828338623, -6.178299903869629, -7.287399768829346, -6.191400051116943, -5.817200183868408, -5.208099842071533, -5.263999938964844, -5.348199844360352, -5.593900203704834, -5.912099838256836, -6.044400215148926, -6.01230001449585, -5.551400184631348, -5.691500186920166, -5.465099811553955, -6.321100234985352, -6.358699798583984, -5.791399955749512, -5.888400077819824, -6.569200038909912, -6.024600028991699, -5.658699989318848, -5.880799770355225, -5.659599781036377, -5.623799800872803, -6.026199817657471, -6.0269999504089355, -5.761000156402588, -6.028600215911865, -6.035200119018555, -6.181600093841553, -6.194499969482422, -6.128799915313721, -6.169000148773193, -6.173500061035156, -6.929800033569336, -7.32859992980957, -7.329599857330322, -7.332200050354004, -7.477399826049805, -6.45959997177124, -7.2083001136779785, -7.337600231170654, -7.365300178527832, -7.491399765014648, -6.57480001449585, -7.3368000984191895, -7.469299793243408, -7.477200031280518, -6.957900047302246, -6.690199851989746, -7.331299781799316, -7.328000068664551, -7.025899887084961, -7.051599979400635, -7.529600143432617, -7.350900173187256, -6.936500072479248, -7.993000030517578, -7.98829984664917, -7.979800224304199, -7.986800193786621, -8.028900146484375, -7.989999771118164, -8.006600379943848, -7.01200008392334, -7.323200225830078, -7.445499897003174, -7.0914998054504395, -7.3302998542785645, -7.324999809265137, -6.673900127410889, -7.215400218963623, -5.642499923706055, -5.053899765014648, -5.680300235748291, -5.81279993057251, -4.956900119781494, -6.52239990234375, -5.905099868774414, -6.14109992980957, -5.710400104522705, -5.754799842834473, -6.110899925231934, -4.753699779510498, -4.984899997711182, -5.134699821472168, -5.002799987792969, -5.317599773406982, -5.962800025939941, -5.818600177764893, -6.112400054931641, -6.061200141906738, -5.832900047302246, -5.081099987030029, -6.457399845123291, -5.672599792480469, -6.152400016784668, -5.750699996948242, -5.7006001472473145, -5.996600151062012, -5.440199851989746, -5.788099765777588, -5.77269983291626, -5.720799922943115, -5.916200160980225, -5.743100166320801, -5.761899948120117, -5.834199905395508, -5.908199787139893, -5.861999988555908, -5.8983001708984375, -7.215000152587891, -7.290599822998047, -7.218200206756592, -7.346399784088135, -6.742000102996826, -7.421800136566162, -7.438899993896484, -7.251200199127197, -7.217800140380859, -7.366300106048584, -6.557400226593018, -7.304200172424316, -7.219299793243408, -7.2154998779296875, -7.225100040435791, -7.906700134277344, -7.135000228881836, -7.215700149536133, -7.4654998779296875, -6.206900119781494, -7.881999969482422, -7.222799777984619, -7.873600006103516, -7.1880998611450195, -7.879300117492676, -7.875800132751465, -7.333399772644043, -6.8180999755859375, -7.874499797821045, -7.2204999923706055, -6.747600078582764, -7.13700008392334, -7.381899833679199, -5.264599800109863, -6.819799900054932, -5.811800003051758, -4.872200012207031, -4.9191999435424805, -5.861400127410889, -5.898900032043457, -5.3850998878479, -5.220900058746338, -6.865499973297119, -4.902200222015381, -5.427499771118164, -6.649400234222412, -5.432300090789795, -5.037799835205078, -5.225900173187256, -6.09089994430542, -5.625400066375732, -5.454699993133545, -5.86359977722168, -5.227799892425537, -5.914000034332275, -5.290500164031982, -5.847899913787842, -5.758399963378906, -5.632400035858154, -5.879799842834473, -6.410699844360352, -5.559000015258789, -5.773799896240234, -5.861800193786621, -5.884500026702881, -5.818399906158447, -5.867400169372559, -5.87529993057251, -5.866799831390381, -5.938499927520752, -6.269899845123291, -6.237299919128418, -6.615900039672852, -5.5381999015808105, -6.615799903869629, -6.218900203704834, -6.615300178527832, -7.278800010681152, -7.274499893188477, -7.276599884033203, -7.278299808502197, -6.613999843597412, -7.275599956512451, -7.2779998779296875, -7.292600154876709, -7.275100231170654, -7.275700092315674, -7.278900146484375, -7.280900001525879, -7.2982001304626465, -7.3379998207092285, -7.343900203704834, -7.277400016784668, -7.274600028991699, -7.276800155639648, -7.287499904632568, -7.2789998054504395, -7.272299766540527, -7.274700164794922, -6.169600009918213, -6.615799903869629, -5.344600200653076, -6.219699859619141, -6.546199798583984, -6.61460018157959, -5.37060022354126, -6.218699932098389, -5.509399890899658, -5.01230001449585, -5.513199806213379, -5.694900035858154, -6.660600185394287, -6.635700225830078, -5.707799911499023, -6.614299774169922, -6.2967000007629395, -6.2835001945495605, -6.6132001876831055, -5.932300090789795, -6.5640997886657715, -5.702000141143799, -5.9903998374938965, -5.749300003051758, -5.556000232696533, -5.257800102233887, -5.776299953460693, -5.514400005340576, -5.906099796295166, -5.640999794006348, -6.017199993133545, -5.9552001953125, -5.893099784851074, -5.898399829864502, -5.883500099182129, -5.918799877166748, -5.93209981918335, -6.038400173187256, -6.039599895477295, -6.123199939727783, -6.1331000328063965, -5.861299991607666, -5.8368000984191895, -6.6031999588012695, -6.520199775695801, -6.687300205230713, -7.183700084686279, -6.5192999839782715, -7.182799816131592, -7.180500030517578, -7.18209981918335, -7.184899806976318, -7.179900169372559, -7.19189977645874, -7.181700229644775, -7.188499927520752, -7.213900089263916, -7.180799961090088, -7.182199954986572, -7.1757001876831055, -7.181399822235107, -7.18209981918335, -7.183000087738037, -7.182700157165527, -7.184000015258789, -7.187900066375732, -7.184700012207031, -7.185100078582764, -7.1834001541137695, -7.180699825286865, -7.185999870300293, -5.15939998626709, -6.878699779510498, -5.618299961090088, -4.913099765777588, -6.123600006103516, -5.4394001960754395, -5.4405999183654785, -5.580399990081787, -5.596099853515625, -6.11929988861084, -5.431700229644775, -5.60699987411499, -6.283599853515625, -5.834099769592285, -6.118899822235107, -6.454899787902832, -6.115699768066406, -6.115099906921387, -6.5142998695373535, -5.832600116729736, -6.512599945068359, -5.231299877166748, -6.520400047302246, -5.595600128173828, -5.749599933624268, -5.696800231933594, -6.1092000007629395, -5.335599899291992, -5.541100025177002, -5.556099891662598, -5.749899864196777, -5.763599872589111, -5.81820011138916, -5.959700107574463, -5.978899955749512, -6.012400150299072, -6.046000003814697, -6.058899879455566, -6.065000057220459, -6.087600231170654]}, \"token.table\": {\"Topic\": [1, 15, 3, 5, 6, 1, 4, 9, 1, 3, 9, 10, 1, 3, 8, 10, 1, 15, 1, 2, 3, 4, 5, 6, 7, 8, 9, 10, 11, 12, 13, 14, 2, 5, 6, 7, 1, 3, 9, 10, 1, 2, 3, 4, 5, 6, 7, 8, 9, 1, 3, 4, 9, 11, 14, 1, 2, 3, 4, 5, 6, 7, 8, 9, 10, 11, 12, 15, 1, 9, 2, 3, 8, 12, 1, 9, 1, 5, 15, 1, 2, 3, 9, 10, 3, 8, 4, 1, 4, 7, 1, 2, 3, 4, 5, 6, 7, 8, 9, 10, 12, 1, 2, 6, 7, 1, 5, 10, 2, 4, 5, 9, 13, 1, 2, 3, 4, 5, 6, 7, 8, 9, 10, 11, 12, 14, 3, 8, 9, 3, 7, 12, 1, 2, 3, 4, 11, 1, 3, 4, 10, 5, 1, 11, 1, 2, 10, 15, 1, 2, 3, 4, 5, 6, 7, 8, 9, 10, 11, 12, 14, 15, 1, 15, 5, 7, 4, 1, 4, 12, 1, 2, 3, 5, 6, 7, 8, 9, 12, 1, 2, 3, 4, 5, 6, 7, 9, 12, 13, 4, 2, 7, 12, 13, 1, 2, 3, 5, 6, 7, 8, 9, 10, 12, 15, 1, 2, 3, 4, 5, 6, 7, 8, 9, 12, 1, 3, 11, 13, 4, 1, 2, 3, 4, 5, 6, 7, 8, 9, 10, 11, 12, 13, 14, 1, 15, 3, 9, 2, 3, 5, 8, 3, 5, 6, 7, 13, 2, 3, 5, 6, 3, 5, 6, 1, 2, 3, 4, 10, 11, 2, 1, 4, 10, 1, 15, 1, 3, 13, 14, 1, 6, 1, 2, 3, 4, 5, 6, 7, 8, 9, 12, 13, 1, 1, 2, 3, 4, 5, 6, 7, 8, 9, 10, 12, 13, 14, 15, 1, 2, 3, 4, 5, 6, 8, 9, 10, 11, 14, 1, 2, 3, 6, 2, 3, 7, 8, 9, 12, 2, 1, 3, 4, 9, 1, 2, 3, 4, 5, 6, 7, 8, 9, 10, 11, 12, 13, 14, 15, 5, 7, 1, 3, 4, 10, 1, 4, 11, 1, 10, 2, 3, 7, 9, 12, 1, 2, 3, 4, 6, 10, 11, 1, 6, 7, 9, 5, 7, 1, 3, 4, 5, 7, 8, 9, 11, 1, 4, 10, 1, 2, 3, 4, 5, 6, 7, 9, 10, 11, 13, 15, 1, 4, 10, 1, 4, 1, 4, 2, 7, 12, 1, 2, 3, 4, 5, 6, 7, 9, 11, 13, 3, 4, 11, 13, 2, 3, 5, 10, 12, 1, 3, 4, 6, 10, 14, 1, 3, 4, 10, 13, 1, 1, 3, 4, 9, 10, 11, 14, 1, 4, 7, 15, 3, 7, 8, 2, 5, 7, 1, 2, 3, 4, 5, 6, 7, 8, 9, 10, 11, 12, 14, 15, 1, 10, 1, 4, 1, 3, 14, 1, 4, 10, 1, 10, 1, 11, 1, 3, 4, 11, 1, 3, 10, 14, 3, 4, 3, 6, 1, 4, 6, 14, 1, 2, 3, 4, 10, 11, 13, 14, 1, 2, 3, 4, 5, 6, 7, 8, 9, 10, 11, 12, 13, 14, 15, 3, 6, 3, 5, 6, 1, 3, 4, 9, 11, 2, 3, 7, 12, 13, 2, 3, 7, 13, 14, 1, 4, 10, 11, 1, 4, 11, 1, 2, 3, 4, 5, 6, 7, 8, 9, 10, 11, 12, 13, 15, 1, 2, 3, 4, 5, 6, 7, 8, 9, 10, 12, 13, 1, 2, 3, 4, 5, 6, 7, 8, 9, 10, 11, 12, 13, 14, 15, 3, 5, 6, 1, 2, 3, 7, 12, 2, 3, 6, 3, 8, 11, 12, 1, 2, 5, 13, 1, 2, 3, 4, 5, 6, 7, 8, 9, 10, 11, 14, 1, 2, 3, 4, 5, 6, 7, 8, 9, 10, 11, 12, 13, 1, 4, 1, 2, 3, 4, 5, 7, 10, 11, 12, 13, 14, 3, 5, 6, 7, 3, 5, 7, 2, 3, 5, 6, 12, 1, 10, 12, 2, 5, 1, 2, 3, 4, 5, 6, 10, 12, 15, 1, 2, 3, 4, 6, 7, 9, 10, 11, 13, 14, 15, 1, 7, 10, 11, 1, 2, 3, 7, 8, 12, 15, 1, 2, 3, 4, 10, 3, 5, 6, 2, 3, 7, 12, 13, 1, 2, 3, 4, 5, 6, 7, 8, 10, 12, 1, 11, 13, 1, 2, 3, 4, 5, 6, 7, 8, 9, 10, 11, 12, 13, 14, 15, 1, 4, 1, 6, 1, 6, 1, 2, 3, 4, 5, 6, 7, 8, 9, 10, 12, 13, 14, 3, 5, 6, 7, 1, 4, 9, 10, 12, 1, 4, 5, 15, 1, 10, 1, 4, 13, 1, 4, 6, 1, 7, 8, 12, 1, 2, 3, 4, 7, 8, 9, 12, 13, 15, 3, 1, 13, 1, 15, 3, 7, 5, 7, 8, 1, 2, 3, 4, 5, 6, 7, 8, 9, 10, 12, 13, 14, 1, 4, 10, 11, 14, 1, 2, 3, 4, 6, 11, 1, 2, 4, 12, 1, 4, 14, 1, 2, 3, 4, 7, 4, 2, 3, 4, 7, 8, 9, 12, 1, 2, 3, 4, 5, 6, 7, 9, 10, 11, 14, 2, 3, 5, 8, 9, 10, 2, 8, 1, 2, 3, 4, 5, 6, 7, 8, 9, 10, 12, 13, 1, 2, 3, 5, 6, 8, 9, 12, 1, 2, 3, 4, 5, 6, 7, 8, 9, 10, 11, 12, 13, 14, 15, 1, 2, 3, 4, 5, 6, 7, 8, 9, 10, 11, 12, 13, 15, 1, 2, 3, 4, 5, 6, 7, 8, 9, 10, 11, 12, 13, 1, 2, 4, 8, 9, 1, 4, 6, 1, 2, 3, 4, 5, 6, 7, 9, 10, 11, 12, 2, 3, 7, 12, 1, 13, 2, 7, 8, 12, 1, 7, 12, 1, 4, 14, 1, 10, 1, 5, 8, 12, 1, 3, 1, 6, 7, 9, 14, 1, 11, 15, 1, 2, 3, 4, 5, 6, 7, 8, 9, 10, 4, 1, 2, 3, 9, 10, 14, 2, 7, 9, 1, 3, 6, 10, 14, 5, 11, 12, 1, 13, 4, 13, 1, 2, 8, 1, 2, 8, 12, 1, 2, 3, 8, 3, 6, 1, 2, 3, 4, 10, 11, 1, 10, 1, 2, 3, 4, 6, 7, 8, 9, 10, 11, 13, 14, 15, 1, 2, 3, 4, 5, 6, 7, 8, 9, 10, 12, 13, 15, 1, 2, 3, 4, 10, 11, 13, 1, 6, 1, 4, 9, 13, 1, 15, 1, 2, 3, 5, 7, 8, 10, 12, 14, 1, 5, 1, 9, 11, 1, 2, 3, 5, 7, 8, 9, 10, 12, 1, 2, 3, 4, 5, 6, 7, 8, 9, 12, 1, 4, 9, 11, 2, 4, 7, 3, 5, 6, 7, 3, 5, 6, 7, 1, 4, 10, 11, 1, 2, 3, 5, 6, 7, 13, 3, 9, 13, 2, 3, 4, 5, 6, 7, 8, 12, 1, 4, 5, 6, 9, 10, 11, 13, 1, 4, 9, 3, 5, 6, 7, 1, 2, 3, 4, 9, 10, 12, 15, 1, 4, 11, 1, 3, 4, 5, 9, 1, 2, 3, 5, 7, 8, 9, 12, 14, 1, 2, 12, 1, 4, 11, 1, 4, 9, 10, 11, 4, 1, 1, 2, 3, 4, 5, 6, 7, 8, 9, 10, 11, 13, 14, 15, 1, 7, 9, 1, 9, 10, 11, 1, 2, 5, 8, 10, 1, 2, 3, 6, 8, 9, 11, 14, 15, 1, 7, 8, 9, 10, 1, 9, 15, 1, 2, 5, 7, 10, 12, 1, 2, 5, 8, 1, 2, 3, 4, 5, 6, 7, 10, 11, 12, 13, 15, 4, 9, 1, 2, 3, 4, 5, 6, 7, 8, 9, 10, 11, 13, 14, 1, 2, 3, 4, 5, 6, 7, 8, 9, 10, 11, 14, 15, 1, 3, 4, 5, 6, 7, 9, 11, 1, 3, 5, 12, 1, 2, 4, 5, 7, 8, 9, 10, 11, 13, 1, 2, 3, 4, 5, 6, 7, 8, 9, 10, 12, 13, 14, 15, 3, 14, 1, 4, 13, 1, 4, 10, 12, 13, 14, 15, 1, 5, 1, 2, 3, 4, 5, 6, 7, 8, 9, 10, 11, 12, 13, 2, 5, 8, 10, 1, 14, 6, 7, 1, 2, 3, 4, 5, 6, 7, 8, 9, 10, 11, 12, 13, 15, 1, 2, 3, 4, 5, 6, 7, 8, 9, 10, 11, 12, 13, 14, 15, 2, 3, 7, 8, 12, 1, 14, 1, 4, 11, 1, 5, 8, 13, 1, 2, 4, 10, 2, 7, 3, 4, 6, 9, 1, 2, 3, 4, 5, 6, 7, 9, 12, 1, 3, 4, 15, 3, 1, 4, 10, 11, 14, 2, 7, 1, 2, 12, 2, 3, 7, 8, 12, 1, 2, 3, 5, 6, 7, 8, 9, 10, 12, 13, 15, 6, 7, 8, 1, 4, 10, 14, 1, 4, 11, 1, 1, 2, 3, 4, 5, 6, 7, 8, 1, 2, 3, 4, 5, 6, 7, 9, 10, 11, 15, 1, 2, 4, 5, 9, 11, 3, 1, 2, 3, 4, 5, 6, 7, 8, 9, 10, 12, 13, 14, 15, 1, 2, 3, 4, 5, 6, 7, 8, 9, 10, 11, 13, 15, 1, 4, 14, 1, 2, 3, 4, 5, 6, 7, 8, 9, 10, 11, 13, 14, 15, 4, 2, 7, 8, 12, 1, 4, 9, 14, 5, 7, 4, 10, 11, 1, 5, 13, 1, 4, 13, 1, 2, 3, 4, 5, 6, 7, 8, 9, 10, 11, 12, 13, 14, 1, 2, 3, 4, 5, 6, 7, 8, 9, 10, 11, 12, 13, 15, 1, 1, 3, 4, 10, 1, 2, 3, 4, 5, 7, 9, 10, 11, 12, 13, 3, 5, 6, 13, 1, 11, 1, 2, 3, 4, 5, 6, 7, 8, 9, 10, 12, 15, 1, 2, 3, 4, 5, 6, 7, 8, 9, 10, 11, 12, 13, 14, 3, 8, 12, 1, 2, 4, 5, 10, 12, 13, 1, 3, 4, 6, 10, 11, 13, 3, 1, 3, 5, 6, 9, 1, 2, 3, 4, 5, 6, 7, 8, 9, 10, 12, 13, 15, 4, 1, 2, 3, 4, 5, 6, 9, 11, 2, 9, 1, 4, 6, 11, 5, 7, 1, 2, 3, 5, 6, 10, 1, 2, 3, 4, 5, 6, 7, 8, 9, 10, 11, 12, 14, 1, 2, 3, 4, 5, 6, 7, 9, 10, 15, 1, 2, 3, 4, 5, 6, 7, 8, 9, 10, 11, 12, 14, 15, 1, 3, 11, 1, 2, 3, 4, 5, 6, 7, 8, 9, 10, 11, 12, 13, 15, 1, 4, 14, 2, 1, 5, 11, 12, 13, 3, 1, 2, 3, 5, 6, 7, 3, 5, 6, 7, 13, 1, 2, 3, 4, 5, 6, 7, 8, 9, 10, 11, 12, 13, 14, 15, 3, 5, 6, 1, 4, 11, 15, 1, 2, 3, 4, 5, 6, 7, 8, 9, 10, 11, 12, 15, 1, 2, 3, 4, 5, 6, 7, 8, 9, 10, 11, 13, 14, 15, 1, 2, 3, 4, 5, 6, 7, 8, 9, 10, 11, 12, 13, 14, 15, 1, 2, 3, 4, 5, 6, 7, 8, 9, 10, 11, 12, 13, 14, 15, 1, 2, 3, 10, 14, 1, 1, 6, 9, 1, 1, 3, 4, 5, 6, 8, 3, 5, 6, 7, 13, 1, 2, 3, 4, 5, 6, 7, 8, 9, 10, 11, 13, 14, 15, 1, 2, 3, 4, 5, 6, 7, 8, 9, 10, 11, 12, 13, 14, 15, 1, 2, 14, 1, 2, 3, 4, 5, 6, 7, 8, 9, 10, 11, 12, 13, 15, 2, 6, 8, 1, 2, 3, 7, 9, 12, 1, 10, 11, 14, 2, 12, 2, 4, 1, 2, 3, 4, 5, 7, 8, 11, 1, 3, 4, 13, 2, 3, 15, 4, 1, 2, 3, 5, 7, 8, 1, 7, 10, 1, 3, 5, 12, 1, 4, 11, 1, 2, 3, 5, 6, 7, 8, 12, 13, 2, 7, 1, 1, 2, 6, 11, 1, 7, 1, 3, 1, 7, 1, 11, 3, 7, 1, 2, 4, 5, 10, 1, 3, 5, 2, 7, 9, 1, 2, 6, 7, 1, 3, 9, 12, 1, 2, 3, 7, 15, 1, 7, 11, 1, 4, 7, 15, 2, 5, 8, 2, 1, 2, 3, 5, 6, 7, 8, 1, 2, 3, 4, 10, 12, 14, 1, 9, 3, 5, 6, 7, 1, 4, 13, 1, 2, 3, 4, 5, 6, 7, 8, 9, 11, 12, 14, 15, 1, 4, 2, 13, 2, 3, 5, 10, 1, 2, 3, 4, 5, 6, 7, 8, 9, 10, 11, 13, 15, 1, 3, 5, 1, 2, 3, 4, 5, 7, 8, 15, 1, 2, 3, 4, 5, 6, 7, 8, 9, 10, 11, 12, 15, 1, 2, 3, 4, 5, 6, 7, 8, 9, 10, 11, 13, 15, 1, 2, 3, 4, 5, 6, 7, 8, 9, 10, 11, 12, 13, 14, 2, 3, 7, 8, 9, 12, 1, 1, 2, 3, 4, 5, 6, 7, 8, 9, 10, 11, 12, 13, 15, 3, 5, 6, 7, 13, 5, 1, 4, 10, 1, 2, 3, 4, 5, 6, 7, 8, 9, 10, 11, 12, 13, 14, 15, 1, 2, 3, 4, 5, 6, 7, 8, 9, 10, 11, 12, 13, 15, 1, 2, 3, 4, 6, 11, 1, 3, 4, 6, 9, 15, 1, 2, 3, 4, 5, 6, 7, 11, 12, 13, 14, 1, 2, 3, 4, 5, 6, 7, 8, 9, 10, 11, 12, 13, 2, 3, 4, 12, 13, 2, 7, 2, 6, 8, 3, 6, 1, 2, 3, 4, 5, 6, 7, 8, 9, 10, 12, 13, 15, 1, 2, 3, 6, 15, 1, 2, 3, 4, 5, 6, 7, 8, 9, 11, 12, 13, 15, 1, 2, 3, 4, 5, 6, 7, 8, 9, 10, 11, 12, 13, 15, 1, 5, 8, 12, 1, 4, 1, 2, 3, 4, 5, 6, 7, 8, 9, 12, 13, 1, 7, 10, 14, 1, 2, 3, 4, 5, 6, 7, 8, 9, 10, 11, 12, 13, 15, 1, 2, 3, 4, 6, 7, 9, 10, 11, 12, 13, 15, 1, 2, 3, 4, 5, 6, 7, 8, 9, 10, 11, 12, 13, 14, 15, 1, 2, 3, 4, 5, 6, 7, 9, 10, 11, 12, 13, 14, 2, 3, 4, 5, 10, 12, 1, 2, 3, 7, 13, 1, 2, 3, 4, 5, 6, 7, 8, 9, 10, 11, 12, 13, 14, 15, 1, 2, 3, 4, 5, 6, 7, 8, 9, 10, 11, 12, 13, 14, 15, 1, 2, 3, 4, 5, 6, 7, 8, 11, 12, 2, 3, 4, 7, 8, 9, 12, 1, 2, 3, 4, 8, 9, 14, 4, 9, 14, 1, 3, 4, 1, 2, 3, 4, 5, 6, 7, 8, 9, 10, 11, 12, 13, 14, 2, 3, 7, 8, 12, 3, 8, 1, 2, 3, 4, 5, 6, 7, 8, 9, 10, 11, 12, 13, 14, 1, 2, 3, 4, 5, 6, 7, 8, 9, 10, 11, 12, 13, 14, 15, 1, 2, 3, 4, 5, 6, 7, 8, 9, 10, 11, 13, 14, 15, 1, 2, 3, 4, 5, 6, 7, 8, 9, 10, 11, 12, 13, 15, 4, 9, 1, 4, 10, 11, 2, 7, 8, 2, 12, 1, 2, 3, 4, 6, 7, 8, 10, 12, 13, 2, 3, 7, 8, 9, 12, 1, 2, 4, 6, 9, 10, 11, 13, 1, 4, 10, 11, 2, 5, 4, 1, 2, 3, 4, 6, 9, 13, 1, 2, 3, 4, 5, 6, 7, 8, 9, 10, 11, 12, 13, 14, 15, 3, 5, 6, 1, 2, 1, 2, 3, 5, 7, 8, 9, 10, 1, 4, 9, 1, 2, 3, 5, 6, 7, 8, 9, 10, 11, 12, 15, 1, 2, 3, 4, 5, 6, 7, 8, 9, 11, 12, 13, 1, 2, 3, 4, 5, 6, 7, 8, 9, 10, 11, 15, 3, 5, 6, 3, 5, 6, 1, 2, 3, 4, 7, 8, 10, 11, 12, 15, 1, 3, 4, 11, 15, 1, 6, 10, 1, 5, 6, 13, 1, 4, 1, 2, 3, 6, 14, 1, 9, 1, 2, 3, 4, 5, 6, 7, 9, 10, 15, 1, 2, 4, 5, 6, 7, 9, 10, 13, 2, 3, 5, 8, 2, 1, 2, 3, 11, 2, 7, 8, 1, 2, 3, 4, 5, 6, 7, 8, 9, 10, 11, 12, 13, 14, 15, 2, 4, 6, 10, 2, 3, 7, 1, 2, 3, 4, 5, 6, 7, 8, 9, 10, 13, 14, 15, 1, 15, 2, 7, 15, 1, 7, 1, 2, 3, 4, 5, 7, 8, 9, 10, 11, 12, 13, 15, 1, 15, 1, 4, 9, 10, 11, 1, 3, 4, 10, 1, 4, 15, 1, 15, 1, 2, 3, 4, 5, 6, 7, 8, 9, 10, 11, 12, 13, 15, 1, 2, 3, 4, 5, 6, 7, 8, 9, 10, 11, 12, 13, 1, 2, 3, 5, 6, 7, 8, 10, 12, 2, 3, 4, 9, 1, 4, 15, 1, 9, 3, 3, 5, 1, 2, 3, 4, 5, 6, 7, 8, 9, 10, 11, 12, 13, 14, 1, 1, 4, 11, 1, 2, 3, 4, 5, 6, 7, 8, 9, 10, 11, 13, 14, 15, 1, 11, 14, 1, 3, 5, 12, 1, 4, 11, 2, 3, 7, 9, 12, 1, 2, 3, 5, 6, 7, 8, 9, 12, 15, 1, 2, 3, 6, 7, 8, 2, 3, 6, 12, 15, 1, 2, 3, 4, 5, 6, 7, 8, 9, 10, 11, 12, 13, 14, 15, 2, 8, 9, 1, 4, 9, 11, 3, 4, 7, 1, 2, 3, 4, 5, 6, 7, 8, 9, 10, 11, 12, 13, 14, 15, 1, 2, 3, 4, 5, 6, 7, 8, 9, 10, 11, 12, 13, 14, 1, 3, 11, 12, 1, 15, 4, 1, 15, 1, 2, 6, 9, 10, 1, 6, 1, 2, 3, 4, 5, 6, 7, 8, 9, 10, 11, 12, 13, 3, 10, 1, 4, 5, 6, 8, 11, 12, 14, 1, 2, 3, 10, 1, 4, 10, 2, 3, 5, 2, 1, 2, 3, 4, 5, 6, 8, 10, 1, 2, 3, 7, 8, 2, 3, 9, 1, 4, 11, 13, 1, 2, 3, 4, 10, 11, 13, 3, 1, 4, 10, 11, 15, 1, 4, 9, 12, 2, 7, 8, 12, 1, 3, 14, 4, 1, 2, 3, 4, 5, 6, 7, 8, 9, 10, 11, 12, 13, 14, 15, 3, 5, 6, 7, 4, 14, 4, 1, 4, 9, 11, 1, 6, 12, 2, 3, 7, 8, 1, 3, 4, 6, 7, 11, 1, 4, 1, 10, 3, 1, 2, 3, 4, 5, 6, 7, 8, 9, 10, 11, 12, 13, 14, 15, 1, 3, 6, 1, 4, 8, 1, 3, 4, 1, 7, 12, 1, 2, 3, 4, 5, 6, 7, 8, 9, 10, 12, 13, 14, 1, 3, 11, 14, 1, 2, 3, 5, 6, 7, 8, 9, 12, 15, 1, 14, 2, 4, 6, 13, 2, 3, 5, 8, 3, 11, 1, 2, 3, 5, 6, 8, 9, 13, 1, 6, 9, 5, 7, 12, 1, 2, 3, 4, 5, 6, 7, 8, 9, 10, 12, 13, 15, 3, 4, 3, 5, 8, 1, 2, 3, 4, 5, 6, 7, 8, 9, 11, 12, 1, 2, 10, 1, 2, 3, 12, 1, 2, 4, 5, 8, 12, 13, 1, 2, 3, 4, 5, 6, 11, 12, 4, 2, 4, 5, 8, 3, 10, 11, 1, 2, 6, 7, 1, 2, 3, 4, 5, 6, 7, 8, 9, 12, 14, 1, 2, 3, 5, 7, 11, 12, 13, 1, 3, 5, 7, 1, 3, 4, 11, 1, 4, 11, 2, 4, 13, 1, 4, 9, 11, 1, 4, 11, 1, 10, 3, 5, 6, 7, 13, 1, 3, 4, 9, 10, 14, 2, 1, 3, 12, 14, 1, 6, 9, 13, 1, 2, 4, 7, 10, 15, 2, 3, 7, 1, 5, 6, 13, 1, 3, 4, 9, 14, 4, 1, 2, 5, 6, 12, 3, 6, 11, 1, 2, 3, 4, 6, 7, 8, 12, 1, 7, 12, 1, 2, 3, 4, 5, 6, 7, 8, 9, 10, 12, 14, 1, 2, 3, 7, 14, 15, 1, 2, 3, 4, 5, 6, 7, 8, 9, 10, 11, 12, 14, 15, 6, 9, 10, 1, 3, 4, 5, 2, 3, 7, 1, 13, 1, 3, 9, 1, 11, 3, 4, 15, 3, 6, 7, 4, 11, 1, 3, 9, 11, 15, 3, 4, 1, 7, 9, 1, 2, 3, 5, 6, 7, 8, 12, 1, 3, 4, 9, 11, 14, 15, 1, 2, 3, 4, 5, 6, 7, 8, 9, 10, 11, 12, 13, 14, 15, 1, 2, 3, 4, 5, 6, 7, 10, 11, 1, 4, 11, 2, 7, 1, 10, 11, 1, 4, 10, 13, 1, 2, 3, 7, 9, 10, 12, 1, 5, 9, 13, 1, 3, 5, 6, 14, 2, 1, 12, 1, 4, 10, 11, 6, 9, 10, 1, 2, 3, 4, 5, 6, 7, 8, 9, 10, 11, 12, 13, 15, 1, 10, 1, 4, 10, 15, 1, 4, 10, 14, 1, 1, 2, 3, 4, 5, 7, 10, 11, 13, 1, 2, 3, 7, 9, 12, 7, 8, 9, 10, 11, 4, 10, 11, 1, 1, 8, 2, 3, 7, 8, 1, 6, 1, 2, 3, 4, 5, 6, 7, 8, 9, 10, 11, 12, 13, 14, 5, 1, 2, 3, 4, 5, 6, 7, 8, 9, 11, 13, 14, 1, 1, 2, 3, 4, 5, 7, 8, 9, 14, 1, 8, 1, 2, 4, 9, 10, 1, 2, 3, 4, 5, 6, 7, 8, 9, 10, 11, 12, 13, 14, 15, 2, 3, 5, 6, 7, 8, 1, 2, 3, 4, 6, 7, 9, 10, 15, 3, 7, 1, 2, 3, 4, 6, 9, 15, 3, 4, 1, 2, 3, 4, 5, 6, 7, 8, 9, 10, 11, 12, 13, 1, 2, 3, 4, 5, 6, 7, 8, 9, 10, 12, 13, 1, 2, 3, 4, 5, 6, 7, 8, 9, 11, 15, 4, 5, 8, 1, 6, 10, 13, 1, 1, 2, 3, 5, 6, 7, 10, 13, 1, 4, 13, 1, 3, 13, 1, 13, 15, 1, 2, 3, 4, 5, 6, 7, 8, 9, 10, 11, 12, 13, 14, 15, 1, 3, 1, 2, 5, 6, 8, 9, 13, 2, 4, 10, 1, 4, 14, 1, 2, 14, 1, 2, 3, 4, 6, 9, 11, 15, 1, 4, 9, 1, 4, 9, 2, 4, 5, 7, 14, 1, 7, 13, 2, 3, 2, 5, 1, 10, 9, 1, 1, 2, 3, 4, 5, 6, 7, 8, 9, 10, 11, 12, 13, 15, 1, 1, 1, 2, 3, 4, 5, 6, 7, 8, 9, 10, 11, 12, 13, 1, 3, 7, 15, 1, 2, 5, 9, 14, 3, 5, 6, 1, 7, 8, 9, 11, 15, 1, 1, 11, 15, 3, 6, 12, 3, 8, 14, 3, 6, 10, 13, 1, 2, 3, 4, 5, 6, 7, 8, 9, 10, 11, 12, 13, 14, 1, 2, 3, 4, 5, 6, 7, 8, 1, 2, 3, 4, 5, 6, 7, 8, 9, 10, 12, 13, 14, 15, 1, 2, 3, 15, 5, 6, 6, 7, 9, 13, 1, 4, 1, 1, 2, 3, 4, 5, 6, 7, 8, 9, 11, 13, 14, 4, 1, 2, 3, 4, 5, 6, 7, 8, 9, 10, 11, 13, 14, 1, 4, 9, 13, 1, 10, 11, 2, 3, 5, 6, 7, 1, 2, 3, 4, 5, 6, 7, 11, 13, 14, 1, 2, 3, 4, 5, 6, 7, 8, 9, 10, 11, 12, 13, 14, 15, 1, 2, 3, 4, 10, 14, 1, 2, 3, 4, 5, 6, 7, 8, 9, 10, 11, 12, 13, 14, 1, 2, 3, 4, 5, 6, 7, 8, 9, 10, 11, 12, 13, 14, 15, 1, 3, 9, 11, 15, 1, 2, 3, 4, 5, 6, 7, 8, 9, 10, 11, 12, 13, 14, 15, 2, 1, 2, 3, 4, 5, 7, 8, 9, 12, 15, 1, 2, 3, 4, 5, 6, 7, 8, 9, 10, 11, 12, 13, 14, 15, 1, 2, 3, 4, 5, 6, 7, 8, 9, 10, 11, 12, 13, 14, 15, 4, 11, 13, 1, 4, 14, 1, 2, 3, 4, 5, 6, 7, 8, 9, 10, 11, 12, 13, 14, 15, 1, 2, 3, 4, 5, 6, 7, 8, 10, 12, 14, 1, 2, 4, 10, 1, 15, 1, 3, 4, 14, 1, 10, 12, 3, 6, 4, 11, 1, 4, 14, 1, 2, 3, 4, 5, 6, 7, 8, 12, 13, 15, 3, 1, 4, 1, 5, 9, 10, 13, 3, 6, 6, 7, 2, 6, 13, 1, 2, 12, 1, 2, 3, 12, 1, 5, 14, 2, 1, 1, 1, 9, 1, 11, 3, 4, 13, 3, 5, 6, 1, 10, 11, 1, 2, 5, 7, 14, 4, 1, 15, 1, 4, 3, 1, 4, 11, 1, 10, 11, 1, 4, 9, 1, 11, 13, 1, 2, 3, 4, 5, 6, 7, 8, 9, 12, 13, 15, 1, 1, 2, 3, 4, 5, 6, 7, 8, 9, 10, 11, 12, 13, 14, 15, 1, 5, 14, 1, 2, 3, 4, 5, 6, 7, 8, 9, 10, 11, 12, 13, 14, 3, 5, 6, 7, 13, 3, 5, 1, 11, 14, 1, 15, 1, 2, 3, 4, 5, 10, 11, 13, 14, 1, 3, 10, 11, 13, 1, 2, 3, 7, 8, 9, 12, 1, 7, 1, 2, 3, 5, 7, 9, 3, 6, 7, 1, 6, 15, 1, 2, 3, 4, 5, 6, 7, 8, 11, 1, 2, 3, 4, 5, 6, 7, 8, 9, 10, 11, 12, 13, 14, 1, 4, 15, 3, 5, 6, 7, 13, 1, 2, 3, 4, 5, 6, 7, 10, 11, 13, 14, 1, 4, 13, 1, 2, 3, 4, 5, 6, 7, 8, 9, 10, 11, 12, 13, 14, 1, 2, 3, 4, 5, 6, 7, 8, 9, 10, 11, 12, 13, 14, 15, 1, 7, 10, 11, 3, 7, 1, 2, 3, 4, 5, 6, 7, 8, 9, 10, 11, 12, 13, 14, 1, 4], \"Freq\": [0.7371916174888611, 0.18429790437221527, 0.2305869311094284, 0.6588197946548462, 0.09882296621799469, 0.039904020726680756, 0.9177924990653992, 0.039904020726680756, 0.5672942399978638, 0.08104203641414642, 0.24312610924243927, 0.08104203641414642, 0.33529388904571533, 0.22352926433086395, 0.22352926433086395, 0.11176463216543198, 0.7757189273834229, 0.15514379739761353, 0.1938471645116806, 0.3753211200237274, 0.09073697030544281, 0.028870854526758194, 0.12373223900794983, 0.045368485152721405, 0.06599052995443344, 0.02062203921377659, 0.00412440812215209, 0.00824881624430418, 0.00412440812215209, 0.00824881624430418, 0.02062203921377659, 0.00412440812215209, 0.24091356992721558, 0.08030452579259872, 0.16060905158519745, 0.48182713985443115, 0.17126721143722534, 0.3425344228744507, 0.17126721143722534, 0.17126721143722534, 0.31673240661621094, 0.09745612740516663, 0.07309209555387497, 0.04872806370258331, 0.09745612740516663, 0.09745612740516663, 0.024364031851291656, 0.1705482304096222, 0.024364031851291656, 0.8347179293632507, 0.059095073491334915, 0.036934420466423035, 0.02216065302491188, 0.014773768372833729, 0.02216065302491188, 0.23711389303207397, 0.4053882658481598, 0.03441976010799408, 0.011473252438008785, 0.04971743002533913, 0.0573662631213665, 0.13385461270809174, 0.02294650487601757, 0.015297669917345047, 0.0076488349586725235, 0.011473252438008785, 0.015297669917345047, 0.0038244174793362617, 0.5635977983474731, 0.1878659427165985, 0.2778492569923401, 0.13892462849617004, 0.2778492569923401, 0.2778492569923401, 0.7312867641448975, 0.18282169103622437, 0.5571492314338684, 0.1857164055109024, 0.1857164055109024, 0.22876068949699402, 0.11438034474849701, 0.22876068949699402, 0.11438034474849701, 0.22876068949699402, 0.781959056854248, 0.15639181435108185, 0.893349289894104, 0.15053202211856842, 0.15053202211856842, 0.45159605145454407, 0.11687716841697693, 0.36037126183509827, 0.09739764034748077, 0.029219292104244232, 0.11687716841697693, 0.11687716841697693, 0.04869882017374039, 0.029219292104244232, 0.019479528069496155, 0.009739764034748077, 0.04869882017374039, 0.18993575870990753, 0.09496787935495377, 0.37987151741981506, 0.18993575870990753, 0.19106519222259521, 0.38213038444519043, 0.19106519222259521, 0.16873957216739655, 0.16873957216739655, 0.16873957216739655, 0.16873957216739655, 0.16873957216739655, 0.383088618516922, 0.2001209259033203, 0.14580239355564117, 0.09148385375738144, 0.04860079661011696, 0.034306444227695465, 0.028588702902197838, 0.017153222113847733, 0.014294351451098919, 0.01143548171967268, 0.014294351451098919, 0.00571774085983634, 0.00285887042991817, 0.4973377287387848, 0.331558495759964, 0.165779247879982, 0.5018520951271057, 0.12546302378177643, 0.25092604756355286, 0.49958157539367676, 0.16652719676494598, 0.12489539384841919, 0.041631799191236496, 0.12489539384841919, 0.16321609914302826, 0.6120603680610657, 0.16321609914302826, 0.040804024785757065, 0.8881105184555054, 0.7259023189544678, 0.1979733556509018, 0.55772864818573, 0.1394321620464325, 0.1394321620464325, 0.1394321620464325, 0.5881577730178833, 0.10808026790618896, 0.11562075465917587, 0.09802629053592682, 0.012567473575472832, 0.012567473575472832, 0.01005397830158472, 0.00502698915079236, 0.007540483959019184, 0.00251349457539618, 0.022621452808380127, 0.007540483959019184, 0.00251349457539618, 0.007540483959019184, 0.7751972079277039, 0.155039444565773, 0.17878204584121704, 0.7151281833648682, 0.8929330706596375, 0.5489302277565002, 0.13723255693912506, 0.13723255693912506, 0.17735126614570618, 0.2561740279197693, 0.0788227841258049, 0.11823417246341705, 0.0788227841258049, 0.05911708623170853, 0.1576455682516098, 0.019705696031451225, 0.019705696031451225, 0.08558385074138641, 0.3225852847099304, 0.2106679528951645, 0.03950024023652077, 0.23041807115077972, 0.046083614230155945, 0.02633349411189556, 0.00658337352797389, 0.02633349411189556, 0.01316674705594778, 0.9318062663078308, 0.4166507422924042, 0.1388835906982422, 0.1388835906982422, 0.1388835906982422, 0.06659825146198273, 0.31634169816970825, 0.14152127504348755, 0.0915725976228714, 0.09989737719297409, 0.21644431352615356, 0.016649562865495682, 0.008324781432747841, 0.016649562865495682, 0.008324781432747841, 0.008324781432747841, 0.11807028204202652, 0.2586301267147064, 0.1911614090204239, 0.04497915506362915, 0.03373436629772186, 0.11244788765907288, 0.1911614090204239, 0.022489577531814575, 0.011244788765907288, 0.01686718314886093, 0.3343767523765564, 0.3343767523765564, 0.111458919942379, 0.111458919942379, 0.9466142058372498, 0.35027557611465454, 0.25314033031463623, 0.17513778805732727, 0.06034158915281296, 0.035321906208992004, 0.044152382761240005, 0.038265399634838104, 0.010302222333848476, 0.008830476552248001, 0.008830476552248001, 0.0044152382761240005, 0.0014717461308464408, 0.008830476552248001, 0.0014717461308464408, 0.7751827836036682, 0.1550365537405014, 0.7608601450920105, 0.19021503627300262, 0.908690333366394, 0.010948075912892818, 0.010948075912892818, 0.05474038049578667, 0.6717464327812195, 0.09796302020549774, 0.20292340219020844, 0.013994717039167881, 0.0069973585195839405, 0.08450911194086075, 0.1690182238817215, 0.6338183879852295, 0.08450911194086075, 0.35848504304885864, 0.23899002373218536, 0.4779800474643707, 0.5125362873077393, 0.04456837475299835, 0.0891367495059967, 0.22284187376499176, 0.0891367495059967, 0.022284187376499176, 0.9067432880401611, 0.6497941613197327, 0.3068472445011139, 0.03008306212723255, 0.7346424460411072, 0.1836606115102768, 0.3910845220088959, 0.19554226100444794, 0.19554226100444794, 0.19554226100444794, 0.5630208849906921, 0.3753472566604614, 0.0068781496956944466, 0.6465460658073425, 0.06878149509429932, 0.013756299391388893, 0.020634448155760765, 0.0481470488011837, 0.12380669265985489, 0.04126889631152153, 0.0068781496956944466, 0.013756299391388893, 0.0068781496956944466, 0.9401424527168274, 0.28289875388145447, 0.26535463333129883, 0.14035287499427795, 0.05482533946633339, 0.08772054314613342, 0.0394742451608181, 0.07456246018409729, 0.026316162198781967, 0.006579040549695492, 0.010965067893266678, 0.004386027343571186, 0.004386027343571186, 0.002193013671785593, 0.002193013671785593, 0.6469681262969971, 0.05545441061258316, 0.02772720530629158, 0.1756056398153305, 0.009242401458323002, 0.018484802916646004, 0.009242401458323002, 0.018484802916646004, 0.009242401458323002, 0.009242401458323002, 0.018484802916646004, 0.37848299741744995, 0.09462074935436249, 0.09462074935436249, 0.47310376167297363, 0.8049269318580627, 0.027970433235168457, 0.03729391098022461, 0.06837216764688492, 0.006215651985257864, 0.052833039313554764, 0.9288581013679504, 0.15729230642318726, 0.07078153640031815, 0.7235445976257324, 0.047187689691782, 0.33025243878364563, 0.1774490773677826, 0.18730735778808594, 0.050934456288814545, 0.0887245386838913, 0.0690079778432846, 0.042719222605228424, 0.00821523554623127, 0.009858282282948494, 0.006572188343852758, 0.00821523554623127, 0.009858282282948494, 0.003286094171926379, 0.003286094171926379, 0.0016430470859631896, 0.17975899577140808, 0.5392769575119019, 0.601303219795227, 0.0668114721775055, 0.133622944355011, 0.133622944355011, 0.2909405529499054, 0.6650069355964661, 0.020781466737389565, 0.6332216262817383, 0.31661081314086914, 0.8870534896850586, 0.006427923683077097, 0.08034905046224594, 0.009641885757446289, 0.009641885757446289, 0.7871683835983276, 0.010783128440380096, 0.016174692660570145, 0.15096379816532135, 0.010783128440380096, 0.005391564220190048, 0.016174692660570145, 0.2410281002521515, 0.12051405012607574, 0.482056200504303, 0.12051405012607574, 0.8244739770889282, 0.11778199672698975, 0.8667314648628235, 0.011111942119896412, 0.022223884239792824, 0.03333582729101181, 0.011111942119896412, 0.011111942119896412, 0.022223884239792824, 0.022223884239792824, 0.375332236289978, 0.187666118144989, 0.187666118144989, 0.07440792769193649, 0.10417109727859497, 0.31623369455337524, 0.01116118859499693, 0.2901909053325653, 0.16369743645191193, 0.014881584793329239, 0.0037203961983323097, 0.0037203961983323097, 0.0037203961983323097, 0.01116118859499693, 0.0037203961983323097, 0.5488421320915222, 0.10976842790842056, 0.21953685581684113, 0.14685428142547607, 0.8076985478401184, 0.10331325978040695, 0.8265060782432556, 0.879806399345398, 0.02513732574880123, 0.07541197538375854, 0.4338647723197937, 0.08976512402296066, 0.08976512402296066, 0.11968683451414108, 0.04488256201148033, 0.05984341725707054, 0.04488256201148033, 0.02992170862853527, 0.02992170862853527, 0.04488256201148033, 0.20674864947795868, 0.41349729895591736, 0.20674864947795868, 0.10337432473897934, 0.9390578269958496, 0.01351162325590849, 0.020267434418201447, 0.006755811627954245, 0.006755811627954245, 0.7134903073310852, 0.027980010956525803, 0.1399000585079193, 0.027980010956525803, 0.04197001829743385, 0.055960021913051605, 0.6977624297142029, 0.004178218077868223, 0.22562378644943237, 0.004178218077868223, 0.06685148924589157, 0.9397640228271484, 0.8264663219451904, 0.02666020393371582, 0.09775407612323761, 0.008886734023690224, 0.008886734023690224, 0.008886734023690224, 0.008886734023690224, 0.3737800717353821, 0.18689003586769104, 0.18689003586769104, 0.18689003586769104, 0.04478008300065994, 0.04478008300065994, 0.8508216142654419, 0.1049705371260643, 0.7347937822341919, 0.1049705371260643, 0.1615925282239914, 0.4320843815803528, 0.07377050071954727, 0.0035128809977322817, 0.06323185563087463, 0.06674473732709885, 0.09133490920066833, 0.05620609596371651, 0.0035128809977322817, 0.010538643226027489, 0.010538643226027489, 0.014051523990929127, 0.007025761995464563, 0.007025761995464563, 0.655967652797699, 0.21865588426589966, 0.9696029424667358, 0.026205485686659813, 0.6258912682533264, 0.1564728170633316, 0.1564728170633316, 0.376614511013031, 0.1883072555065155, 0.1883072555065155, 0.5608996748924255, 0.18696656823158264, 0.7611649036407471, 0.19029122591018677, 0.910511314868927, 0.022762782871723175, 0.022762782871723175, 0.022762782871723175, 0.3340966999530792, 0.03712185472249985, 0.5568278431892395, 0.03712185472249985, 0.7706260085105896, 0.15412519872188568, 0.8121784925460815, 0.13536307215690613, 0.3373242914676666, 0.40478914976119995, 0.13492971658706665, 0.06746485829353333, 0.3058057129383087, 0.03822571411728859, 0.15290285646915436, 0.2675800025463104, 0.03822571411728859, 0.03822571411728859, 0.15290285646915436, 0.03822571411728859, 0.4349554181098938, 0.15856234729290009, 0.17747345566749573, 0.08728202432394028, 0.02763930894434452, 0.0363675095140934, 0.02763930894434452, 0.016001705080270767, 0.004364101216197014, 0.004364101216197014, 0.01018290314823389, 0.007273502182215452, 0.004364101216197014, 0.0029094009660184383, 0.0014547004830092192, 0.5931415557861328, 0.38860997557640076, 0.6716305613517761, 0.039507679641246796, 0.276553750038147, 0.8800938129425049, 0.03143192082643509, 0.047147881239652634, 0.015715960413217545, 0.015715960413217545, 0.8974773287773132, 0.015211479738354683, 0.015211479738354683, 0.06084591895341873, 0.0076057398691773415, 0.4257417619228363, 0.08514835685491562, 0.25544506311416626, 0.17029671370983124, 0.08514835685491562, 0.07828744500875473, 0.8415900468826294, 0.039143722504377365, 0.039143722504377365, 0.051756352186203, 0.828101634979248, 0.051756352186203, 0.5289716124534607, 0.16750767827033997, 0.04408096894621849, 0.10873305797576904, 0.03232604265213013, 0.011754925362765789, 0.041142236441373825, 0.008816193789243698, 0.0029387313406914473, 0.011754925362765789, 0.008816193789243698, 0.023509850725531578, 0.0029387313406914473, 0.0029387313406914473, 0.208033487200737, 0.30149781703948975, 0.15376389026641846, 0.05426960438489914, 0.084419384598732, 0.08140441030263901, 0.04522467032074928, 0.03316475823521614, 0.009044934064149857, 0.006029956042766571, 0.006029956042766571, 0.018089868128299713, 0.3837493360042572, 0.2108892798423767, 0.08297283202409744, 0.08297283202409744, 0.04148641601204872, 0.027657609432935715, 0.07951562851667404, 0.027657609432935715, 0.024200409650802612, 0.01728600636124611, 0.01037160400301218, 0.0034572011791169643, 0.006914402358233929, 0.0034572011791169643, 0.0034572011791169643, 0.7570199370384216, 0.044530585408210754, 0.17812234163284302, 0.0171674657613039, 0.9356269240379333, 0.00858373288065195, 0.025751199573278427, 0.00858373288065195, 0.13271936774253845, 0.39815807342529297, 0.39815807342529297, 0.3367885649204254, 0.3367885649204254, 0.1683942824602127, 0.1683942824602127, 0.2477988600730896, 0.2477988600730896, 0.1238994300365448, 0.1238994300365448, 0.5138360857963562, 0.12090261280536652, 0.07724333554506302, 0.14105305075645447, 0.013433624058961868, 0.057092901319265366, 0.023508841171860695, 0.01679202914237976, 0.023508841171860695, 0.006716812029480934, 0.006716812029480934, 0.003358406014740467, 0.25529077649116516, 0.16858823597431183, 0.1204201728105545, 0.12523697316646576, 0.033717647194862366, 0.14450420439243317, 0.028900841251015663, 0.06261848658323288, 0.028900841251015663, 0.01926722750067711, 0.004816806875169277, 0.004816806875169277, 0.004816806875169277, 0.08532680571079254, 0.8959314823150635, 0.13504916429519653, 0.3279765248298645, 0.1543418914079666, 0.11575642228126526, 0.0771709457039833, 0.03858547285199165, 0.0771709457039833, 0.019292736425995827, 0.019292736425995827, 0.019292736425995827, 0.019292736425995827, 0.4178274869918823, 0.23003984987735748, 0.16900886595249176, 0.17370355129241943, 0.06594248116016388, 0.46159738302230835, 0.46159738302230835, 0.09940445423126221, 0.43075263500213623, 0.1325392723083496, 0.2982133626937866, 0.0331348180770874, 0.5589151978492737, 0.18630506098270416, 0.18630506098270416, 0.9453431963920593, 0.035012710839509964, 0.6609436869621277, 0.09012868255376816, 0.09763941168785095, 0.07510723918676376, 0.007510724011808634, 0.007510724011808634, 0.04506434127688408, 0.007510724011808634, 0.007510724011808634, 0.5458394289016724, 0.0693129375576973, 0.03465646877884865, 0.21660293638706207, 0.008664117194712162, 0.043320588767528534, 0.008664117194712162, 0.017328234389424324, 0.03465646877884865, 0.008664117194712162, 0.008664117194712162, 0.008664117194712162, 0.41892704367637634, 0.13964234292507172, 0.13964234292507172, 0.27928468585014343, 0.44383397698402405, 0.12328721582889557, 0.22191698849201202, 0.04931488633155823, 0.024657443165779114, 0.04931488633155823, 0.07397232949733734, 0.37092530727386475, 0.1648556888103485, 0.06182088330388069, 0.2678905129432678, 0.12364176660776138, 0.7388401627540588, 0.03436465933918953, 0.2233702838420868, 0.8659065961837769, 0.005586494226008654, 0.033518966287374496, 0.0837974101305008, 0.005586494226008654, 0.02270241267979145, 0.6421539187431335, 0.18486249446868896, 0.006486403290182352, 0.016216007992625237, 0.025945613160729408, 0.07135044038295746, 0.012972806580364704, 0.003243201645091176, 0.009729605168104172, 0.38509657979011536, 0.19254828989505768, 0.19254828989505768, 0.44508299231529236, 0.14956718683242798, 0.21590746939182281, 0.06754647195339203, 0.0361856110394001, 0.041010357439517975, 0.008443308994174004, 0.010855683125555515, 0.006030934862792492, 0.0024123741313815117, 0.0024123741313815117, 0.006030934862792492, 0.003618560964241624, 0.004824748262763023, 0.0012061870656907558, 0.21270893514156342, 0.7657521367073059, 0.3960745334625244, 0.3960745334625244, 0.4471195936203003, 0.4471195936203003, 0.1958777755498886, 0.28104203939437866, 0.051098551601171494, 0.03406570106744766, 0.051098551601171494, 0.03406570106744766, 0.28104203939437866, 0.04258212447166443, 0.008516425266861916, 0.008516425266861916, 0.008516425266861916, 0.008516425266861916, 0.008516425266861916, 0.05020884424448013, 0.5020884871482849, 0.35146191716194153, 0.10041768848896027, 0.3589590787887573, 0.17947953939437866, 0.17947953939437866, 0.08973976969718933, 0.17947953939437866, 0.546604573726654, 0.1366511434316635, 0.273302286863327, 0.1366511434316635, 0.5615553259849548, 0.3743702173233032, 0.381247341632843, 0.1906236708164215, 0.1906236708164215, 0.4156891107559204, 0.1039222776889801, 0.4156891107559204, 0.24716956913471222, 0.24716956913471222, 0.24716956913471222, 0.24716956913471222, 0.23079833388328552, 0.46159666776657104, 0.03297119215130806, 0.02198079414665699, 0.13188476860523224, 0.010990397073328495, 0.010990397073328495, 0.07693278044462204, 0.010990397073328495, 0.010990397073328495, 0.9601802229881287, 0.5637076497077942, 0.1879025548696518, 0.775678277015686, 0.1551356464624405, 0.17976345121860504, 0.7190538048744202, 0.18093547224998474, 0.5428064465522766, 0.18093547224998474, 0.147086963057518, 0.32413607835769653, 0.2533164322376251, 0.09805797040462494, 0.046305153518915176, 0.038133654743433, 0.027238326147198677, 0.024514492601156235, 0.005447665229439735, 0.005447665229439735, 0.02179066091775894, 0.005447665229439735, 0.0027238326147198677, 0.8705917000770569, 0.020246317610144615, 0.04049263522028923, 0.020246317610144615, 0.030369477346539497, 0.26902705430984497, 0.02445700578391552, 0.6114251017570496, 0.02445700578391552, 0.02445700578391552, 0.02445700578391552, 0.24823646247386932, 0.0827454924583435, 0.41372746229171753, 0.165490984916687, 0.4295266270637512, 0.4295266270637512, 0.07158777117729187, 0.02897791378200054, 0.3477349579334259, 0.49262452125549316, 0.10142269730567932, 0.01448895689100027, 0.8639865517616272, 0.7526229619979858, 0.0024045463651418686, 0.0024045463651418686, 0.180340975522995, 0.01923637092113495, 0.012022730894386768, 0.028854554519057274, 0.7887759208679199, 0.013001801446080208, 0.026003602892160416, 0.12135014683008194, 0.004333933815360069, 0.008667867630720139, 0.004333933815360069, 0.008667867630720139, 0.008667867630720139, 0.013001801446080208, 0.004333933815360069, 0.8335646390914917, 0.01975271664559841, 0.003950543235987425, 0.11851629614830017, 0.011851629242300987, 0.00790108647197485, 0.9306475520133972, 0.026589930057525635, 0.2240270972251892, 0.35256725549697876, 0.07712408155202866, 0.047743480652570724, 0.07712408155202866, 0.08079665899276733, 0.03672575578093529, 0.06243378296494484, 0.011017726734280586, 0.0036725755780935287, 0.011017726734280586, 0.011017726734280586, 0.19801902770996094, 0.5186212658882141, 0.04714738577604294, 0.028288433328270912, 0.018858954310417175, 0.12258321046829224, 0.018858954310417175, 0.056576866656541824, 0.4406350255012512, 0.20807763934135437, 0.12145708501338959, 0.07061458379030228, 0.042368751019239426, 0.04331028088927269, 0.03389500081539154, 0.01223986130207777, 0.0018830556655302644, 0.01223986130207777, 0.0037661113310605288, 0.0037661113310605288, 0.002824583323672414, 0.0018830556655302644, 0.0009415278327651322, 0.4914182424545288, 0.19033804535865784, 0.13496698439121246, 0.031146226450800896, 0.034606918692588806, 0.024224841967225075, 0.031146226450800896, 0.017303459346294403, 0.003460691776126623, 0.006921383552253246, 0.017303459346294403, 0.006921383552253246, 0.003460691776126623, 0.006921383552253246, 0.07931741327047348, 0.2827838361263275, 0.344858318567276, 0.01896720752120018, 0.09311174601316452, 0.08104170858860016, 0.04483158141374588, 0.03276154026389122, 0.01034574955701828, 0.00172429159283638, 0.00172429159283638, 0.00517287477850914, 0.00172429159283638, 0.30279719829559326, 0.15139859914779663, 0.15139859914779663, 0.35326340794563293, 0.05046619847416878, 0.11649340391159058, 0.34948021173477173, 0.4659736156463623, 0.7536892890930176, 0.037955574691295624, 0.05422225221991539, 0.07591114938259125, 0.010844450443983078, 0.021688900887966156, 0.016266675665974617, 0.005422225221991539, 0.005422225221991539, 0.016266675665974617, 0.005422225221991539, 0.8684273958206177, 0.03216397762298584, 0.03216397762298584, 0.03216397762298584, 0.772559642791748, 0.0965699553489685, 0.33717212080955505, 0.08429303020238876, 0.2528790831565857, 0.16858606040477753, 0.3102007210254669, 0.4653010964393616, 0.15510036051273346, 0.7700731754302979, 0.11001046001911163, 0.05500523000955582, 0.6878178119659424, 0.22927261888980865, 0.1872888058423996, 0.1872888058423996, 0.3745776116847992, 0.1872888058423996, 0.13420288264751434, 0.6710144281387329, 0.19910483062267303, 0.19910483062267303, 0.39820966124534607, 0.19910483062267303, 0.19910483062267303, 0.8899450898170471, 0.04045204818248749, 0.04045204818248749, 0.6296265721321106, 0.08072135597467422, 0.016144270077347755, 0.03228854015469551, 0.016144270077347755, 0.016144270077347755, 0.03228854015469551, 0.048432812094688416, 0.08072135597467422, 0.016144270077347755, 0.8714982271194458, 0.2257799357175827, 0.27093592286109924, 0.3160918951034546, 0.04515598714351654, 0.04515598714351654, 0.04515598714351654, 0.3852435350418091, 0.48155441880226135, 0.09631088376045227, 0.5524553656578064, 0.1578443944454193, 0.07892219722270966, 0.07892219722270966, 0.07892219722270966, 0.6408642530441284, 0.1602160632610321, 0.1602160632610321, 0.7492102980613708, 0.10703004151582718, 0.5628825426101685, 0.18762752413749695, 0.2077561467885971, 0.4155122935771942, 0.31163421273231506, 0.4349367320537567, 0.21746836602687836, 0.10873418301343918, 0.21746836602687836, 0.13255402445793152, 0.39766207337379456, 0.13255402445793152, 0.26510804891586304, 0.6628066301345825, 0.30773165822029114, 0.5159775018692017, 0.18575190007686615, 0.020639099180698395, 0.14447370171546936, 0.020639099180698395, 0.12383460253477097, 0.5679253339767456, 0.3407551944255829, 0.5953761339187622, 0.09429869800806046, 0.12942959368228912, 0.14052355289459229, 0.01479195337742567, 0.0018489941721782088, 0.0018489941721782088, 0.005546982400119305, 0.005546982400119305, 0.007395976688712835, 0.0018489941721782088, 0.0018489941721782088, 0.0018489941721782088, 0.3251174986362457, 0.16574618220329285, 0.16255874931812286, 0.05099882185459137, 0.12430962920188904, 0.054186251014471054, 0.07649823278188705, 0.006374852731823921, 0.0031874263659119606, 0.006374852731823921, 0.006374852731823921, 0.009562279097735882, 0.006374852731823921, 0.46623796224594116, 0.008796942420303822, 0.008796942420303822, 0.36947157979011536, 0.048383183777332306, 0.030789298936724663, 0.0659770667552948, 0.44780901074409485, 0.44780901074409485, 0.7206329107284546, 0.060052741318941116, 0.060052741318941116, 0.12010548263788223, 0.5920403599739075, 0.1973467916250229, 0.11481493711471558, 0.791292130947113, 0.018618637695908546, 0.006206213030964136, 0.012412426061928272, 0.021721744909882545, 0.009309318847954273, 0.018618637695908546, 0.006206213030964136, 0.17629486322402954, 0.5288845896720886, 0.6844192743301392, 0.09777418524026871, 0.19554837048053741, 0.0014278163434937596, 0.9466422200202942, 0.012850346975028515, 0.0057112653739750385, 0.0014278163434937596, 0.022845061495900154, 0.004283449146896601, 0.0028556326869875193, 0.0014278163434937596, 0.004628553055226803, 0.7775969505310059, 0.020057063549757004, 0.0015428510960191488, 0.0015428510960191488, 0.0030857021920382977, 0.1249709352850914, 0.038571275770664215, 0.0015428510960191488, 0.02468561753630638, 0.07699652761220932, 0.8469617962837219, 0.03849826380610466, 0.03849826380610466, 0.2838427424430847, 0.09461424499750137, 0.5676854848861694, 0.4283098876476288, 0.35465148091316223, 0.2073347121477127, 0.005456176586449146, 0.27668094635009766, 0.13834047317504883, 0.5072484016418457, 0.04611349105834961, 0.4722292423248291, 0.4722292423248291, 0.02777818962931633, 0.009259396232664585, 0.0012199815828353167, 0.0012199815828353167, 0.3672144412994385, 0.27327588200569153, 0.32085514068603516, 0.030499540269374847, 0.004879926331341267, 0.4826473593711853, 0.24132367968559265, 0.24132367968559265, 0.5549038648605347, 0.06936298310756683, 0.008670372888445854, 0.026011118665337563, 0.08670372515916824, 0.1994185745716095, 0.03468149155378342, 0.008670372888445854, 0.7894437909126282, 0.15445639193058014, 0.017161821946501732, 0.008580910973250866, 0.004290455486625433, 0.008580910973250866, 0.008580910973250866, 0.004290455486625433, 0.5656310319900513, 0.1885436624288559, 0.1885436624288559, 0.22801266610622406, 0.5130285024642944, 0.17100949585437775, 0.08550474792718887, 0.7999218106269836, 0.014544032514095306, 0.007272016257047653, 0.14544032514095306, 0.007272016257047653, 0.014544032514095306, 0.007272016257047653, 0.007272016257047653, 0.13667942583560944, 0.8383004665374756, 0.018223924562335014, 0.13056159019470215, 0.2611231803894043, 0.13056159019470215, 0.13056159019470215, 0.2611231803894043, 0.14597688615322113, 0.401436448097229, 0.10948266834020615, 0.01824711076915264, 0.03649422153830528, 0.16422399878501892, 0.01824711076915264, 0.07298844307661057, 0.01824711076915264, 0.15741148591041565, 0.47223445773124695, 0.15741148591041565, 0.2618682384490967, 0.7070443034172058, 0.026186825707554817, 0.2234070748090744, 0.6937377452850342, 0.01175826694816351, 0.035274799913167953, 0.02351653389632702, 0.893520712852478, 0.955186128616333, 0.40607520937919617, 0.2255973368883133, 0.12510398030281067, 0.1045951247215271, 0.03896681219339371, 0.03691592812538147, 0.020508848130702972, 0.0020508847665041685, 0.0020508847665041685, 0.008203539066016674, 0.004101769533008337, 0.018457964062690735, 0.004101769533008337, 0.0020508847665041685, 0.19136035442352295, 0.3827207088470459, 0.19136035442352295, 0.3931337594985962, 0.1965668797492981, 0.1965668797492981, 0.1965668797492981, 0.07772190868854523, 0.2331657111644745, 0.07772190868854523, 0.466331422328949, 0.07772190868854523, 0.39962834119796753, 0.37742677330970764, 0.022201573476195335, 0.022201573476195335, 0.04440314695239067, 0.022201573476195335, 0.022201573476195335, 0.022201573476195335, 0.022201573476195335, 0.16793860495090485, 0.16793860495090485, 0.3358772099018097, 0.16793860495090485, 0.16793860495090485, 0.6312040686607361, 0.21040135622024536, 0.10520067811012268, 0.33571428060531616, 0.20142856240272522, 0.13428570330142975, 0.06714285165071487, 0.06714285165071487, 0.13428570330142975, 0.2637924551963806, 0.2637924551963806, 0.1758616417646408, 0.2637924551963806, 0.6799605488777161, 0.06204019859433174, 0.04218733683228493, 0.1464148759841919, 0.01737125590443611, 0.019852863624691963, 0.004963215906172991, 0.009926431812345982, 0.009926431812345982, 0.0024816079530864954, 0.0024816079530864954, 0.0024816079530864954, 0.4107009470462799, 0.4107009470462799, 0.5791247487068176, 0.13892750442028046, 0.08117112517356873, 0.11239078640937805, 0.01248786598443985, 0.009365899488329887, 0.009365899488329887, 0.0031219664961099625, 0.01248786598443985, 0.010926882736384869, 0.018731798976659775, 0.006243932992219925, 0.004682949744164944, 0.6966299414634705, 0.06966299563646317, 0.06966299563646317, 0.08558596670627594, 0.011942227371037006, 0.007961485534906387, 0.00995185598731041, 0.001990371383726597, 0.007961485534906387, 0.02189408428966999, 0.011942227371037006, 0.001990371383726597, 0.001990371383726597, 0.18884505331516266, 0.49155256152153015, 0.02221706509590149, 0.01388566568493843, 0.2388334572315216, 0.024994198232889175, 0.008331399410963058, 0.005554266273975372, 0.5327054858207703, 0.08878424763679504, 0.1775684952735901, 0.1775684952735901, 0.4128876328468323, 0.056302860379219055, 0.1313733458518982, 0.018767619505524635, 0.18767620623111725, 0.018767619505524635, 0.07507047802209854, 0.03753523901104927, 0.018767619505524635, 0.018767619505524635, 0.12907974421977997, 0.4662676453590393, 0.09746837615966797, 0.005268561188131571, 0.07639413326978683, 0.03424564749002457, 0.09746837615966797, 0.044782768934965134, 0.005268561188131571, 0.007902842015028, 0.018439963459968567, 0.0026342805940657854, 0.005268561188131571, 0.0026342805940657854, 0.6282491683959961, 0.31412458419799805, 0.38766512274742126, 0.528634250164032, 0.07048457115888596, 0.11456317454576492, 0.22912634909152985, 0.22912634909152985, 0.22912634909152985, 0.11456317454576492, 0.11456317454576492, 0.11456317454576492, 0.2966077923774719, 0.6673675179481506, 0.19763948023319244, 0.1290706843137741, 0.1895725578069687, 0.03025094047188759, 0.1129368469119072, 0.11898703128099442, 0.07461898773908615, 0.09075281769037247, 0.018150564283132553, 0.0020167294424027205, 0.0020167294424027205, 0.0282342117279768, 0.004033458884805441, 0.18857215344905853, 0.18857215344905853, 0.37714430689811707, 0.18857215344905853, 0.7309355139732361, 0.18273387849330902, 0.4582732319831848, 0.4582732319831848, 0.2530616819858551, 0.30578285455703735, 0.10807842761278152, 0.026360591873526573, 0.08435389399528503, 0.0738096535205841, 0.09226207435131073, 0.018452413380146027, 0.013180295936763287, 0.0026360591873526573, 0.0026360591873526573, 0.01054423674941063, 0.005272118374705315, 0.0026360591873526573, 0.42071110010147095, 0.24317698180675507, 0.07011851668357849, 0.07608605176210403, 0.04028084874153137, 0.04923215135931969, 0.05072403326630592, 0.017902599647641182, 0.0044756499119102955, 0.0074594165198504925, 0.005967533215880394, 0.002983766607940197, 0.0044756499119102955, 0.002983766607940197, 0.0014918833039700985, 0.8534731268882751, 0.030481183901429176, 0.007620295975357294, 0.0533420704305172, 0.03810147941112518, 0.7313072085380554, 0.18282680213451385, 0.6341599225997925, 0.10569331794977188, 0.21138663589954376, 0.43896862864494324, 0.10974215716123581, 0.21948431432247162, 0.10974215716123581, 0.6113097071647644, 0.17465990781784058, 0.08732995390892029, 0.13099493086338043, 0.5714163780212402, 0.38094422221183777, 0.20122657716274261, 0.20122657716274261, 0.20122657716274261, 0.20122657716274261, 0.034538544714450836, 0.2763083577156067, 0.20723126828670502, 0.06907708942890167, 0.13815417885780334, 0.034538544714450836, 0.06907708942890167, 0.13815417885780334, 0.06907708942890167, 0.8982974886894226, 0.05858461931347847, 0.019528206437826157, 0.019528206437826157, 0.9476686120033264, 0.8309069275856018, 0.07838744670152664, 0.01567748934030533, 0.047032468020915985, 0.01567748934030533, 0.34753304719924927, 0.5212995409965515, 0.24314439296722412, 0.48628878593444824, 0.16209626197814941, 0.16436432301998138, 0.05478810891509056, 0.13697026669979095, 0.6026691794395447, 0.05478810891509056, 0.2781086564064026, 0.21893659234046936, 0.05325484648346901, 0.1005924865603447, 0.06508925557136536, 0.13609571754932404, 0.09467528015375137, 0.029586026445031166, 0.005917205009609461, 0.01775161549448967, 0.005917205009609461, 0.011834410019218922, 0.18065056204795837, 0.5419517159461975, 0.18065056204795837, 0.485045850276947, 0.16168195009231567, 0.16168195009231567, 0.16168195009231567, 0.9435642957687378, 0.00842468161135912, 0.03369872644543648, 0.9574306011199951, 0.07018506526947021, 0.008773133158683777, 0.4518163800239563, 0.004386566579341888, 0.20616863667964935, 0.12721043825149536, 0.12282387167215347, 0.004386566579341888, 0.5823863744735718, 0.1712900996208191, 0.02283868007361889, 0.0570967011153698, 0.03425802290439606, 0.03425802290439606, 0.02283868007361889, 0.011419340036809444, 0.011419340036809444, 0.02283868007361889, 0.02283868007361889, 0.8274753093719482, 0.006129446439445019, 0.14097727835178375, 0.006129446439445019, 0.006129446439445019, 0.006129446439445019, 0.9476452469825745, 0.14387428760528564, 0.2807869017124176, 0.181003138422966, 0.023205529898405075, 0.16707982122898102, 0.09978377819061279, 0.05569327250123024, 0.00696165906265378, 0.0046411058865487576, 0.0046411058865487576, 0.01856442354619503, 0.00696165906265378, 0.0023205529432743788, 0.0023205529432743788, 0.2360118180513382, 0.30067259073257446, 0.19074927270412445, 0.07112684845924377, 0.042029500007629395, 0.0484955795109272, 0.03879646211862564, 0.022631270810961723, 0.00969911552965641, 0.00969911552965641, 0.006466077174991369, 0.01939823105931282, 0.0032330385874956846, 0.5489417314529419, 0.18298058211803436, 0.18298058211803436, 0.3190293312072754, 0.07975733280181885, 0.1435631960630417, 0.07975733280181885, 0.06380587071180344, 0.06380587071180344, 0.11166027188301086, 0.01595146767795086, 0.01595146767795086, 0.07975733280181885, 0.01595146767795086, 0.01595146767795086, 0.01595146767795086, 0.01595146767795086, 0.8711865544319153, 0.33035358786582947, 0.3854125142097473, 0.2092239260673523, 0.07708249986171722, 0.17720210552215576, 0.3544042110443115, 0.17720210552215576, 0.17720210552215576, 0.8236570954322815, 0.11766530573368073, 0.5933426022529602, 0.13185390830039978, 0.26370781660079956, 0.5407056212425232, 0.1351764053106308, 0.1351764053106308, 0.30573001503944397, 0.5836663842201233, 0.09264545887708664, 0.45908117294311523, 0.15412010252475739, 0.07542047649621964, 0.07542047649621964, 0.06230387091636658, 0.06558302044868469, 0.039349813014268875, 0.003279151162132621, 0.003279151162132621, 0.03607066348195076, 0.006558302324265242, 0.003279151162132621, 0.009837453253567219, 0.003279151162132621, 0.34297576546669006, 0.24888508021831512, 0.1335480958223343, 0.06070367619395256, 0.05766849219799042, 0.05766849219799042, 0.036422207951545715, 0.01517591904848814, 0.012140735983848572, 0.006070367991924286, 0.006070367991924286, 0.018211103975772858, 0.003035183995962143, 0.003035183995962143, 0.9641508460044861, 0.32092663645744324, 0.16046331822872162, 0.16046331822872162, 0.32092663645744324, 0.8252010941505432, 0.017372654750943184, 0.0521179661154747, 0.03474530950188637, 0.008686327375471592, 0.017372654750943184, 0.017372654750943184, 0.008686327375471592, 0.008686327375471592, 0.004343163687735796, 0.004343163687735796, 0.3574231266975403, 0.5182635188102722, 0.05361346900463104, 0.05361346900463104, 0.9391231536865234, 0.03238355740904808, 0.271983802318573, 0.19012460112571716, 0.30103063583374023, 0.04753115028142929, 0.05545300990343094, 0.06601548939943314, 0.03168743476271629, 0.015843717381358147, 0.005281239282339811, 0.005281239282339811, 0.005281239282339811, 0.0026406196411699057, 0.353313148021698, 0.1852104812860489, 0.16587123274803162, 0.06248064339160919, 0.09520860016345978, 0.046860482543706894, 0.04090994596481323, 0.013388709165155888, 0.012644891627132893, 0.004462902899831533, 0.005950537510216236, 0.005950537510216236, 0.0074381716549396515, 0.001487634377554059, 0.3424999415874481, 0.3424999415874481, 0.22833329439163208, 0.4559875726699829, 0.13028216361999512, 0.06514108180999756, 0.06514108180999756, 0.06514108180999756, 0.06514108180999756, 0.13028216361999512, 0.6956226229667664, 0.01795155182480812, 0.22888228297233582, 0.00448788795620203, 0.00897577591240406, 0.00448788795620203, 0.0403909906744957, 0.9217686653137207, 0.22803717851638794, 0.1520247906446457, 0.07601239532232285, 0.4560743570327759, 0.07601239532232285, 0.26194846630096436, 0.2607300877571106, 0.20955877006053925, 0.043861135840415955, 0.08406718075275421, 0.05238969251513481, 0.03898767754435539, 0.023148933425545692, 0.006091824732720852, 0.004873459693044424, 0.006091824732720852, 0.006091824732720852, 0.001218364923261106, 0.8967030048370361, 0.5270276069641113, 0.22101157903671265, 0.03400178253650665, 0.05100267380475998, 0.017000891268253326, 0.03400178253650665, 0.08500445634126663, 0.017000891268253326, 0.6181100606918335, 0.24724403023719788, 0.48871055245399475, 0.09774211049079895, 0.09774211049079895, 0.1954842209815979, 0.456989049911499, 0.304659366607666, 0.12777630984783173, 0.07666578143835068, 0.17888683080673218, 0.4855499565601349, 0.07666578143835068, 0.025555260479450226, 0.41857728362083435, 0.12642742693424225, 0.17084787786006927, 0.1161765530705452, 0.0290441382676363, 0.04442044720053673, 0.02733565866947174, 0.020501744002103806, 0.017084786668419838, 0.015376308932900429, 0.006833914667367935, 0.005125436000525951, 0.0017084786668419838, 0.803575873374939, 0.04591862112283707, 0.07461776584386826, 0.017219483852386475, 0.005739827640354633, 0.005739827640354633, 0.011479655280709267, 0.022959310561418533, 0.005739827640354633, 0.005739827640354633, 0.6414129137992859, 0.0727042406797409, 0.06947293877601624, 0.11955808103084564, 0.017772147431969643, 0.017772147431969643, 0.011309548281133175, 0.0016156496712937951, 0.0064625986851751804, 0.012925197370350361, 0.021003445610404015, 0.0032312993425875902, 0.0032312993425875902, 0.0016156496712937951, 0.9074994921684265, 0.04776313155889511, 0.023881565779447556, 0.20206454396247864, 0.40052080154418945, 0.10103227198123932, 0.0036082954611629248, 0.04690784215927124, 0.08659909665584564, 0.12629035115242004, 0.0072165909223258495, 0.0036082954611629248, 0.0036082954611629248, 0.0036082954611629248, 0.0072165909223258495, 0.0072165909223258495, 0.0036082954611629248, 0.1855115294456482, 0.5565345883369446, 0.1855115294456482, 0.9269385933876038, 0.2929054796695709, 0.14645273983478546, 0.14645273983478546, 0.14645273983478546, 0.14645273983478546, 0.7754146456718445, 0.008011545054614544, 0.002002886263653636, 0.2563694417476654, 0.4987187087535858, 0.2163117229938507, 0.014020204544067383, 0.2757720649242401, 0.3151680827140808, 0.3808281123638153, 0.006566002033650875, 0.01313200406730175, 0.3183867633342743, 0.1910320669412613, 0.11049894243478775, 0.09364316612482071, 0.05805876478552818, 0.09926176071166992, 0.07678739726543427, 0.007491453550755978, 0.011237180791795254, 0.005618590395897627, 0.003745726775377989, 0.013110043480992317, 0.003745726775377989, 0.007491453550755978, 0.0018728633876889944, 0.26511043310165405, 0.21208834648132324, 0.5302208662033081, 0.3236039876937866, 0.3236039876937866, 0.1618019938468933, 0.1618019938468933, 0.5811365842819214, 0.10698749125003815, 0.09482982009649277, 0.10941902548074722, 0.014589203521609306, 0.029178407043218613, 0.017020737752318382, 0.009726135991513729, 0.009726135991513729, 0.007294601760804653, 0.014589203521609306, 0.0048630679957568645, 0.0024315339978784323, 0.3057622015476227, 0.25397989153862, 0.27370649576187134, 0.027124065905809402, 0.039453186094760895, 0.03452153876423836, 0.027124065905809402, 0.004931648261845112, 0.004931648261845112, 0.004931648261845112, 0.007397472392767668, 0.007397472392767668, 0.002465824130922556, 0.002465824130922556, 0.4134223461151123, 0.17534254491329193, 0.21234144270420074, 0.06756318360567093, 0.03056429885327816, 0.022521061822772026, 0.038607534021139145, 0.011260530911386013, 0.004825941752642393, 0.00643458915874362, 0.004825941752642393, 0.00321729457937181, 0.00321729457937181, 0.001608647289685905, 0.00321729457937181, 0.5190901756286621, 0.20610933005809784, 0.05190901458263397, 0.07481005042791367, 0.02442777156829834, 0.025954507291316986, 0.0396951287984848, 0.007633678615093231, 0.01221388578414917, 0.01221388578414917, 0.010687150061130524, 0.0030534714460372925, 0.004580207169055939, 0.004580207169055939, 0.0015267357230186462, 0.6679257750511169, 0.017126301303505898, 0.10275781154632568, 0.11988411098718643, 0.06850520521402359, 0.9472798109054565, 0.508095920085907, 0.12702398002147675, 0.2540479600429535, 0.9782845973968506, 0.03331222012639046, 0.43305885791778564, 0.03331222012639046, 0.03331222012639046, 0.333122193813324, 0.09993665665388107, 0.2782326340675354, 0.2782326340675354, 0.2866639196872711, 0.12646937370300293, 0.025293875485658646, 0.3738752603530884, 0.19408825039863586, 0.13892632722854614, 0.04698978364467621, 0.05311888828873634, 0.09806563705205917, 0.02860247902572155, 0.024516409263014793, 0.010215170681476593, 0.006129102315753698, 0.006129102315753698, 0.010215170681476593, 0.0020430341828614473, 0.006129102315753698, 0.26432037353515625, 0.27028247714042664, 0.1609770655632019, 0.009936856105923653, 0.055646397173404694, 0.07750748097896576, 0.09936856478452682, 0.029810568317770958, 0.011924227699637413, 0.0019873713608831167, 0.0019873713608831167, 0.009936856105923653, 0.0019873713608831167, 0.0019873713608831167, 0.0019873713608831167, 0.547247052192688, 0.1824156939983368, 0.1824156939983368, 0.47183093428611755, 0.2701825201511383, 0.07775984704494476, 0.0303131602704525, 0.044810760766267776, 0.027677234262228012, 0.018451489508152008, 0.028995197266340256, 0.010543707758188248, 0.006589817814528942, 0.001317963469773531, 0.009225744754076004, 0.001317963469773531, 0.002635926939547062, 0.45593494176864624, 0.15197831392288208, 0.30395662784576416, 0.3040884733200073, 0.24327078461647034, 0.12163539230823517, 0.060817696154117584, 0.060817696154117584, 0.18245308101177216, 0.8586012721061707, 0.03434405103325844, 0.04808167368173599, 0.041212864220142365, 0.9199882745742798, 0.03833284229040146, 0.9264781475067139, 0.02647080458700657, 0.3221639394760132, 0.09475409984588623, 0.05685245990753174, 0.03790163993835449, 0.15160655975341797, 0.13265573978424072, 0.15160655975341797, 0.018950819969177246, 0.3692520558834076, 0.24616803228855133, 0.12308401614427567, 0.12308401614427567, 0.14291881024837494, 0.4287564158439636, 0.2858376204967499, 0.9098584055900574, 0.08760777860879898, 0.04380388930439949, 0.21901944279670715, 0.13141167163848877, 0.3942349851131439, 0.04380388930439949, 0.5008823871612549, 0.12522059679031372, 0.25044119358062744, 0.18528582155704498, 0.37057164311408997, 0.18528582155704498, 0.18528582155704498, 0.35219669342041016, 0.4402458667755127, 0.17609834671020508, 0.14103589951992035, 0.32236775755882263, 0.020147984847426414, 0.14103589951992035, 0.060443952679634094, 0.04029596969485283, 0.20147985219955444, 0.04029596969485283, 0.020147984847426414, 0.38753193616867065, 0.5167092680931091, 0.9535248875617981, 0.6745522618293762, 0.061322931200265884, 0.061322931200265884, 0.12264586240053177, 0.35050687193870544, 0.525760293006897, 0.17979256808757782, 0.7191702723503113, 0.3002462089061737, 0.6004924178123474, 0.6691834330558777, 0.2676733732223511, 0.11832796037197113, 0.7099677324295044, 0.10042740404605865, 0.2008548080921173, 0.10042740404605865, 0.30128222703933716, 0.2008548080921173, 0.2622208893299103, 0.13111044466495514, 0.5244417786598206, 0.38403335213661194, 0.19201667606830597, 0.19201667606830597, 0.25412964820861816, 0.2904338836669922, 0.03630423545837402, 0.36304235458374023, 0.1940886676311493, 0.3881773352622986, 0.1940886676311493, 0.1940886676311493, 0.5789229273796082, 0.09262766689062119, 0.18525533378124237, 0.06947074830532074, 0.04631383344531059, 0.539319634437561, 0.13482990860939026, 0.2696598172187805, 0.3303046226501465, 0.16515231132507324, 0.16515231132507324, 0.16515231132507324, 0.21180935204029083, 0.5295233726501465, 0.21180935204029083, 0.857119619846344, 0.16403932869434357, 0.16403932869434357, 0.10935954749584198, 0.05467977374792099, 0.05467977374792099, 0.4374381899833679, 0.05467977374792099, 0.44296810030937195, 0.08053965866565704, 0.12080948799848557, 0.1610793173313141, 0.04026982933282852, 0.04026982933282852, 0.08053965866565704, 0.3982960283756256, 0.3982960283756256, 0.06010638549923897, 0.2855053246021271, 0.631117045879364, 0.015026596374809742, 0.08271308243274689, 0.8271308541297913, 0.041356541216373444, 0.19607721269130707, 0.15201491117477417, 0.41859179735183716, 0.014320245943963528, 0.004406229592859745, 0.07049967348575592, 0.09142926335334778, 0.01762491837143898, 0.020929589867591858, 0.003304671961814165, 0.00771090155467391, 0.0011015573982149363, 0.0022031147964298725, 0.11186158657073975, 0.8669273257255554, 0.7411900162696838, 0.21176856756210327, 0.9671101570129395, 0.016892753541469574, 0.0042231883853673935, 0.0042231883853673935, 0.41952139139175415, 0.21699382364749908, 0.06590183079242706, 0.09965642541646957, 0.051435574889183044, 0.06429446488618851, 0.0032147234305739403, 0.024110425263643265, 0.0064294468611478806, 0.011251531541347504, 0.017680978402495384, 0.014466254971921444, 0.00482208514586091, 0.13303016126155853, 0.26606032252311707, 0.5321206450462341, 0.15234288573265076, 0.4316381812095642, 0.2158190906047821, 0.012695240788161755, 0.03808572143316269, 0.0888666883111, 0.012695240788161755, 0.02539048157632351, 0.21997196972370148, 0.20839449763298035, 0.1505071371793747, 0.05788736045360565, 0.02315494418144226, 0.08104230463504791, 0.1157747209072113, 0.01157747209072113, 0.01157747209072113, 0.04630988836288452, 0.02315494418144226, 0.01157747209072113, 0.03473241627216339, 0.519723653793335, 0.15734753012657166, 0.08582592755556107, 0.09536214172840118, 0.023840535432100296, 0.019072428345680237, 0.019072428345680237, 0.014304321259260178, 0.004768107086420059, 0.033376749604940414, 0.014304321259260178, 0.004768107086420059, 0.004768107086420059, 0.3267670273780823, 0.27271533012390137, 0.1400430053472519, 0.05159479379653931, 0.07370684295892715, 0.027025843039155006, 0.02948273904621601, 0.031939633190631866, 0.012284474447369576, 0.007370684761554003, 0.014741369523108006, 0.004913789685815573, 0.004913789685815573, 0.0024568948429077864, 0.43594226241111755, 0.1265638768672943, 0.0984385758638382, 0.2531277537345886, 0.014062653295695782, 0.05625061318278313, 0.9433569312095642, 0.488095760345459, 0.155386283993721, 0.12613710761070251, 0.10968443751335144, 0.021936887875199318, 0.021936887875199318, 0.02376496233046055, 0.016452666372060776, 0.010968443937599659, 0.007312295958399773, 0.0018280739895999432, 0.0036561479791998863, 0.010968443937599659, 0.0018280739895999432, 0.35227495431900024, 0.2791101336479187, 0.31975725293159485, 0.035227492451667786, 0.005419614724814892, 0.7963663935661316, 0.32654228806495667, 0.16327114403247833, 0.32654228806495667, 0.3327331840991974, 0.2018909603357315, 0.19907714426517487, 0.049945149570703506, 0.0696418285369873, 0.04080026224255562, 0.05205550789833069, 0.016179414466023445, 0.006331075448542833, 0.006331075448542833, 0.005627622362226248, 0.004220717120915651, 0.010551792569458485, 0.001406905590556562, 0.002813811181113124, 0.2780309319496155, 0.27071431279182434, 0.07682432979345322, 0.03658301755785942, 0.04755792021751404, 0.06950773298740387, 0.14267376065254211, 0.03292471542954445, 0.007316603325307369, 0.007316603325307369, 0.007316603325307369, 0.010974904522299767, 0.014633206650614738, 0.0036583016626536846, 0.19843922555446625, 0.037797946482896805, 0.06614641100168228, 0.6614640951156616, 0.009449486620724201, 0.018898973241448402, 0.6085871458053589, 0.12812361121177673, 0.12812361121177673, 0.03203090280294418, 0.03203090280294418, 0.03203090280294418, 0.29613369703292847, 0.3598586618900299, 0.2061690390110016, 0.04873086139559746, 0.02623969502747059, 0.011245583184063435, 0.007497055921703577, 0.007497055921703577, 0.014994111843407154, 0.02249116636812687, 0.0037485279608517885, 0.270646333694458, 0.4776111841201782, 0.08915408700704575, 0.025472596287727356, 0.05094519257545471, 0.017512410879135132, 0.022288521751761436, 0.011144260875880718, 0.006368149071931839, 0.004776111803948879, 0.0031840745359659195, 0.012736298143863678, 0.009552223607897758, 0.8686640858650208, 0.017727838829159737, 0.03545567765831947, 0.03545567765831947, 0.017727838829159737, 0.19013378024101257, 0.7605351209640503, 0.39687737822532654, 0.1322924643754959, 0.2645849287509918, 0.7666054368019104, 0.15332108736038208, 0.16983936727046967, 0.2830656170845032, 0.10190361738204956, 0.011322624050080776, 0.12454886734485626, 0.033967871218919754, 0.045290496200323105, 0.16983936727046967, 0.011322624050080776, 0.011322624050080776, 0.022645248100161552, 0.011322624050080776, 0.011322624050080776, 0.3951184153556824, 0.0987796038389206, 0.0987796038389206, 0.1975592076778412, 0.0987796038389206, 0.44617000222206116, 0.22438958287239075, 0.14872333407402039, 0.0443560816347599, 0.013045906089246273, 0.033919356763362885, 0.028700994327664375, 0.023482631891965866, 0.018264269456267357, 0.005218362435698509, 0.007827543653547764, 0.0026091812178492546, 0.0026091812178492546, 0.49720582365989685, 0.23658864200115204, 0.0868723914027214, 0.04620872065424919, 0.03696697577834129, 0.020331837236881256, 0.03511862829327583, 0.014786790125072002, 0.009241743944585323, 0.0036966975312680006, 0.0036966975312680006, 0.0036966975312680006, 0.0036966975312680006, 0.0018483487656340003, 0.43250802159309387, 0.10812700539827347, 0.324381023645401, 0.10812700539827347, 0.20361031591892242, 0.763538658618927, 0.26812902092933655, 0.3010571300983429, 0.0940803587436676, 0.02587209828197956, 0.06585624814033508, 0.05174419656395912, 0.12700848281383514, 0.03998415172100067, 0.002352008828893304, 0.01646406203508377, 0.009408035315573215, 0.16589652001857758, 0.4976895749568939, 0.16589652001857758, 0.16589652001857758, 0.6051071882247925, 0.11965396255254745, 0.05469895526766777, 0.0393148735165596, 0.07008303701877594, 0.02393079176545143, 0.03076816163957119, 0.017093423753976822, 0.006837369408458471, 0.011965395882725716, 0.0034186847042292356, 0.008546711876988411, 0.006837369408458471, 0.0017093423521146178, 0.7235034704208374, 0.03875911608338356, 0.0419890433549881, 0.11627734452486038, 0.012919705361127853, 0.02260948345065117, 0.00968977902084589, 0.012919705361127853, 0.00968977902084589, 0.0032299263402819633, 0.006459852680563927, 0.0032299263402819633, 0.5783577561378479, 0.06777630001306534, 0.10618286579847336, 0.10317058861255646, 0.050455689430236816, 0.03238200768828392, 0.015814470127224922, 0.0022592099849134684, 0.014308329671621323, 0.010542979463934898, 0.007530699949711561, 0.0007530699949711561, 0.004518419969826937, 0.0015061399899423122, 0.0030122799798846245, 0.583961009979248, 0.12919491529464722, 0.04651016741991043, 0.08785253763198853, 0.025838982313871384, 0.020671185106039047, 0.01550338976085186, 0.005167796276509762, 0.036174576729536057, 0.010335592553019524, 0.010335592553019524, 0.010335592553019524, 0.010335592553019524, 0.2771259844303131, 0.09237533062696457, 0.09237533062696457, 0.18475066125392914, 0.09237533062696457, 0.18475066125392914, 0.3568935990333557, 0.10196959972381592, 0.30590879917144775, 0.10196959972381592, 0.10196959972381592, 0.41126495599746704, 0.140971839427948, 0.1264086365699768, 0.13980677723884583, 0.057087767869234085, 0.05067995935678482, 0.027961356565356255, 0.010485508479177952, 0.00990298017859459, 0.006407810840755701, 0.005242754239588976, 0.003495169570669532, 0.007572867441922426, 0.001747584785334766, 0.0005825282423757017, 0.5841664671897888, 0.13661956787109375, 0.06595427542924881, 0.023555099964141846, 0.04711019992828369, 0.014133059419691563, 0.018844079226255417, 0.05182121694087982, 0.009422039613127708, 0.014133059419691563, 0.004711019806563854, 0.009422039613127708, 0.004711019806563854, 0.014133059419691563, 0.004711019806563854, 0.489272803068161, 0.20968833565711975, 0.04659740999341011, 0.029123380780220032, 0.04659740999341011, 0.029123380780220032, 0.07572078704833984, 0.011649352498352528, 0.01747402921319008, 0.040772732347249985, 0.5398804545402527, 0.04319043830037117, 0.010797609575092793, 0.17276175320148468, 0.08638087660074234, 0.05398804694414139, 0.08638087660074234, 0.8199682235717773, 0.006612646859139204, 0.0727391168475151, 0.06612647324800491, 0.006612646859139204, 0.013225293718278408, 0.013225293718278408, 0.4807254374027252, 0.2884352505207062, 0.09614508599042892, 0.9197522401809692, 0.027051536366343498, 0.027051536366343498, 0.5138044357299805, 0.17903700470924377, 0.10699844360351562, 0.06250403821468353, 0.022247200831770897, 0.04237562045454979, 0.036019276827573776, 0.007415733765810728, 0.006356343161314726, 0.010593905113637447, 0.0042375619523227215, 0.0021187809761613607, 0.005296952556818724, 0.0010593904880806804, 0.5847681164741516, 0.011695362627506256, 0.14034435153007507, 0.15203972160816193, 0.1052582636475563, 0.8485140800476074, 0.1212162971496582, 0.49287840723991394, 0.13215982913970947, 0.17724965512752533, 0.08396036177873611, 0.029541607946157455, 0.04198018088936806, 0.017103036865592003, 0.0015548215014860034, 0.006219286005944014, 0.004664464388042688, 0.004664464388042688, 0.003109643002972007, 0.004664464388042688, 0.003109643002972007, 0.5623008012771606, 0.15013572573661804, 0.13030648231506348, 0.08073335886001587, 0.018412871286273003, 0.019829247146844864, 0.014163747429847717, 0.0014163748128339648, 0.004249124322086573, 0.004249124322086573, 0.005665499251335859, 0.0028327496256679296, 0.0028327496256679296, 0.0014163748128339648, 0.0014163748128339648, 0.5357459783554077, 0.09062369912862778, 0.16258957982063293, 0.10128530859947205, 0.03731564059853554, 0.021323222666978836, 0.0159924179315567, 0.00799620896577835, 0.005330805666744709, 0.005330805666744709, 0.00799620896577835, 0.0026654028333723545, 0.005330805666744709, 0.0026654028333723545, 0.4036397933959961, 0.1938881129026413, 0.1145702451467514, 0.037015002220869064, 0.052878573536872864, 0.052878573536872864, 0.09694405645132065, 0.008813096210360527, 0.024676669389009476, 0.0017626191256567836, 0.007050476502627134, 0.0017626191256567836, 0.003525238251313567, 0.0017626191256567836, 0.6387395262718201, 0.2554958164691925, 0.7702071070671082, 0.05635661631822586, 0.1502843052148819, 0.018785538151860237, 0.9125750064849854, 0.055307574570178986, 0.013826893642544746, 0.8236039280891418, 0.1372673213481903, 0.28698939085006714, 0.46602863073349, 0.021063441410660744, 0.1632416695356369, 0.002632930176332593, 0.002632930176332593, 0.013164650648832321, 0.010531720705330372, 0.005265860352665186, 0.028962230309844017, 0.27342158555984497, 0.05592713877558708, 0.1802096664905548, 0.4598453640937805, 0.006214126478880644, 0.012428252957761288, 0.6143413186073303, 0.0024378623347729445, 0.3364250063896179, 0.0024378623347729445, 0.004875724669545889, 0.024378623813390732, 0.007313587237149477, 0.0024378623347729445, 0.5050031542778015, 0.4718881845474243, 0.008278739638626575, 0.008278739638626575, 0.9082252383232117, 0.08256593346595764, 0.8735465407371521, 0.40579095482826233, 0.27052730321884155, 0.04508788511157036, 0.15029294788837433, 0.015029295347630978, 0.015029295347630978, 0.09017577022314072, 0.3604559302330017, 0.19194556772708893, 0.09708874672651291, 0.046870432794094086, 0.1294516623020172, 0.053566206246614456, 0.0546821691095829, 0.010043663904070854, 0.014507514424622059, 0.011159626767039299, 0.0033478878904134035, 0.023435216397047043, 0.0022319252602756023, 0.0011159626301378012, 0.0011159626301378012, 0.23061954975128174, 0.6259673237800598, 0.09883695095777512, 0.9358584880828857, 0.9574568271636963, 0.001724486704915762, 0.9657125473022461, 0.005173460114747286, 0.008622433990240097, 0.001724486704915762, 0.005173460114747286, 0.006897946819663048, 0.003448973409831524, 0.7474380135536194, 0.10192336142063141, 0.10192336142063141, 0.17570781707763672, 0.38985171914100647, 0.027454346418380737, 0.07138130068778992, 0.06589043140411377, 0.15374433994293213, 0.054908692836761475, 0.0054908692836761475, 0.0054908692836761475, 0.0054908692836761475, 0.03843608498573303, 0.010981738567352295, 0.2626212537288666, 0.2708281874656677, 0.18055212497711182, 0.012310371734201908, 0.10668988525867462, 0.02051728591322899, 0.024620743468403816, 0.09437951445579529, 0.00820691417902708, 0.012310371734201908, 0.00820691417902708, 0.00410345708951354, 0.24001747369766235, 0.12500910460948944, 0.14001019299030304, 0.010000728070735931, 0.2050149291753769, 0.040002912282943726, 0.13500982522964478, 0.05000364035367966, 0.015001092106103897, 0.005000364035367966, 0.015001092106103897, 0.015001092106103897, 0.1220225840806961, 0.8053490519523621, 0.04880903288722038, 0.15141627192497253, 0.37854066491127014, 0.37854066491127014, 0.6558881402015686, 0.20078207552433014, 0.03346367925405502, 0.013385471887886524, 0.006692735943943262, 0.04015641659498215, 0.013385471887886524, 0.013385471887886524, 0.013385471887886524, 0.013385471887886524, 0.4394837021827698, 0.404325008392334, 0.03515869751572609, 0.017579348757863045, 0.08789674192667007, 0.5580937266349792, 0.1395234316587448, 0.2790468633174896, 0.11929117888212204, 0.47716471552848816, 0.23858235776424408, 0.11929117888212204, 0.8238822817802429, 0.16477644443511963, 0.4620738923549652, 0.1540246307849884, 0.1540246307849884, 0.05134154483675957, 0.10268308967351913, 0.49646154046058655, 0.33097437024116516, 0.5597022175788879, 0.07749722898006439, 0.07749722898006439, 0.1377728432416916, 0.051664818078279495, 0.0344432108104229, 0.025832409039139748, 0.008610802702605724, 0.008610802702605724, 0.01722160540521145, 0.04749414324760437, 0.04749414324760437, 0.1424824297428131, 0.23747071623802185, 0.04749414324760437, 0.18997657299041748, 0.18997657299041748, 0.04749414324760437, 0.04749414324760437, 0.9407424330711365, 0.009502449072897434, 0.01900489814579487, 0.01900489814579487, 0.9343729019165039, 0.3567076027393341, 0.08917690068483353, 0.3567076027393341, 0.17835380136966705, 0.11835981905460358, 0.5917990803718567, 0.23671963810920715, 0.4328993856906891, 0.20862621068954468, 0.10257454961538315, 0.03824813663959503, 0.0904046893119812, 0.0452023446559906, 0.0452023446559906, 0.006954206619411707, 0.006954206619411707, 0.006954206619411707, 0.005215655080974102, 0.0017385516548529267, 0.006954206619411707, 0.0017385516548529267, 0.0017385516548529267, 0.1898365318775177, 0.1898365318775177, 0.1898365318775177, 0.3796730637550354, 0.09623384475708008, 0.19246768951416016, 0.5774030685424805, 0.13195395469665527, 0.27319109439849854, 0.3282271921634674, 0.05105756223201752, 0.06896086037158966, 0.08222256600856781, 0.03646968677639961, 0.0026523408014327288, 0.003978511318564415, 0.009283192455768585, 0.007293937262147665, 0.00331542594358325, 0.0006630852003581822, 0.7361845970153809, 0.18404614925384521, 0.28962236642837524, 0.28962236642837524, 0.14481118321418762, 0.4002794027328491, 0.4803352952003479, 0.40266573429107666, 0.12155947089195251, 0.15194933116436005, 0.053182266652584076, 0.03038986772298813, 0.06077973544597626, 0.1291569322347641, 0.007597466930747032, 0.015194933861494064, 0.007597466930747032, 0.007597466930747032, 0.007597466930747032, 0.007597466930747032, 0.7748721241950989, 0.15497441589832306, 0.5215649008750916, 0.44755908846855164, 0.003524087369441986, 0.007048174738883972, 0.010572262108325958, 0.8960124850273132, 0.012800178490579128, 0.07680106908082962, 0.012800178490579128, 0.8644567728042603, 0.036019034683704376, 0.07203806936740875, 0.7958558797836304, 0.0994819849729538, 0.35017499327659607, 0.2523607611656189, 0.19758477807044983, 0.05281969532370567, 0.02543170377612114, 0.03325684368610382, 0.04499455541372299, 0.007825139909982681, 0.003912569954991341, 0.013693994842469692, 0.005868854932487011, 0.003912569954991341, 0.0019562849774956703, 0.0019562849774956703, 0.20208148658275604, 0.46553584933280945, 0.1062798872590065, 0.055385295301675797, 0.016465898603200912, 0.016465898603200912, 0.026944197714328766, 0.07334809005260468, 0.011975198984146118, 0.004490699619054794, 0.004490699619054794, 0.005987599492073059, 0.010478299111127853, 0.1992298811674118, 0.3763231039047241, 0.08854661136865616, 0.04427330568432808, 0.06640996038913727, 0.04427330568432808, 0.04427330568432808, 0.02213665284216404, 0.08854661136865616, 0.1929847151041031, 0.1929847151041031, 0.1929847151041031, 0.1929847151041031, 0.6229799389839172, 0.1557449847459793, 0.1557449847459793, 0.5774347186088562, 0.2887173593044281, 0.8233686685562134, 0.1510140299797058, 0.755070149898529, 0.5416980981826782, 0.125751331448555, 0.06771226227283478, 0.10318058729171753, 0.038692720234394073, 0.03224393352866173, 0.02257075347006321, 0.009673180058598518, 0.006448786705732346, 0.016121966764330864, 0.006448786705732346, 0.009673180058598518, 0.009673180058598518, 0.009673180058598518, 0.9357454776763916, 0.19360223412513733, 0.7467514276504517, 0.027657460421323776, 0.5488662123680115, 0.14618045091629028, 0.14618045091629028, 0.06343679875135422, 0.0193068515509367, 0.013790608383715153, 0.016548730432987213, 0.005516243167221546, 0.008274365216493607, 0.005516243167221546, 0.016548730432987213, 0.005516243167221546, 0.002758121583610773, 0.002758121583610773, 0.6936314105987549, 0.08670392632484436, 0.17340785264968872, 0.12131959944963455, 0.12131959944963455, 0.4852783977985382, 0.12131959944963455, 0.4035230278968811, 0.269015371799469, 0.269015371799469, 0.8692302107810974, 0.026745544746518135, 0.06686386466026306, 0.013372772373259068, 0.013372772373259068, 0.1438359022140503, 0.1438359022140503, 0.4890420734882355, 0.01917812041938305, 0.0383562408387661, 0.0383562408387661, 0.0767124816775322, 0.01917812041938305, 0.01917812041938305, 0.009589060209691525, 0.04218912124633789, 0.1898510456085205, 0.44298577308654785, 0.04218912124633789, 0.10547280311584473, 0.14766192436218262, 0.5454253554344177, 0.0779179111123085, 0.0779179111123085, 0.155835822224617, 0.0779179111123085, 0.720952033996582, 0.07177619636058807, 0.06699112057685852, 0.05423090606927872, 0.009570159949362278, 0.011165185831487179, 0.023925399407744408, 0.0031900531612336636, 0.007975133135914803, 0.009570159949362278, 0.009570159949362278, 0.0015950265806168318, 0.006380106322467327, 0.0031900531612336636, 0.0015950265806168318, 0.5789245367050171, 0.3666522204875946, 0.019297484308481216, 0.3754917085170746, 0.1877458542585373, 0.1877458542585373, 0.1877458542585373, 0.13349206745624542, 0.13349206745624542, 0.6674603223800659, 0.24749495089054108, 0.14558526873588562, 0.35486409068107605, 0.040035948157310486, 0.08189170807600021, 0.05277465656399727, 0.030936868861317635, 0.016378343105316162, 0.014558526687324047, 0.0018198158359155059, 0.0018198158359155059, 0.0036396316718310118, 0.005459447391331196, 0.0018198158359155059, 0.0018198158359155059, 0.5774020552635193, 0.06485313177108765, 0.10250978916883469, 0.06903720647096634, 0.05857701972126961, 0.04602480307221413, 0.016736291348934174, 0.010460182093083858, 0.029288509860634804, 0.0020920364186167717, 0.006276109255850315, 0.0020920364186167717, 0.014644254930317402, 0.0020920364186167717, 0.6449911594390869, 0.0716656893491745, 0.0716656893491745, 0.143331378698349, 0.9443891048431396, 0.03256514295935631, 0.8951844573020935, 0.7419520616531372, 0.1854880154132843, 0.5382843613624573, 0.05382843688130379, 0.05382843688130379, 0.21531374752521515, 0.05382843688130379, 0.3520118296146393, 0.5280177593231201, 0.2380518913269043, 0.19713672995567322, 0.13390418887138367, 0.07811077684164047, 0.1636606752872467, 0.06323253363370895, 0.07439121603965759, 0.0037195608019828796, 0.018597804009914398, 0.007439121603965759, 0.007439121603965759, 0.007439121603965759, 0.0037195608019828796, 0.7523996233940125, 0.1880999058485031, 0.2014390528202057, 0.2517988085746765, 0.05035976320505142, 0.15107929706573486, 0.15107929706573486, 0.10071952641010284, 0.05035976320505142, 0.05035976320505142, 0.31957364082336426, 0.15978682041168213, 0.15978682041168213, 0.31957364082336426, 0.05015837028622627, 0.8526923060417175, 0.10031674057245255, 0.8237264752388, 0.1267271488904953, 0.03801814466714859, 0.8987793326377869, 0.4449373781681061, 0.09672551602125168, 0.03869020566344261, 0.2127961367368698, 0.03869020566344261, 0.03869020566344261, 0.03869020566344261, 0.09672551602125168, 0.10062699019908905, 0.4192791283130646, 0.11739815771579742, 0.2515674829483032, 0.08385583013296127, 0.196010559797287, 0.196010559797287, 0.392021119594574, 0.06729020923376083, 0.8243050575256348, 0.08411276340484619, 0.01682255230844021, 0.5412346720695496, 0.07465305924415588, 0.05598979443311691, 0.11197958886623383, 0.1306428611278534, 0.03732652962207794, 0.01866326481103897, 0.9107909202575684, 0.4561356008052826, 0.505007266998291, 0.005430185701698065, 0.02172074280679226, 0.005430185701698065, 0.6076253056526184, 0.2897905111312866, 0.07478465139865875, 0.009348081424832344, 0.6534808278083801, 0.2987340986728668, 0.018670881167054176, 0.018670881167054176, 0.6250959634780884, 0.1562739908695221, 0.1562739908695221, 0.8200145363807678, 0.28538456559181213, 0.21106567978858948, 0.17539261281490326, 0.05648236349225044, 0.15458332002162933, 0.050536852329969406, 0.01783653534948826, 0.005945512093603611, 0.020809292793273926, 0.005945512093603611, 0.005945512093603611, 0.0029727560468018055, 0.0029727560468018055, 0.0029727560468018055, 0.0029727560468018055, 0.5107504725456238, 0.18334633111953735, 0.27501949667930603, 0.026192333549261093, 0.7468792796134949, 0.18671981990337372, 0.9526020288467407, 0.34749293327331543, 0.17374646663665771, 0.34749293327331543, 0.17374646663665771, 0.1852038949728012, 0.5556116700172424, 0.1852038949728012, 0.24651803076267242, 0.6471098065376282, 0.030814753845334053, 0.030814753845334053, 0.5752169489860535, 0.0230086762458086, 0.20707809925079346, 0.0230086762458086, 0.0460173524916172, 0.11504338681697845, 0.15934507548809052, 0.7967253923416138, 0.6363961696624756, 0.3181980848312378, 0.8165028691291809, 0.40438979864120483, 0.20814180374145508, 0.10704435408115387, 0.053522177040576935, 0.07136290520429611, 0.029734542593359947, 0.06145139038562775, 0.013876120559871197, 0.015858422964811325, 0.015858422964811325, 0.0019823028706014156, 0.007929211482405663, 0.003964605741202831, 0.003964605741202831, 0.0019823028706014156, 0.11938507854938507, 0.7163105010986328, 0.11938507854938507, 0.17965199053287506, 0.3593039810657501, 0.3593039810657501, 0.5347493886947632, 0.01243603229522705, 0.44769716262817383, 0.37474241852760315, 0.18737120926380157, 0.37474241852760315, 0.25735872983932495, 0.15756656229496002, 0.15494045615196228, 0.049896080046892166, 0.10241826623678207, 0.1496882438659668, 0.047269970178604126, 0.010504437610507011, 0.036765530705451965, 0.002626109402626753, 0.015756657347083092, 0.010504437610507011, 0.002626109402626753, 0.2803662419319153, 0.14018312096595764, 0.2803662419319153, 0.2803662419319153, 0.13886064291000366, 0.14954222738742828, 0.18158699572086334, 0.010681587271392345, 0.010681587271392345, 0.06408952921628952, 0.3311292231082916, 0.02136317454278469, 0.0534079372882843, 0.03204476460814476, 0.9373261332511902, 0.03749304637312889, 0.14003852009773254, 0.2800770401954651, 0.2800770401954651, 0.14003852009773254, 0.2665482759475708, 0.2665482759475708, 0.08884942531585693, 0.2665482759475708, 0.7054307460784912, 0.1410861611366272, 0.42445871233940125, 0.09095543622970581, 0.21222935616970062, 0.09095543622970581, 0.030318479984998703, 0.030318479984998703, 0.030318479984998703, 0.09095543622970581, 0.607051432132721, 0.1011752337217331, 0.2023504674434662, 0.38179826736450195, 0.19089913368225098, 0.38179826736450195, 0.3284759819507599, 0.21411767601966858, 0.1508556306362152, 0.060828886926174164, 0.04379679635167122, 0.04136364161968231, 0.08516044169664383, 0.038930486887693405, 0.009732621721923351, 0.00729946605861187, 0.012165777385234833, 0.002433155430480838, 0.002433155430480838, 0.6777967810630798, 0.271118700504303, 0.18944287300109863, 0.18944287300109863, 0.5683286190032959, 0.3285274803638458, 0.28846314549446106, 0.04807719215750694, 0.032051462680101395, 0.08012865483760834, 0.016025731340050697, 0.09615438431501389, 0.008012865670025349, 0.02403859607875347, 0.016025731340050697, 0.04807719215750694, 0.4465692639350891, 0.11164231598377228, 0.33492693305015564, 0.13818447291851044, 0.2763689458370209, 0.2763689458370209, 0.2763689458370209, 0.16824045777320862, 0.4626612663269043, 0.12618035078048706, 0.042060114443302155, 0.042060114443302155, 0.12618035078048706, 0.042060114443302155, 0.3174462616443634, 0.4040225148200989, 0.02885875105857849, 0.02885875105857849, 0.02885875105857849, 0.02885875105857849, 0.02885875105857849, 0.11543500423431396, 0.9102237820625305, 0.15231454372406006, 0.3046290874481201, 0.15231454372406006, 0.3046290874481201, 0.5059378743171692, 0.3372918963432312, 0.1686459481716156, 0.11616705358028412, 0.23233410716056824, 0.4646682143211365, 0.11616705358028412, 0.40169966220855713, 0.13389988243579865, 0.022316647693514824, 0.04463329538702965, 0.06694994121789932, 0.06694994121789932, 0.022316647693514824, 0.11158324033021927, 0.022316647693514824, 0.06694994121789932, 0.04463329538702965, 0.12409356981515884, 0.18614034354686737, 0.2481871396303177, 0.06204678490757942, 0.06204678490757942, 0.06204678490757942, 0.18614034354686737, 0.06204678490757942, 0.07551851123571396, 0.30207404494285583, 0.45311105251312256, 0.07551851123571396, 0.4296908676624298, 0.2148454338312149, 0.10742271691560745, 0.2148454338312149, 0.1603280007839203, 0.8016400337219238, 0.03206560015678406, 0.4066248834133148, 0.271083265542984, 0.135541632771492, 0.11095726490020752, 0.8401049971580505, 0.015851037576794624, 0.03170207515358925, 0.10705237835645676, 0.6423142552375793, 0.2141047567129135, 0.6307544708251953, 0.31537723541259766, 0.4088742733001709, 0.2102781981229782, 0.28037095069885254, 0.07009273767471313, 0.023364244028925896, 0.8034533262252808, 0.03919284790754318, 0.07838569581508636, 0.01959642395377159, 0.01959642395377159, 0.03919284790754318, 0.8737204670906067, 0.197527676820755, 0.39505535364151, 0.197527676820755, 0.197527676820755, 0.3357580602169037, 0.16787903010845184, 0.16787903010845184, 0.16787903010845184, 0.655120313167572, 0.1191127821803093, 0.05955639109015465, 0.05955639109015465, 0.05955639109015465, 0.029778195545077324, 0.2087622880935669, 0.10438114404678345, 0.5219057202339172, 0.31962597370147705, 0.15981298685073853, 0.15981298685073853, 0.15981298685073853, 0.42960551381111145, 0.04686605557799339, 0.48428258299827576, 0.023433027788996696, 0.007811009418219328, 0.8926682472229004, 0.06841932982206345, 0.2736773192882538, 0.20525799691677094, 0.06841932982206345, 0.2736773192882538, 0.1853397786617279, 0.5560193061828613, 0.1853397786617279, 0.04009265452623367, 0.12027796357870102, 0.08018530905246735, 0.04009265452623367, 0.04009265452623367, 0.20046328008174896, 0.441019207239151, 0.04009265452623367, 0.4224519431591034, 0.1408173143863678, 0.2816346287727356, 0.1703217625617981, 0.4954815208911896, 0.0619351901113987, 0.015483797527849674, 0.015483797527849674, 0.03096759505569935, 0.03096759505569935, 0.015483797527849674, 0.03096759505569935, 0.015483797527849674, 0.0774189829826355, 0.015483797527849674, 0.5517080426216125, 0.14518633484840393, 0.11614906787872314, 0.08711180090904236, 0.029037266969680786, 0.029037266969680786, 0.11803222447633743, 0.4375828802585602, 0.2187914401292801, 0.023030677810311317, 0.05757669731974602, 0.04030368849635124, 0.051819026470184326, 0.02878834865987301, 0.005757669452577829, 0.0028788347262889147, 0.0028788347262889147, 0.011515338905155659, 0.0028788347262889147, 0.0028788347262889147, 0.2166563868522644, 0.2166563868522644, 0.2166563868522644, 0.31000709533691406, 0.05166785046458244, 0.05166785046458244, 0.516678512096405, 0.3120104670524597, 0.10400348901748657, 0.4160139560699463, 0.5591649413108826, 0.1863883137702942, 0.33061203360557556, 0.33061203360557556, 0.16530601680278778, 0.6179048418998718, 0.3089524209499359, 0.6455258727073669, 0.18443596363067627, 0.09221798181533813, 0.38084331154823303, 0.5331806540489197, 0.07616866379976273, 0.7207646369934082, 0.24025489389896393, 0.8827919363975525, 0.016976768150925636, 0.05093030631542206, 0.016976768150925636, 0.016976768150925636, 0.8379993438720703, 0.11971419304609299, 0.3018779158592224, 0.1509389579296112, 0.452816903591156, 0.06624604016542435, 0.09274445474147797, 0.17223970592021942, 0.3047317862510681, 0.01324920728802681, 0.2649841606616974, 0.02649841457605362, 0.06624604016542435, 0.8183398246765137, 0.1405230015516281, 0.016532117500901222, 0.002755352994427085, 0.008266058750450611, 0.00551070598885417, 0.00551070598885417, 0.405388742685318, 0.22122320532798767, 0.20437879860401154, 0.0988205224275589, 0.021336248144507408, 0.006737762596458197, 0.012352565303444862, 0.006737762596458197, 0.007860722951591015, 0.00449184188619256, 0.00449184188619256, 0.00112296047154814, 0.0033688812982290983, 0.00112296047154814, 0.00112296047154814, 0.7509883046150208, 0.059400204569101334, 0.03394297510385513, 0.10607179254293442, 0.016971487551927567, 0.008485743775963783, 0.004242871887981892, 0.004242871887981892, 0.012728615663945675, 0.597370982170105, 0.19912366569042206, 0.19912366569042206, 0.8842297196388245, 0.07859819382429123, 0.568369448184967, 0.1894564926624298, 0.1894564926624298, 0.8835914731025696, 0.08032649755477905, 0.013387749902904034, 0.013387749902904034, 0.4238531291484833, 0.26972469687461853, 0.03853210061788559, 0.03853210061788559, 0.11559630185365677, 0.03853210061788559, 0.03853210061788559, 0.3378525376319885, 0.16892626881599426, 0.16892626881599426, 0.16892626881599426, 0.6712170243263245, 0.12585319578647614, 0.08390212804079056, 0.04195106402039528, 0.04195106402039528, 0.8731252551078796, 0.555841863155365, 0.37056124210357666, 0.4198351800441742, 0.13994506001472473, 0.13994506001472473, 0.27989012002944946, 0.5167060494422913, 0.17223535478115082, 0.17223535478115082, 0.503169596195221, 0.20537535846233368, 0.1245088130235672, 0.03465709090232849, 0.02952270768582821, 0.015403151512145996, 0.03722428157925606, 0.01026876736432314, 0.008985172025859356, 0.00513438368216157, 0.011552363634109497, 0.0012835959205403924, 0.011552363634109497, 0.0012835959205403924, 0.15837886929512024, 0.7391013503074646, 0.20102082192897797, 0.20102082192897797, 0.20102082192897797, 0.20102082192897797, 0.44274595379829407, 0.14758199453353882, 0.14758199453353882, 0.14758199453353882, 0.9414700269699097, 0.6425842642784119, 0.004041410516947508, 0.020207051187753677, 0.23440180718898773, 0.03637269511818886, 0.008082821033895016, 0.024248462170362473, 0.012124231085181236, 0.01616564206779003, 0.15472367405891418, 0.07736183702945709, 0.07736183702945709, 0.46417102217674255, 0.07736183702945709, 0.07736183702945709, 0.20341716706752777, 0.20341716706752777, 0.20341716706752777, 0.20341716706752777, 0.20341716706752777, 0.39211127161979675, 0.19605563580989838, 0.39211127161979675, 0.9473149180412292, 0.9188458323478699, 0.0417657196521759, 0.35879841446876526, 0.1435193568468094, 0.35879841446876526, 0.0717596784234047, 0.4547622799873352, 0.4547622799873352, 0.3940562605857849, 0.21046186983585358, 0.10746989399194717, 0.10523093491792679, 0.049257032573223114, 0.03806225210428238, 0.040301211178302765, 0.013433736748993397, 0.006716868374496698, 0.006716868374496698, 0.0022389560472220182, 0.006716868374496698, 0.013433736748993397, 0.0022389560472220182, 0.864565372467041, 0.42388299107551575, 0.14129433035850525, 0.05072104185819626, 0.08695036172866821, 0.10868795216083527, 0.04709811136126518, 0.07608156651258469, 0.014491726644337177, 0.028983453288674355, 0.010868795216083527, 0.0036229316610842943, 0.0036229316610842943, 0.9532179236412048, 0.5126504898071289, 0.27286234498023987, 0.09095411747694016, 0.041342779994010925, 0.01653711125254631, 0.024805668741464615, 0.008268555626273155, 0.01653711125254631, 0.01653711125254631, 0.5327032804489136, 0.3551355302333832, 0.5179101228713989, 0.08631835877895355, 0.08631835877895355, 0.1726367175579071, 0.08631835877895355, 0.3352780044078827, 0.19703026115894318, 0.23621860146522522, 0.047896858304739, 0.052251119166612625, 0.055516812950372696, 0.03483407944440842, 0.013062779791653156, 0.008708519861102104, 0.001088564982637763, 0.004354259930551052, 0.008708519861102104, 0.001088564982637763, 0.003265694947913289, 0.003265694947913289, 0.08328692615032196, 0.2220984846353531, 0.1943361759185791, 0.30538541078567505, 0.13881154358386993, 0.05552462115883827, 0.5354433059692383, 0.11640071123838425, 0.11640071123838425, 0.11640071123838425, 0.03492021560668945, 0.011640071868896484, 0.02328014373779297, 0.011640071868896484, 0.02328014373779297, 0.6215085387229919, 0.15537713468074799, 0.6887590289115906, 0.059892091900110245, 0.11978418380022049, 0.029946045950055122, 0.029946045950055122, 0.029946045950055122, 0.029946045950055122, 0.7719513177871704, 0.15439026057720184, 0.3129868507385254, 0.24531401693820953, 0.309603214263916, 0.0033836415968835354, 0.05752190575003624, 0.0033836415968835354, 0.005075462162494659, 0.006767283193767071, 0.03214459493756294, 0.0016918207984417677, 0.013534566387534142, 0.005075462162494659, 0.0033836415968835354, 0.06855929642915726, 0.7508079409599304, 0.03846009448170662, 0.001672178041189909, 0.025082670152187347, 0.010033068247139454, 0.05852622911334038, 0.03511573746800423, 0.005016534123569727, 0.001672178041189909, 0.006688712164759636, 0.001672178041189909, 0.18553654849529266, 0.5511527061462402, 0.027284786105155945, 0.016370872035622597, 0.04365566000342369, 0.005456957500427961, 0.032741744071245193, 0.04911261424422264, 0.06002653017640114, 0.005456957500427961, 0.021827830001711845, 0.4616508185863495, 0.15388360619544983, 0.30776721239089966, 0.41083699464797974, 0.20541849732398987, 0.20541849732398987, 0.10270924866199493, 0.9591222405433655, 0.02767120860517025, 0.036894943565130234, 0.5626478791236877, 0.15680351853370667, 0.12913230061531067, 0.04611868038773537, 0.018447471782565117, 0.02767120860517025, 0.42940467596054077, 0.4465808570384979, 0.1030571237206459, 0.3751705288887024, 0.1875852644443512, 0.1875852644443512, 0.5770314335823059, 0.1923438012599945, 0.1923438012599945, 0.2580091953277588, 0.32955798506736755, 0.1951330155134201, 0.03252216801047325, 0.03143809735774994, 0.059623975306749344, 0.04553103819489479, 0.02493366226553917, 0.004336289130151272, 0.002168144565075636, 0.003252216847613454, 0.007588506210595369, 0.001084072282537818, 0.003252216847613454, 0.002168144565075636, 0.962591290473938, 0.03565152734518051, 0.06740599870681763, 0.20221799612045288, 0.20221799612045288, 0.06740599870681763, 0.06740599870681763, 0.13481199741363525, 0.20221799612045288, 0.37128815054893494, 0.18564407527446747, 0.18564407527446747, 0.5491865277290344, 0.18306216597557068, 0.18306216597557068, 0.3646772801876068, 0.3646772801876068, 0.1823386400938034, 0.8043895959854126, 0.04072858765721321, 0.005091073457151651, 0.09163932502269745, 0.005091073457151651, 0.010182146914303303, 0.030546441674232483, 0.010182146914303303, 0.5041711926460266, 0.12604279816150665, 0.2520855963230133, 0.6005818247795105, 0.08579740673303604, 0.2573922276496887, 0.15867607295513153, 0.15867607295513153, 0.15867607295513153, 0.31735214591026306, 0.15867607295513153, 0.13648082315921783, 0.5459232926368713, 0.13648082315921783, 0.9548132419586182, 0.025126663967967033, 0.91773521900177, 0.031646039336919785, 0.5633857250213623, 0.28169286251068115, 0.7065652012825012, 0.9353696703910828, 0.6691557765007019, 0.04888809472322464, 0.030555058270692825, 0.17721934616565704, 0.021388541907072067, 0.009166517294943333, 0.009166517294943333, 0.00305550592020154, 0.00305550592020154, 0.015277529135346413, 0.009166517294943333, 0.00305550592020154, 0.00305550592020154, 0.00305550592020154, 0.9614231586456299, 0.9482294321060181, 0.733569860458374, 0.07803934812545776, 0.054627541452646255, 0.04292163997888565, 0.027313770726323128, 0.0078039346262812614, 0.0078039346262812614, 0.01170590240508318, 0.01170590240508318, 0.0078039346262812614, 0.01170590240508318, 0.0078039346262812614, 0.0039019673131406307, 0.5456002354621887, 0.13640005886554718, 0.13640005886554718, 0.13640005886554718, 0.16263487935066223, 0.32526975870132446, 0.16263487935066223, 0.16263487935066223, 0.16263487935066223, 0.35369426012039185, 0.565910816192627, 0.07073885202407837, 0.3895342946052551, 0.03541220724582672, 0.3895342946052551, 0.03541220724582672, 0.03541220724582672, 0.03541220724582672, 0.9353570938110352, 0.6421821713447571, 0.16054554283618927, 0.16054554283618927, 0.3804916739463806, 0.3804916739463806, 0.1902458369731903, 0.5006486773490906, 0.33376577496528625, 0.16688288748264313, 0.16449613869190216, 0.4934884011745453, 0.16449613869190216, 0.16449613869190216, 0.32459431886672974, 0.21054765582084656, 0.1637592911720276, 0.07895537465810776, 0.08480391651391983, 0.04678836837410927, 0.05263691395521164, 0.014621364884078503, 0.0029242730233818293, 0.0058485460467636585, 0.0029242730233818293, 0.0029242730233818293, 0.0029242730233818293, 0.008772819302976131, 0.1752336174249649, 0.2503337264060974, 0.0500667467713356, 0.0250333733856678, 0.0751001164317131, 0.0751001164317131, 0.3504672348499298, 0.0250333733856678, 0.2018919140100479, 0.23964406549930573, 0.2888859808444977, 0.02954515814781189, 0.09191826730966568, 0.06893870234489441, 0.021338170394301414, 0.04267634078860283, 0.004924193024635315, 0.0016413977136835456, 0.0016413977136835456, 0.0016413977136835456, 0.0016413977136835456, 0.0016413977136835456, 0.37265270948410034, 0.18632635474205017, 0.18632635474205017, 0.18632635474205017, 0.741381824016571, 0.21182337403297424, 0.19686150550842285, 0.3937230110168457, 0.19686150550842285, 0.19686150550842285, 0.9556361436843872, 0.043438006192445755, 0.9362661838531494, 0.4484764337539673, 0.228469118475914, 0.13538910448551178, 0.08884910494089127, 0.012692729011178017, 0.012692729011178017, 0.008461819030344486, 0.004230909515172243, 0.004230909515172243, 0.025385458022356033, 0.016923638060688972, 0.012692729011178017, 0.9096595048904419, 0.42150190472602844, 0.1391751617193222, 0.14712803065776825, 0.047717198729515076, 0.047717198729515076, 0.0516936294734478, 0.07157579809427261, 0.019882164895534515, 0.0039764330722391605, 0.015905732288956642, 0.011929299682378769, 0.011929299682378769, 0.007952866144478321, 0.3827543258666992, 0.255169540643692, 0.255169540643692, 0.127584770321846, 0.649413526058197, 0.10823559015989304, 0.21647118031978607, 0.020622145384550095, 0.061866432428359985, 0.4536871910095215, 0.4124428927898407, 0.020622145384550095, 0.46178674697875977, 0.14896346628665924, 0.16385981440544128, 0.052137214690446854, 0.052137214690446854, 0.022344520315527916, 0.022344520315527916, 0.014896346256136894, 0.03724086657166481, 0.02979269251227379, 0.42952388525009155, 0.21846473217010498, 0.14626029133796692, 0.06479886174201965, 0.042582109570503235, 0.016662564128637314, 0.016662564128637314, 0.01295977272093296, 0.01110837608575821, 0.009256980381906033, 0.009256980381906033, 0.0037027921061962843, 0.01110837608575821, 0.0018513960530981421, 0.0037027921061962843, 0.5533008575439453, 0.06916260719299316, 0.027665045112371445, 0.23515287041664124, 0.027665045112371445, 0.05533009022474289, 0.12987947463989258, 0.18572764098644257, 0.3480769693851471, 0.02857348322868347, 0.12208669632673264, 0.11429393291473389, 0.031171072274446487, 0.011689151637256145, 0.00909156259149313, 0.0025975892785936594, 0.003896384034305811, 0.003896384034305811, 0.007792768068611622, 0.0012987946392968297, 0.2586855888366699, 0.21634122729301453, 0.20633256435394287, 0.06544129550457001, 0.09315761178731918, 0.05928211659193039, 0.052353035658597946, 0.01616784930229187, 0.007698975969105959, 0.007698975969105959, 0.0023096927907317877, 0.004619385581463575, 0.006159180775284767, 0.0015397951938211918, 0.0007698975969105959, 0.8919106721878052, 0.05067674443125725, 0.01013534888625145, 0.01013534888625145, 0.0304060447961092, 0.48277831077575684, 0.11848405748605728, 0.11583142727613449, 0.07515779882669449, 0.05393677204847336, 0.047747306525707245, 0.03802100196480751, 0.012378931045532227, 0.0159157682210207, 0.012378931045532227, 0.004421046935021877, 0.008842093870043755, 0.009726302698254585, 0.0008842093520797789, 0.0026526281144469976, 0.8727874159812927, 0.19281236827373505, 0.1619623899459839, 0.11568742245435715, 0.007712495047599077, 0.02313748560845852, 0.1619623899459839, 0.20823736488819122, 0.015424990095198154, 0.06169996038079262, 0.04627497121691704, 0.34468144178390503, 0.23624232411384583, 0.18202278017997742, 0.052283138036727905, 0.017427712678909302, 0.044537488371133804, 0.046473901718854904, 0.029046187177300453, 0.011618475429713726, 0.007745650131255388, 0.013554887846112251, 0.005809237714856863, 0.003872825065627694, 0.003872825065627694, 0.001936412532813847, 0.35919031500816345, 0.25318723917007446, 0.1365075707435608, 0.057195909321308136, 0.05033240094780922, 0.05490807443857193, 0.03813060745596886, 0.013727018609642982, 0.007626121398061514, 0.006863509304821491, 0.006100896745920181, 0.011439181864261627, 0.0030504483729600906, 0.0007626120932400227, 0.0007626120932400227, 0.6079614758491516, 0.20265382528305054, 0.10132691264152527, 0.4130844473838806, 0.1376948207616806, 0.2753896415233612, 0.531603991985321, 0.15045395493507385, 0.09629053622484207, 0.12638132274150848, 0.008024211041629314, 0.024072634056210518, 0.014042370021343231, 0.014042370021343231, 0.0060181585140526295, 0.008024211041629314, 0.0060181585140526295, 0.0060181585140526295, 0.004012105520814657, 0.004012105520814657, 0.0020060527604073286, 0.20401115715503693, 0.5329270958900452, 0.083269864320755, 0.012490479275584221, 0.024980958551168442, 0.02081746608018875, 0.058288902044296265, 0.03747143596410751, 0.012490479275584221, 0.012490479275584221, 0.004163492936640978, 0.2283916473388672, 0.1141958236694336, 0.2283916473388672, 0.3425874710083008, 0.7783109545707703, 0.1556621938943863, 0.7838180065155029, 0.09221388399600983, 0.04610694199800491, 0.09221388399600983, 0.5623897314071655, 0.18746323883533478, 0.18746323883533478, 0.7277294993400574, 0.18193237483501434, 0.6801552176475525, 0.2720620930194855, 0.6318787932395935, 0.1148870587348938, 0.2297741174697876, 0.18680277466773987, 0.2401750087738037, 0.06004375219345093, 0.033357638865709305, 0.026686111465096474, 0.06004375219345093, 0.1401020884513855, 0.22016042470932007, 0.013343055732548237, 0.006671527866274118, 0.006671527866274118, 0.7252506017684937, 0.10477080941200256, 0.8643591403961182, 0.20169124007225037, 0.20169124007225037, 0.20169124007225037, 0.20169124007225037, 0.20169124007225037, 0.40362995862960815, 0.40362995862960815, 0.3575570285320282, 0.5363355278968811, 0.5002426505088806, 0.10004852712154388, 0.20009705424308777, 0.4196430742740631, 0.31473231315612793, 0.10491076856851578, 0.266155868768692, 0.39923378825187683, 0.133077934384346, 0.133077934384346, 0.5549812912940979, 0.18499375879764557, 0.18499375879764557, 0.8567124605178833, 0.9311704635620117, 0.9551135897636414, 0.6552016735076904, 0.3276008367538452, 0.9499501585960388, 0.02499868907034397, 0.37194928526878357, 0.37194928526878357, 0.18597464263439178, 0.17628295719623566, 0.47008785605430603, 0.29380491375923157, 0.5111199021339417, 0.09293089807033539, 0.37172359228134155, 0.2505502700805664, 0.2505502700805664, 0.1252751350402832, 0.2505502700805664, 0.1252751350402832, 0.9313805103302002, 0.7783138751983643, 0.15566277503967285, 0.9387503266334534, 0.872217059135437, 0.9100373983383179, 0.11931944638490677, 0.8522817492485046, 0.017045635730028152, 0.3949313461780548, 0.3949313461780548, 0.1974656730890274, 0.7223647832870483, 0.12747614085674286, 0.12747614085674286, 0.6149192452430725, 0.12298384308815002, 0.12298384308815002, 0.35122478008270264, 0.14297646284103394, 0.15851737558841705, 0.05283912643790245, 0.11189461499452591, 0.05905549228191376, 0.06527186185121536, 0.02175728604197502, 0.01554091926664114, 0.003108183853328228, 0.009324551559984684, 0.009324551559984684, 0.9421420097351074, 0.41993796825408936, 0.19838449358940125, 0.15494263172149658, 0.055026356130838394, 0.06226666271686554, 0.03475348651409149, 0.03475348651409149, 0.008688371628522873, 0.0043441858142614365, 0.00579224806278944, 0.0043441858142614365, 0.00579224806278944, 0.008688371628522873, 0.00144806201569736, 0.00144806201569736, 0.5543603897094727, 0.18478679656982422, 0.18478679656982422, 0.5360552668571472, 0.16061581671237946, 0.10841567814350128, 0.0943617895245552, 0.014053883962333202, 0.020076977089047432, 0.02409237250685692, 0.014053883962333202, 0.00602309312671423, 0.00602309312671423, 0.004015395417809486, 0.004015395417809486, 0.004015395417809486, 0.004015395417809486, 0.4216267764568329, 0.3305937349796295, 0.1772748976945877, 0.06468138098716736, 0.0023956068325787783, 0.35521507263183594, 0.5328226089477539, 0.5731729865074158, 0.19105765223503113, 0.19105765223503113, 0.6578114628791809, 0.2192704826593399, 0.7692026495933533, 0.025219758972525597, 0.029423052445054054, 0.1303020864725113, 0.004203293472528458, 0.01681317389011383, 0.012609879486262798, 0.004203293472528458, 0.004203293472528458, 0.5186543464660645, 0.23051303625106812, 0.05762825906276703, 0.05762825906276703, 0.11525651812553406, 0.9396575093269348, 0.3143320381641388, 0.010839036665856838, 0.37394675612449646, 0.2547173500061035, 0.01625855453312397, 0.03251710906624794, 0.30170726776123047, 0.6034145355224609, 0.004518632311373949, 0.9579501152038574, 0.004518632311373949, 0.013555897399783134, 0.004518632311373949, 0.013555897399783134, 0.3067226707935333, 0.4600839912891388, 0.3067226707935333, 0.563681423664093, 0.187893807888031, 0.187893807888031, 0.15356500446796417, 0.37036263942718506, 0.12646529078483582, 0.02709970623254776, 0.02709970623254776, 0.02709970623254776, 0.22583088278770447, 0.02709970623254776, 0.018066471442580223, 0.39947518706321716, 0.1933629959821701, 0.07862011343240738, 0.025498416274785995, 0.12961694598197937, 0.059496305882930756, 0.05524656921625137, 0.01912381313741207, 0.012749208137392998, 0.006374604068696499, 0.006374604068696499, 0.006374604068696499, 0.006374604068696499, 0.0021248681005090475, 0.4721808433532715, 0.31478723883628845, 0.15739361941814423, 0.3708270490169525, 0.32700201869010925, 0.2730635404586792, 0.010113464668393135, 0.010113464668393135, 0.5285717248916626, 0.12048326432704926, 0.05829835310578346, 0.22153374552726746, 0.015546227805316448, 0.011659670621156693, 0.015546227805316448, 0.007773113902658224, 0.007773113902658224, 0.011659670621156693, 0.007773113902658224, 0.3920513391494751, 0.3920513391494751, 0.19602566957473755, 0.4741441309452057, 0.12092266976833344, 0.06682568788528442, 0.0413682796061039, 0.05409698188304901, 0.08591873943805695, 0.0477326326072216, 0.057279158383607864, 0.015910876914858818, 0.0031821755692362785, 0.009546526707708836, 0.012728702276945114, 0.0031821755692362785, 0.0031821755692362785, 0.42028936743736267, 0.12490527331829071, 0.2295556366443634, 0.04726145416498184, 0.06582845747470856, 0.028694454580545425, 0.03375818207859993, 0.01181536354124546, 0.010127454064786434, 0.0033758182544261217, 0.005063727032393217, 0.005063727032393217, 0.006751636508852243, 0.0033758182544261217, 0.005063727032393217, 0.5498007535934448, 0.07854296267032623, 0.07854296267032623, 0.31417185068130493, 0.11837245523929596, 0.7102347612380981, 0.2883359491825104, 0.22731246054172516, 0.1632378101348877, 0.03356291353702545, 0.1250981241464615, 0.05644671618938446, 0.03661408647894859, 0.01373028289526701, 0.012204695492982864, 0.003051173873245716, 0.006102347746491432, 0.02440939098596573, 0.009153521619737148, 0.001525586936622858, 0.11394792050123215, 0.8546094298362732], \"Term\": [\"abandon\", \"abandon\", \"abbey\", \"abbey\", \"abbey\", \"abbot\", \"abbot\", \"abbot\", \"abhorred\", \"abhorred\", \"abhorred\", \"abhorred\", \"accommodate\", \"accommodate\", \"accommodate\", \"accommodate\", \"accorded\", \"accorded\", \"acquaintance\", \"acquaintance\", \"acquaintance\", \"acquaintance\", \"acquaintance\", \"acquaintance\", \"acquaintance\", \"acquaintance\", \"acquaintance\", \"acquaintance\", \"acquaintance\", \"acquaintance\", \"acquaintance\", \"acquaintance\", \"acquit\", \"acquit\", \"acquit\", \"acquit\", \"acquitted\", \"acquitted\", \"acquitted\", \"acquitted\", \"addition\", \"addition\", \"addition\", \"addition\", \"addition\", \"addition\", \"addition\", \"addition\", \"addition\", \"adele\", \"adele\", \"adele\", \"adele\", \"adele\", \"adele\", \"affection\", \"affection\", \"affection\", \"affection\", \"affection\", \"affection\", \"affection\", \"affection\", \"affection\", \"affection\", \"affection\", \"affection\", \"affection\", \"affianced\", \"affianced\", \"affording\", \"affording\", \"affording\", \"affording\", \"aged\", \"aged\", \"aghast\", \"aghast\", \"aghast\", \"aimed\", \"aimed\", \"aimed\", \"aimed\", \"aimed\", \"airing\", \"airing\", \"allez\", \"alluding\", \"alluding\", \"alluding\", \"amiable\", \"amiable\", \"amiable\", \"amiable\", \"amiable\", \"amiable\", \"amiable\", \"amiable\", \"amiable\", \"amiable\", \"amiable\", \"amiss\", \"amiss\", \"amiss\", \"amiss\", \"amounted\", \"amounted\", \"amounted\", \"anecdote\", \"anecdote\", \"anecdote\", \"anecdote\", \"anecdote\", \"answer\", \"answer\", \"answer\", \"answer\", \"answer\", \"answer\", \"answer\", \"answer\", \"answer\", \"answer\", \"answer\", \"answer\", \"answer\", \"answerable\", \"answerable\", \"answerable\", \"apologise\", \"apologise\", \"apologise\", \"appetite\", \"appetite\", \"appetite\", \"appetite\", \"appetite\", \"apples\", \"apples\", \"apples\", \"apples\", \"approving\", \"apron\", \"apron\", \"argue\", \"argue\", \"argue\", \"argue\", \"asked\", \"asked\", \"asked\", \"asked\", \"asked\", \"asked\", \"asked\", \"asked\", \"asked\", \"asked\", \"asked\", \"asked\", \"asked\", \"asked\", \"aspirations\", \"aspirations\", \"assertions\", \"assertions\", \"assez\", \"assiduous\", \"assiduous\", \"assiduous\", \"assistance\", \"assistance\", \"assistance\", \"assistance\", \"assistance\", \"assistance\", \"assistance\", \"assistance\", \"assistance\", \"assure\", \"assure\", \"assure\", \"assure\", \"assure\", \"assure\", \"assure\", \"assure\", \"assure\", \"assure\", \"athenee\", \"atonement\", \"atonement\", \"atonement\", \"atonement\", \"attachment\", \"attachment\", \"attachment\", \"attachment\", \"attachment\", \"attachment\", \"attachment\", \"attachment\", \"attachment\", \"attachment\", \"attachment\", \"aunt\", \"aunt\", \"aunt\", \"aunt\", \"aunt\", \"aunt\", \"aunt\", \"aunt\", \"aunt\", \"aunt\", \"averted\", \"averted\", \"averted\", \"averted\", \"avez\", \"away\", \"away\", \"away\", \"away\", \"away\", \"away\", \"away\", \"away\", \"away\", \"away\", \"away\", \"away\", \"away\", \"away\", \"bands\", \"bands\", \"banker\", \"banker\", \"barton\", \"barton\", \"barton\", \"barton\", \"bates\", \"bates\", \"bates\", \"bates\", \"bates\", \"bath\", \"bath\", \"bath\", \"bath\", \"bathing\", \"bathing\", \"bathing\", \"bearing\", \"bearing\", \"bearing\", \"bearing\", \"bearing\", \"bearing\", \"beaux\", \"beck\", \"beck\", \"beck\", \"beckoned\", \"beckoned\", \"beef\", \"beef\", \"beef\", \"beef\", \"beer\", \"beer\", \"behaviour\", \"behaviour\", \"behaviour\", \"behaviour\", \"behaviour\", \"behaviour\", \"behaviour\", \"behaviour\", \"behaviour\", \"behaviour\", \"behaviour\", \"belgium\", \"believe\", \"believe\", \"believe\", \"believe\", \"believe\", \"believe\", \"believe\", \"believe\", \"believe\", \"believe\", \"believe\", \"believe\", \"believe\", \"believe\", \"bell\", \"bell\", \"bell\", \"bell\", \"bell\", \"bell\", \"bell\", \"bell\", \"bell\", \"bell\", \"bell\", \"benefactress\", \"benefactress\", \"benefactress\", \"benefactress\", \"bennet\", \"bennet\", \"bennet\", \"bennet\", \"bennet\", \"bennet\", \"berkeley\", \"bessie\", \"bessie\", \"bessie\", \"bessie\", \"better\", \"better\", \"better\", \"better\", \"better\", \"better\", \"better\", \"better\", \"better\", \"better\", \"better\", \"better\", \"better\", \"better\", \"better\", \"bewitching\", \"bewitching\", \"bible\", \"bible\", \"bible\", \"bible\", \"bien\", \"bien\", \"bien\", \"bigben\", \"bigben\", \"bingley\", \"bingley\", \"bingley\", \"bingley\", \"bingley\", \"black\", \"black\", \"black\", \"black\", \"black\", \"black\", \"black\", \"blameless\", \"blameless\", \"blameless\", \"blameless\", \"blindness\", \"blindness\", \"blood\", \"blood\", \"blood\", \"blood\", \"blood\", \"blood\", \"blood\", \"blood\", \"blossoms\", \"blossoms\", \"blossoms\", \"body\", \"body\", \"body\", \"body\", \"body\", \"body\", \"body\", \"body\", \"body\", \"body\", \"body\", \"body\", \"borders\", \"borders\", \"borders\", \"bouquet\", \"bouquet\", \"bourgeois\", \"bourgeois\", \"bourgh\", \"bourgh\", \"bourgh\", \"boy\", \"boy\", \"boy\", \"boy\", \"boy\", \"boy\", \"boy\", \"boy\", \"boy\", \"boy\", \"bracelet\", \"bracelet\", \"bracelet\", \"bracelet\", \"brandon\", \"brandon\", \"brandon\", \"brandon\", \"brandon\", \"bread\", \"bread\", \"bread\", \"bread\", \"bread\", \"bread\", \"bretton\", \"bretton\", \"bretton\", \"bretton\", \"bretton\", \"briggs\", \"bright\", \"bright\", \"bright\", \"bright\", \"bright\", \"bright\", \"bright\", \"brightening\", \"brightening\", \"brightening\", \"brightening\", \"brighton\", \"brighton\", \"brighton\", \"bristol\", \"bristol\", \"bristol\", \"brother\", \"brother\", \"brother\", \"brother\", \"brother\", \"brother\", \"brother\", \"brother\", \"brother\", \"brother\", \"brother\", \"brother\", \"brother\", \"brother\", \"brush\", \"brush\", \"brussels\", \"brussels\", \"brutal\", \"brutal\", \"brutal\", \"bunch\", \"bunch\", \"bunch\", \"bundle\", \"bundle\", \"burdened\", \"burdened\", \"burning\", \"burning\", \"burning\", \"burning\", \"burns\", \"burns\", \"burns\", \"burns\", \"butcher\", \"butcher\", \"butler\", \"butler\", \"butter\", \"butter\", \"butter\", \"butter\", \"cake\", \"cake\", \"cake\", \"cake\", \"cake\", \"cake\", \"cake\", \"cake\", \"came\", \"came\", \"came\", \"came\", \"came\", \"came\", \"came\", \"came\", \"came\", \"came\", \"came\", \"came\", \"came\", \"came\", \"came\", \"campbell\", \"campbell\", \"campbells\", \"campbells\", \"campbells\", \"candle\", \"candle\", \"candle\", \"candle\", \"candle\", \"catherine\", \"catherine\", \"catherine\", \"catherine\", \"catherine\", \"causes\", \"causes\", \"causes\", \"causes\", \"causes\", \"ce\", \"ce\", \"ce\", \"ce\", \"cela\", \"cela\", \"cela\", \"certain\", \"certain\", \"certain\", \"certain\", \"certain\", \"certain\", \"certain\", \"certain\", \"certain\", \"certain\", \"certain\", \"certain\", \"certain\", \"certain\", \"certainly\", \"certainly\", \"certainly\", \"certainly\", \"certainly\", \"certainly\", \"certainly\", \"certainly\", \"certainly\", \"certainly\", \"certainly\", \"certainly\", \"character\", \"character\", \"character\", \"character\", \"character\", \"character\", \"character\", \"character\", \"character\", \"character\", \"character\", \"character\", \"character\", \"character\", \"character\", \"charade\", \"charade\", \"charade\", \"charlotte\", \"charlotte\", \"charlotte\", \"charlotte\", \"charlotte\", \"charmingly\", \"charmingly\", \"charmingly\", \"cheap\", \"cheap\", \"cheap\", \"cheap\", \"chicken\", \"chicken\", \"chicken\", \"chicken\", \"child\", \"child\", \"child\", \"child\", \"child\", \"child\", \"child\", \"child\", \"child\", \"child\", \"child\", \"child\", \"children\", \"children\", \"children\", \"children\", \"children\", \"children\", \"children\", \"children\", \"children\", \"children\", \"children\", \"children\", \"children\", \"cholmondeley\", \"cholmondeley\", \"chose\", \"chose\", \"chose\", \"chose\", \"chose\", \"chose\", \"chose\", \"chose\", \"chose\", \"chose\", \"chose\", \"churchill\", \"churchill\", \"churchill\", \"churchill\", \"churchills\", \"churchills\", \"churchills\", \"chuse\", \"chuse\", \"chuse\", \"chuse\", \"chuse\", \"clapped\", \"clapped\", \"clapped\", \"cleveland\", \"cleveland\", \"clock\", \"clock\", \"clock\", \"clock\", \"clock\", \"clock\", \"clock\", \"clock\", \"clock\", \"closed\", \"closed\", \"closed\", \"closed\", \"closed\", \"closed\", \"closed\", \"closed\", \"closed\", \"closed\", \"closed\", \"closed\", \"clouded\", \"clouded\", \"clouded\", \"clouded\", \"coach\", \"coach\", \"coach\", \"coach\", \"coach\", \"coach\", \"coach\", \"coffee\", \"coffee\", \"coffee\", \"coffee\", \"coffee\", \"cole\", \"cole\", \"cole\", \"collins\", \"collins\", \"collins\", \"collins\", \"collins\", \"colonel\", \"colonel\", \"colonel\", \"colonel\", \"colonel\", \"colonel\", \"colonel\", \"colonel\", \"colonel\", \"colonel\", \"combine\", \"combine\", \"combine\", \"come\", \"come\", \"come\", \"come\", \"come\", \"come\", \"come\", \"come\", \"come\", \"come\", \"come\", \"come\", \"come\", \"come\", \"come\", \"comme\", \"comme\", \"competent\", \"competent\", \"comprehending\", \"comprehending\", \"conduct\", \"conduct\", \"conduct\", \"conduct\", \"conduct\", \"conduct\", \"conduct\", \"conduct\", \"conduct\", \"conduct\", \"conduct\", \"conduct\", \"conduct\", \"connexion\", \"connexion\", \"connexion\", \"connexion\", \"conscientious\", \"conscientious\", \"conscientious\", \"conscientious\", \"conscientious\", \"contemplate\", \"contemplate\", \"contemplate\", \"contemplate\", \"contrasts\", \"contrasts\", \"cooled\", \"cooled\", \"cooled\", \"cooler\", \"cooler\", \"cooler\", \"corps\", \"corps\", \"corps\", \"corps\", \"cousin\", \"cousin\", \"cousin\", \"cousin\", \"cousin\", \"cousin\", \"cousin\", \"cousin\", \"cousin\", \"cousin\", \"cox\", \"crack\", \"crack\", \"craving\", \"craving\", \"create\", \"create\", \"creditable\", \"creditable\", \"creditable\", \"cried\", \"cried\", \"cried\", \"cried\", \"cried\", \"cried\", \"cried\", \"cried\", \"cried\", \"cried\", \"cried\", \"cried\", \"cried\", \"crimsworth\", \"crimsworth\", \"crimsworth\", \"crimsworth\", \"crimsworth\", \"crown\", \"crown\", \"crown\", \"crown\", \"crown\", \"crown\", \"cruelly\", \"cruelly\", \"cruelly\", \"cruelly\", \"cups\", \"cups\", \"cups\", \"dancing\", \"dancing\", \"dancing\", \"dancing\", \"dancing\", \"dans\", \"darcy\", \"darcy\", \"darcy\", \"darcy\", \"darcy\", \"darcy\", \"darcy\", \"dark\", \"dark\", \"dark\", \"dark\", \"dark\", \"dark\", \"dark\", \"dark\", \"dark\", \"dark\", \"dark\", \"dashwood\", \"dashwood\", \"dashwood\", \"dashwood\", \"dashwood\", \"dashwood\", \"dashwoods\", \"dashwoods\", \"daughter\", \"daughter\", \"daughter\", \"daughter\", \"daughter\", \"daughter\", \"daughter\", \"daughter\", \"daughter\", \"daughter\", \"daughter\", \"daughter\", \"daughters\", \"daughters\", \"daughters\", \"daughters\", \"daughters\", \"daughters\", \"daughters\", \"daughters\", \"day\", \"day\", \"day\", \"day\", \"day\", \"day\", \"day\", \"day\", \"day\", \"day\", \"day\", \"day\", \"day\", \"day\", \"day\", \"days\", \"days\", \"days\", \"days\", \"days\", \"days\", \"days\", \"days\", \"days\", \"days\", \"days\", \"days\", \"days\", \"days\", \"dear\", \"dear\", \"dear\", \"dear\", \"dear\", \"dear\", \"dear\", \"dear\", \"dear\", \"dear\", \"dear\", \"dear\", \"dear\", \"debts\", \"debts\", \"debts\", \"debts\", \"debts\", \"deceit\", \"deceit\", \"deceit\", \"deep\", \"deep\", \"deep\", \"deep\", \"deep\", \"deep\", \"deep\", \"deep\", \"deep\", \"deep\", \"deep\", \"delaford\", \"delaford\", \"delaford\", \"delaford\", \"delirious\", \"delirious\", \"denny\", \"denny\", \"denny\", \"denny\", \"deplorable\", \"deplorable\", \"deplorable\", \"depth\", \"depth\", \"depth\", \"desiree\", \"desiree\", \"despaired\", \"despaired\", \"despaired\", \"despaired\", \"detaining\", \"detaining\", \"deviation\", \"deviation\", \"deviation\", \"deviation\", \"deviation\", \"diana\", \"diana\", \"diana\", \"died\", \"died\", \"died\", \"died\", \"died\", \"died\", \"died\", \"died\", \"died\", \"died\", \"dire\", \"dirty\", \"dirty\", \"dirty\", \"dirty\", \"dirty\", \"dirty\", \"disadvantage\", \"disadvantage\", \"disadvantage\", \"discerned\", \"discerned\", \"discerned\", \"discerned\", \"discerned\", \"disgraced\", \"disgraced\", \"disgraced\", \"disown\", \"disown\", \"displeasing\", \"displeasing\", \"disposal\", \"disposal\", \"disposal\", \"disregarded\", \"disregarded\", \"disregarded\", \"disregarded\", \"distresses\", \"distresses\", \"distresses\", \"distresses\", \"dixon\", \"dixon\", \"doctor\", \"doctor\", \"doctor\", \"doctor\", \"doctor\", \"doctor\", \"doctrine\", \"doctrine\", \"door\", \"door\", \"door\", \"door\", \"door\", \"door\", \"door\", \"door\", \"door\", \"door\", \"door\", \"door\", \"door\", \"doubt\", \"doubt\", \"doubt\", \"doubt\", \"doubt\", \"doubt\", \"doubt\", \"doubt\", \"doubt\", \"doubt\", \"doubt\", \"doubt\", \"doubt\", \"dr\", \"dr\", \"dr\", \"dr\", \"dr\", \"dr\", \"dr\", \"dulness\", \"dulness\", \"dumb\", \"dumb\", \"dumb\", \"dumb\", \"earthquake\", \"earthquake\", \"edward\", \"edward\", \"edward\", \"edward\", \"edward\", \"edward\", \"edward\", \"edward\", \"edward\", \"elegantly\", \"elegantly\", \"elements\", \"elements\", \"elements\", \"elinor\", \"elinor\", \"elinor\", \"elinor\", \"elinor\", \"elinor\", \"elinor\", \"elinor\", \"elinor\", \"elizabeth\", \"elizabeth\", \"elizabeth\", \"elizabeth\", \"elizabeth\", \"elizabeth\", \"elizabeth\", \"elizabeth\", \"elizabeth\", \"elizabeth\", \"elle\", \"elle\", \"elle\", \"elle\", \"elopement\", \"elopement\", \"elopement\", \"elton\", \"elton\", \"elton\", \"elton\", \"eltons\", \"eltons\", \"eltons\", \"eltons\", \"emanuel\", \"emanuel\", \"emanuel\", \"emanuel\", \"emma\", \"emma\", \"emma\", \"emma\", \"emma\", \"emma\", \"emma\", \"encumbrance\", \"encumbrance\", \"encumbrance\", \"engagement\", \"engagement\", \"engagement\", \"engagement\", \"engagement\", \"engagement\", \"engagement\", \"engagement\", \"english\", \"english\", \"english\", \"english\", \"english\", \"english\", \"english\", \"english\", \"enounced\", \"enounced\", \"enounced\", \"enscombe\", \"enscombe\", \"enscombe\", \"enscombe\", \"ere\", \"ere\", \"ere\", \"ere\", \"ere\", \"ere\", \"ere\", \"ere\", \"est\", \"est\", \"est\", \"establish\", \"establish\", \"establish\", \"establish\", \"establish\", \"estate\", \"estate\", \"estate\", \"estate\", \"estate\", \"estate\", \"estate\", \"estate\", \"estate\", \"estates\", \"estates\", \"estates\", \"estrade\", \"estrade\", \"estrade\", \"et\", \"et\", \"et\", \"et\", \"et\", \"etre\", \"europe\", \"evening\", \"evening\", \"evening\", \"evening\", \"evening\", \"evening\", \"evening\", \"evening\", \"evening\", \"evening\", \"evening\", \"evening\", \"evening\", \"evening\", \"exercising\", \"exercising\", \"exercising\", \"expanse\", \"expanse\", \"expanse\", \"expanse\", \"expenses\", \"expenses\", \"expenses\", \"expenses\", \"expenses\", \"explained\", \"explained\", \"explained\", \"explained\", \"explained\", \"explained\", \"explained\", \"explained\", \"explained\", \"expressively\", \"expressively\", \"expressively\", \"expressively\", \"expressively\", \"external\", \"external\", \"external\", \"extravagance\", \"extravagance\", \"extravagance\", \"extravagance\", \"extravagance\", \"extravagance\", \"extravagant\", \"extravagant\", \"extravagant\", \"extravagant\", \"eye\", \"eye\", \"eye\", \"eye\", \"eye\", \"eye\", \"eye\", \"eye\", \"eye\", \"eye\", \"eye\", \"eye\", \"eyelid\", \"eyelid\", \"eyes\", \"eyes\", \"eyes\", \"eyes\", \"eyes\", \"eyes\", \"eyes\", \"eyes\", \"eyes\", \"eyes\", \"eyes\", \"eyes\", \"eyes\", \"face\", \"face\", \"face\", \"face\", \"face\", \"face\", \"face\", \"face\", \"face\", \"face\", \"face\", \"face\", \"face\", \"fairfax\", \"fairfax\", \"fairfax\", \"fairfax\", \"fairfax\", \"fairfax\", \"fairfax\", \"fairfax\", \"falls\", \"falls\", \"falls\", \"falls\", \"false\", \"false\", \"false\", \"false\", \"false\", \"false\", \"false\", \"false\", \"false\", \"false\", \"family\", \"family\", \"family\", \"family\", \"family\", \"family\", \"family\", \"family\", \"family\", \"family\", \"family\", \"family\", \"family\", \"family\", \"famished\", \"famished\", \"fanshawe\", \"fanshawe\", \"fanshawe\", \"fare\", \"fare\", \"fare\", \"fare\", \"fare\", \"fare\", \"fare\", \"farmer\", \"farmer\", \"father\", \"father\", \"father\", \"father\", \"father\", \"father\", \"father\", \"father\", \"father\", \"father\", \"father\", \"father\", \"father\", \"favourites\", \"favourites\", \"favourites\", \"favourites\", \"feasted\", \"feasted\", \"feelingly\", \"feelingly\", \"feelings\", \"feelings\", \"feelings\", \"feelings\", \"feelings\", \"feelings\", \"feelings\", \"feelings\", \"feelings\", \"feelings\", \"feelings\", \"feelings\", \"feelings\", \"feelings\", \"felt\", \"felt\", \"felt\", \"felt\", \"felt\", \"felt\", \"felt\", \"felt\", \"felt\", \"felt\", \"felt\", \"felt\", \"felt\", \"felt\", \"felt\", \"ferrars\", \"ferrars\", \"ferrars\", \"ferrars\", \"ferrars\", \"fervid\", \"fervid\", \"fidelity\", \"fidelity\", \"fidelity\", \"fight\", \"fight\", \"fight\", \"fight\", \"firmness\", \"firmness\", \"firmness\", \"firmness\", \"fitzwilliam\", \"fitzwilliam\", \"flakes\", \"flakes\", \"flakes\", \"flakes\", \"flatter\", \"flatter\", \"flatter\", \"flatter\", \"flatter\", \"flatter\", \"flatter\", \"flatter\", \"flatter\", \"flesh\", \"flesh\", \"flesh\", \"flesh\", \"ford\", \"forehead\", \"forehead\", \"forehead\", \"forehead\", \"forehead\", \"foresaw\", \"foresaw\", \"forgiveness\", \"forgiveness\", \"forgiveness\", \"forster\", \"forster\", \"forster\", \"forster\", \"forster\", \"fortune\", \"fortune\", \"fortune\", \"fortune\", \"fortune\", \"fortune\", \"fortune\", \"fortune\", \"fortune\", \"fortune\", \"fortune\", \"fortune\", \"forwarded\", \"forwarded\", \"forwarded\", \"fragrant\", \"fragrant\", \"fragrant\", \"fragrant\", \"frances\", \"frances\", \"frances\", \"francs\", \"frank\", \"frank\", \"frank\", \"frank\", \"frank\", \"frank\", \"frank\", \"frank\", \"free\", \"free\", \"free\", \"free\", \"free\", \"free\", \"free\", \"free\", \"free\", \"free\", \"free\", \"french\", \"french\", \"french\", \"french\", \"french\", \"french\", \"friday\", \"friend\", \"friend\", \"friend\", \"friend\", \"friend\", \"friend\", \"friend\", \"friend\", \"friend\", \"friend\", \"friend\", \"friend\", \"friend\", \"friend\", \"friends\", \"friends\", \"friends\", \"friends\", \"friends\", \"friends\", \"friends\", \"friends\", \"friends\", \"friends\", \"friends\", \"friends\", \"friends\", \"frigid\", \"frigid\", \"frigid\", \"fully\", \"fully\", \"fully\", \"fully\", \"fully\", \"fully\", \"fully\", \"fully\", \"fully\", \"fully\", \"fully\", \"fully\", \"fully\", \"fully\", \"garcon\", \"gardiner\", \"gardiner\", \"gardiner\", \"gardiner\", \"generation\", \"generation\", \"generation\", \"generation\", \"gentility\", \"gentility\", \"georgette\", \"georgette\", \"georgette\", \"gifted\", \"gifted\", \"gifted\", \"ginevra\", \"ginevra\", \"ginevra\", \"girl\", \"girl\", \"girl\", \"girl\", \"girl\", \"girl\", \"girl\", \"girl\", \"girl\", \"girl\", \"girl\", \"girl\", \"girl\", \"girl\", \"given\", \"given\", \"given\", \"given\", \"given\", \"given\", \"given\", \"given\", \"given\", \"given\", \"given\", \"given\", \"given\", \"given\", \"glorious\", \"glove\", \"glove\", \"glove\", \"glove\", \"god\", \"god\", \"god\", \"god\", \"god\", \"god\", \"god\", \"god\", \"god\", \"god\", \"god\", \"goddard\", \"goddard\", \"goddard\", \"goddard\", \"godmother\", \"godmother\", \"going\", \"going\", \"going\", \"going\", \"going\", \"going\", \"going\", \"going\", \"going\", \"going\", \"going\", \"going\", \"good\", \"good\", \"good\", \"good\", \"good\", \"good\", \"good\", \"good\", \"good\", \"good\", \"good\", \"good\", \"good\", \"good\", \"gracechurch\", \"gracechurch\", \"gracechurch\", \"graces\", \"graces\", \"graces\", \"graces\", \"graces\", \"graces\", \"graces\", \"graham\", \"graham\", \"graham\", \"graham\", \"graham\", \"graham\", \"graham\", \"grandmama\", \"grandmother\", \"grandmother\", \"grandmother\", \"grandmother\", \"grandmother\", \"great\", \"great\", \"great\", \"great\", \"great\", \"great\", \"great\", \"great\", \"great\", \"great\", \"great\", \"great\", \"great\", \"grec\", \"grief\", \"grief\", \"grief\", \"grief\", \"grief\", \"grief\", \"grief\", \"grief\", \"grieving\", \"grieving\", \"grisette\", \"grisette\", \"grisette\", \"grisette\", \"gross\", \"gross\", \"grove\", \"grove\", \"grove\", \"grove\", \"grove\", \"grove\", \"half\", \"half\", \"half\", \"half\", \"half\", \"half\", \"half\", \"half\", \"half\", \"half\", \"half\", \"half\", \"half\", \"hall\", \"hall\", \"hall\", \"hall\", \"hall\", \"hall\", \"hall\", \"hall\", \"hall\", \"hall\", \"hand\", \"hand\", \"hand\", \"hand\", \"hand\", \"hand\", \"hand\", \"hand\", \"hand\", \"hand\", \"hand\", \"hand\", \"hand\", \"hand\", \"hannah\", \"hannah\", \"hannah\", \"happiness\", \"happiness\", \"happiness\", \"happiness\", \"happiness\", \"happiness\", \"happiness\", \"happiness\", \"happiness\", \"happiness\", \"happiness\", \"happiness\", \"happiness\", \"happiness\", \"harass\", \"harass\", \"harass\", \"harley\", \"harmless\", \"harmless\", \"harmless\", \"harmless\", \"harmless\", \"harp\", \"harriet\", \"harriet\", \"harriet\", \"harriet\", \"harriet\", \"harriet\", \"hartfield\", \"hartfield\", \"hartfield\", \"hartfield\", \"hartfield\", \"having\", \"having\", \"having\", \"having\", \"having\", \"having\", \"having\", \"having\", \"having\", \"having\", \"having\", \"having\", \"having\", \"having\", \"having\", \"hawkins\", \"hawkins\", \"hawkins\", \"hazardous\", \"hazardous\", \"hazardous\", \"hazardous\", \"head\", \"head\", \"head\", \"head\", \"head\", \"head\", \"head\", \"head\", \"head\", \"head\", \"head\", \"head\", \"head\", \"hear\", \"hear\", \"hear\", \"hear\", \"hear\", \"hear\", \"hear\", \"hear\", \"hear\", \"hear\", \"hear\", \"hear\", \"hear\", \"hear\", \"heard\", \"heard\", \"heard\", \"heard\", \"heard\", \"heard\", \"heard\", \"heard\", \"heard\", \"heard\", \"heard\", \"heard\", \"heard\", \"heard\", \"heard\", \"heart\", \"heart\", \"heart\", \"heart\", \"heart\", \"heart\", \"heart\", \"heart\", \"heart\", \"heart\", \"heart\", \"heart\", \"heart\", \"heart\", \"heart\", \"helen\", \"helen\", \"helen\", \"helen\", \"helen\", \"hell\", \"henceforth\", \"henceforth\", \"henceforth\", \"henri\", \"henry\", \"henry\", \"henry\", \"henry\", \"henry\", \"henry\", \"highbury\", \"highbury\", \"highbury\", \"highbury\", \"highbury\", \"home\", \"home\", \"home\", \"home\", \"home\", \"home\", \"home\", \"home\", \"home\", \"home\", \"home\", \"home\", \"home\", \"home\", \"hope\", \"hope\", \"hope\", \"hope\", \"hope\", \"hope\", \"hope\", \"hope\", \"hope\", \"hope\", \"hope\", \"hope\", \"hope\", \"hope\", \"hope\", \"hostess\", \"hostess\", \"hostess\", \"house\", \"house\", \"house\", \"house\", \"house\", \"house\", \"house\", \"house\", \"house\", \"house\", \"house\", \"house\", \"house\", \"house\", \"housekeeping\", \"housekeeping\", \"housekeeping\", \"humility\", \"humility\", \"humility\", \"humility\", \"humility\", \"humility\", \"hunsden\", \"hunsden\", \"hunsden\", \"hunsden\", \"hunsford\", \"hunsford\", \"hurst\", \"hurst\", \"ignorant\", \"ignorant\", \"ignorant\", \"ignorant\", \"ignorant\", \"ignorant\", \"ignorant\", \"ignorant\", \"iii\", \"iii\", \"iii\", \"iii\", \"impediment\", \"impediment\", \"impediment\", \"impromptu\", \"imprudent\", \"imprudent\", \"imprudent\", \"imprudent\", \"imprudent\", \"imprudent\", \"impunity\", \"impunity\", \"impunity\", \"inattentive\", \"inattentive\", \"inattentive\", \"inattentive\", \"incapacity\", \"incapacity\", \"incapacity\", \"income\", \"income\", \"income\", \"income\", \"income\", \"income\", \"income\", \"income\", \"income\", \"inconveniences\", \"inconveniences\", \"india\", \"indicated\", \"indicated\", \"indicated\", \"indicated\", \"indolence\", \"indolence\", \"inequality\", \"inequality\", \"inexpressibly\", \"inexpressibly\", \"infallibly\", \"infallibly\", \"infamous\", \"infamous\", \"infection\", \"infection\", \"infection\", \"infection\", \"infection\", \"inferred\", \"inferred\", \"inferred\", \"infirm\", \"infirm\", \"infirm\", \"injured\", \"injured\", \"injured\", \"injured\", \"injurious\", \"injurious\", \"injurious\", \"injurious\", \"inn\", \"inn\", \"inn\", \"inn\", \"inn\", \"inquisitive\", \"inquisitive\", \"inquisitive\", \"insuperable\", \"insuperable\", \"insuperable\", \"insuperable\", \"intimately\", \"intimately\", \"intimately\", \"invariable\", \"involved\", \"involved\", \"involved\", \"involved\", \"involved\", \"involved\", \"involved\", \"irritated\", \"irritated\", \"irritated\", \"irritated\", \"irritated\", \"irritated\", \"irritated\", \"irritating\", \"irritating\", \"isabella\", \"isabella\", \"isabella\", \"isabella\", \"isidore\", \"isidore\", \"isidore\", \"jane\", \"jane\", \"jane\", \"jane\", \"jane\", \"jane\", \"jane\", \"jane\", \"jane\", \"jane\", \"jane\", \"jane\", \"jane\", \"je\", \"je\", \"jenkinson\", \"jenkinson\", \"jennings\", \"jennings\", \"jennings\", \"jennings\", \"john\", \"john\", \"john\", \"john\", \"john\", \"john\", \"john\", \"john\", \"john\", \"john\", \"john\", \"john\", \"john\", \"jokes\", \"jokes\", \"jokes\", \"journey\", \"journey\", \"journey\", \"journey\", \"journey\", \"journey\", \"journey\", \"journey\", \"justice\", \"justice\", \"justice\", \"justice\", \"justice\", \"justice\", \"justice\", \"justice\", \"justice\", \"justice\", \"justice\", \"justice\", \"justice\", \"kept\", \"kept\", \"kept\", \"kept\", \"kept\", \"kept\", \"kept\", \"kept\", \"kept\", \"kept\", \"kept\", \"kept\", \"kept\", \"kind\", \"kind\", \"kind\", \"kind\", \"kind\", \"kind\", \"kind\", \"kind\", \"kind\", \"kind\", \"kind\", \"kind\", \"kind\", \"kind\", \"kitty\", \"kitty\", \"kitty\", \"kitty\", \"kitty\", \"kitty\", \"kneeling\", \"knew\", \"knew\", \"knew\", \"knew\", \"knew\", \"knew\", \"knew\", \"knew\", \"knew\", \"knew\", \"knew\", \"knew\", \"knew\", \"knew\", \"knightley\", \"knightley\", \"knightley\", \"knightley\", \"knightley\", \"knightleys\", \"knoll\", \"knoll\", \"knoll\", \"know\", \"know\", \"know\", \"know\", \"know\", \"know\", \"know\", \"know\", \"know\", \"know\", \"know\", \"know\", \"know\", \"know\", \"know\", \"known\", \"known\", \"known\", \"known\", \"known\", \"known\", \"known\", \"known\", \"known\", \"known\", \"known\", \"known\", \"known\", \"known\", \"la\", \"la\", \"la\", \"la\", \"la\", \"la\", \"labour\", \"labour\", \"labour\", \"labour\", \"labour\", \"labour\", \"ladies\", \"ladies\", \"ladies\", \"ladies\", \"ladies\", \"ladies\", \"ladies\", \"ladies\", \"ladies\", \"ladies\", \"ladies\", \"lady\", \"lady\", \"lady\", \"lady\", \"lady\", \"lady\", \"lady\", \"lady\", \"lady\", \"lady\", \"lady\", \"lady\", \"lady\", \"ladyship\", \"ladyship\", \"ladyship\", \"ladyship\", \"ladyship\", \"lambton\", \"lambton\", \"lamentations\", \"lamentations\", \"lamentations\", \"larkins\", \"larkins\", \"law\", \"law\", \"law\", \"law\", \"law\", \"law\", \"law\", \"law\", \"law\", \"law\", \"law\", \"law\", \"law\", \"lawyer\", \"lawyer\", \"lawyer\", \"lawyer\", \"lawyer\", \"leave\", \"leave\", \"leave\", \"leave\", \"leave\", \"leave\", \"leave\", \"leave\", \"leave\", \"leave\", \"leave\", \"leave\", \"leave\", \"left\", \"left\", \"left\", \"left\", \"left\", \"left\", \"left\", \"left\", \"left\", \"left\", \"left\", \"left\", \"left\", \"left\", \"legal\", \"legal\", \"legal\", \"legal\", \"les\", \"les\", \"letter\", \"letter\", \"letter\", \"letter\", \"letter\", \"letter\", \"letter\", \"letter\", \"letter\", \"letter\", \"letter\", \"liberally\", \"liberally\", \"liberally\", \"liberally\", \"life\", \"life\", \"life\", \"life\", \"life\", \"life\", \"life\", \"life\", \"life\", \"life\", \"life\", \"life\", \"life\", \"life\", \"light\", \"light\", \"light\", \"light\", \"light\", \"light\", \"light\", \"light\", \"light\", \"light\", \"light\", \"light\", \"like\", \"like\", \"like\", \"like\", \"like\", \"like\", \"like\", \"like\", \"like\", \"like\", \"like\", \"like\", \"like\", \"like\", \"like\", \"liked\", \"liked\", \"liked\", \"liked\", \"liked\", \"liked\", \"liked\", \"liked\", \"liked\", \"liked\", \"liked\", \"liked\", \"liked\", \"likelihood\", \"likelihood\", \"likelihood\", \"likelihood\", \"likelihood\", \"likelihood\", \"liking\", \"liking\", \"liking\", \"liking\", \"liking\", \"little\", \"little\", \"little\", \"little\", \"little\", \"little\", \"little\", \"little\", \"little\", \"little\", \"little\", \"little\", \"little\", \"little\", \"little\", \"live\", \"live\", \"live\", \"live\", \"live\", \"live\", \"live\", \"live\", \"live\", \"live\", \"live\", \"live\", \"live\", \"live\", \"live\", \"living\", \"living\", \"living\", \"living\", \"living\", \"living\", \"living\", \"living\", \"living\", \"living\", \"lizzy\", \"lizzy\", \"lizzy\", \"lizzy\", \"lizzy\", \"lizzy\", \"lizzy\", \"ll\", \"ll\", \"ll\", \"ll\", \"ll\", \"ll\", \"ll\", \"lloyd\", \"lloyd\", \"lloyd\", \"lonely\", \"lonely\", \"lonely\", \"long\", \"long\", \"long\", \"long\", \"long\", \"long\", \"long\", \"long\", \"long\", \"long\", \"long\", \"long\", \"long\", \"long\", \"longbourn\", \"longbourn\", \"longbourn\", \"longbourn\", \"longbourn\", \"longstaple\", \"longstaple\", \"look\", \"look\", \"look\", \"look\", \"look\", \"look\", \"look\", \"look\", \"look\", \"look\", \"look\", \"look\", \"look\", \"look\", \"looked\", \"looked\", \"looked\", \"looked\", \"looked\", \"looked\", \"looked\", \"looked\", \"looked\", \"looked\", \"looked\", \"looked\", \"looked\", \"looked\", \"looked\", \"looking\", \"looking\", \"looking\", \"looking\", \"looking\", \"looking\", \"looking\", \"looking\", \"looking\", \"looking\", \"looking\", \"looking\", \"looking\", \"looking\", \"love\", \"love\", \"love\", \"love\", \"love\", \"love\", \"love\", \"love\", \"love\", \"love\", \"love\", \"love\", \"love\", \"love\", \"lowered\", \"lowered\", \"lowood\", \"lowood\", \"lowood\", \"lowood\", \"lucas\", \"lucas\", \"lucas\", \"lucases\", \"lucases\", \"lucy\", \"lucy\", \"lucy\", \"lucy\", \"lucy\", \"lucy\", \"lucy\", \"lucy\", \"lucy\", \"lucy\", \"lydia\", \"lydia\", \"lydia\", \"lydia\", \"lydia\", \"lydia\", \"madame\", \"madame\", \"madame\", \"madame\", \"madame\", \"madame\", \"madame\", \"madame\", \"mademoiselle\", \"mademoiselle\", \"mademoiselle\", \"mademoiselle\", \"magna\", \"magna\", \"mal\", \"mamma\", \"mamma\", \"mamma\", \"mamma\", \"mamma\", \"mamma\", \"mamma\", \"man\", \"man\", \"man\", \"man\", \"man\", \"man\", \"man\", \"man\", \"man\", \"man\", \"man\", \"man\", \"man\", \"man\", \"man\", \"maple\", \"maple\", \"maple\", \"marchmont\", \"margaret\", \"marianne\", \"marianne\", \"marianne\", \"marianne\", \"marianne\", \"marianne\", \"marianne\", \"marianne\", \"marie\", \"marie\", \"marie\", \"marriage\", \"marriage\", \"marriage\", \"marriage\", \"marriage\", \"marriage\", \"marriage\", \"marriage\", \"marriage\", \"marriage\", \"marriage\", \"marriage\", \"married\", \"married\", \"married\", \"married\", \"married\", \"married\", \"married\", \"married\", \"married\", \"married\", \"married\", \"married\", \"marry\", \"marry\", \"marry\", \"marry\", \"marry\", \"marry\", \"marry\", \"marry\", \"marry\", \"marry\", \"marry\", \"marry\", \"martin\", \"martin\", \"martin\", \"martins\", \"martins\", \"martins\", \"mary\", \"mary\", \"mary\", \"mary\", \"mary\", \"mary\", \"mary\", \"mary\", \"mary\", \"mary\", \"mason\", \"mason\", \"mason\", \"mason\", \"mason\", \"matched\", \"matched\", \"matched\", \"matches\", \"matches\", \"matches\", \"matches\", \"mdlle\", \"mdlle\", \"meat\", \"meat\", \"meat\", \"meat\", \"meat\", \"memories\", \"memories\", \"mere\", \"mere\", \"mere\", \"mere\", \"mere\", \"mere\", \"mere\", \"mere\", \"mere\", \"mere\", \"merits\", \"merits\", \"merits\", \"merits\", \"merits\", \"merits\", \"merits\", \"merits\", \"merits\", \"middleton\", \"middleton\", \"middleton\", \"middleton\", \"middletons\", \"midsummer\", \"midsummer\", \"midsummer\", \"midsummer\", \"militia\", \"militia\", \"militia\", \"mind\", \"mind\", \"mind\", \"mind\", \"mind\", \"mind\", \"mind\", \"mind\", \"mind\", \"mind\", \"mind\", \"mind\", \"mind\", \"mind\", \"mind\", \"mischievous\", \"mischievous\", \"mischievous\", \"mischievous\", \"misconduct\", \"misconduct\", \"misconduct\", \"miss\", \"miss\", \"miss\", \"miss\", \"miss\", \"miss\", \"miss\", \"miss\", \"miss\", \"miss\", \"miss\", \"miss\", \"miss\", \"misty\", \"misty\", \"misunderstand\", \"misunderstand\", \"misunderstand\", \"misunderstood\", \"misunderstood\", \"money\", \"money\", \"money\", \"money\", \"money\", \"money\", \"money\", \"money\", \"money\", \"money\", \"money\", \"money\", \"money\", \"monitor\", \"monitor\", \"monsieur\", \"monsieur\", \"monsieur\", \"monsieur\", \"monsieur\", \"moon\", \"moon\", \"moon\", \"moon\", \"moor\", \"moor\", \"moor\", \"moors\", \"moors\", \"morning\", \"morning\", \"morning\", \"morning\", \"morning\", \"morning\", \"morning\", \"morning\", \"morning\", \"morning\", \"morning\", \"morning\", \"morning\", \"morning\", \"mother\", \"mother\", \"mother\", \"mother\", \"mother\", \"mother\", \"mother\", \"mother\", \"mother\", \"mother\", \"mother\", \"mother\", \"mother\", \"motive\", \"motive\", \"motive\", \"motive\", \"motive\", \"motive\", \"motive\", \"motive\", \"motive\", \"mud\", \"mud\", \"mud\", \"mud\", \"musings\", \"musings\", \"musings\", \"mystic\", \"mystic\", \"naivete\", \"nash\", \"nash\", \"nature\", \"nature\", \"nature\", \"nature\", \"nature\", \"nature\", \"nature\", \"nature\", \"nature\", \"nature\", \"nature\", \"nature\", \"nature\", \"nature\", \"natures\", \"ne\", \"ne\", \"ne\", \"near\", \"near\", \"near\", \"near\", \"near\", \"near\", \"near\", \"near\", \"near\", \"near\", \"near\", \"near\", \"near\", \"near\", \"needful\", \"needful\", \"needful\", \"negligent\", \"negligent\", \"negligent\", \"negligent\", \"nest\", \"nest\", \"nest\", \"netherfield\", \"netherfield\", \"netherfield\", \"netherfield\", \"netherfield\", \"news\", \"news\", \"news\", \"news\", \"news\", \"news\", \"news\", \"news\", \"news\", \"news\", \"niece\", \"niece\", \"niece\", \"niece\", \"niece\", \"niece\", \"nieces\", \"nieces\", \"nieces\", \"nieces\", \"nieces\", \"night\", \"night\", \"night\", \"night\", \"night\", \"night\", \"night\", \"night\", \"night\", \"night\", \"night\", \"night\", \"night\", \"night\", \"night\", \"norland\", \"norland\", \"norland\", \"obviously\", \"obviously\", \"obviously\", \"obviously\", \"occurrences\", \"occurrences\", \"occurrences\", \"oh\", \"oh\", \"oh\", \"oh\", \"oh\", \"oh\", \"oh\", \"oh\", \"oh\", \"oh\", \"oh\", \"oh\", \"oh\", \"oh\", \"oh\", \"old\", \"old\", \"old\", \"old\", \"old\", \"old\", \"old\", \"old\", \"old\", \"old\", \"old\", \"old\", \"old\", \"old\", \"olive\", \"olive\", \"olive\", \"olive\", \"oliver\", \"oliver\", \"opaque\", \"ornamented\", \"ornamented\", \"orphan\", \"orphan\", \"orphan\", \"orphan\", \"orphan\", \"ostensible\", \"ostensible\", \"ought\", \"ought\", \"ought\", \"ought\", \"ought\", \"ought\", \"ought\", \"ought\", \"ought\", \"ought\", \"ought\", \"ought\", \"ought\", \"overtaken\", \"overtaken\", \"owing\", \"owing\", \"owing\", \"owing\", \"owing\", \"owing\", \"owing\", \"owing\", \"packing\", \"packing\", \"packing\", \"packing\", \"paletot\", \"paletot\", \"paletot\", \"palmer\", \"palmer\", \"palmer\", \"palmers\", \"parents\", \"parents\", \"parents\", \"parents\", \"parents\", \"parents\", \"parents\", \"parents\", \"particulars\", \"particulars\", \"particulars\", \"particulars\", \"particulars\", \"partners\", \"partners\", \"partners\", \"pas\", \"pas\", \"pas\", \"pas\", \"patient\", \"patient\", \"patient\", \"patient\", \"patient\", \"patient\", \"patient\", \"patty\", \"paul\", \"paul\", \"paul\", \"paul\", \"paul\", \"pelet\", \"pelet\", \"pelet\", \"pelet\", \"pemberley\", \"pemberley\", \"pemberley\", \"pemberley\", \"pencilled\", \"pencilled\", \"pencilled\", \"pens\", \"people\", \"people\", \"people\", \"people\", \"people\", \"people\", \"people\", \"people\", \"people\", \"people\", \"people\", \"people\", \"people\", \"people\", \"people\", \"perry\", \"perry\", \"perry\", \"perry\", \"petit\", \"petit\", \"peu\", \"philanthropist\", \"philanthropist\", \"philanthropist\", \"philanthropist\", \"philosophic\", \"philosophic\", \"philosophic\", \"pianoforte\", \"pianoforte\", \"pianoforte\", \"pianoforte\", \"pictures\", \"pictures\", \"pictures\", \"pictures\", \"pictures\", \"pictures\", \"pierre\", \"pierre\", \"pious\", \"pious\", \"pitcher\", \"place\", \"place\", \"place\", \"place\", \"place\", \"place\", \"place\", \"place\", \"place\", \"place\", \"place\", \"place\", \"place\", \"place\", \"place\", \"pleasanter\", \"pleasanter\", \"pleasanter\", \"pledged\", \"pledged\", \"pledged\", \"polly\", \"polly\", \"polly\", \"pompous\", \"pompous\", \"pompous\", \"poor\", \"poor\", \"poor\", \"poor\", \"poor\", \"poor\", \"poor\", \"poor\", \"poor\", \"poor\", \"poor\", \"poor\", \"poor\", \"portfolio\", \"portfolio\", \"portfolio\", \"portfolio\", \"pounds\", \"pounds\", \"pounds\", \"pounds\", \"pounds\", \"pounds\", \"pounds\", \"pounds\", \"pounds\", \"pounds\", \"practical\", \"practical\", \"practising\", \"practising\", \"practising\", \"practising\", \"pratt\", \"pratt\", \"pratt\", \"pratt\", \"precise\", \"precise\", \"preferred\", \"preferred\", \"preferred\", \"preferred\", \"preferred\", \"preferred\", \"preferred\", \"preferred\", \"prejudices\", \"prejudices\", \"prejudices\", \"prepossession\", \"prepossession\", \"prepossession\", \"present\", \"present\", \"present\", \"present\", \"present\", \"present\", \"present\", \"present\", \"present\", \"present\", \"present\", \"present\", \"present\", \"pretending\", \"pretending\", \"prevailing\", \"prevailing\", \"prevailing\", \"pride\", \"pride\", \"pride\", \"pride\", \"pride\", \"pride\", \"pride\", \"pride\", \"pride\", \"pride\", \"pride\", \"print\", \"print\", \"print\", \"privately\", \"privately\", \"privately\", \"privately\", \"procured\", \"procured\", \"procured\", \"procured\", \"procured\", \"procured\", \"procured\", \"profession\", \"profession\", \"profession\", \"profession\", \"profession\", \"profession\", \"profession\", \"profession\", \"professors\", \"prohibited\", \"prohibited\", \"prohibited\", \"prohibited\", \"projected\", \"projected\", \"projected\", \"promoted\", \"promoted\", \"promoted\", \"promoted\", \"property\", \"property\", \"property\", \"property\", \"property\", \"property\", \"property\", \"property\", \"property\", \"property\", \"property\", \"proposals\", \"proposals\", \"proposals\", \"proposals\", \"proposals\", \"proposals\", \"proposals\", \"proposals\", \"protest\", \"protest\", \"protest\", \"protest\", \"puts\", \"puts\", \"puts\", \"puts\", \"qu\", \"qu\", \"qu\", \"quadrille\", \"quadrille\", \"quadrille\", \"que\", \"que\", \"que\", \"que\", \"quel\", \"quel\", \"quel\", \"quickening\", \"quickening\", \"randalls\", \"randalls\", \"randalls\", \"randalls\", \"randalls\", \"rang\", \"rang\", \"rang\", \"rang\", \"rang\", \"rang\", \"rapturous\", \"rascal\", \"rascal\", \"rascal\", \"rascal\", \"raving\", \"raving\", \"raving\", \"raving\", \"recalled\", \"recalled\", \"recalled\", \"recalled\", \"recalled\", \"recalled\", \"reconciliation\", \"reconciliation\", \"reconciliation\", \"recur\", \"recur\", \"recur\", \"recur\", \"reed\", \"reed\", \"reed\", \"reed\", \"reed\", \"reflex\", \"refusal\", \"refusal\", \"refusal\", \"refusal\", \"refusal\", \"regards\", \"regards\", \"regards\", \"regiment\", \"regiment\", \"regiment\", \"regiment\", \"regiment\", \"regiment\", \"regiment\", \"regiment\", \"reject\", \"reject\", \"reject\", \"relations\", \"relations\", \"relations\", \"relations\", \"relations\", \"relations\", \"relations\", \"relations\", \"relations\", \"relations\", \"relations\", \"relations\", \"repeat\", \"repeat\", \"repeat\", \"repeat\", \"repeat\", \"repeat\", \"replied\", \"replied\", \"replied\", \"replied\", \"replied\", \"replied\", \"replied\", \"replied\", \"replied\", \"replied\", \"replied\", \"replied\", \"replied\", \"replied\", \"reproaching\", \"reproaching\", \"reproaching\", \"resources\", \"resources\", \"resources\", \"resources\", \"respectability\", \"respectability\", \"respectability\", \"restlessly\", \"restlessly\", \"restoration\", \"restoration\", \"restoration\", \"rests\", \"rests\", \"richard\", \"richard\", \"richard\", \"richmond\", \"richmond\", \"richmond\", \"rien\", \"rien\", \"rivers\", \"rivers\", \"rivers\", \"rivers\", \"rivers\", \"rivet\", \"rivet\", \"rob\", \"rob\", \"rob\", \"robert\", \"robert\", \"robert\", \"robert\", \"robert\", \"robert\", \"robert\", \"robert\", \"rochester\", \"rochester\", \"rochester\", \"rochester\", \"rochester\", \"rochester\", \"rochester\", \"room\", \"room\", \"room\", \"room\", \"room\", \"room\", \"room\", \"room\", \"room\", \"room\", \"room\", \"room\", \"room\", \"room\", \"room\", \"rose\", \"rose\", \"rose\", \"rose\", \"rose\", \"rose\", \"rose\", \"rose\", \"rose\", \"rosine\", \"rosine\", \"rosine\", \"rosings\", \"rosings\", \"roved\", \"roved\", \"roved\", \"rue\", \"rue\", \"rue\", \"rue\", \"ruin\", \"ruin\", \"ruin\", \"ruin\", \"ruin\", \"ruin\", \"ruin\", \"sacrificing\", \"sacrificing\", \"sacrificing\", \"sacrificing\", \"salary\", \"salary\", \"salary\", \"salary\", \"salary\", \"salutation\", \"sanctioned\", \"sanctioned\", \"sans\", \"sans\", \"sans\", \"sans\", \"saucy\", \"saucy\", \"saucy\", \"saw\", \"saw\", \"saw\", \"saw\", \"saw\", \"saw\", \"saw\", \"saw\", \"saw\", \"saw\", \"saw\", \"saw\", \"saw\", \"saw\", \"scatcherd\", \"scatcherd\", \"scenery\", \"scenery\", \"scenery\", \"scenery\", \"scent\", \"scent\", \"scent\", \"scent\", \"scholars\", \"school\", \"school\", \"school\", \"school\", \"school\", \"school\", \"school\", \"school\", \"school\", \"scotland\", \"scotland\", \"scotland\", \"scotland\", \"scotland\", \"scotland\", \"scrupled\", \"scrupled\", \"scrupled\", \"scrupled\", \"scrupled\", \"scrutinised\", \"scrutinised\", \"scrutinised\", \"seacombe\", \"seal\", \"seal\", \"secrecy\", \"secrecy\", \"secrecy\", \"secrecy\", \"secresy\", \"secresy\", \"seen\", \"seen\", \"seen\", \"seen\", \"seen\", \"seen\", \"seen\", \"seen\", \"seen\", \"seen\", \"seen\", \"seen\", \"seen\", \"seen\", \"selina\", \"sense\", \"sense\", \"sense\", \"sense\", \"sense\", \"sense\", \"sense\", \"sense\", \"sense\", \"sense\", \"sense\", \"sense\", \"serene\", \"servant\", \"servant\", \"servant\", \"servant\", \"servant\", \"servant\", \"servant\", \"servant\", \"servant\", \"settlement\", \"settlement\", \"severely\", \"severely\", \"severely\", \"severely\", \"severely\", \"shall\", \"shall\", \"shall\", \"shall\", \"shall\", \"shall\", \"shall\", \"shall\", \"shall\", \"shall\", \"shall\", \"shall\", \"shall\", \"shall\", \"shall\", \"shew\", \"shew\", \"shew\", \"shew\", \"shew\", \"shew\", \"shook\", \"shook\", \"shook\", \"shook\", \"shook\", \"shook\", \"shook\", \"shook\", \"shook\", \"shoot\", \"shoot\", \"sign\", \"sign\", \"sign\", \"sign\", \"sign\", \"sign\", \"sign\", \"significantly\", \"significantly\", \"sir\", \"sir\", \"sir\", \"sir\", \"sir\", \"sir\", \"sir\", \"sir\", \"sir\", \"sir\", \"sir\", \"sir\", \"sir\", \"sister\", \"sister\", \"sister\", \"sister\", \"sister\", \"sister\", \"sister\", \"sister\", \"sister\", \"sister\", \"sister\", \"sister\", \"sisters\", \"sisters\", \"sisters\", \"sisters\", \"sisters\", \"sisters\", \"sisters\", \"sisters\", \"sisters\", \"sisters\", \"sisters\", \"sixpence\", \"sixpence\", \"sixpence\", \"slice\", \"slice\", \"slice\", \"slice\", \"slip\", \"smith\", \"smith\", \"smith\", \"smith\", \"smith\", \"smith\", \"smith\", \"smith\", \"snowe\", \"snowe\", \"snowe\", \"softest\", \"softest\", \"softest\", \"solve\", \"solve\", \"solve\", \"soon\", \"soon\", \"soon\", \"soon\", \"soon\", \"soon\", \"soon\", \"soon\", \"soon\", \"soon\", \"soon\", \"soon\", \"soon\", \"soon\", \"soon\", \"sophie\", \"sophie\", \"spending\", \"spending\", \"spending\", \"spending\", \"spending\", \"spending\", \"spending\", \"spots\", \"spots\", \"spots\", \"sprain\", \"sprain\", \"sprain\", \"spurned\", \"spurned\", \"spurned\", \"st\", \"st\", \"st\", \"st\", \"st\", \"st\", \"st\", \"st\", \"staff\", \"staff\", \"staff\", \"stair\", \"stair\", \"stair\", \"statement\", \"statement\", \"statement\", \"statement\", \"statement\", \"stating\", \"stating\", \"stating\", \"steele\", \"steele\", \"steeles\", \"steeles\", \"stem\", \"stem\", \"stick\", \"stile\", \"stood\", \"stood\", \"stood\", \"stood\", \"stood\", \"stood\", \"stood\", \"stood\", \"stood\", \"stood\", \"stood\", \"stood\", \"stood\", \"stood\", \"stool\", \"stooped\", \"strange\", \"strange\", \"strange\", \"strange\", \"strange\", \"strange\", \"strange\", \"strange\", \"strange\", \"strange\", \"strange\", \"strange\", \"strange\", \"strangeness\", \"strangeness\", \"strangeness\", \"strangeness\", \"strikingly\", \"strikingly\", \"strikingly\", \"strikingly\", \"strikingly\", \"suckling\", \"suckling\", \"suckling\", \"sum\", \"sum\", \"sum\", \"sum\", \"sum\", \"sum\", \"sunset\", \"superfluous\", \"superfluous\", \"superfluous\", \"supplanted\", \"supplanted\", \"supplanted\", \"supplication\", \"supplication\", \"supplication\", \"supplying\", \"supplying\", \"supplying\", \"supplying\", \"suppose\", \"suppose\", \"suppose\", \"suppose\", \"suppose\", \"suppose\", \"suppose\", \"suppose\", \"suppose\", \"suppose\", \"suppose\", \"suppose\", \"suppose\", \"suppose\", \"supposing\", \"supposing\", \"supposing\", \"supposing\", \"supposing\", \"supposing\", \"supposing\", \"supposing\", \"sure\", \"sure\", \"sure\", \"sure\", \"sure\", \"sure\", \"sure\", \"sure\", \"sure\", \"sure\", \"sure\", \"sure\", \"sure\", \"sure\", \"surmises\", \"surmises\", \"surmises\", \"surmises\", \"surry\", \"surry\", \"survive\", \"survive\", \"survive\", \"survive\", \"sustained\", \"sustained\", \"swiss\", \"table\", \"table\", \"table\", \"table\", \"table\", \"table\", \"table\", \"table\", \"table\", \"table\", \"table\", \"table\", \"tableau\", \"taken\", \"taken\", \"taken\", \"taken\", \"taken\", \"taken\", \"taken\", \"taken\", \"taken\", \"taken\", \"taken\", \"taken\", \"taken\", \"tap\", \"tap\", \"tap\", \"tap\", \"tasks\", \"tasks\", \"tasks\", \"taylor\", \"taylor\", \"taylor\", \"taylor\", \"taylor\", \"tea\", \"tea\", \"tea\", \"tea\", \"tea\", \"tea\", \"tea\", \"tea\", \"tea\", \"tea\", \"tell\", \"tell\", \"tell\", \"tell\", \"tell\", \"tell\", \"tell\", \"tell\", \"tell\", \"tell\", \"tell\", \"tell\", \"tell\", \"tell\", \"tell\", \"temple\", \"temple\", \"temple\", \"temple\", \"temple\", \"temple\", \"thing\", \"thing\", \"thing\", \"thing\", \"thing\", \"thing\", \"thing\", \"thing\", \"thing\", \"thing\", \"thing\", \"thing\", \"thing\", \"thing\", \"think\", \"think\", \"think\", \"think\", \"think\", \"think\", \"think\", \"think\", \"think\", \"think\", \"think\", \"think\", \"think\", \"think\", \"think\", \"thornfield\", \"thornfield\", \"thornfield\", \"thornfield\", \"thornfield\", \"thought\", \"thought\", \"thought\", \"thought\", \"thought\", \"thought\", \"thought\", \"thought\", \"thought\", \"thought\", \"thought\", \"thought\", \"thought\", \"thought\", \"thought\", \"thoughtfulness\", \"thousand\", \"thousand\", \"thousand\", \"thousand\", \"thousand\", \"thousand\", \"thousand\", \"thousand\", \"thousand\", \"thousand\", \"till\", \"till\", \"till\", \"till\", \"till\", \"till\", \"till\", \"till\", \"till\", \"till\", \"till\", \"till\", \"till\", \"till\", \"till\", \"time\", \"time\", \"time\", \"time\", \"time\", \"time\", \"time\", \"time\", \"time\", \"time\", \"time\", \"time\", \"time\", \"time\", \"time\", \"tints\", \"tints\", \"tints\", \"toast\", \"toast\", \"toast\", \"took\", \"took\", \"took\", \"took\", \"took\", \"took\", \"took\", \"took\", \"took\", \"took\", \"took\", \"took\", \"took\", \"took\", \"took\", \"town\", \"town\", \"town\", \"town\", \"town\", \"town\", \"town\", \"town\", \"town\", \"town\", \"town\", \"tract\", \"tract\", \"tract\", \"tract\", \"traverse\", \"traverse\", \"tray\", \"tray\", \"tray\", \"tray\", \"treasured\", \"treasured\", \"treasured\", \"triumphantly\", \"triumphantly\", \"trop\", \"trop\", \"tyrant\", \"tyrant\", \"tyrant\", \"uncle\", \"uncle\", \"uncle\", \"uncle\", \"uncle\", \"uncle\", \"uncle\", \"uncle\", \"uncle\", \"uncle\", \"uncle\", \"undone\", \"une\", \"une\", \"unequivocal\", \"unequivocal\", \"unequivocal\", \"unequivocal\", \"unequivocal\", \"unexceptionable\", \"unexceptionable\", \"unfair\", \"unfair\", \"unfit\", \"unfit\", \"unfit\", \"unguarded\", \"unguarded\", \"unguarded\", \"uniformly\", \"uniformly\", \"uniformly\", \"uniformly\", \"unlocked\", \"unlocked\", \"unlocked\", \"unwillingly\", \"vale\", \"vandenhuten\", \"vanishing\", \"vanishing\", \"veil\", \"veil\", \"verbal\", \"verbal\", \"verbal\", \"vicarage\", \"vicarage\", \"vicarage\", \"victor\", \"victor\", \"victor\", \"villain\", \"villain\", \"villain\", \"villain\", \"villain\", \"violets\", \"visitation\", \"visitation\", \"vocation\", \"votre\", \"vouchsafe\", \"vous\", \"vous\", \"vous\", \"walnut\", \"walnut\", \"walnut\", \"walravens\", \"walravens\", \"walravens\", \"wanderings\", \"wanderings\", \"wanderings\", \"want\", \"want\", \"want\", \"want\", \"want\", \"want\", \"want\", \"want\", \"want\", \"want\", \"want\", \"want\", \"wardrobe\", \"way\", \"way\", \"way\", \"way\", \"way\", \"way\", \"way\", \"way\", \"way\", \"way\", \"way\", \"way\", \"way\", \"way\", \"way\", \"weekly\", \"weekly\", \"weekly\", \"went\", \"went\", \"went\", \"went\", \"went\", \"went\", \"went\", \"went\", \"went\", \"went\", \"went\", \"went\", \"went\", \"went\", \"weston\", \"weston\", \"weston\", \"weston\", \"weston\", \"westons\", \"westons\", \"wheeled\", \"wheeled\", \"wheeled\", \"whitcross\", \"whitcross\", \"white\", \"white\", \"white\", \"white\", \"white\", \"white\", \"white\", \"white\", \"white\", \"wholesome\", \"wholesome\", \"wholesome\", \"wholesome\", \"wholesome\", \"wicket\", \"wickham\", \"wickham\", \"wickham\", \"wickham\", \"wickham\", \"wickham\", \"wilfully\", \"wilfully\", \"willoughby\", \"willoughby\", \"willoughby\", \"willoughby\", \"willoughby\", \"willoughby\", \"windsor\", \"windsor\", \"windsor\", \"winning\", \"winning\", \"winning\", \"wishes\", \"wishes\", \"wishes\", \"wishes\", \"wishes\", \"wishes\", \"wishes\", \"wishes\", \"wishes\", \"woman\", \"woman\", \"woman\", \"woman\", \"woman\", \"woman\", \"woman\", \"woman\", \"woman\", \"woman\", \"woman\", \"woman\", \"woman\", \"woman\", \"wondrous\", \"wondrous\", \"wondrous\", \"woodhouse\", \"woodhouse\", \"woodhouse\", \"woodhouse\", \"woodhouse\", \"work\", \"work\", \"work\", \"work\", \"work\", \"work\", \"work\", \"work\", \"work\", \"work\", \"work\", \"wouldn\", \"wouldn\", \"wouldn\", \"years\", \"years\", \"years\", \"years\", \"years\", \"years\", \"years\", \"years\", \"years\", \"years\", \"years\", \"years\", \"years\", \"years\", \"yes\", \"yes\", \"yes\", \"yes\", \"yes\", \"yes\", \"yes\", \"yes\", \"yes\", \"yes\", \"yes\", \"yes\", \"yes\", \"yes\", \"yes\", \"yorke\", \"yorke\", \"yorke\", \"yorke\", \"yorkshire\", \"yorkshire\", \"young\", \"young\", \"young\", \"young\", \"young\", \"young\", \"young\", \"young\", \"young\", \"young\", \"young\", \"young\", \"young\", \"young\", \"zelie\", \"zelie\"]}, \"R\": 30, \"lambda.step\": 0.01, \"plot.opts\": {\"xlab\": \"PC1\", \"ylab\": \"PC2\"}, \"topic.order\": [11, 3, 5, 8, 1, 12, 6, 15, 2, 9, 4, 10, 13, 7, 14]};\n",
       "\n",
       "function LDAvis_load_lib(url, callback){\n",
       "  var s = document.createElement('script');\n",
       "  s.src = url;\n",
       "  s.async = true;\n",
       "  s.onreadystatechange = s.onload = callback;\n",
       "  s.onerror = function(){console.warn(\"failed to load library \" + url);};\n",
       "  document.getElementsByTagName(\"head\")[0].appendChild(s);\n",
       "}\n",
       "\n",
       "if(typeof(LDAvis) !== \"undefined\"){\n",
       "   // already loaded: just create the visualization\n",
       "   !function(LDAvis){\n",
       "       new LDAvis(\"#\" + \"ldavis_el1613222599476270805877368878\", ldavis_el1613222599476270805877368878_data);\n",
       "   }(LDAvis);\n",
       "}else if(typeof define === \"function\" && define.amd){\n",
       "   // require.js is available: use it to load d3/LDAvis\n",
       "   require.config({paths: {d3: \"https://cdnjs.cloudflare.com/ajax/libs/d3/3.5.5/d3.min\"}});\n",
       "   require([\"d3\"], function(d3){\n",
       "      window.d3 = d3;\n",
       "      LDAvis_load_lib(\"https://cdn.rawgit.com/bmabey/pyLDAvis/files/ldavis.v1.0.0.js\", function(){\n",
       "        new LDAvis(\"#\" + \"ldavis_el1613222599476270805877368878\", ldavis_el1613222599476270805877368878_data);\n",
       "      });\n",
       "    });\n",
       "}else{\n",
       "    // require.js not available: dynamically load d3 & LDAvis\n",
       "    LDAvis_load_lib(\"https://cdnjs.cloudflare.com/ajax/libs/d3/3.5.5/d3.min.js\", function(){\n",
       "         LDAvis_load_lib(\"https://cdn.rawgit.com/bmabey/pyLDAvis/files/ldavis.v1.0.0.js\", function(){\n",
       "                 new LDAvis(\"#\" + \"ldavis_el1613222599476270805877368878\", ldavis_el1613222599476270805877368878_data);\n",
       "            })\n",
       "         });\n",
       "}\n",
       "</script>"
      ],
      "text/plain": [
       "PreparedData(topic_coordinates=              x         y  topics  cluster       Freq\n",
       "topic                                                \n",
       "10    -0.086109 -0.006008       1        1  41.976734\n",
       "2      0.096106  0.014838       2        1  19.396479\n",
       "4      0.069379 -0.064267       3        1  11.418604\n",
       "7     -0.123732 -0.057420       4        1   8.034661\n",
       "0      0.113208 -0.084783       5        1   4.911815\n",
       "11     0.103097 -0.091143       6        1   4.027949\n",
       "5      0.114385  0.018410       7        1   3.994224\n",
       "14     0.103918  0.106251       8        1   1.489576\n",
       "1     -0.011588  0.029208       9        1   1.013518\n",
       "8     -0.097039 -0.021388      10        1   0.999442\n",
       "3     -0.142886  0.006040      11        1   0.770558\n",
       "9      0.073179  0.104524      12        1   0.767084\n",
       "12    -0.028001 -0.056611      13        1   0.646024\n",
       "6     -0.102658  0.024924      14        1   0.297363\n",
       "13    -0.081258  0.077425      15        1   0.255977, topic_info=    Category         Freq    Term        Total  loglift  logprob\n",
       "403  Default  1327.000000    like  1327.000000  30.0000  30.0000\n",
       "159  Default  1716.000000  little  1716.000000  29.0000  29.0000\n",
       "183  Default  1508.000000    miss  1508.000000  28.0000  28.0000\n",
       "399  Default  1421.000000    know  1421.000000  27.0000  27.0000\n",
       "86   Default   819.000000    emma   819.000000  26.0000  26.0000\n",
       "..       ...          ...     ...          ...      ...      ...\n",
       "148  Topic15     1.964197    jane   907.805664  -0.1681  -6.0124\n",
       "856  Topic15     1.899381   heard   621.640320   0.1770  -6.0460\n",
       "260  Topic15     1.874979    soon   922.447693  -0.2306  -6.0589\n",
       "135  Topic15     1.863701   house   758.746338  -0.0413  -6.0650\n",
       "356  Topic15     1.821975   doubt   313.732727   0.8192  -6.0876\n",
       "\n",
       "[1129 rows x 6 columns], token_table=      Topic      Freq     Term\n",
       "term                          \n",
       "7784      1  0.737192  abandon\n",
       "7784     15  0.184298  abandon\n",
       "792       3  0.230587    abbey\n",
       "792       5  0.658820    abbey\n",
       "792       6  0.098823    abbey\n",
       "...     ...       ...      ...\n",
       "611      12  0.024409    young\n",
       "611      13  0.009154    young\n",
       "611      14  0.001526    young\n",
       "8084      1  0.113948    zelie\n",
       "8084      4  0.854609    zelie\n",
       "\n",
       "[4298 rows x 3 columns], R=30, lambda_step=0.01, plot_opts={'xlab': 'PC1', 'ylab': 'PC2'}, topic_order=[11, 3, 5, 8, 1, 12, 6, 15, 2, 9, 4, 10, 13, 7, 14])"
      ]
     },
     "execution_count": 35,
     "metadata": {},
     "output_type": "execute_result"
    }
   ],
   "source": [
    "pyLDAvis.gensim.prepare(lda, corpus, id2word)"
   ]
  },
  {
   "cell_type": "markdown",
   "metadata": {},
   "source": [
    "### Overall Model / Documents"
   ]
  },
  {
   "cell_type": "code",
   "execution_count": 36,
   "metadata": {},
   "outputs": [
    {
     "data": {
      "text/plain": [
       "[(2, 0.23459491), (11, 0.7633975)]"
      ]
     },
     "execution_count": 36,
     "metadata": {},
     "output_type": "execute_result"
    }
   ],
   "source": [
    "lda[corpus[0]]"
   ]
  },
  {
   "cell_type": "code",
   "execution_count": 37,
   "metadata": {},
   "outputs": [],
   "source": [
    "distro = [lda[d] for d in corpus]"
   ]
  },
  {
   "cell_type": "code",
   "execution_count": 38,
   "metadata": {},
   "outputs": [
    {
     "data": {
      "text/plain": [
       "[(2, 0.234597), (11, 0.7633954)]"
      ]
     },
     "execution_count": 38,
     "metadata": {},
     "output_type": "execute_result"
    }
   ],
   "source": [
    "distro[0]"
   ]
  },
  {
   "cell_type": "code",
   "execution_count": 39,
   "metadata": {},
   "outputs": [],
   "source": [
    "distro = [lda[d] for d in corpus]\n",
    "\n",
    "def update(doc):\n",
    "        d_dist = {k:0 for k in range(0,15)}\n",
    "        for t in doc:\n",
    "            d_dist[t[0]] = t[1]\n",
    "        return d_dist\n",
    "    \n",
    "new_distro = [update(d) for d in distro]"
   ]
  },
  {
   "cell_type": "code",
   "execution_count": 40,
   "metadata": {},
   "outputs": [],
   "source": [
    "df = pd.DataFrame.from_records(new_distro, index=titles)\n",
    "df.columns = topics\n",
    "df['author'] = df.reset_index()['index'].apply(lambda x: x.split('_')[0]).tolist()"
   ]
  },
  {
   "cell_type": "code",
   "execution_count": 41,
   "metadata": {},
   "outputs": [
    {
     "data": {
      "text/html": [
       "<div>\n",
       "<style scoped>\n",
       "    .dataframe tbody tr th:only-of-type {\n",
       "        vertical-align: middle;\n",
       "    }\n",
       "\n",
       "    .dataframe tbody tr th {\n",
       "        vertical-align: top;\n",
       "    }\n",
       "\n",
       "    .dataframe thead th {\n",
       "        text-align: right;\n",
       "    }\n",
       "</style>\n",
       "<table border=\"1\" class=\"dataframe\">\n",
       "  <thead>\n",
       "    <tr style=\"text-align: right;\">\n",
       "      <th></th>\n",
       "      <th>harriet emma weston elton good</th>\n",
       "      <th>like sir jane thought little</th>\n",
       "      <th>elinor marianne elizabeth sister miss</th>\n",
       "      <th>hand eyes john like saw</th>\n",
       "      <th>miss jane emma know thing</th>\n",
       "      <th>jane elizabeth darcy know wickham</th>\n",
       "      <th>hunsden miss helen temple bread</th>\n",
       "      <th>little madame like monsieur vous</th>\n",
       "      <th>burns thought like scatcherd miss</th>\n",
       "      <th>man bennet young elizabeth collins</th>\n",
       "      <th>like little thought long good</th>\n",
       "      <th>emma miss knightley harriet thing</th>\n",
       "      <th>bretton know dr little lucy</th>\n",
       "      <th>thousand mason like know sisters</th>\n",
       "      <th>lydia mother wickham father uncle</th>\n",
       "      <th>author</th>\n",
       "    </tr>\n",
       "  </thead>\n",
       "  <tbody>\n",
       "    <tr>\n",
       "      <td>Austen_Emma0000</td>\n",
       "      <td>0.000000</td>\n",
       "      <td>0.0</td>\n",
       "      <td>0.234599</td>\n",
       "      <td>0.0</td>\n",
       "      <td>0.000000</td>\n",
       "      <td>0.000000</td>\n",
       "      <td>0.0</td>\n",
       "      <td>0.0</td>\n",
       "      <td>0.0</td>\n",
       "      <td>0.0</td>\n",
       "      <td>0.0</td>\n",
       "      <td>0.763393</td>\n",
       "      <td>0.000000</td>\n",
       "      <td>0.0</td>\n",
       "      <td>0.0</td>\n",
       "      <td>Austen</td>\n",
       "    </tr>\n",
       "    <tr>\n",
       "      <td>Austen_Emma0001</td>\n",
       "      <td>0.339857</td>\n",
       "      <td>0.0</td>\n",
       "      <td>0.000000</td>\n",
       "      <td>0.0</td>\n",
       "      <td>0.427917</td>\n",
       "      <td>0.000000</td>\n",
       "      <td>0.0</td>\n",
       "      <td>0.0</td>\n",
       "      <td>0.0</td>\n",
       "      <td>0.0</td>\n",
       "      <td>0.0</td>\n",
       "      <td>0.229971</td>\n",
       "      <td>0.000000</td>\n",
       "      <td>0.0</td>\n",
       "      <td>0.0</td>\n",
       "      <td>Austen</td>\n",
       "    </tr>\n",
       "    <tr>\n",
       "      <td>Austen_Emma0002</td>\n",
       "      <td>0.669731</td>\n",
       "      <td>0.0</td>\n",
       "      <td>0.000000</td>\n",
       "      <td>0.0</td>\n",
       "      <td>0.000000</td>\n",
       "      <td>0.000000</td>\n",
       "      <td>0.0</td>\n",
       "      <td>0.0</td>\n",
       "      <td>0.0</td>\n",
       "      <td>0.0</td>\n",
       "      <td>0.0</td>\n",
       "      <td>0.328005</td>\n",
       "      <td>0.000000</td>\n",
       "      <td>0.0</td>\n",
       "      <td>0.0</td>\n",
       "      <td>Austen</td>\n",
       "    </tr>\n",
       "    <tr>\n",
       "      <td>Austen_Emma0003</td>\n",
       "      <td>0.191081</td>\n",
       "      <td>0.0</td>\n",
       "      <td>0.000000</td>\n",
       "      <td>0.0</td>\n",
       "      <td>0.000000</td>\n",
       "      <td>0.806788</td>\n",
       "      <td>0.0</td>\n",
       "      <td>0.0</td>\n",
       "      <td>0.0</td>\n",
       "      <td>0.0</td>\n",
       "      <td>0.0</td>\n",
       "      <td>0.000000</td>\n",
       "      <td>0.000000</td>\n",
       "      <td>0.0</td>\n",
       "      <td>0.0</td>\n",
       "      <td>Austen</td>\n",
       "    </tr>\n",
       "    <tr>\n",
       "      <td>Austen_Emma0004</td>\n",
       "      <td>0.485064</td>\n",
       "      <td>0.0</td>\n",
       "      <td>0.000000</td>\n",
       "      <td>0.0</td>\n",
       "      <td>0.000000</td>\n",
       "      <td>0.000000</td>\n",
       "      <td>0.0</td>\n",
       "      <td>0.0</td>\n",
       "      <td>0.0</td>\n",
       "      <td>0.0</td>\n",
       "      <td>0.0</td>\n",
       "      <td>0.106293</td>\n",
       "      <td>0.406795</td>\n",
       "      <td>0.0</td>\n",
       "      <td>0.0</td>\n",
       "      <td>Austen</td>\n",
       "    </tr>\n",
       "  </tbody>\n",
       "</table>\n",
       "</div>"
      ],
      "text/plain": [
       "                 harriet emma weston elton good  like sir jane thought little  \\\n",
       "Austen_Emma0000                        0.000000                           0.0   \n",
       "Austen_Emma0001                        0.339857                           0.0   \n",
       "Austen_Emma0002                        0.669731                           0.0   \n",
       "Austen_Emma0003                        0.191081                           0.0   \n",
       "Austen_Emma0004                        0.485064                           0.0   \n",
       "\n",
       "                 elinor marianne elizabeth sister miss  \\\n",
       "Austen_Emma0000                               0.234599   \n",
       "Austen_Emma0001                               0.000000   \n",
       "Austen_Emma0002                               0.000000   \n",
       "Austen_Emma0003                               0.000000   \n",
       "Austen_Emma0004                               0.000000   \n",
       "\n",
       "                 hand eyes john like saw  miss jane emma know thing  \\\n",
       "Austen_Emma0000                      0.0                   0.000000   \n",
       "Austen_Emma0001                      0.0                   0.427917   \n",
       "Austen_Emma0002                      0.0                   0.000000   \n",
       "Austen_Emma0003                      0.0                   0.000000   \n",
       "Austen_Emma0004                      0.0                   0.000000   \n",
       "\n",
       "                 jane elizabeth darcy know wickham  \\\n",
       "Austen_Emma0000                           0.000000   \n",
       "Austen_Emma0001                           0.000000   \n",
       "Austen_Emma0002                           0.000000   \n",
       "Austen_Emma0003                           0.806788   \n",
       "Austen_Emma0004                           0.000000   \n",
       "\n",
       "                 hunsden miss helen temple bread  \\\n",
       "Austen_Emma0000                              0.0   \n",
       "Austen_Emma0001                              0.0   \n",
       "Austen_Emma0002                              0.0   \n",
       "Austen_Emma0003                              0.0   \n",
       "Austen_Emma0004                              0.0   \n",
       "\n",
       "                 little madame like monsieur vous  \\\n",
       "Austen_Emma0000                               0.0   \n",
       "Austen_Emma0001                               0.0   \n",
       "Austen_Emma0002                               0.0   \n",
       "Austen_Emma0003                               0.0   \n",
       "Austen_Emma0004                               0.0   \n",
       "\n",
       "                 burns thought like scatcherd miss  \\\n",
       "Austen_Emma0000                                0.0   \n",
       "Austen_Emma0001                                0.0   \n",
       "Austen_Emma0002                                0.0   \n",
       "Austen_Emma0003                                0.0   \n",
       "Austen_Emma0004                                0.0   \n",
       "\n",
       "                 man bennet young elizabeth collins  \\\n",
       "Austen_Emma0000                                 0.0   \n",
       "Austen_Emma0001                                 0.0   \n",
       "Austen_Emma0002                                 0.0   \n",
       "Austen_Emma0003                                 0.0   \n",
       "Austen_Emma0004                                 0.0   \n",
       "\n",
       "                 like little thought long good  \\\n",
       "Austen_Emma0000                            0.0   \n",
       "Austen_Emma0001                            0.0   \n",
       "Austen_Emma0002                            0.0   \n",
       "Austen_Emma0003                            0.0   \n",
       "Austen_Emma0004                            0.0   \n",
       "\n",
       "                 emma miss knightley harriet thing  \\\n",
       "Austen_Emma0000                           0.763393   \n",
       "Austen_Emma0001                           0.229971   \n",
       "Austen_Emma0002                           0.328005   \n",
       "Austen_Emma0003                           0.000000   \n",
       "Austen_Emma0004                           0.106293   \n",
       "\n",
       "                 bretton know dr little lucy  \\\n",
       "Austen_Emma0000                     0.000000   \n",
       "Austen_Emma0001                     0.000000   \n",
       "Austen_Emma0002                     0.000000   \n",
       "Austen_Emma0003                     0.000000   \n",
       "Austen_Emma0004                     0.406795   \n",
       "\n",
       "                 thousand mason like know sisters  \\\n",
       "Austen_Emma0000                               0.0   \n",
       "Austen_Emma0001                               0.0   \n",
       "Austen_Emma0002                               0.0   \n",
       "Austen_Emma0003                               0.0   \n",
       "Austen_Emma0004                               0.0   \n",
       "\n",
       "                 lydia mother wickham father uncle  author  \n",
       "Austen_Emma0000                                0.0  Austen  \n",
       "Austen_Emma0001                                0.0  Austen  \n",
       "Austen_Emma0002                                0.0  Austen  \n",
       "Austen_Emma0003                                0.0  Austen  \n",
       "Austen_Emma0004                                0.0  Austen  "
      ]
     },
     "execution_count": 41,
     "metadata": {},
     "output_type": "execute_result"
    }
   ],
   "source": [
    "df.head()"
   ]
  },
  {
   "cell_type": "code",
   "execution_count": 69,
   "metadata": {},
   "outputs": [
    {
     "data": {
      "text/html": [
       "<div>\n",
       "<style scoped>\n",
       "    .dataframe tbody tr th:only-of-type {\n",
       "        vertical-align: middle;\n",
       "    }\n",
       "\n",
       "    .dataframe tbody tr th {\n",
       "        vertical-align: top;\n",
       "    }\n",
       "\n",
       "    .dataframe thead th {\n",
       "        text-align: right;\n",
       "    }\n",
       "</style>\n",
       "<table border=\"1\" class=\"dataframe\">\n",
       "  <thead>\n",
       "    <tr style=\"text-align: right;\">\n",
       "      <th></th>\n",
       "      <th>marianne elinor willoughby sister jennings</th>\n",
       "      <th>elinor edward sister mother lucy</th>\n",
       "      <th>like miss rochester room lady</th>\n",
       "      <th>adele rochester ladies ll shall</th>\n",
       "      <th>emma harriet miss think thing</th>\n",
       "      <th>miss jane know thing think</th>\n",
       "      <th>hunsden like st face thought</th>\n",
       "      <th>monsieur mdlle pelet reuter english</th>\n",
       "      <th>elizabeth darcy bingley bennet jane</th>\n",
       "      <th>jane sir know like rochester</th>\n",
       "      <th>graham bretton papa lucy know</th>\n",
       "      <th>like thought long night hand</th>\n",
       "      <th>madame day beck know like</th>\n",
       "      <th>dr madame thought think sir</th>\n",
       "      <th>moon adele mademoiselle liked lowood</th>\n",
       "    </tr>\n",
       "    <tr>\n",
       "      <th>author</th>\n",
       "      <th></th>\n",
       "      <th></th>\n",
       "      <th></th>\n",
       "      <th></th>\n",
       "      <th></th>\n",
       "      <th></th>\n",
       "      <th></th>\n",
       "      <th></th>\n",
       "      <th></th>\n",
       "      <th></th>\n",
       "      <th></th>\n",
       "      <th></th>\n",
       "      <th></th>\n",
       "      <th></th>\n",
       "      <th></th>\n",
       "    </tr>\n",
       "  </thead>\n",
       "  <tbody>\n",
       "    <tr>\n",
       "      <th>Austen</th>\n",
       "      <td>0.071713</td>\n",
       "      <td>0.208254</td>\n",
       "      <td>0.010205</td>\n",
       "      <td>0.000000</td>\n",
       "      <td>0.380388</td>\n",
       "      <td>0.085653</td>\n",
       "      <td>0.000099</td>\n",
       "      <td>0.000079</td>\n",
       "      <td>0.203246</td>\n",
       "      <td>0.001405</td>\n",
       "      <td>0.022159</td>\n",
       "      <td>0.011784</td>\n",
       "      <td>0.000028</td>\n",
       "      <td>0.002325</td>\n",
       "      <td>0.0000</td>\n",
       "    </tr>\n",
       "    <tr>\n",
       "      <th>CBronte</th>\n",
       "      <td>0.000076</td>\n",
       "      <td>0.009987</td>\n",
       "      <td>0.119843</td>\n",
       "      <td>0.007553</td>\n",
       "      <td>0.009064</td>\n",
       "      <td>0.002825</td>\n",
       "      <td>0.043100</td>\n",
       "      <td>0.038763</td>\n",
       "      <td>0.000294</td>\n",
       "      <td>0.097633</td>\n",
       "      <td>0.040166</td>\n",
       "      <td>0.581370</td>\n",
       "      <td>0.021017</td>\n",
       "      <td>0.020656</td>\n",
       "      <td>0.0048</td>\n",
       "    </tr>\n",
       "  </tbody>\n",
       "</table>\n",
       "</div>"
      ],
      "text/plain": [
       "         marianne elinor willoughby sister jennings  \\\n",
       "author                                                \n",
       "Austen                                     0.071713   \n",
       "CBronte                                    0.000076   \n",
       "\n",
       "         elinor edward sister mother lucy  like miss rochester room lady  \\\n",
       "author                                                                     \n",
       "Austen                           0.208254                       0.010205   \n",
       "CBronte                          0.009987                       0.119843   \n",
       "\n",
       "         adele rochester ladies ll shall  emma harriet miss think thing  \\\n",
       "author                                                                    \n",
       "Austen                          0.000000                       0.380388   \n",
       "CBronte                         0.007553                       0.009064   \n",
       "\n",
       "         miss jane know thing think  hunsden like st face thought  \\\n",
       "author                                                              \n",
       "Austen                     0.085653                      0.000099   \n",
       "CBronte                    0.002825                      0.043100   \n",
       "\n",
       "         monsieur mdlle pelet reuter english  \\\n",
       "author                                         \n",
       "Austen                              0.000079   \n",
       "CBronte                             0.038763   \n",
       "\n",
       "         elizabeth darcy bingley bennet jane  jane sir know like rochester  \\\n",
       "author                                                                       \n",
       "Austen                              0.203246                      0.001405   \n",
       "CBronte                             0.000294                      0.097633   \n",
       "\n",
       "         graham bretton papa lucy know  like thought long night hand  \\\n",
       "author                                                                 \n",
       "Austen                        0.022159                      0.011784   \n",
       "CBronte                       0.040166                      0.581370   \n",
       "\n",
       "         madame day beck know like  dr madame thought think sir  \\\n",
       "author                                                            \n",
       "Austen                    0.000028                     0.002325   \n",
       "CBronte                   0.021017                     0.020656   \n",
       "\n",
       "         moon adele mademoiselle liked lowood  \n",
       "author                                         \n",
       "Austen                                 0.0000  \n",
       "CBronte                                0.0048  "
      ]
     },
     "execution_count": 69,
     "metadata": {},
     "output_type": "execute_result"
    }
   ],
   "source": [
    "df.groupby('author').mean()"
   ]
  },
  {
   "cell_type": "markdown",
   "metadata": {},
   "source": [
    "## Challenge\n",
    "### *Can we see if one of the authors focus more on men than women?*\n",
    "\n",
    "*  Use Spacy for text prepocessing\n",
    "*  Extract the Named Entities from the documents using Spacy (command is fairly straight forward)\n",
    "*  Create unique list of names from the authors (you'll find that there are different types of named entities not all people)\n",
    "*  Label the names with genders (can you this by hand or you use the US census name lists)\n",
    "*  Customize your processing to replace the proper name with your gender from the previous step's lookup table\n",
    "*  Then follow the rest of the LDA flow\n"
   ]
  },
  {
   "cell_type": "markdown",
   "metadata": {},
   "source": [
    "# Selecting the Number of Topics (Learn)\n",
    "<a id=\"#p4\"></a>"
   ]
  },
  {
   "cell_type": "markdown",
   "metadata": {},
   "source": [
    "## Overview"
   ]
  },
  {
   "cell_type": "markdown",
   "metadata": {},
   "source": [
    "## Follow Along"
   ]
  },
  {
   "cell_type": "code",
   "execution_count": 118,
   "metadata": {},
   "outputs": [],
   "source": [
    "from gensim.models.coherencemodel import CoherenceModel\n",
    "\n",
    "def compute_coherence_values(dictionary, corpus, path, limit, start=2, step=3, passes=5):\n",
    "    \"\"\"\n",
    "    Compute c_v coherence for various number of topics\n",
    "\n",
    "    Parameters:\n",
    "    ----------\n",
    "    dictionary : Gensim dictionary\n",
    "    corpus : Gensim corpus\n",
    "    path : path to input texts\n",
    "    limit : Max num of topics\n",
    "    passes: the number of times the entire lda model & coherence values are calculated\n",
    "\n",
    "    Returns:\n",
    "    -------\n",
    "    coherence_values : Coherence values corresponding to the LDA model with respective number of topics\n",
    "    \"\"\"\n",
    "    \n",
    "    coherence_values = []\n",
    "    \n",
    "    tokens = list(doc_stream(path))\n",
    "    \n",
    "    for iter_ in range(passes):\n",
    "        for num_topics in range(start, limit, step):\n",
    "            stream = doc_stream(path)\n",
    "            model = LdaMulticore(corpus=corpus, num_topics=num_topics, id2word=dictionary, workers=4)\n",
    "            coherencemodel = CoherenceModel(model=model,dictionary=dictionary,corpus=corpus, coherence='u_mass')\n",
    "            coherence_values.append({'pass': iter_, \n",
    "                                     'num_topics': num_topics, \n",
    "                                     'coherence_score': coherencemodel.get_coherence()\n",
    "                                    })\n",
    "\n",
    "    return coherence_values"
   ]
  },
  {
   "cell_type": "code",
   "execution_count": 122,
   "metadata": {},
   "outputs": [],
   "source": [
    "# Can take a long time to run.\n",
    "coherence_values = compute_coherence_values(dictionary=id2word, \n",
    "                                                        corpus=corpus, \n",
    "                                                        path=path, \n",
    "                                                        start=2, \n",
    "                                                        limit=40, \n",
    "                                                        step=6,\n",
    "                                                        passes=40)"
   ]
  },
  {
   "cell_type": "code",
   "execution_count": 123,
   "metadata": {},
   "outputs": [],
   "source": [
    "topic_coherence = pd.DataFrame.from_records(coherence_values)"
   ]
  },
  {
   "cell_type": "code",
   "execution_count": 115,
   "metadata": {},
   "outputs": [
    {
     "ename": "NameError",
     "evalue": "name 'coherencemodel' is not defined",
     "output_type": "error",
     "traceback": [
      "\u001b[0;31m---------------------------------------------------------------------------\u001b[0m",
      "\u001b[0;31mNameError\u001b[0m                                 Traceback (most recent call last)",
      "\u001b[0;32m<ipython-input-115-463aad305d7a>\u001b[0m in \u001b[0;36m<module>\u001b[0;34m\u001b[0m\n\u001b[0;32m----> 1\u001b[0;31m \u001b[0mcoherencemodel\u001b[0m\u001b[0;34m\u001b[0m\u001b[0;34m\u001b[0m\u001b[0m\n\u001b[0m",
      "\u001b[0;31mNameError\u001b[0m: name 'coherencemodel' is not defined"
     ]
    }
   ],
   "source": []
  },
  {
   "cell_type": "code",
   "execution_count": 124,
   "metadata": {},
   "outputs": [
    {
     "data": {
      "text/html": [
       "<div>\n",
       "<style scoped>\n",
       "    .dataframe tbody tr th:only-of-type {\n",
       "        vertical-align: middle;\n",
       "    }\n",
       "\n",
       "    .dataframe tbody tr th {\n",
       "        vertical-align: top;\n",
       "    }\n",
       "\n",
       "    .dataframe thead th {\n",
       "        text-align: right;\n",
       "    }\n",
       "</style>\n",
       "<table border=\"1\" class=\"dataframe\">\n",
       "  <thead>\n",
       "    <tr style=\"text-align: right;\">\n",
       "      <th></th>\n",
       "      <th>coherence_score</th>\n",
       "      <th>num_topics</th>\n",
       "      <th>pass</th>\n",
       "    </tr>\n",
       "  </thead>\n",
       "  <tbody>\n",
       "    <tr>\n",
       "      <th>0</th>\n",
       "      <td>-0.935416</td>\n",
       "      <td>2</td>\n",
       "      <td>0</td>\n",
       "    </tr>\n",
       "    <tr>\n",
       "      <th>1</th>\n",
       "      <td>-0.939436</td>\n",
       "      <td>8</td>\n",
       "      <td>0</td>\n",
       "    </tr>\n",
       "    <tr>\n",
       "      <th>2</th>\n",
       "      <td>-0.952264</td>\n",
       "      <td>14</td>\n",
       "      <td>0</td>\n",
       "    </tr>\n",
       "    <tr>\n",
       "      <th>3</th>\n",
       "      <td>-0.912855</td>\n",
       "      <td>20</td>\n",
       "      <td>0</td>\n",
       "    </tr>\n",
       "    <tr>\n",
       "      <th>4</th>\n",
       "      <td>-0.905050</td>\n",
       "      <td>26</td>\n",
       "      <td>0</td>\n",
       "    </tr>\n",
       "  </tbody>\n",
       "</table>\n",
       "</div>"
      ],
      "text/plain": [
       "   coherence_score  num_topics  pass\n",
       "0        -0.935416           2     0\n",
       "1        -0.939436           8     0\n",
       "2        -0.952264          14     0\n",
       "3        -0.912855          20     0\n",
       "4        -0.905050          26     0"
      ]
     },
     "execution_count": 124,
     "metadata": {},
     "output_type": "execute_result"
    }
   ],
   "source": [
    "topic_coherence.head()"
   ]
  },
  {
   "cell_type": "code",
   "execution_count": 125,
   "metadata": {},
   "outputs": [
    {
     "data": {
      "image/png": "[encoded data removed]",
      "text/plain": [
       "<Figure size 432x288 with 1 Axes>"
      ]
     },
     "metadata": {
      "needs_background": "light"
     },
     "output_type": "display_data"
    }
   ],
   "source": [
    "import seaborn as sns\n",
    "\n",
    "ax = sns.lineplot(x=\"num_topics\", y=\"coherence_score\", data=topic_coherence)"
   ]
  },
  {
   "cell_type": "code",
   "execution_count": 76,
   "metadata": {},
   "outputs": [
    {
     "name": "stdout",
     "output_type": "stream",
     "text": [
      "Num Topics = 2  has Coherence Value of 0.2785\n",
      "Num Topics = 8  has Coherence Value of 0.3029\n",
      "Num Topics = 14  has Coherence Value of 0.2887\n",
      "Num Topics = 20  has Coherence Value of 0.2852\n",
      "Num Topics = 26  has Coherence Value of 0.2846\n",
      "Num Topics = 32  has Coherence Value of 0.2914\n",
      "Num Topics = 38  has Coherence Value of 0.2878\n"
     ]
    }
   ],
   "source": [
    "# Print the coherence scores\n",
    "for m, cv in zip(x, coherence_values):\n",
    "    print(\"Num Topics =\", m, \" has Coherence Value of\", round(cv, 4))"
   ]
  },
  {
   "cell_type": "code",
   "execution_count": 89,
   "metadata": {},
   "outputs": [
    {
     "data": {
      "text/plain": [
       "[(0, 0.02226036),\n",
       " (1, 0.022260414),\n",
       " (2, 0.022260347),\n",
       " (3, 0.022260347),\n",
       " (4, 0.022260392),\n",
       " (5, 0.0222604),\n",
       " (6, 0.022260347),\n",
       " (7, 0.35487327),\n",
       " (8, 0.022260398),\n",
       " (9, 0.022260517),\n",
       " (10, 0.022260416),\n",
       " (11, 0.022260422),\n",
       " (12, 0.3557417),\n",
       " (13, 0.022260347),\n",
       " (14, 0.022260347)]"
      ]
     },
     "execution_count": 89,
     "metadata": {},
     "output_type": "execute_result"
    }
   ],
   "source": [
    "lda[id2word.doc2bow(tokenize(\"This is a sample document to score with a topic distribution.\"))]"
   ]
  },
  {
   "cell_type": "markdown",
   "metadata": {},
   "source": [
    "## Challenge\n",
    "### *Can we see if one of the authors focus more on men than women?*\n",
    "\n",
    "*  Use Spacy for text prepocessing\n",
    "*  Extract the Named Entities from the documents using Spacy (command is fairly straight forward)\n",
    "*  Create unique list of names from the authors (you'll find that there are different types of named entities not all people)\n",
    "*  Label the names with genders (can you this by hand or you use the US census name lists)\n",
    "*  Customize your processing to replace the proper name with your gender from the previous step's lookup table\n",
    "*  Then follow the rest of the LDA flow"
   ]
  },
  {
   "cell_type": "code",
   "execution_count": 78,
   "metadata": {},
   "outputs": [
    {
     "name": "stderr",
     "output_type": "stream",
     "text": [
      "/Users/jonathansokoll/anaconda3/envs/U4-S1-NLP/lib/python3.7/site-packages/thinc/neural/train.py:7: DeprecationWarning: Using or importing the ABCs from 'collections' instead of from 'collections.abc' is deprecated, and in 3.8 it will stop working\n",
      "  from .optimizers import Adam, linear_decay\n",
      "/Users/jonathansokoll/anaconda3/envs/U4-S1-NLP/lib/python3.7/site-packages/thinc/check.py:4: DeprecationWarning: Using or importing the ABCs from 'collections' instead of from 'collections.abc' is deprecated, and in 3.8 it will stop working\n",
      "  from collections import Sequence, Sized, Iterable, Callable\n",
      "/Users/jonathansokoll/anaconda3/envs/U4-S1-NLP/lib/python3.7/site-packages/thinc/check.py:4: DeprecationWarning: Using or importing the ABCs from 'collections' instead of from 'collections.abc' is deprecated, and in 3.8 it will stop working\n",
      "  from collections import Sequence, Sized, Iterable, Callable\n"
     ]
    }
   ],
   "source": [
    "import spacy\n",
    "\n",
    "nlp = spacy.load('en_core_web_lg')"
   ]
  },
  {
   "cell_type": "code",
   "execution_count": 79,
   "metadata": {},
   "outputs": [],
   "source": [
    "test = \"Ned asked me a question about England today.\""
   ]
  },
  {
   "cell_type": "code",
   "execution_count": 80,
   "metadata": {},
   "outputs": [
    {
     "name": "stdout",
     "output_type": "stream",
     "text": [
      "Ned Ned PROPN\n",
      "asked ask VERB\n",
      "me -PRON- PRON\n",
      "a a DET\n",
      "question question NOUN\n",
      "about about ADP\n",
      "England England PROPN\n",
      "today today NOUN\n",
      ". . PUNCT\n"
     ]
    }
   ],
   "source": [
    "doc = nlp(test)\n",
    "\n",
    "for token in doc:\n",
    "    print(token.text, token.lemma_, token.pos_)"
   ]
  },
  {
   "cell_type": "code",
   "execution_count": 81,
   "metadata": {},
   "outputs": [
    {
     "name": "stdout",
     "output_type": "stream",
     "text": [
      "Ned PERSON\n",
      "England GPE\n",
      "today DATE\n"
     ]
    }
   ],
   "source": [
    "for ent in doc.ents:\n",
    "    print(ent.text, ent.label_)"
   ]
  },
  {
   "cell_type": "code",
   "execution_count": 82,
   "metadata": {},
   "outputs": [],
   "source": [
    "def doc_stream(path):\n",
    "    for f in os.listdir(path):\n",
    "        with open(os.path.join(path,f)) as t:\n",
    "            text = t.read().strip('\\n')\n",
    "            yield text\n",
    "\n",
    "def get_people(docstream):\n",
    "    \n",
    "    ppl = []\n",
    "    \n",
    "    for d in docstream:\n",
    "        \n",
    "        doc = nlp(d)\n",
    "        \n",
    "        for ent in doc.ents:\n",
    "            \n",
    "            if ent.label_ == \"PERSON\":\n",
    "                ppl.append(ent.lemma_)\n",
    "                \n",
    "    return set(ppl)"
   ]
  },
  {
   "cell_type": "code",
   "execution_count": 129,
   "metadata": {},
   "outputs": [],
   "source": [
    "people = get_people(doc_stream(path))"
   ]
  },
  {
   "cell_type": "code",
   "execution_count": 126,
   "metadata": {},
   "outputs": [],
   "source": [
    "doc = nlp(next(doc_stream(path)))"
   ]
  },
  {
   "cell_type": "code",
   "execution_count": 128,
   "metadata": {},
   "outputs": [
    {
     "data": {
      "text/plain": [
       "'yesterday'"
      ]
     },
     "execution_count": 128,
     "metadata": {},
     "output_type": "execute_result"
    }
   ],
   "source": [
    "doc.ents[0].lemma_"
   ]
  },
  {
   "cell_type": "markdown",
   "metadata": {},
   "source": [
    "# Sources\n",
    "\n",
    "### *References*\n",
    "* [Andrew Ng et al paper on LDA](https://ai.stanford.edu/~ang/papers/jair03-lda.pdf)\n",
    "* On [Coherence](https://pdfs.semanticscholar.org/1521/8d9c029cbb903ae7c729b2c644c24994c201.pdf)\n",
    "\n",
    "### *Resources*\n",
    "\n",
    "* [Gensim](https://radimrehurek.com/gensim/): Python package for topic modeling, nlp, word vectorization, and few other things. Well maintained and well documented.\n",
    "* [Topic Modeling with Gensim](http://www.machinelearningplus.com/nlp/topic-modeling-gensim-python/#11createthedictionaryandcorpusneededfortopicmodeling): A kind of cookbook for LDA with gensim. Excellent overview, but the you need to be aware of missing import statements and assumed prior knowledge.\n",
    "* [Chinese Restuarant Process](https://en.wikipedia.org/wiki/Chinese_restaurant_process): That really obscure stats thing I mentioned... \n",
    "* [PyLDAvis](https://github.com/bmabey/pyLDAvis): Library for visualizing the topic model and performing some exploratory work. Works well. Has a direct parrell implementation in R as well. \n",
    "* [Rare Technologies](https://rare-technologies.com/): The people that made & maintain gensim and a few other libraries.\n",
    "* [Jane Austen v. Charlotte Bronte](https://www.literaryladiesguide.com/literary-musings/jane-austen-charlotte-bronte-different-alike/)"
   ]
  }
 ],
 "metadata": {
  "kernelspec": {
   "display_name": "Python 3",
   "language": "python",
   "name": "python3"
  },
  "language_info": {
   "codemirror_mode": {
    "name": "ipython",
    "version": 3
   },
   "file_extension": ".py",
   "mimetype": "text/x-python",
   "name": "python",
   "nbconvert_exporter": "python",
   "pygments_lexer": "ipython3",
   "version": "3.7.4"
  }
 },
 "nbformat": 4,
 "nbformat_minor": 4
}
